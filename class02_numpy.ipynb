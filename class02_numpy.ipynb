{
 "cells": [
  {
   "cell_type": "code",
   "execution_count": 8,
   "id": "a8337129",
   "metadata": {},
   "outputs": [
    {
     "name": "stdout",
     "output_type": "stream",
     "text": [
      "[1 9]\n",
      "[ True False  True]\n"
     ]
    },
    {
     "name": "stderr",
     "output_type": "stream",
     "text": [
      "C:\\Users\\admin\\AppData\\Local\\Temp/ipykernel_39280/1614584736.py:3: DeprecationWarning: `np.bool` is a deprecated alias for the builtin `bool`. To silence this warning, use `bool` by itself. Doing this will not modify any behavior and is safe. If you specifically wanted the numpy scalar type, use `np.bool_` here.\n",
      "Deprecated in NumPy 1.20; for more details and guidance: https://numpy.org/devdocs/release/1.20.0-notes.html#deprecations\n",
      "  mask=np.array([1,0,1],dtype=np.bool)\n"
     ]
    }
   ],
   "source": [
    "import numpy as np\n",
    "arr=np.arange(12).reshape(3,4)\n",
    "mask=np.array([1,0,1],dtype=np.bool)\n",
    "print(arr[mask,1])\n",
    "print(mask)"
   ]
  },
  {
   "cell_type": "code",
   "execution_count": 9,
   "id": "3fe9f292",
   "metadata": {},
   "outputs": [
    {
     "name": "stdout",
     "output_type": "stream",
     "text": [
      "[[ 0  1  2  3]\n",
      " [ 4  5  6  7]\n",
      " [ 8  9 10 11]]\n"
     ]
    }
   ],
   "source": [
    "print(arr)"
   ]
  },
  {
   "cell_type": "code",
   "execution_count": 10,
   "id": "4ca148f0",
   "metadata": {},
   "outputs": [
    {
     "name": "stdout",
     "output_type": "stream",
     "text": [
      "[[1 8]\n",
      " [3 4]]\n"
     ]
    }
   ],
   "source": [
    "print(np.where([[True,False],[True,True]],[[1,2],[3,4]],[[9,8],[7,6]]))"
   ]
  },
  {
   "cell_type": "code",
   "execution_count": 14,
   "id": "58560173",
   "metadata": {},
   "outputs": [
    {
     "name": "stdout",
     "output_type": "stream",
     "text": [
      "[ 2  5  6  3 10]\n",
      "(array([1, 2, 4], dtype=int64),)\n"
     ]
    }
   ],
   "source": [
    "w=np.array([2,5,6,3,10])\n",
    "print(w)\n",
    "print(np.where(w>4))"
   ]
  },
  {
   "cell_type": "code",
   "execution_count": null,
   "id": "36eec823",
   "metadata": {},
   "outputs": [],
   "source": [
    "import numpy as np\n",
    " \n",
    "a = np.arange(12).reshape(3,4)\n",
    "print(a)\n",
    "print(np.where(a > 5))\n",
    "# print('a[np.where(a > 5)]:', a[np.where(a > 5)])\n",
    "# print('np.where(a > 5)[0]:', np.where(a > 5)[0])\n",
    "# print('np.where(a > 5)[1]:', np.where(a > 5)[1])\n",
    "# print(a[np.where(a > 5)[0], np.where(a > 5)[1]])"
   ]
  },
  {
   "cell_type": "markdown",
   "id": "a04b6a6c",
   "metadata": {},
   "source": [
    "### 3.1.1 NumPy数据类型"
   ]
  },
  {
   "cell_type": "markdown",
   "id": "d3802bd3",
   "metadata": {},
   "source": [
    "- array对象（数组）"
   ]
  },
  {
   "cell_type": "code",
   "execution_count": 1,
   "id": "bf7c61c8",
   "metadata": {},
   "outputs": [
    {
     "name": "stdout",
     "output_type": "stream",
     "text": [
      "[ 3 -4  7 12]\n"
     ]
    }
   ],
   "source": [
    "import numpy as np\n",
    "data=[3,-4,7,12] \n",
    "x = np.array(data) #使用列表生成一维数组\n",
    "print(x)"
   ]
  },
  {
   "cell_type": "code",
   "execution_count": 2,
   "id": "8867ee7c",
   "metadata": {},
   "outputs": [
    {
     "name": "stdout",
     "output_type": "stream",
     "text": [
      "[[1 2]\n",
      " [3 4]\n",
      " [5 6]]\n"
     ]
    }
   ],
   "source": [
    "data = [[1,2], [3,4], [5,6]]\n",
    "y = np.array(data) #使用列表生成二维数组\n",
    "print(y)"
   ]
  },
  {
   "cell_type": "code",
   "execution_count": 1,
   "id": "d81de678",
   "metadata": {},
   "outputs": [
    {
     "name": "stdout",
     "output_type": "stream",
     "text": [
      "[0.  0.1 0.2 0.3 0.4 0.5 0.6 0.7 0.8 0.9]\n",
      "[[0 1 2 3 4]\n",
      " [5 6 7 8 9]]\n"
     ]
    }
   ],
   "source": [
    "import numpy as np\n",
    "a=np.arange(0,1,0.1) #0到1（不包括1），步长取0.1\n",
    "print(a)\n",
    "b = np.arange(10).reshape(2,5) #0到10（不包含10），化为2行5列的数组\n",
    "print(b)"
   ]
  },
  {
   "cell_type": "markdown",
   "id": "7cc0f6a3",
   "metadata": {},
   "source": [
    "- matrix对象（矩阵）"
   ]
  },
  {
   "cell_type": "code",
   "execution_count": 11,
   "id": "48bef994",
   "metadata": {},
   "outputs": [
    {
     "name": "stdout",
     "output_type": "stream",
     "text": [
      "[[0. 0. 0.]\n",
      " [0. 0. 0.]\n",
      " [0. 0. 0.]]\n"
     ]
    }
   ],
   "source": [
    "data1=np.mat(np.zeros((3,3)))\n",
    "print(data1)"
   ]
  },
  {
   "cell_type": "code",
   "execution_count": 12,
   "id": "03a755cf",
   "metadata": {},
   "outputs": [
    {
     "name": "stdout",
     "output_type": "stream",
     "text": [
      "[[1. 1. 1. 1.]\n",
      " [1. 1. 1. 1.]]\n",
      "<class 'numpy.matrix'>\n"
     ]
    }
   ],
   "source": [
    "data2= np.mat(np.ones((2,4))) #默认是浮点型的数据，如果需要时int类型，可以使用dtype=int。\n",
    "print(data2)\n",
    "print(type(data2))"
   ]
  },
  {
   "cell_type": "code",
   "execution_count": 13,
   "id": "2f4c337a",
   "metadata": {},
   "outputs": [
    {
     "name": "stdout",
     "output_type": "stream",
     "text": [
      "[[0.12144562 0.40117539]\n",
      " [0.67892958 0.73631232]]\n"
     ]
    }
   ],
   "source": [
    "data3=np.mat(np.random.rand(2,2)) #随机生成数据形成一个二维数组，转化为matrix\n",
    "print(data3)"
   ]
  },
  {
   "cell_type": "code",
   "execution_count": 15,
   "id": "50c28fba",
   "metadata": {},
   "outputs": [
    {
     "name": "stdout",
     "output_type": "stream",
     "text": [
      "[[1 1 4]\n",
      " [7 3 9]\n",
      " [4 7 9]]\n"
     ]
    }
   ],
   "source": [
    "data4=np.mat(np.random.randint(10,size=(3,3))) #随机整数\n",
    "print(data4)"
   ]
  },
  {
   "cell_type": "code",
   "execution_count": 16,
   "id": "d7639756",
   "metadata": {},
   "outputs": [
    {
     "name": "stdout",
     "output_type": "stream",
     "text": [
      "[[2 3 6 4 6]\n",
      " [4 2 4 5 3]]\n"
     ]
    }
   ],
   "source": [
    "data5=np.mat(np.random.randint(2,8,size=(2,5))) #产生一个2-8之间的随机整数矩阵\n",
    "print(data5)"
   ]
  },
  {
   "cell_type": "code",
   "execution_count": 17,
   "id": "a1129848",
   "metadata": {},
   "outputs": [
    {
     "name": "stdout",
     "output_type": "stream",
     "text": [
      "[[1 0 0]\n",
      " [0 2 0]\n",
      " [0 0 3]]\n"
     ]
    }
   ],
   "source": [
    "data6=np.mat(np.diag([1,2,3])) #生成一个对角线为1、2、3的对角矩阵。\n",
    "print(data6)"
   ]
  },
  {
   "cell_type": "markdown",
   "id": "f0688b06",
   "metadata": {},
   "source": [
    "### 3.1.2  NumPy基本运算"
   ]
  },
  {
   "cell_type": "markdown",
   "id": "310d9ba0",
   "metadata": {},
   "source": [
    "- array基本运算"
   ]
  },
  {
   "cell_type": "code",
   "execution_count": 21,
   "id": "85b52d97",
   "metadata": {},
   "outputs": [
    {
     "name": "stdout",
     "output_type": "stream",
     "text": [
      "[3 5 7 9]\n",
      "[ 4  9 10 11]\n",
      "[ 3 20 21 18]\n"
     ]
    }
   ],
   "source": [
    "a= np.arange(3,11,2)#3到11（不含11），步长为2\n",
    "b= np.array([1,4,3,2])\n",
    "print(a)\n",
    "print(a+b)\n",
    "print(a*b)"
   ]
  },
  {
   "cell_type": "code",
   "execution_count": 1,
   "id": "ede0971a",
   "metadata": {},
   "outputs": [
    {
     "name": "stdout",
     "output_type": "stream",
     "text": [
      "[[1 2 3]\n",
      " [3 4 1]] \n",
      " [[0 1 2]\n",
      " [3 4 5]]\n"
     ]
    }
   ],
   "source": [
    "import numpy as np\n",
    "a = np.array([[1,2,3],[3,4,1]])\n",
    "b = np.arange(6).reshape(2,3)\n",
    "print(a,'\\n',b)"
   ]
  },
  {
   "cell_type": "code",
   "execution_count": 2,
   "id": "eb9858e7",
   "metadata": {},
   "outputs": [
    {
     "name": "stdout",
     "output_type": "stream",
     "text": [
      "[[1 3 5]\n",
      " [6 8 6]]\n",
      "[[ 1  1  1]\n",
      " [ 0  0 -4]]\n"
     ]
    }
   ],
   "source": [
    "print(a+b)\n",
    "print(a-b)"
   ]
  },
  {
   "cell_type": "code",
   "execution_count": 3,
   "id": "01f082af",
   "metadata": {},
   "outputs": [
    {
     "name": "stdout",
     "output_type": "stream",
     "text": [
      "[[ 0  2  6]\n",
      " [ 9 16  5]]\n",
      "[[ 1  8 27]\n",
      " [27 64  1]]\n",
      "[[2 4 6]\n",
      " [6 8 2]]\n"
     ]
    }
   ],
   "source": [
    "print(a*b)\n",
    "print(a**3)\n",
    "print(2*a)"
   ]
  },
  {
   "cell_type": "code",
   "execution_count": 5,
   "id": "1b079fdb",
   "metadata": {},
   "outputs": [
    {
     "name": "stdout",
     "output_type": "stream",
     "text": [
      "一维数组乘法： [ 0  1  6 -6]\n",
      "一维数组点积： 1\n"
     ]
    }
   ],
   "source": [
    "import numpy as np\n",
    "a=np.array([0,1,2,3])\n",
    "b=np.array([2,1,3,-2])\n",
    "c=np.array([[4, 3], [2, 1]])\n",
    "d=np.array([[1, 2], [3, 4]])\n",
    "print('一维数组乘法：',a*b)\n",
    "print('一维数组点积：',np.dot(a,b))"
   ]
  },
  {
   "cell_type": "code",
   "execution_count": 6,
   "id": "0f194bf2",
   "metadata": {},
   "outputs": [
    {
     "name": "stdout",
     "output_type": "stream",
     "text": [
      "二维数组乘法：\n",
      " [[4 6]\n",
      " [6 4]]\n",
      "二维数组点积：\n",
      " [[13 20]\n",
      " [ 5  8]]\n"
     ]
    }
   ],
   "source": [
    "print('二维数组乘法：\\n',c*d)\n",
    "print('二维数组点积：\\n',np.dot(c,d))"
   ]
  },
  {
   "cell_type": "markdown",
   "id": "76d618d3",
   "metadata": {},
   "source": [
    "- matirx基本运算"
   ]
  },
  {
   "cell_type": "code",
   "execution_count": 7,
   "id": "00c8b750",
   "metadata": {},
   "outputs": [
    {
     "name": "stdout",
     "output_type": "stream",
     "text": [
      "[[ 4  2]\n",
      " [ 3  1]\n",
      " [ 5  4]\n",
      " [-4  0]]\n",
      "[[ 4  2]\n",
      " [ 3  1]\n",
      " [ 5  4]\n",
      " [-4  0]]\n"
     ]
    }
   ],
   "source": [
    "import numpy as np\n",
    "a=np.mat([[4,3,5,-4],[2,1,4,0]])\n",
    "print(a.transpose())#两种都是转置\n",
    "print(a.T)"
   ]
  },
  {
   "cell_type": "code",
   "execution_count": 8,
   "id": "580915d2",
   "metadata": {},
   "outputs": [
    {
     "name": "stdout",
     "output_type": "stream",
     "text": [
      "[[ 1.          0.          0.        ]\n",
      " [-0.75        0.25       -0.        ]\n",
      " [ 0.16666667 -0.16666667  0.33333333]]\n",
      "[[ 1.          0.          0.        ]\n",
      " [-0.75        0.25       -0.        ]\n",
      " [ 0.16666667 -0.16666667  0.33333333]]\n"
     ]
    }
   ],
   "source": [
    "import numpy as np\n",
    "a = np.mat([[1,0,0],[3,4,0],[1,2,3]])\n",
    "print(np.linalg.inv(a)) #两种都是矩阵求逆\n",
    "print(a.I)"
   ]
  },
  {
   "cell_type": "markdown",
   "id": "14543cf9",
   "metadata": {},
   "source": [
    "### 3.1.3 生成随机数常用函数"
   ]
  },
  {
   "cell_type": "markdown",
   "id": "af010ef4",
   "metadata": {},
   "source": [
    "- Uniform()函数"
   ]
  },
  {
   "cell_type": "code",
   "execution_count": 10,
   "id": "5dd3e4fc",
   "metadata": {},
   "outputs": [
    {
     "name": "stdout",
     "output_type": "stream",
     "text": [
      "0.316558072015939\n",
      "2.9592362528890477\n",
      "[3.36508466 4.41936459 2.23860473 3.65809238]\n"
     ]
    }
   ],
   "source": [
    "import numpy as np\n",
    "print(np.random.uniform())  #默认为0到1\n",
    "print(np.random.uniform(1,5)) #生成1到5之间的float数\n",
    "print(np.random.uniform(1,5,4)) # 生成一维数组"
   ]
  },
  {
   "cell_type": "code",
   "execution_count": 12,
   "id": "0108f816",
   "metadata": {},
   "outputs": [
    {
     "name": "stdout",
     "output_type": "stream",
     "text": [
      "[[3.68912761 2.13402697 3.14837859]\n",
      " [1.76270574 3.21754111 2.09700625]\n",
      " [4.59067037 3.58691729 1.93655025]\n",
      " [4.29027732 2.82582793 3.50453854]]\n"
     ]
    }
   ],
   "source": [
    "print(np.random.uniform(1,5,(4,3))) # 生成4×3的数组"
   ]
  },
  {
   "cell_type": "code",
   "execution_count": 13,
   "id": "d44ffdb9",
   "metadata": {},
   "outputs": [
    {
     "name": "stdout",
     "output_type": "stream",
     "text": [
      "[1.03702846 9.71468384]\n"
     ]
    }
   ],
   "source": [
    "print(np.random.uniform([1,5],[5,10])) #生成2个元素的一维数组"
   ]
  },
  {
   "cell_type": "markdown",
   "id": "d6f2fb90",
   "metadata": {},
   "source": [
    "- randint()函数"
   ]
  },
  {
   "cell_type": "code",
   "execution_count": 15,
   "id": "c36f1290",
   "metadata": {},
   "outputs": [
    {
     "name": "stdout",
     "output_type": "stream",
     "text": [
      "1\n",
      "[3 1 1 4]\n",
      "[5 8 7 6 7 8]\n"
     ]
    }
   ],
   "source": [
    " import numpy as np\n",
    "print(np.random.randint(5)) #生成0~5之间的整数\n",
    "print(np.random.randint(5,size=4)) #生成0~5之间的4个元素数组\n",
    "print(np.random.randint(5,10,size=6)) #生成5~10之间的6个元素数组"
   ]
  },
  {
   "cell_type": "code",
   "execution_count": 16,
   "id": "bc4e0aca",
   "metadata": {},
   "outputs": [
    {
     "name": "stdout",
     "output_type": "stream",
     "text": [
      "[[8 8 6]\n",
      " [9 7 7]]\n"
     ]
    }
   ],
   "source": [
    "print(np.random.randint(5,10,size=(2,3),dtype='int')) #生成5~10之间的2×3数组"
   ]
  },
  {
   "cell_type": "code",
   "execution_count": 17,
   "id": "991609bc",
   "metadata": {},
   "outputs": [
    {
     "name": "stdout",
     "output_type": "stream",
     "text": [
      "输入用户名：user\n",
      "输入密码:1234\n",
      "验证码是： bdr0d\n",
      "输入验证码：bdr0d\n",
      "username or password error！\n"
     ]
    }
   ],
   "source": [
    "#随机函数生成验证码\n",
    "import random\n",
    "#从一个字符串中随机生成若干个字符\n",
    "def gen_code(n):\n",
    "    s='er0dfsdfxcvbn7f989fd'\n",
    "    code=''\n",
    "    for i in range(n):\n",
    "        r = random.randint(0,len(s)-1)\n",
    "        code+=s[r]\n",
    "    return code\n",
    "username=input(\"输入用户名：\")\n",
    "passwd=input(\"输入密码:\")\n",
    "code=gen_code(5)\n",
    "print(\"验证码是：\",code)\n",
    "code1=input(\"输入验证码：\")\n",
    "if code.lower() == code1.lower():\n",
    "    if username=='knn' and passwd=='abc':\n",
    "        print(\"Login success!\")\n",
    "    else:\n",
    "        print(\"username or password error！\")\n",
    "else:\n",
    "    print(\"check code error!\")"
   ]
  },
  {
   "cell_type": "markdown",
   "id": "2b5a06eb",
   "metadata": {},
   "source": [
    "### 3.1.4 对象转换"
   ]
  },
  {
   "cell_type": "markdown",
   "id": "24a77713",
   "metadata": {},
   "source": [
    "- 列表与字符串相互转换"
   ]
  },
  {
   "cell_type": "code",
   "execution_count": 18,
   "id": "54dcbea5",
   "metadata": {},
   "outputs": [
    {
     "name": "stdout",
     "output_type": "stream",
     "text": [
      "This is a apple\n",
      "S6 许文秀 女 21 计算机系\n"
     ]
    }
   ],
   "source": [
    "#列表转换为字符串示例。\n",
    "lst1=['This','is','a','apple']\n",
    "print(' '.join(lst1))\n",
    "#如果列表包含数字类型元素时，需要先转换为字符串\n",
    "lst2=['S6','许文秀','女',21,'计算机系']\n",
    "print(' '.join([str(x) for x in lst2]))"
   ]
  },
  {
   "cell_type": "code",
   "execution_count": 20,
   "id": "2721e24e",
   "metadata": {},
   "outputs": [
    {
     "name": "stdout",
     "output_type": "stream",
     "text": [
      "['P', 'y', 't', 'h', 'o', 'n', ' ', 'p', 'r', 'o', 'g', 'r', 'a', 'm']\n",
      "['Python', 'program']\n",
      "['Python program']\n"
     ]
    }
   ],
   "source": [
    "#字符串转换为列表示例\n",
    "#一是利用列表转换list(）；二是通过字符串的split()方法\n",
    "str1='Python program'\n",
    "result1=list(str1) #list转换\n",
    "print(result1)\n",
    "result2=str1.split()#默认空格分隔\n",
    "print(result2)\n",
    "result3=str1.split(',')#逗号分隔\n",
    "print(result3)"
   ]
  },
  {
   "cell_type": "markdown",
   "id": "d6930ab4",
   "metadata": {},
   "source": [
    "- 数组与字符串相互转换"
   ]
  },
  {
   "cell_type": "code",
   "execution_count": 22,
   "id": "465190ab",
   "metadata": {},
   "outputs": [
    {
     "name": "stdout",
     "output_type": "stream",
     "text": [
      "Thisisaprogram\n"
     ]
    }
   ],
   "source": [
    "# 数组转换为字符串示例\n",
    "import numpy as np\n",
    "lst=['This','is','a','program']\n",
    "arr=np.array(lst) \n",
    "str1=''.join(arr)\n",
    "print(str1)"
   ]
  },
  {
   "cell_type": "code",
   "execution_count": 23,
   "id": "2c4029a6",
   "metadata": {},
   "outputs": [
    {
     "name": "stdout",
     "output_type": "stream",
     "text": [
      "['5' '6' '7' '2' '3' '2']\n"
     ]
    }
   ],
   "source": [
    "# 字符串转换为数组示例\n",
    "import numpy as np\n",
    "str1='567232'\n",
    "lst=list(str1)\n",
    "arr1=np.array(lst)\n",
    "print(arr1)"
   ]
  },
  {
   "cell_type": "markdown",
   "id": "d94070f3",
   "metadata": {},
   "source": [
    "- 列表和数组的相互转换"
   ]
  },
  {
   "cell_type": "code",
   "execution_count": 24,
   "id": "7b2cbc13",
   "metadata": {},
   "outputs": [
    {
     "name": "stdout",
     "output_type": "stream",
     "text": [
      "[-3  4  8  6]\n",
      "[[2 3 4]\n",
      " [4 7 1]]\n"
     ]
    }
   ],
   "source": [
    "# 列表转换为数组示例\n",
    "import numpy as np\n",
    "lst1=[-3,4,8,6]\n",
    "lst2=[[2,3,4],[4,7,1]]\n",
    "arr1=np.array(lst1)\n",
    "arr2=np.array(lst2)\n",
    "print(arr1)\n",
    "print(arr2)"
   ]
  },
  {
   "cell_type": "code",
   "execution_count": 25,
   "id": "e423b048",
   "metadata": {},
   "outputs": [
    {
     "name": "stdout",
     "output_type": "stream",
     "text": [
      "[-3, 4, 8, 6]\n",
      "[[2, 3, 4], [4, 7, 1]]\n"
     ]
    }
   ],
   "source": [
    "# 数组转换为列表示例\n",
    "import numpy as np\n",
    "arr1=np.array([-3,4,8,6])\n",
    "arr2=np.array([[2,3,4],[4,7,1]])\n",
    "lst1=arr1.tolist()\n",
    "lst2=arr2.tolist()\n",
    "print(lst1)\n",
    "print(lst2)"
   ]
  },
  {
   "cell_type": "markdown",
   "id": "6411c80a",
   "metadata": {},
   "source": [
    "- 列表和矩阵相互转换"
   ]
  },
  {
   "cell_type": "code",
   "execution_count": 26,
   "id": "c7324b10",
   "metadata": {},
   "outputs": [
    {
     "name": "stdout",
     "output_type": "stream",
     "text": [
      "<class 'numpy.matrix'>\n",
      "[[1 2 3]\n",
      " [4 5 6]]\n"
     ]
    }
   ],
   "source": [
    "# 列表转换为矩阵示例\n",
    "import numpy as np\n",
    "lst = [[1, 2, 3], [4, 5, 6]]\n",
    "matr = np.mat(lst)  \n",
    "print(type(matr))\n",
    "print(matr)"
   ]
  },
  {
   "cell_type": "markdown",
   "id": "903b011a",
   "metadata": {},
   "source": [
    "- 数组和矩阵相互转换"
   ]
  },
  {
   "cell_type": "code",
   "execution_count": 27,
   "id": "94e26689",
   "metadata": {},
   "outputs": [],
   "source": [
    "#数组转换为矩阵与列表转换为矩阵相同，而矩阵转换为数组与列表转换为数组相同。"
   ]
  },
  {
   "cell_type": "markdown",
   "id": "e814b676",
   "metadata": {},
   "source": [
    "### 3.1.5 数组元素和切片"
   ]
  },
  {
   "cell_type": "code",
   "execution_count": 28,
   "id": "2fe81b82",
   "metadata": {},
   "outputs": [
    {
     "name": "stdout",
     "output_type": "stream",
     "text": [
      "9\n",
      "[12  6  9]\n",
      "[8 6]\n"
     ]
    }
   ],
   "source": [
    "# 一维数组元素和切片示例\n",
    "import numpy as np\n",
    "arr=np.array([-4,8,12,6,9,11,25])\n",
    "print(arr[4])  #输出下标为4的元素\n",
    "print(arr[2:5]) #输出下标为2,3,4的元素\n",
    "print(arr[1:5:2]) #输出下标为1,3的元素（1到5但5不可取，且步长为2）"
   ]
  },
  {
   "cell_type": "markdown",
   "id": "d5ef8bad",
   "metadata": {},
   "source": [
    "- 多维数组元素和切片"
   ]
  },
  {
   "cell_type": "code",
   "execution_count": 30,
   "id": "330d6aae",
   "metadata": {},
   "outputs": [
    {
     "name": "stdout",
     "output_type": "stream",
     "text": [
      "[[ 0  1  2  3]\n",
      " [ 4  5  6  7]\n",
      " [ 8  9 10 11]]\n"
     ]
    }
   ],
   "source": [
    "# 多维数组元素和切片示例\n",
    "import numpy as np\n",
    "arr=np.arange(12).reshape([3,4])\n",
    "print(arr)"
   ]
  },
  {
   "cell_type": "code",
   "execution_count": 31,
   "id": "ce767e8e",
   "metadata": {},
   "outputs": [
    {
     "name": "stdout",
     "output_type": "stream",
     "text": [
      "6\n",
      "[[ 6  7]\n",
      " [10 11]]\n",
      "[1 9]\n"
     ]
    }
   ],
   "source": [
    "print(arr[1,2])  #输出下标为[1,2]的元素\n",
    "print(arr[1:,2:]) #输出行标为1,2列标为2,3的元素\n",
    "print(arr[::2,1]) #输出行标为0,2列标为1的元素"
   ]
  },
  {
   "cell_type": "code",
   "execution_count": 37,
   "id": "b7705ef8",
   "metadata": {},
   "outputs": [
    {
     "name": "stdout",
     "output_type": "stream",
     "text": [
      "[[ 0  1  2  3]\n",
      " [ 4  5  6  7]\n",
      " [ 8  9 10 11]\n",
      " [12 13 14 15]]\n"
     ]
    }
   ],
   "source": [
    "import numpy as np\n",
    "arr=np.arange(16).reshape([4,4])\n",
    "print(arr)"
   ]
  },
  {
   "cell_type": "code",
   "execution_count": 40,
   "id": "9b506565",
   "metadata": {},
   "outputs": [
    {
     "name": "stdout",
     "output_type": "stream",
     "text": [
      "[[ 5  6]\n",
      " [ 9 10]]\n"
     ]
    }
   ],
   "source": [
    "print(arr[1:3,1:3])#取1、2行1、2列的元素"
   ]
  },
  {
   "cell_type": "code",
   "execution_count": null,
   "id": "f773081b",
   "metadata": {},
   "outputs": [],
   "source": []
  }
 ],
 "metadata": {
  "kernelspec": {
   "display_name": "Python 3 (ipykernel)",
   "language": "python",
   "name": "python3"
  },
  "language_info": {
   "codemirror_mode": {
    "name": "ipython",
    "version": 3
   },
   "file_extension": ".py",
   "mimetype": "text/x-python",
   "name": "python",
   "nbconvert_exporter": "python",
   "pygments_lexer": "ipython3",
   "version": "3.9.7"
  }
 },
 "nbformat": 4,
 "nbformat_minor": 5
}
