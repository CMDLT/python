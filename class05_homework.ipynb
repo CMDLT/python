{
 "cells": [
  {
   "cell_type": "code",
   "execution_count": 19,
   "id": "cbb47d93",
   "metadata": {},
   "outputs": [
    {
     "data": {
      "text/plain": [
       "array([[62, 62, 62],\n",
       "       [67, 67, 67],\n",
       "       [72, 72, 72],\n",
       "       [78, 78, 78],\n",
       "       [87, 87, 87]])"
      ]
     },
     "execution_count": 19,
     "metadata": {},
     "output_type": "execute_result"
    }
   ],
   "source": [
    "import numpy as np\n",
    "import math\n",
    "# 要处理的数据\n",
    "x = np.array([60,65,63,66,67,69,71,72,74,76,77,82,84,87,90])\n",
    "#对数据排序\n",
    "x.sort()\n",
    "# 等深分箱法，深度为3\n",
    "# 数据长度除以深度3，则为划分的数组行数\n",
    "depth = x.reshape(int(x.size/3),3)\n",
    "# 划分后的等深箱\n",
    "depth\n",
    "# 按平均值平滑，初始化mean_depth\n",
    "mean_depth = np.full([5,3],0)\n",
    "#等深分箱法、均值平滑技术\n",
    "for i in range(0,5):\n",
    "    for j in range(0,3):\n",
    "        #第i行算数平均值\n",
    "        mean_depth[i][j]=int(depth[i].mean())\n",
    "# 按平均值平滑后的等深箱\n",
    "mean_depth"
   ]
  },
  {
   "cell_type": "code",
   "execution_count": 20,
   "id": "3c4a5d25",
   "metadata": {},
   "outputs": [
    {
     "ename": "SyntaxError",
     "evalue": "invalid syntax (Temp/ipykernel_10656/4279839829.py, line 24)",
     "output_type": "error",
     "traceback": [
      "\u001b[1;36m  File \u001b[1;32m\"C:\\Users\\admin\\AppData\\Local\\Temp/ipykernel_10656/4279839829.py\"\u001b[1;36m, line \u001b[1;32m24\u001b[0m\n\u001b[1;33m    if(math.pow((edgeLeft[i]-depth[i][j]),2)&gt;math.pow((edgeRight[i]-depth[i][j]),2)):\u001b[0m\n\u001b[1;37m                                               ^\u001b[0m\n\u001b[1;31mSyntaxError\u001b[0m\u001b[1;31m:\u001b[0m invalid syntax\n"
     ]
    }
   ],
   "source": [
    "# 定义等深箱每行左边界\n",
    "edgeLeft = np.arange(5)\n",
    "# 定义等深箱每行右边界\n",
    "edgeRight = np.arange(5)\n",
    "# 按边界值平滑，初始化edge_depth\n",
    "edge_depth = np.full([5,3],0)\n",
    "#等深分箱法、边界值平滑技术\n",
    "#遍历等深箱行\n",
    "for i in range(0,5):\n",
    "    #第i行左边界\n",
    "    edgeLeft[i]=depth[i][0];\n",
    "    #第i行右边界\n",
    "    edgeRight[i]=depth[i][-1];\n",
    "    #遍历等深箱列\n",
    "    for j in range(0,3):\n",
    "        # 第一列，即左边界\n",
    "        if(j==0):\n",
    "            edge_depth[i][j]=depth[i][0]\n",
    "        # 第3列（等深箱最后一列），即右边界\n",
    "        if(j==2):\n",
    "            edge_depth[i][j]=depth[i][2]\n",
    "        else:\n",
    "            # 判断距离左边界近还是距离右边界近\n",
    "            if(math.pow((edgeLeft[i]-depth[i][j]),2)&gt;math.pow((edgeRight[i]-depth[i][j]),2)):\n",
    "                edge_depth[i][j]=edgeRight[i]\n",
    "            else:\n",
    "                edge_depth[i][j]=edgeLeft[i]\n",
    "# 按边界值平滑后的等深箱\n",
    "edge_depth\n"
   ]
  },
  {
   "cell_type": "code",
   "execution_count": 12,
   "id": "4fab6716",
   "metadata": {},
   "outputs": [
    {
     "name": "stdout",
     "output_type": "stream",
     "text": [
      "  key  data1  data2\n",
      "0   b    0.3    1.3\n",
      "1   b    1.5    1.3\n",
      "2   a    1.2    3.0\n",
      "3   a    0.4    3.0\n"
     ]
    }
   ],
   "source": [
    "# 内连接\n",
    "import pandas as pd\n",
    "import numpy as np\n",
    "df1=pd.DataFrame({'key':['b','b','a','c','a'],'data1':[0.3,1.5,1.2,2.3,0.4]})\n",
    "df2=pd.DataFrame({'key':['a','b','d'],'data2':[3.0,1.3,2.5]})\n",
    "df=pd.merge(df1,df2,how='inner')\n",
    "print(df)"
   ]
  },
  {
   "cell_type": "code",
   "execution_count": 13,
   "id": "e361d568",
   "metadata": {},
   "outputs": [
    {
     "name": "stdout",
     "output_type": "stream",
     "text": [
      "  key  data1  data2\n",
      "0   b    0.3    1.3\n",
      "1   b    1.5    1.3\n",
      "2   a    1.2    3.0\n",
      "3   c    2.3    NaN\n",
      "4   a    0.4    3.0\n"
     ]
    }
   ],
   "source": [
    "# 左连接\n",
    "import pandas as pd\n",
    "import numpy as np\n",
    "df1=pd.DataFrame({'key':['b','b','a','c','a'],'data1':[0.3,1.5,1.2,2.3,0.4]})\n",
    "df2=pd.DataFrame({'key':['a','b','d'],'data2':[3.0,1.3,2.5]})\n",
    "df=pd.merge(df1,df2,how='left')\n",
    "print(df)"
   ]
  },
  {
   "cell_type": "code",
   "execution_count": 14,
   "id": "48e46262",
   "metadata": {},
   "outputs": [
    {
     "name": "stdout",
     "output_type": "stream",
     "text": [
      "  key  data1  data2\n",
      "0   b    0.3    1.3\n",
      "1   b    1.5    1.3\n",
      "2   a    1.2    3.0\n",
      "3   a    0.4    3.0\n",
      "4   c    2.3    NaN\n",
      "5   d    NaN    2.5\n"
     ]
    }
   ],
   "source": [
    "# 外连接\n",
    "import pandas as pd\n",
    "import numpy as np\n",
    "df1=pd.DataFrame({'key':['b','b','a','c','a'],'data1':[0.3,1.5,1.2,2.3,0.4]})\n",
    "df2=pd.DataFrame({'key':['a','b','d'],'data2':[3.0,1.3,2.5]})\n",
    "df=pd.merge(df1,df2,how='outer')\n",
    "print(df)"
   ]
  },
  {
   "cell_type": "code",
   "execution_count": 15,
   "id": "7b5c475e",
   "metadata": {},
   "outputs": [
    {
     "name": "stdout",
     "output_type": "stream",
     "text": [
      "[[ 10.78257171  -4.52660634]\n",
      " [-18.32366821   4.13774944]\n",
      " [  5.66596728 -13.14963149]\n",
      " [  2.48143438 -10.71736598]\n",
      " [-13.98229729  -3.73212091]\n",
      " [ 23.79476513   6.8737734 ]\n",
      " [ -9.96812274  10.21162556]\n",
      " [ -0.75808506   1.07961976]\n",
      " [  3.92384271  19.64345559]\n",
      " [ -3.61640791  -9.82049903]]\n"
     ]
    }
   ],
   "source": [
    "# 5-6 利用随机函数randint()生成1~30之间整数的10个样本，5个特征的数据集，利用sklearn模块中的PCA()函数进行降维（降至2维）。\n",
    "# 参考答案：\n",
    "import numpy as np\n",
    "from sklearn.decomposition import PCA\n",
    "data = np.random.randint(1,30,size=(10,5),dtype='int')  #生成10个样本，每个样本5个特征\n",
    "pca = PCA(n_components=2)\n",
    "low_dim_data = pca.fit_transform(data)  # 每个样本降为2维　\n",
    "print(low_dim_data)"
   ]
  },
  {
   "cell_type": "code",
   "execution_count": 16,
   "id": "77f80d14",
   "metadata": {},
   "outputs": [
    {
     "name": "stdout",
     "output_type": "stream",
     "text": [
      "[[  1.   0.   1.   0.   0.   1.   0.   0.   0.   1.]\n",
      " [  1.   2.   3.   4.   6.   9.   8.  12.  18.  27.]\n",
      " [  1.   4.   5.  16.  20.  25.  64.  80. 100. 125.]]\n"
     ]
    }
   ],
   "source": [
    "# 5-7 Python编程实现，在3×2数组 [[0,1],[2,3],[4,5]] 上进行多项式数据变换。\n",
    "# 参考答案：\n",
    "import numpy as np\n",
    "from sklearn.preprocessing import PolynomialFeatures\n",
    "x=np.arange(6).reshape(3,2)\n",
    "reg = PolynomialFeatures(degree=3)  \n",
    "print(reg.fit_transform(x))"
   ]
  },
  {
   "cell_type": "code",
   "execution_count": 2,
   "id": "0f0851d4",
   "metadata": {},
   "outputs": [
    {
     "data": {
      "image/png": "[encoded data removed]",
      "text/plain": [
       "<Figure size 432x288 with 1 Axes>"
      ]
     },
     "metadata": {
      "needs_background": "light"
     },
     "output_type": "display_data"
    }
   ],
   "source": [
    "import numpy as np\n",
    "import matplotlib.pyplot as plt\n",
    "r = 2.0\n",
    "a ,b =(0., 0.)\n",
    "#方法一：参数方程\n",
    "theta = np.arange(0, 2*np.pi, 0.01)\n",
    "x = a + r * np.cos(theta)\n",
    "y = b + r * np.sin(theta)\n",
    "\n",
    "\n",
    "fig = plt.figure() \n",
    "axes = fig.add_subplot(111) \n",
    "axes.plot(x, y)\n",
    "\n",
    "axes.axis('equal')\n",
    "plt.show()"
   ]
  },
  {
   "cell_type": "code",
   "execution_count": 3,
   "id": "0fc95ce2",
   "metadata": {},
   "outputs": [
    {
     "data": {
      "image/png": "[encoded data removed]",
      "text/plain": [
       "<Figure size 432x288 with 1 Axes>"
      ]
     },
     "metadata": {
      "needs_background": "light"
     },
     "output_type": "display_data"
    }
   ],
   "source": [
    "from matplotlib import pyplot as plt\n",
    "import numpy as np\n",
    "def pint(r,x,y):\n",
    "    plt.figure()    # 创建一个空白窗体\n",
    "    plt.title('Circle')\n",
    "    plt.xlabel('x')\n",
    "    plt.ylabel('y')\n",
    "    # 点的横坐标为a\n",
    "    a = np.arange(x-r,x+r,0.000001)\n",
    "    # 点的纵坐标为b\n",
    "    b = np.sqrt(np.power(r,2)-np.power((a-x),2))+y\n",
    "    plt.plot(a,b,color='r',linestyle='-')\n",
    "    plt.plot(a,-b,color='r',linestyle='-')\n",
    "    plt.scatter(0,0,c='b',marker='o')\n",
    "    plt.grid(True)\n",
    "    plt.show()\n",
    "      \n",
    "pint(2,0,0)\n"
   ]
  },
  {
   "cell_type": "code",
   "execution_count": null,
   "id": "b496cc90",
   "metadata": {},
   "outputs": [],
   "source": []
  },
  {
   "cell_type": "code",
   "execution_count": null,
   "id": "963a577b",
   "metadata": {},
   "outputs": [],
   "source": []
  }
 ],
 "metadata": {
  "kernelspec": {
   "display_name": "Python 3 (ipykernel)",
   "language": "python",
   "name": "python3"
  },
  "language_info": {
   "codemirror_mode": {
    "name": "ipython",
    "version": 3
   },
   "file_extension": ".py",
   "mimetype": "text/x-python",
   "name": "python",
   "nbconvert_exporter": "python",
   "pygments_lexer": "ipython3",
   "version": "3.9.7"
  }
 },
 "nbformat": 4,
 "nbformat_minor": 5
}
