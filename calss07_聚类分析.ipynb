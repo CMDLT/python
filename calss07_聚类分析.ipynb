{
 "cells": [
  {
   "cell_type": "code",
   "execution_count": 1,
   "id": "30ce820d",
   "metadata": {},
   "outputs": [
    {
     "name": "stdout",
     "output_type": "stream",
     "text": [
      "[1, 2, 3, 4, 5, 6, 7, 8, 9]\n"
     ]
    }
   ],
   "source": [
    "print(list(range(1,10,1)))"
   ]
  },
  {
   "cell_type": "code",
   "execution_count": 6,
   "id": "bff80cbd",
   "metadata": {},
   "outputs": [],
   "source": [
    "import numpy as np\n",
    "import cmath\n",
    "import random\n",
    "import matplotlib.pyplot as plt"
   ]
  },
  {
   "cell_type": "code",
   "execution_count": 18,
   "id": "72da6dd7",
   "metadata": {},
   "outputs": [],
   "source": [
    "# 表1数据\n",
    "drone_location_polar = [\n",
    "    [0, 0],\n",
    "    [100, 0],\n",
    "    [98, 40.10],\n",
    "    [112, 80.21],\n",
    "    [105, 119.75],\n",
    "    [98, 159.86],\n",
    "    [112, 199.96],\n",
    "    [105, 240.07],\n",
    "    [98, 280.17],\n",
    "    [112, 320.28]\n",
    "]\n",
    "# 无人机位置无偏差坐标\n",
    "drone_ideal_location_polar = [\n",
    "    [0, 0],\n",
    "    [100, 0],\n",
    "    [100, 40],\n",
    "    [100, 80],\n",
    "    [100, 120],\n",
    "    [100, 160],\n",
    "    [100, 200],\n",
    "    [100, 240],\n",
    "    [100, 280],\n",
    "    [100, 320]\n",
    "]\n",
    "drone_location_cartesian = []\n",
    "drone_ideal_location_cartesian = []"
   ]
  },
  {
   "cell_type": "code",
   "execution_count": 19,
   "id": "0c0c9d10",
   "metadata": {},
   "outputs": [],
   "source": [
    "def plot_location(location):\n",
    "    x = []\n",
    "    y = []\n",
    "    for i in location:\n",
    "        x.append(i[0])\n",
    "        y.append(i[1])\n",
    "    plt.scatter(x, y)\n",
    "    plt.show()"
   ]
  },
  {
   "cell_type": "code",
   "execution_count": 20,
   "id": "a12941bb",
   "metadata": {},
   "outputs": [],
   "source": [
    "def calc_all_distance(drone_testing_location):\n",
    "    distance = 0\n",
    "    for i in range(1, len(drone_testing_location)):\n",
    "        distance += calc_distance(drone_testing_location[i], drone_ideal_location_cartesian[i])\n",
    "    return distance\n",
    "\n",
    "def q3_adjust_location(drone_testing_location, drone_sender_1, drone_sender_2, drone_sender_3, drone_recipient):\n",
    "    print(f\"校准前：{calc_all_distance(drone_testing_location)}\")\n",
    "    adjustment_range = 8\n",
    "    precision = 1\n",
    "    for drone_id in drone_recipient:\n",
    "        location_cost = []\n",
    "        min_cost = 1000000\n",
    "        min_cost_idx = -1\n",
    "        for i in np.arange(adjustment_range * -1, adjustment_range + precision, precision):\n",
    "            for i2 in np.arange(adjustment_range * -1, adjustment_range + precision, precision):\n",
    "                location = list(drone_testing_location[drone_id])\n",
    "                location[0] += i\n",
    "                location[1] += i2\n",
    "                angle = [calc_angle(location, drone_testing_location[drone_sender_1], drone_testing_location[drone_sender_2]),\n",
    "                        calc_angle(location, drone_testing_location[drone_sender_1], drone_testing_location[drone_sender_3])]\n",
    "                angle_cost = cost(angle,\n",
    "                                 [calc_angle(drone_ideal_location_cartesian[drone_id], drone_testing_location[drone_sender_1], drone_testing_location[drone_sender_2]),\n",
    "                                 calc_angle(drone_ideal_location_cartesian[drone_id], drone_testing_location[drone_sender_1], drone_testing_location[drone_sender_3])])\n",
    "                if angle_cost < min_cost:\n",
    "                    min_cost = angle_cost\n",
    "                    min_cost_idx = len(location_cost)\n",
    "                location_cost.append([location, angle])\n",
    "        drone_testing_location[drone_id] = location_cost[min_cost_idx][0]\n",
    "    print(f\"校准后：{calc_all_distance(drone_testing_location)}\")\n",
    "    \n",
    "def q3_adjust_first_column(drone_testing_location):\n",
    "    adjustment_range = 8\n",
    "    prcision  = 0.1\n",
    "    for drone_id in [2, 3, 4]:\n",
    "        location_cost = []\n",
    "        min_cost = 1000000\n",
    "        min_cost_idx = -1\n",
    "        for i in np.arange(adjustment_range * -1, adjustment_range + prcision, prcision):\n",
    "            location = list(drone_testing_location[drone_id])\n",
    "            location[0] += i\n",
    "            angle = calc_angle(location, drone_testing_location[0], drone_testing_location[1])\n",
    "            if angle < min_cost:\n",
    "                min_cost = angle\n",
    "                min_cost_idx = len(location_cost)\n",
    "            location_cost.append([location, angle])\n",
    "        drone_testing_location[drone_id] = location_cost[min_cost_idx][0]    \n",
    "                               "
   ]
  },
  {
   "cell_type": "code",
   "execution_count": 21,
   "id": "2024ac5c",
   "metadata": {},
   "outputs": [
    {
     "data": {
      "image/png": "[encoded data removed]",
      "text/plain": [
       "<Figure size 432x288 with 1 Axes>"
      ]
     },
     "metadata": {
      "needs_background": "light"
     },
     "output_type": "display_data"
    }
   ],
   "source": [
    "'''问题二'''\n",
    "# 无人机如锥形编队位置无偏差直角\n",
    "x = np.sqrt(50**2 - 25**2)\n",
    "drone_ideal_location_cartesian = [\n",
    "    # 第1列\n",
    "    [0, 0],\n",
    "    [0, 50],\n",
    "    [0, 100],\n",
    "    [0, 150],\n",
    "    [0, 200],\n",
    "    # 第2列\n",
    "    [x, 25],\n",
    "    [x, 75],\n",
    "    [x, 125],\n",
    "    [x, 175],\n",
    "    # 第3列\n",
    "    [2 * x, 50],\n",
    "    [2 * x, 100],\n",
    "    [2 * x, 150],\n",
    "    # 第4列\n",
    "    [3 * x, 75],\n",
    "    [3 * x, 125],\n",
    "    # 第5列\n",
    "    [4 * x, 100]\n",
    "]\n",
    "plot_location(drone_ideal_location_cartesian)"
   ]
  },
  {
   "cell_type": "code",
   "execution_count": 22,
   "id": "d5aa8066",
   "metadata": {},
   "outputs": [
    {
     "data": {
      "text/plain": [
       "0"
      ]
     },
     "execution_count": 22,
     "metadata": {},
     "output_type": "execute_result"
    }
   ],
   "source": [
    "drone_testing_location = []\n",
    "for i in range(len(drone_location_cartesian)):\n",
    "    drone_testing_location.append(list(drone_location_cartesian[i]))\n",
    "distance = 0\n",
    "for i in range(1, len(drone_testing_location)):\n",
    "    distance += calc_distance(drone_testing_location[i], drone_ideal_location_cartesian[i])\n",
    "distance"
   ]
  },
  {
   "cell_type": "code",
   "execution_count": null,
   "id": "c52ff4e8",
   "metadata": {},
   "outputs": [],
   "source": []
  },
  {
   "cell_type": "code",
   "execution_count": null,
   "id": "b80114f2",
   "metadata": {},
   "outputs": [],
   "source": []
  }
 ],
 "metadata": {
  "kernelspec": {
   "display_name": "Python 3 (ipykernel)",
   "language": "python",
   "name": "python3"
  },
  "language_info": {
   "codemirror_mode": {
    "name": "ipython",
    "version": 3
   },
   "file_extension": ".py",
   "mimetype": "text/x-python",
   "name": "python",
   "nbconvert_exporter": "python",
   "pygments_lexer": "ipython3",
   "version": "3.9.7"
  }
 },
 "nbformat": 4,
 "nbformat_minor": 5
}
