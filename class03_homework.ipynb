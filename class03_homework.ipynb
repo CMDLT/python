{
 "cells": [
  {
   "cell_type": "markdown",
   "id": "48df3ef0",
   "metadata": {},
   "source": [
    "- 定义如下DataFrame对象：\n",
    "    姓名 性别  年龄    系部\n",
    " S1  许文秀  女  21  计算机系\n",
    " S2  于金凤  女  20   电信系\n",
    " S3  刘世元  男  22  计算机系\n",
    " S4  周新娥  女  20   管理系\n",
    "- （1）查询姓名为“刘世元”的同学\n",
    "- （2）查询性别=“女”且年龄大于21的同学\n",
    "- （3）查询“计算机系”的同学\n",
    "- （4）查找“于金凤”同学的性别和年龄。"
   ]
  },
  {
   "cell_type": "code",
   "execution_count": 68,
   "id": "d2b47c11",
   "metadata": {},
   "outputs": [
    {
     "name": "stdout",
     "output_type": "stream",
     "text": [
      "     姓名 性别  年龄    系部\n",
      "S1  许文秀  女  21  计算机系\n",
      "S2  于金凤  女  20   电信系\n",
      "S3  刘世元  男  22  计算机系\n",
      "S4  周新娥  女  20   管理系\n"
     ]
    }
   ],
   "source": [
    "# Ex1\n",
    "import pandas as pd\n",
    "datas ={'姓名':['许文秀','于金凤','刘世元','周新娥'],'性别':['女','女','男','女'],\n",
    "        '年龄':[21,20,22,20],'系部':['计算机系','电信系','计算机系','管理系']}\n",
    "df =pd.DataFrame(datas,index=['S1','S2','S3','S4']) \n",
    "print(df)"
   ]
  },
  {
   "cell_type": "code",
   "execution_count": 69,
   "id": "986ec6a0",
   "metadata": {},
   "outputs": [
    {
     "name": "stdout",
     "output_type": "stream",
     "text": [
      "查询姓名为刘世元的数据\n",
      "      姓名 性别  年龄    系部\n",
      "S3  刘世元  男  22  计算机系\n"
     ]
    }
   ],
   "source": [
    "print('查询姓名为刘世元的数据\\n',df[df['姓名']=='刘世元'])"
   ]
  },
  {
   "cell_type": "code",
   "execution_count": 70,
   "id": "921a51e5",
   "metadata": {},
   "outputs": [
    {
     "name": "stdout",
     "output_type": "stream",
     "text": [
      "查询年龄大于21的女同学：\n",
      " Empty DataFrame\n",
      "Columns: [姓名, 性别, 年龄, 系部]\n",
      "Index: []\n"
     ]
    }
   ],
   "source": [
    "print('查询年龄大于21的女同学：\\n',df[(df['性别']=='女') & (df['年龄']>21)])"
   ]
  },
  {
   "cell_type": "code",
   "execution_count": 71,
   "id": "0d8307c5",
   "metadata": {},
   "outputs": [
    {
     "name": "stdout",
     "output_type": "stream",
     "text": [
      "查询计算机系的同学：\n",
      "      姓名 性别  年龄    系部\n",
      "S1  许文秀  女  21  计算机系\n",
      "S3  刘世元  男  22  计算机系\n"
     ]
    }
   ],
   "source": [
    "print('查询计算机系的同学：\\n',df[df['系部']=='计算机系'])"
   ]
  },
  {
   "cell_type": "code",
   "execution_count": 72,
   "id": "9aba6063",
   "metadata": {},
   "outputs": [
    {
     "name": "stdout",
     "output_type": "stream",
     "text": [
      "查找于金凤同学的性别和年龄：\n",
      "     年龄 性别\n",
      "S2  20  女\n"
     ]
    }
   ],
   "source": [
    "print('查找于金凤同学的性别和年龄：\\n',df.loc[['S2'],['年龄','性别']])"
   ]
  },
  {
   "cell_type": "code",
   "execution_count": null,
   "id": "600f7d9b",
   "metadata": {},
   "outputs": [],
   "source": []
  },
  {
   "cell_type": "markdown",
   "id": "a7125d16",
   "metadata": {},
   "source": [
    "- （1）增加一行“four  wang  men  40 江苏 ”\n",
    "- （2）删除性别列\n",
    "- （3）修改年龄列为[21,22,20]"
   ]
  },
  {
   "cell_type": "code",
   "execution_count": 69,
   "id": "191ad971",
   "metadata": {},
   "outputs": [
    {
     "name": "stdout",
     "output_type": "stream",
     "text": [
      "       name    sex  age address\n",
      "one     joe    man   10      上海\n",
      "two    usan  woman   20      北京\n",
      "three  andy    man   30      广州\n"
     ]
    }
   ],
   "source": [
    "# Ex2\n",
    "import pandas as pd\n",
    "datas ={'name':['joe','usan','andy'],\n",
    "        'sex':['man','woman','man'],\n",
    "        'age':[10,20,30],\n",
    "        'address':['上海','北京','广州']}\n",
    "df =pd.DataFrame(datas,index=['one','two','three']) \n",
    "print(df)"
   ]
  },
  {
   "cell_type": "code",
   "execution_count": 70,
   "id": "be4d7e16",
   "metadata": {},
   "outputs": [
    {
     "name": "stdout",
     "output_type": "stream",
     "text": [
      "       name    sex   age address\n",
      "one     joe    man  10.0      上海\n",
      "two    usan  woman  20.0      北京\n",
      "three  andy    man  30.0      广州\n",
      "four   wang    man  40.0      江苏\n"
     ]
    }
   ],
   "source": [
    "df.loc['four', :] = ['wang', 'man', 40, '江苏'] \n",
    "print(df)"
   ]
  },
  {
   "cell_type": "code",
   "execution_count": 68,
   "id": "a0a6c83c",
   "metadata": {},
   "outputs": [],
   "source": [
    "# df.loc[len(df.index)] = ['wang',\"man\",40,\"江苏\"]\n",
    "# df.rename(index={(len(df.index)-1):\"four\"})\n",
    "# print(df)"
   ]
  },
  {
   "cell_type": "code",
   "execution_count": 45,
   "id": "36f4219d",
   "metadata": {},
   "outputs": [],
   "source": [
    "# data_1={'name':'wang','sex':'man','age':40,'address':'江苏'}\n",
    "# df1=df.append(data_1,ignore_index=True) #增加一行数据\n",
    "# print('增加新的数据行\\n',df1)\n",
    "# 应先 将要新增的行转化为DataFrame类型 并同时设定索引‘four'，然后再用.append()方法新增，\n",
    "# 注意此时用.append()时不要设置ignore_index参数为True（可不设置为设置为False)，否则索引还是0 1 2 3。"
   ]
  },
  {
   "cell_type": "code",
   "execution_count": 71,
   "id": "72bb1fe2",
   "metadata": {},
   "outputs": [
    {
     "name": "stdout",
     "output_type": "stream",
     "text": [
      "删除性别列\n",
      "        name   age address\n",
      "one     joe  10.0      上海\n",
      "two    usan  20.0      北京\n",
      "three  andy  30.0      广州\n",
      "four   wang  40.0      江苏\n"
     ]
    }
   ],
   "source": [
    "df.drop('sex',axis=1,inplace=True) \n",
    "print('删除性别列\\n',df)"
   ]
  },
  {
   "cell_type": "code",
   "execution_count": 72,
   "id": "b58f7915",
   "metadata": {},
   "outputs": [
    {
     "name": "stdout",
     "output_type": "stream",
     "text": [
      "修改年龄列的值：\n",
      "        name  age address\n",
      "one     joe   21      上海\n",
      "two    usan   22      北京\n",
      "three  andy   20      广州\n",
      "four   wang   40      江苏\n"
     ]
    }
   ],
   "source": [
    "df.iloc[:,1]=[21,22,20,40]#修改第3列的内容\n",
    "print('修改年龄列的值：\\n',df)"
   ]
  },
  {
   "cell_type": "markdown",
   "id": "1d32a43e",
   "metadata": {},
   "source": [
    "### 第二次"
   ]
  },
  {
   "cell_type": "code",
   "execution_count": 7,
   "id": "71a70d6d",
   "metadata": {},
   "outputs": [],
   "source": [
    "# Ex1\n",
    "# （1）查询姓名和年龄列。\n",
    "# （2）查询前两行。\n",
    "# （3）查询第2行。\n",
    "# （4）查询后3行。"
   ]
  },
  {
   "cell_type": "code",
   "execution_count": 15,
   "id": "042712a7",
   "metadata": {},
   "outputs": [
    {
     "name": "stdout",
     "output_type": "stream",
     "text": [
      "     姓名 性别  年龄    系部\n",
      "S1  许文秀  女  20  计算机系\n",
      "S2  刘世元  男  21   电信系\n",
      "S3  刘德峰  男  22   统计系\n",
      "S4  于金凤  女  20  计算机系\n"
     ]
    }
   ],
   "source": [
    "import pandas as pd\n",
    "datas={'姓名':['许文秀','刘世元','刘德峰','于金凤'],\n",
    "       '性别':['女','男','男','女'],\n",
    "       '年龄':[20,21,22,20],\n",
    "       '系部':['计算机系','电信系','统计系','计算机系']}\n",
    "df=pd.DataFrame(datas,index=['S1','S2','S3','S4'])\n",
    "print(df)"
   ]
  },
  {
   "cell_type": "code",
   "execution_count": 16,
   "id": "95a54556",
   "metadata": {},
   "outputs": [
    {
     "name": "stdout",
     "output_type": "stream",
     "text": [
      "查询姓名和年龄列\n",
      "：      姓名  年龄\n",
      "S1  许文秀  20\n",
      "S2  刘世元  21\n",
      "S3  刘德峰  22\n",
      "S4  于金凤  20\n"
     ]
    }
   ],
   "source": [
    "print('查询姓名和年龄列\\n：',df[['姓名','年龄']])"
   ]
  },
  {
   "cell_type": "code",
   "execution_count": 17,
   "id": "927ff9ab",
   "metadata": {},
   "outputs": [
    {
     "name": "stdout",
     "output_type": "stream",
     "text": [
      "查询前两行：\n",
      "      姓名 性别  年龄    系部\n",
      "S1  许文秀  女  20  计算机系\n",
      "S2  刘世元  男  21   电信系\n"
     ]
    }
   ],
   "source": [
    "print('查询前两行：\\n',df[:2])"
   ]
  },
  {
   "cell_type": "code",
   "execution_count": 18,
   "id": "b3bb30f0",
   "metadata": {},
   "outputs": [
    {
     "name": "stdout",
     "output_type": "stream",
     "text": [
      "查询第2行：\n",
      "：      姓名 性别  年龄   系部\n",
      "S2  刘世元  男  21  电信系\n"
     ]
    }
   ],
   "source": [
    "print('查询第2行：\\n：',df[1:2])"
   ]
  },
  {
   "cell_type": "code",
   "execution_count": 19,
   "id": "59ac3a95",
   "metadata": {},
   "outputs": [
    {
     "name": "stdout",
     "output_type": "stream",
     "text": [
      "查询后三行：\n",
      "      姓名 性别  年龄    系部\n",
      "S2  刘世元  男  21   电信系\n",
      "S3  刘德峰  男  22   统计系\n",
      "S4  于金凤  女  20  计算机系\n"
     ]
    }
   ],
   "source": [
    "print('查询后三行：\\n',df.tail(3))"
   ]
  },
  {
   "cell_type": "code",
   "execution_count": 20,
   "id": "3a4764ed",
   "metadata": {},
   "outputs": [],
   "source": [
    "# Ex2\n",
    "# （1）查询序号为S1和S3同学的姓名和系部。\n",
    "# （2）查询第1和第3行的第2列。"
   ]
  },
  {
   "cell_type": "code",
   "execution_count": 21,
   "id": "9282716e",
   "metadata": {},
   "outputs": [
    {
     "name": "stdout",
     "output_type": "stream",
     "text": [
      "     姓名 性别  年龄    系部\n",
      "S1  许文秀  女  20  计算机系\n",
      "S2  刘世元  男  21   电信系\n",
      "S3  刘德峰  男  22   统计系\n",
      "S4  于金凤  女  20  计算机系\n"
     ]
    }
   ],
   "source": [
    "datas={'姓名':['许文秀','刘世元','刘德峰','于金凤'],\n",
    "       '性别':['女','男','男','女'],\n",
    "       '年龄':[20,21,22,20],\n",
    "       '系部':['计算机系','电信系','统计系','计算机系']}\n",
    "df=pd.DataFrame(datas,index=['S1','S2','S3','S4'])\n",
    "print(df)"
   ]
  },
  {
   "cell_type": "code",
   "execution_count": 22,
   "id": "929c1588",
   "metadata": {},
   "outputs": [
    {
     "name": "stdout",
     "output_type": "stream",
     "text": [
      "查询序号为S1和S3同学的姓名和系部：\n",
      "      姓名    系部\n",
      "S1  许文秀  计算机系\n",
      "S3  刘德峰   统计系\n"
     ]
    }
   ],
   "source": [
    "print('查询序号为S1和S3同学的姓名和系部：\\n',df.loc[['S1','S3'],['姓名','系部']])"
   ]
  },
  {
   "cell_type": "code",
   "execution_count": 23,
   "id": "326c75e7",
   "metadata": {},
   "outputs": [
    {
     "name": "stdout",
     "output_type": "stream",
     "text": [
      "查询第1和第3行的第2列：\n",
      "    性别\n",
      "S2  男\n",
      "S4  女\n"
     ]
    }
   ],
   "source": [
    "print('查询第1和第3行的第2列：\\n',df.iloc[[1,3],[1]])"
   ]
  },
  {
   "cell_type": "code",
   "execution_count": 25,
   "id": "7871f556",
   "metadata": {},
   "outputs": [],
   "source": [
    "# Ex3\n",
    "# （1）查询姓名为刘世元的行数据。\n",
    "# （2）查询计算机系的女同学。\n",
    "# （3）在df中增加记录：'姓名':'王文庆','性别':'男','年龄':21,'系部':'电信系'\n",
    "# （4）在df最后增加一列：'籍贯']=['河北省','天津市','河北省','重庆市','江苏省'"
   ]
  },
  {
   "cell_type": "code",
   "execution_count": 52,
   "id": "21687058",
   "metadata": {},
   "outputs": [
    {
     "name": "stdout",
     "output_type": "stream",
     "text": [
      "     姓名 性别  年龄    系部\n",
      "S1  许文秀  女  20  计算机系\n",
      "S2  刘世元  男  21   电信系\n",
      "S3  刘德峰  男  22   统计系\n",
      "S4  于金凤  女  20  计算机系\n"
     ]
    }
   ],
   "source": [
    "import pandas as pd\n",
    "datas={'姓名':['许文秀','刘世元','刘德峰','于金凤'],\n",
    "       '性别':['女','男','男','女'],\n",
    "       '年龄':[20,21,22,20],\n",
    "       '系部':['计算机系','电信系','统计系','计算机系']}\n",
    "df=pd.DataFrame(datas,index=['S1','S2','S3','S4'])\n",
    "print(df)"
   ]
  },
  {
   "cell_type": "code",
   "execution_count": 53,
   "id": "0ce09faa",
   "metadata": {},
   "outputs": [
    {
     "name": "stdout",
     "output_type": "stream",
     "text": [
      "查询姓名为刘世元的行数据\n",
      "      姓名 性别  年龄   系部\n",
      "S2  刘世元  男  21  电信系\n"
     ]
    }
   ],
   "source": [
    "print('查询姓名为刘世元的行数据\\n',df[df['姓名']=='刘世元'])"
   ]
  },
  {
   "cell_type": "code",
   "execution_count": 54,
   "id": "4b98ffe8",
   "metadata": {},
   "outputs": [
    {
     "name": "stdout",
     "output_type": "stream",
     "text": [
      "查询计算机系的女同学：\n",
      "      姓名 性别  年龄    系部\n",
      "S1  许文秀  女  20  计算机系\n",
      "S4  于金凤  女  20  计算机系\n"
     ]
    }
   ],
   "source": [
    "print('查询计算机系的女同学：\\n',df[(df['性别']=='女') & (df['系部']=='计算机系')])"
   ]
  },
  {
   "cell_type": "code",
   "execution_count": 55,
   "id": "9eed7382",
   "metadata": {},
   "outputs": [
    {
     "name": "stdout",
     "output_type": "stream",
     "text": [
      "     姓名 性别    年龄    系部\n",
      "S1  许文秀  女  20.0  计算机系\n",
      "S2  刘世元  男  21.0   电信系\n",
      "S3  刘德峰  男  22.0   统计系\n",
      "S4  于金凤  女  20.0  计算机系\n",
      "s5  王文庆  男  21.0   电信系\n"
     ]
    }
   ],
   "source": [
    "df.loc['s5', :] = ['王文庆', '男', 21, '电信系'] \n",
    "print(df)"
   ]
  },
  {
   "cell_type": "code",
   "execution_count": 56,
   "id": "9df4d63a",
   "metadata": {},
   "outputs": [
    {
     "name": "stdout",
     "output_type": "stream",
     "text": [
      "增加新的数据列：\n",
      "     姓名 性别  年龄    系部   籍贯\n",
      "0  许文秀  女  20  计算机系  河北省\n",
      "1  刘世元  男  21   电信系  天津市\n",
      "2  刘德峰  男  22   统计系  河北省\n",
      "3  于金凤  女  20  计算机系  重庆市\n",
      "4  王文庆  男  21   电信系  江苏省\n"
     ]
    }
   ],
   "source": [
    "df1['籍贯']=['河北省','天津市','河北省','重庆市','江苏省'] #增加一列数据\n",
    "print('增加新的数据列：\\n',df1)"
   ]
  },
  {
   "cell_type": "markdown",
   "id": "b2a70bd4",
   "metadata": {},
   "source": [
    "### 第三次"
   ]
  },
  {
   "cell_type": "markdown",
   "id": "f7c8475b",
   "metadata": {},
   "source": [
    "- Ex4 画出[0，2π]区间上sinx和cosx的曲线"
   ]
  },
  {
   "cell_type": "code",
   "execution_count": 2,
   "id": "dc4a21cf",
   "metadata": {},
   "outputs": [
    {
     "data": {
      "image/png": "[encoded data removed]",
      "text/plain": [
       "<Figure size 432x288 with 1 Axes>"
      ]
     },
     "metadata": {
      "needs_background": "light"
     },
     "output_type": "display_data"
    }
   ],
   "source": [
    "import matplotlib.pyplot as plt\n",
    "import numpy as np\n",
    "x = np.linspace(0,2*np.pi,1000)\n",
    "y1=np.sin(x)\n",
    "y2 = np.cos(x)\n",
    "plt.plot(x, y1, ls=\"-\", lw=2, label=\"sin(x) figure\") \n",
    "plt.plot(x, y2, ls=\"-\", lw=2, label=\"cos(x) figure\")\n",
    "plt.legend() #给图加上图例\n",
    "plt.show()"
   ]
  },
  {
   "cell_type": "markdown",
   "id": "bfb6e71c",
   "metadata": {},
   "source": [
    "- Ex5、画e^(1+x)和ln(1+x)曲线"
   ]
  },
  {
   "cell_type": "code",
   "execution_count": 46,
   "id": "25156162",
   "metadata": {},
   "outputs": [
    {
     "data": {
      "image/png": "[encoded data removed]",
      "text/plain": [
       "<Figure size 640x320 with 1 Axes>"
      ]
     },
     "metadata": {
      "needs_background": "light"
     },
     "output_type": "display_data"
    }
   ],
   "source": [
    "import numpy as np\n",
    "import matplotlib.pyplot as plt\n",
    "x=np.arange(0,4,0.01)\n",
    "pl=plt.figure(figsize=(8,4),dpi=80) \n",
    "plt.plot(x,np.exp(x+1))\n",
    "plt.plot(x,np.log(x+1))#np.log10()得到的是lg，np.log()得到的是ln\n",
    "plt.legend(['y=e^(1+x)','y=ln(1+x)'])\n",
    "plt.show()  # 显示绘制出的图"
   ]
  },
  {
   "cell_type": "code",
   "execution_count": null,
   "id": "88db9be5",
   "metadata": {},
   "outputs": [],
   "source": []
  },
  {
   "cell_type": "code",
   "execution_count": 32,
   "id": "40d7427c",
   "metadata": {},
   "outputs": [
    {
     "name": "stdout",
     "output_type": "stream",
     "text": [
      "函数ln(e)的值为：\n",
      "1.0\n"
     ]
    },
    {
     "data": {
      "text/plain": [
       "'\\n函数ln(e)的值为：\\n1.0\\n'"
      ]
     },
     "execution_count": 32,
     "metadata": {},
     "output_type": "execute_result"
    }
   ],
   "source": [
    "import numpy as np\n",
    "\n",
    "\n",
    "class NumpyStudy:\n",
    "    def lnFunction(self):\n",
    "        const = np.e\n",
    "        result = np.log(const)\n",
    "        print(\"函数ln(e)的值为：\")\n",
    "        print(result)\n",
    "\n",
    "\n",
    "if __name__ == \"__main__\":\n",
    "    main = NumpyStudy()\n",
    "    main.lnFunction()\n",
    "\"\"\"\n",
    "函数ln(e)的值为：\n",
    "1.0\n",
    "\"\"\"\n"
   ]
  },
  {
   "cell_type": "code",
   "execution_count": null,
   "id": "f50ca1df",
   "metadata": {},
   "outputs": [],
   "source": []
  },
  {
   "cell_type": "markdown",
   "id": "0f92e1be",
   "metadata": {},
   "source": [
    "- Ex6、画出y=(2/3)x^2-3x+6的图像"
   ]
  },
  {
   "cell_type": "code",
   "execution_count": 54,
   "id": "3b744ae4",
   "metadata": {},
   "outputs": [
    {
     "data": {
      "image/png": "[encoded data removed]",
      "text/plain": [
       "<Figure size 640x320 with 1 Axes>"
      ]
     },
     "metadata": {
      "needs_background": "light"
     },
     "output_type": "display_data"
    }
   ],
   "source": [
    "x1=np.arange(0,4,0.01)\n",
    "p1=plt.figure(figsize=(8,4),dpi=80) \n",
    "plt.plot(x1,np.exp((2/3)*x**2-3*x+6))\n",
    "plt.legend(['y=(2/3)x^2-3x+6'])\n",
    "plt.show()  # 显示绘制出的图"
   ]
  },
  {
   "cell_type": "code",
   "execution_count": null,
   "id": "3e8db108",
   "metadata": {},
   "outputs": [],
   "source": []
  },
  {
   "cell_type": "markdown",
   "id": "a542284b",
   "metadata": {},
   "source": [
    "- EX1 结合例3.52绘制 [-pi,pi] 的 sinx 和 cosx 的图像"
   ]
  },
  {
   "cell_type": "code",
   "execution_count": 5,
   "id": "843dca19",
   "metadata": {},
   "outputs": [
    {
     "data": {
      "image/png": "[encoded data removed]",
      "text/plain": [
       "<Figure size 432x288 with 1 Axes>"
      ]
     },
     "metadata": {
      "needs_background": "light"
     },
     "output_type": "display_data"
    }
   ],
   "source": [
    "import matplotlib.pyplot as plt\n",
    "import numpy as np\n",
    "x = np.linspace(-np.pi,np.pi,1000)\n",
    "y1=np.sin(x)\n",
    "y2 = np.cos(x)\n",
    "plt.plot(x, y1, ls=\"-\", lw=2, label=\"sin(x)\") \n",
    "plt.plot(x, y2, ls=\"-\", lw=2, label=\"cos(x)\")\n",
    "plt.legend() #给图加上图例\n",
    "plt.show()"
   ]
  },
  {
   "cell_type": "markdown",
   "id": "ec40a0de",
   "metadata": {},
   "source": [
    "- EX2 画饼图，假设四门课（数据结构、数据库、数据挖掘、Pyhton）来评价学生，\n",
    "各占20%、26%、30%、24%，用饼图展示"
   ]
  },
  {
   "cell_type": "code",
   "execution_count": 12,
   "id": "6b976442",
   "metadata": {},
   "outputs": [
    {
     "data": {
      "image/png": "[encoded data removed]",
      "text/plain": [
       "<Figure size 432x288 with 1 Axes>"
      ]
     },
     "metadata": {},
     "output_type": "display_data"
    }
   ],
   "source": [
    "# 饼图示例\n",
    "import matplotlib.pyplot as plt\n",
    "fracs = [20,26,30,24]\n",
    "A=[0,0.1,0,0]\n",
    "labe=['数据结构','数据库','数据挖掘','Python']\n",
    "plt.pie(x=fracs,autopct='%3.1f%%',explode=A,labels=labe, shadow=True,colors=('#f1ab51','#f39e30','#f58c05','#f0bc78'))\n",
    "plt.show()"
   ]
  },
  {
   "cell_type": "code",
   "execution_count": null,
   "id": "454abf58",
   "metadata": {},
   "outputs": [],
   "source": []
  }
 ],
 "metadata": {
  "kernelspec": {
   "display_name": "Python 3 (ipykernel)",
   "language": "python",
   "name": "python3"
  },
  "language_info": {
   "codemirror_mode": {
    "name": "ipython",
    "version": 3
   },
   "file_extension": ".py",
   "mimetype": "text/x-python",
   "name": "python",
   "nbconvert_exporter": "python",
   "pygments_lexer": "ipython3",
   "version": "3.9.7"
  }
 },
 "nbformat": 4,
 "nbformat_minor": 5
}
