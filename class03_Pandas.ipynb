{
 "cells": [
  {
   "cell_type": "code",
   "execution_count": 6,
   "id": "2a17dc29",
   "metadata": {},
   "outputs": [
    {
     "name": "stdout",
     "output_type": "stream",
     "text": [
      "4    12\n",
      "2     5\n",
      "3     7\n",
      "1    21\n",
      "dtype: int64\n",
      "a    12\n",
      "b     5\n",
      "c     7\n",
      "d    21\n",
      "dtype: int64\n"
     ]
    }
   ],
   "source": [
    "import pandas as pd\n",
    "s1=pd.Series([12,5,7,21],index=[4,2,3,1])\n",
    "s2=pd.Series([12,5,7,21],index=['a','b','c','d'])\n",
    "print(s1)\n",
    "print(s2)"
   ]
  },
  {
   "cell_type": "code",
   "execution_count": 1,
   "id": "71b98c1f",
   "metadata": {},
   "outputs": [
    {
     "name": "stdout",
     "output_type": "stream",
     "text": [
      "   学号   姓名 性别  年龄    系部\n",
      "0  S1   文秀  女  21  计算机系\n",
      "1  S2  于金凤  女  21  计算机系\n"
     ]
    }
   ],
   "source": [
    "import pandas as pd\n",
    "datas=[['S1','文秀','女','21','计算机系'],['S2','于金凤','女','21','计算机系']]\n",
    "df=pd.DataFrame(datas,columns=['学号','姓名','性别','年龄','系部'])\n",
    "print(df)"
   ]
  },
  {
   "cell_type": "code",
   "execution_count": 2,
   "id": "79406d86",
   "metadata": {},
   "outputs": [],
   "source": [
    "import numpy as np\n",
    "arr=np.arange(12).reshape([3,4])"
   ]
  },
  {
   "cell_type": "code",
   "execution_count": 3,
   "id": "6366f333",
   "metadata": {},
   "outputs": [
    {
     "name": "stdout",
     "output_type": "stream",
     "text": [
      "6\n"
     ]
    }
   ],
   "source": [
    "print(arr[1,2])  #输出下标为[1,2]的元素"
   ]
  },
  {
   "cell_type": "code",
   "execution_count": 4,
   "id": "2a7b37be",
   "metadata": {},
   "outputs": [
    {
     "name": "stdout",
     "output_type": "stream",
     "text": [
      "[ 6 10]\n"
     ]
    }
   ],
   "source": [
    "print(arr[1:,2]) #"
   ]
  },
  {
   "cell_type": "code",
   "execution_count": 5,
   "id": "be2a6e2f",
   "metadata": {},
   "outputs": [
    {
     "name": "stdout",
     "output_type": "stream",
     "text": [
      "[1 9]\n"
     ]
    }
   ],
   "source": [
    "print(arr[::2,1])"
   ]
  },
  {
   "cell_type": "markdown",
   "id": "fe57790f",
   "metadata": {},
   "source": [
    "### DataFrame的数据查询与编辑"
   ]
  },
  {
   "cell_type": "markdown",
   "id": "9a0f3068",
   "metadata": {},
   "source": [
    "- 查询列数据示例"
   ]
  },
  {
   "cell_type": "code",
   "execution_count": 14,
   "id": "51929419",
   "metadata": {},
   "outputs": [
    {
     "name": "stdout",
     "output_type": "stream",
     "text": [
      "查询姓名列：\n",
      " S1    许文秀\n",
      "S2    刘世元\n",
      "S3    刘德峰\n",
      "S4    于金凤\n",
      "Name: 姓名, dtype: object\n",
      "查询姓名和年龄列\n",
      "：      姓名  年龄\n",
      "S1  许文秀  20\n",
      "S2  刘世元  21\n",
      "S3  刘德峰  22\n",
      "S4  于金凤  20\n"
     ]
    }
   ],
   "source": [
    "import numpy as np\n",
    "import pandas as pd\n",
    "datas={'姓名':['许文秀','刘世元','刘德峰','于金凤'],\n",
    "       '性别':['女','男','男','女'],\n",
    "       '年龄':[20,21,22,20],\n",
    "       '系部':['计算机系','电信系','统计系','计算机系']}\n",
    "df=pd.DataFrame(datas,index=['S1','S2','S3','S4'])\n",
    "print('查询姓名列：\\n',df['姓名'])\n",
    "print('查询姓名和年龄列\\n：',df[['姓名','年龄']])"
   ]
  },
  {
   "cell_type": "markdown",
   "id": "1a737b2d",
   "metadata": {},
   "source": [
    "- 查询行数据"
   ]
  },
  {
   "cell_type": "code",
   "execution_count": 15,
   "id": "90a20a0c",
   "metadata": {},
   "outputs": [
    {
     "name": "stdout",
     "output_type": "stream",
     "text": [
      "查询前两行：\n",
      "      姓名 性别  年龄    系部\n",
      "S1  许文秀  女  20  计算机系\n",
      "S2  刘世元  男  21   电信系\n",
      "查询第2行：\n",
      "：      姓名 性别  年龄   系部\n",
      "S2  刘世元  男  21  电信系\n",
      "查询前3行：\n",
      "      姓名 性别  年龄    系部\n",
      "S1  许文秀  女  20  计算机系\n",
      "S2  刘世元  男  21   电信系\n",
      "S3  刘德峰  男  22   统计系\n",
      "查询后两行：\n",
      "      姓名 性别  年龄    系部\n",
      "S3  刘德峰  男  22   统计系\n",
      "S4  于金凤  女  20  计算机系\n"
     ]
    }
   ],
   "source": [
    "import numpy as np\n",
    "import pandas as pd\n",
    "datas={'姓名':['许文秀','刘世元','刘德峰','于金凤'],\n",
    "       '性别':['女','男','男','女'],\n",
    "       '年龄':[20,21,22,20],\n",
    "       '系部':['计算机系','电信系','统计系','计算机系']}\n",
    "df=pd.DataFrame(datas,index=['S1','S2','S3','S4'])\n",
    "print('查询前两行：\\n',df[:2])\n",
    "print('查询第2行：\\n：',df[1:2])\n",
    "print('查询前3行：\\n',df.head(3))\n",
    "print('查询后两行：\\n',df.tail(2))"
   ]
  },
  {
   "cell_type": "markdown",
   "id": "097c4d58",
   "metadata": {},
   "source": [
    "- 同时选择行和列示例"
   ]
  },
  {
   "cell_type": "code",
   "execution_count": 16,
   "id": "f5056416",
   "metadata": {},
   "outputs": [
    {
     "name": "stdout",
     "output_type": "stream",
     "text": [
      "查询序号为S1和S3同学的姓名和系部：\n",
      "      姓名    系部\n",
      "S1  许文秀  计算机系\n",
      "S3  刘德峰   统计系\n",
      "查询第1和第3行的第2列：\n",
      "    性别\n",
      "S2  男\n",
      "S4  女\n"
     ]
    }
   ],
   "source": [
    "import numpy as np\n",
    "import pandas as pd\n",
    "datas={'姓名':['许文秀','刘世元','刘德峰','于金凤'],\n",
    "       '性别':['女','男','男','女'],\n",
    "       '年龄':[20,21,22,20],\n",
    "       '系部':['计算机系','电信系','统计系','计算机系']}\n",
    "df=pd.DataFrame(datas,index=['S1','S2','S3','S4'])\n",
    "print('查询序号为S1和S3同学的姓名和系部：\\n',df.loc[['S1','S3'],['姓名','系部']])\n",
    "print('查询第1和第3行的第2列：\\n',df.iloc[[1,3],[1]])"
   ]
  },
  {
   "cell_type": "markdown",
   "id": "7f806c6d",
   "metadata": {},
   "source": [
    "- 条件查询实例"
   ]
  },
  {
   "cell_type": "code",
   "execution_count": 17,
   "id": "26662cd7",
   "metadata": {},
   "outputs": [
    {
     "name": "stdout",
     "output_type": "stream",
     "text": [
      "查询姓名为刘德峰的行数据\n",
      "      姓名 性别  年龄   系部\n",
      "S3  刘德峰  男  22  统计系\n",
      "查询计算机系的女同学：\n",
      "      姓名 性别  年龄    系部\n",
      "S1  许文秀  女  20  计算机系\n",
      "S4  于金凤  女  20  计算机系\n"
     ]
    }
   ],
   "source": [
    "import numpy as np\n",
    "import pandas as pd\n",
    "datas={'姓名':['许文秀','刘世元','刘德峰','于金凤'],\n",
    "       '性别':['女','男','男','女'],\n",
    "       '年龄':[20,21,22,20],\n",
    "       '系部':['计算机系','电信系','统计系','计算机系']}\n",
    "df=pd.DataFrame(datas,index=['S1','S2','S3','S4'])\n",
    "print('查询姓名为刘德峰的行数据\\n',df[df['姓名']=='刘德峰'])\n",
    "print('查询计算机系的女同学：\\n',df[(df['性别']=='女') & (df['系部']=='计算机系')])"
   ]
  },
  {
   "cell_type": "markdown",
   "id": "a8b39e93",
   "metadata": {},
   "source": [
    "- 增加新的行或列示例"
   ]
  },
  {
   "cell_type": "code",
   "execution_count": 1,
   "id": "a936fb35",
   "metadata": {},
   "outputs": [
    {
     "name": "stdout",
     "output_type": "stream",
     "text": [
      "    姓名 性别  年龄    系部\n",
      "0  许文秀  女  20  计算机系\n",
      "1  刘世元  男  21   电信系\n",
      "2  刘德峰  男  22   统计系\n",
      "3  于金凤  女  20  计算机系\n"
     ]
    }
   ],
   "source": [
    "import numpy as np\n",
    "import pandas as pd\n",
    "datas={'姓名':['许文秀','刘世元','刘德峰','于金凤'],\n",
    "       '性别':['女','男','男','女'],\n",
    "       '年龄':[20,21,22,20],\n",
    "       '系部':['计算机系','电信系','统计系','计算机系']}\n",
    "df=pd.DataFrame(datas)\n",
    "print(df)"
   ]
  },
  {
   "cell_type": "code",
   "execution_count": 2,
   "id": "f7213953",
   "metadata": {},
   "outputs": [
    {
     "name": "stdout",
     "output_type": "stream",
     "text": [
      "增加新的数据行\n",
      "     姓名 性别  年龄    系部\n",
      "0  许文秀  女  20  计算机系\n",
      "1  刘世元  男  21   电信系\n",
      "2  刘德峰  男  22   统计系\n",
      "3  于金凤  女  20  计算机系\n",
      "4  王文庆  男  21   电信系\n",
      "增加新的数据列：\n",
      "     姓名 性别  年龄    系部   籍贯\n",
      "0  许文秀  女  20  计算机系  河北省\n",
      "1  刘世元  男  21   电信系  天津市\n",
      "2  刘德峰  男  22   统计系  河北省\n",
      "3  于金凤  女  20  计算机系  重庆市\n",
      "4  王文庆  男  21   电信系  江苏省\n"
     ]
    },
    {
     "name": "stderr",
     "output_type": "stream",
     "text": [
      "C:\\Users\\admin\\AppData\\Local\\Temp/ipykernel_17000/2826117424.py:2: FutureWarning: The frame.append method is deprecated and will be removed from pandas in a future version. Use pandas.concat instead.\n",
      "  df1=df.append(data_1,ignore_index=True) #增加一行数据\n"
     ]
    }
   ],
   "source": [
    "data_1={'姓名':'王文庆','性别':'男','年龄':21,'系部':'电信系'}\n",
    "df1=df.append(data_1,ignore_index=True) #增加一行数据\n",
    "print('增加新的数据行\\n',df1)\n",
    "df1['籍贯']=['河北省','天津市','河北省','重庆市','江苏省'] #增加一列数据\n",
    "print('增加新的数据列：\\n',df1)"
   ]
  },
  {
   "cell_type": "markdown",
   "id": "dc287f09",
   "metadata": {},
   "source": [
    "- 删除行或列示例"
   ]
  },
  {
   "cell_type": "code",
   "execution_count": 19,
   "id": "ef437deb",
   "metadata": {},
   "outputs": [
    {
     "name": "stdout",
     "output_type": "stream",
     "text": [
      "删除第3行：\n",
      "     姓名 性别  年龄    系部\n",
      "0  许文秀  女  20  计算机系\n",
      "1  刘世元  男  21   电信系\n",
      "3  于金凤  女  20  计算机系\n",
      "删除系部一列\n",
      "     姓名 性别  年龄\n",
      "0  许文秀  女  20\n",
      "1  刘世元  男  21\n",
      "2  刘德峰  男  22\n",
      "3  于金凤  女  20\n"
     ]
    }
   ],
   "source": [
    "import numpy as np\n",
    "import pandas as pd\n",
    "datas={'姓名':['许文秀','刘世元','刘德峰','于金凤'],\n",
    "       '性别':['女','男','男','女'],\n",
    "       '年龄':[20,21,22,20],\n",
    "       '系部':['计算机系','电信系','统计系','计算机系']}\n",
    "df=pd.DataFrame(datas)\n",
    "df1=df.drop([2],axis=0,inplace=False) #删除序号为2的行\n",
    "print('删除第3行：\\n',df1)\n",
    "df.drop('系部',axis=1,inplace=True) #删除系部列\n",
    "print('删除系部一列\\n',df)"
   ]
  },
  {
   "cell_type": "markdown",
   "id": "14a6a401",
   "metadata": {},
   "source": [
    "- 修改行列标题示例"
   ]
  },
  {
   "cell_type": "code",
   "execution_count": 1,
   "id": "595b12f7",
   "metadata": {},
   "outputs": [
    {
     "name": "stdout",
     "output_type": "stream",
     "text": [
      "修改行标题：\n",
      "      姓名 性别  年龄    系部\n",
      "S1  许文秀  女  20  计算机系\n",
      "S2  刘世元  男  21   电信系\n",
      "S3  刘德峰  男  22   统计系\n",
      "S4  于金凤  女  20  计算机系\n",
      "修改列标题：\n",
      "    name sex  age  dept\n",
      "S1  许文秀   女   20  计算机系\n",
      "S2  刘世元   男   21   电信系\n",
      "S3  刘德峰   男   22   统计系\n",
      "S4  于金凤   女   20  计算机系\n"
     ]
    }
   ],
   "source": [
    "import numpy as np\n",
    "import pandas as pd\n",
    "datas={'姓名':['许文秀','刘世元','刘德峰','于金凤'],\n",
    "       '性别':['女','男','男','女'],\n",
    "       '年龄':[20,21,22,20],\n",
    "       '系部':['计算机系','电信系','统计系','计算机系']}\n",
    "df=pd.DataFrame(datas)\n",
    "df1=df.rename({0:'S1',1:'S2',2:'S3',3:'S4'}) #修改行标题\n",
    "print('修改行标题：\\n',df1)\n",
    "df1.rename(columns={'姓名':'name','性别':'sex','年龄':'age','系部':'dept'},inplace=True)\n",
    "print('修改列标题：\\n',df1)"
   ]
  },
  {
   "cell_type": "markdown",
   "id": "67b682f5",
   "metadata": {},
   "source": [
    "- 数据修改示例"
   ]
  },
  {
   "cell_type": "code",
   "execution_count": 2,
   "id": "380a60aa",
   "metadata": {},
   "outputs": [
    {
     "name": "stdout",
     "output_type": "stream",
     "text": [
      "修改一个元素的值：\n",
      "     姓名 性别  年龄    系部\n",
      "0  许文秀  女  20  计算机系\n",
      "1  刘世元  男  21   电信系\n",
      "2  刘得锋  男  22   统计系\n",
      "3  于金凤  女  20  计算机系\n",
      "修改某行几个元素值：\n",
      "     姓名 性别  年龄    系部\n",
      "0  许文秀  女  20  计算机系\n",
      "1  陈晓晴  女  21   电信系\n",
      "2  刘得锋  男  22   统计系\n",
      "3  于金凤  女  20  计算机系\n",
      "修改某列的值：\n",
      "     姓名 性别  年龄    系部\n",
      "0  许文秀  女  21  计算机系\n",
      "1  陈晓晴  女  22   电信系\n",
      "2  刘得锋  男  23   统计系\n",
      "3  于金凤  女  21  计算机系\n"
     ]
    }
   ],
   "source": [
    "import numpy as np\n",
    "import pandas as pd\n",
    "datas={'姓名':['许文秀','刘世元','刘德峰','于金凤'],\n",
    "       '性别':['女','男','男','女'],\n",
    "       '年龄':[20,21,22,20],\n",
    "       '系部':['计算机系','电信系','统计系','计算机系']}\n",
    "df=pd.DataFrame(datas)\n",
    "df.loc[2,'姓名']='刘得锋' #将姓名刘德峰改成刘得锋，或用df.iloc[2,0]\n",
    "print('修改一个元素的值：\\n',df)\n",
    "df.loc[1,['姓名','性别']]=['陈晓晴','女'] #修改第2行的姓名和性别\n",
    "print('修改某行几个元素值：\\n',df)\n",
    "df.iloc[:,2]=[21,22,23,21]#修改第3列的内容\n",
    "print('修改某列的值：\\n',df)"
   ]
  },
  {
   "cell_type": "markdown",
   "id": "71d3c8bc",
   "metadata": {},
   "source": [
    "### Pandas 数据四则运算"
   ]
  },
  {
   "cell_type": "markdown",
   "id": "fbd14f08",
   "metadata": {},
   "source": [
    "- 两个DataFrame对象四则运算示例"
   ]
  },
  {
   "cell_type": "code",
   "execution_count": 1,
   "id": "65fef69a",
   "metadata": {},
   "outputs": [
    {
     "name": "stdout",
     "output_type": "stream",
     "text": [
      "   a  b   c   d\n",
      "0  0  1   2   3\n",
      "1  4  5   6   7\n",
      "2  8  9  10  11 \n",
      "     a   b   c   d   e\n",
      "0   0   1   2   3   4\n",
      "1   5   6   7   8   9\n",
      "2  10  11  12  13  14\n",
      "3  15  16  17  18  19\n"
     ]
    }
   ],
   "source": [
    "import numpy as np\n",
    "import pandas as pd\n",
    "df1=pd.DataFrame(np.arange(12).reshape((3,4)),columns=list('abcd'))\n",
    "df2=pd.DataFrame(np.arange(20).reshape((4,5)),columns=list('abcde'))\n",
    "print(df1,'\\n',df2)  #打印DataFrame对象"
   ]
  },
  {
   "cell_type": "code",
   "execution_count": 2,
   "id": "7aeb025f",
   "metadata": {},
   "outputs": [
    {
     "name": "stdout",
     "output_type": "stream",
     "text": [
      "      a     b     c     d     e\n",
      "0   0.0   2.0   4.0   6.0   4.0\n",
      "1   9.0  11.0  13.0  15.0   9.0\n",
      "2  18.0  20.0  22.0  24.0  14.0\n",
      "3  15.0  16.0  17.0  18.0  19.0\n",
      "      a     b     c     d     e\n",
      "0   0.0   0.0   0.0   0.0  -4.0\n",
      "1  -1.0  -1.0  -1.0  -1.0  -9.0\n",
      "2  -2.0  -2.0  -2.0  -2.0 -14.0\n",
      "3 -15.0 -16.0 -17.0 -18.0 -19.0\n",
      "      a     b      c      d    e\n",
      "0   0.0   1.0    4.0    9.0  0.0\n",
      "1  20.0  30.0   42.0   56.0  0.0\n",
      "2  80.0  99.0  120.0  143.0  0.0\n",
      "3   0.0   0.0    0.0    0.0  0.0\n",
      "     a         b         c         d    e\n",
      "0  NaN  1.000000  1.000000  1.000000  0.0\n",
      "1  0.8  0.833333  0.857143  0.875000  0.0\n",
      "2  0.8  0.818182  0.833333  0.846154  0.0\n",
      "3  0.0  0.000000  0.000000  0.000000  0.0\n"
     ]
    }
   ],
   "source": [
    "print(df1.add(df2,fill_value=0)) #打印df1与df2的和，或用df1+df2\n",
    "print(df1.sub(df2,fill_value=0)) #打印df1与df2的差，或用df1-df2\n",
    "print(df1.mul(df2,fill_value=0)) #打印df1与df2的积，或用df1*df2\n",
    "print(df1.div(df2,fill_value=0)) #打印df1与df2的积，或用df1/df2"
   ]
  },
  {
   "cell_type": "markdown",
   "id": "8faed1fb",
   "metadata": {},
   "source": [
    "### 3.2.6 函数应用和映射"
   ]
  },
  {
   "cell_type": "markdown",
   "id": "e1cdaabb",
   "metadata": {},
   "source": [
    "- map()\n",
    "- map()函数主要是运用在Series中，用来对Series中的元素进行转化。"
   ]
  },
  {
   "cell_type": "code",
   "execution_count": 1,
   "id": "71309563",
   "metadata": {},
   "outputs": [
    {
     "name": "stdout",
     "output_type": "stream",
     "text": [
      "    姓名 性别  年龄    系部\n",
      "0  许文秀  F  20  计算机系\n",
      "1  刘世元  M  21   电信系\n",
      "2  刘德峰  M  22   统计系\n",
      "3  于金凤  F  20  计算机系\n"
     ]
    }
   ],
   "source": [
    "# map()函数应用示例\n",
    "import pandas as pd\n",
    "datas={'姓名':['许文秀','刘世元','刘德峰','于金凤'],\n",
    "       '性别':['女','男','男','女'],\n",
    "       '年龄':[20,21,22,20],\n",
    "       '系部':['计算机系','电信系','统计系','计算机系']}\n",
    "df=pd.DataFrame(datas)\n",
    "def sex_map(x):    #将性别'男'改为'M','女'改为'F'\n",
    "    sex='F'\n",
    "    if x=='男': sex ='M'\n",
    "    return sex  #该函数也可以用字典sex_map={'男':'M','女':'F'}替代\n",
    "df['性别']=df['性别'].map(sex_map)\n",
    "print(df)"
   ]
  },
  {
   "cell_type": "markdown",
   "id": "e5ae1b42",
   "metadata": {},
   "source": [
    "- apply()"
   ]
  },
  {
   "cell_type": "code",
   "execution_count": 3,
   "id": "61c22bd5",
   "metadata": {},
   "outputs": [
    {
     "name": "stdout",
     "output_type": "stream",
     "text": [
      "   A  B   C   D\n",
      "0  0  1   2   3\n",
      "1  4  5   6   7\n",
      "2  8  9  10  11\n",
      "   A  B   C   D   E\n",
      "0  0  1   2   3   6\n",
      "1  4  5   6   7  22\n",
      "2  8  9  10  11  38\n"
     ]
    }
   ],
   "source": [
    "# apply()函数应用示例\n",
    "import pandas as pd\n",
    "import numpy as np\n",
    "df=pd.DataFrame(np.arange(12).reshape((3,4)),columns=list('ABCD'))\n",
    "print(df)\n",
    "def means_df(x):  #求和\n",
    "    return x.sum()\n",
    "df['E']=df.apply(means_df,axis=1) #将每行和做为新列元素\n",
    "print(df)"
   ]
  },
  {
   "cell_type": "markdown",
   "id": "bee63626",
   "metadata": {},
   "source": [
    "- applymap()"
   ]
  },
  {
   "cell_type": "code",
   "execution_count": 5,
   "id": "1fc9d20c",
   "metadata": {
    "scrolled": true
   },
   "outputs": [
    {
     "name": "stdout",
     "output_type": "stream",
     "text": [
      "       a     b       c\n",
      "2  1.000  2.12  3.2450\n",
      "3  3.356  4.56  2.1101\n",
      "   a  b  c\n",
      "2  3  4  5\n",
      "3  5  4  6\n"
     ]
    }
   ],
   "source": [
    "# applymap()函数应用示例\n",
    "import pandas as pd\n",
    "df=pd.DataFrame([[1,2.12,3.245],[3.356,4.56,2.1101]],columns=list('abc'),index=[2,3])\n",
    "print(df)\n",
    "def f(x):\n",
    "    return len(str(x))  #对每一个元素求长度\n",
    "print(df.applymap(f))"
   ]
  },
  {
   "cell_type": "code",
   "execution_count": 10,
   "id": "0a988b34",
   "metadata": {},
   "outputs": [
    {
     "name": "stdout",
     "output_type": "stream",
     "text": [
      "1.0\n"
     ]
    }
   ],
   "source": [
    "print(df.loc[2,'a'])"
   ]
  },
  {
   "cell_type": "markdown",
   "id": "57c1dbd2",
   "metadata": {},
   "source": [
    "- map()、apply()和mapapply()三者的区别"
   ]
  },
  {
   "cell_type": "code",
   "execution_count": 11,
   "id": "4c45b3d6",
   "metadata": {},
   "outputs": [],
   "source": [
    "# (1) map()函数只能作用于Series中的每个元素。\n",
    "# (2) apply()函数既可以作用于Series中的每个元素，也可以作用于DataFrame中的行或列。\n",
    "# (3) applymap()只能作用于DataFrame中的每个元素。"
   ]
  },
  {
   "cell_type": "markdown",
   "id": "b5c92f46",
   "metadata": {},
   "source": [
    "### 3.2.7 排序"
   ]
  },
  {
   "cell_type": "markdown",
   "id": "306c4ddb",
   "metadata": {},
   "source": [
    "- 利用sort_index()函数可以根据行或列的索引进行排序；利用sort_values()函数可以根据行或列的值进行排序。"
   ]
  },
  {
   "cell_type": "code",
   "execution_count": 12,
   "id": "ba80f145",
   "metadata": {},
   "outputs": [
    {
     "name": "stdout",
     "output_type": "stream",
     "text": [
      "按Series的索引进行升序排序：\n",
      " a    1\n",
      "b    3\n",
      "c    2\n",
      "dtype: int64\n",
      "按Series的索引进行降序排序：\n",
      " c    2\n",
      "b    3\n",
      "a    1\n",
      "dtype: int64\n"
     ]
    }
   ],
   "source": [
    "# 例3.33 Series按索引进行排序示例\n",
    "import pandas as pd\n",
    "s = pd.Series([1,2,3],index=['a','c','b']) \n",
    "print('按Series的索引进行升序排序：\\n',s.sort_index()) #默认是升序\n",
    "print('按Series的索引进行降序排序：\\n',s.sort_index(ascending=False))"
   ]
  },
  {
   "cell_type": "code",
   "execution_count": 18,
   "id": "45f393b8",
   "metadata": {},
   "outputs": [],
   "source": [
    "# 按值进行排序示例\n",
    "import pandas as pd\n",
    "import numpy as np\n",
    "s = pd.Series([np.nan,1,7,2,3],index=['a','c','e','b','d'])    "
   ]
  },
  {
   "cell_type": "code",
   "execution_count": 19,
   "id": "a8aa3c54",
   "metadata": {
    "scrolled": true
   },
   "outputs": [
    {
     "name": "stdout",
     "output_type": "stream",
     "text": [
      "按Series的值进行升序排序：\n",
      " c    1.0\n",
      "b    2.0\n",
      "d    3.0\n",
      "e    7.0\n",
      "a    NaN\n",
      "dtype: float64\n",
      "按Seires的值进行降序排序：\n",
      " e    7.0\n",
      "d    3.0\n",
      "b    2.0\n",
      "c    1.0\n",
      "a    NaN\n",
      "dtype: float64\n"
     ]
    }
   ],
   "source": [
    "print('按Series的值进行升序排序：\\n',s.sort_values()) #默认是升序排序\n",
    "print('按Seires的值进行降序排序：\\n',s.sort_values(ascending=False))"
   ]
  },
  {
   "cell_type": "code",
   "execution_count": 14,
   "id": "a0640dae",
   "metadata": {},
   "outputs": [],
   "source": [
    "# 说明：对值进行排序的时候，无论是升序还是降序，缺失值（NaN）都会排在最后面"
   ]
  },
  {
   "cell_type": "code",
   "execution_count": 16,
   "id": "dc6e4143",
   "metadata": {},
   "outputs": [],
   "source": [
    "# DataFrame按索引排序示例\n",
    "import numpy as np\n",
    "import pandas as pd\n",
    "a = np.arange(9).reshape(3,3)\n",
    "data=pd.DataFrame(a,index=['0','2','1'],columns=['c','a','b'])"
   ]
  },
  {
   "cell_type": "code",
   "execution_count": 17,
   "id": "1dfccc6f",
   "metadata": {},
   "outputs": [
    {
     "name": "stdout",
     "output_type": "stream",
     "text": [
      "按行的索引升序进行排序:\n",
      "    c  a  b\n",
      "0  0  1  2\n",
      "1  6  7  8\n",
      "2  3  4  5\n",
      "按行的索引降序进行排序:\n",
      "    c  a  b\n",
      "2  3  4  5\n",
      "1  6  7  8\n",
      "0  0  1  2\n",
      "按列的索引升序进行排序:\n",
      "    a  b  c\n",
      "0  1  2  0\n",
      "2  4  5  3\n",
      "1  7  8  6\n",
      "按列的索引降序进行排序：\n",
      "    c  b  a\n",
      "0  0  2  1\n",
      "2  3  5  4\n",
      "1  6  8  7\n"
     ]
    }
   ],
   "source": [
    "print('按行的索引升序进行排序:\\n',data.sort_index()) #默认按行升序\n",
    "print('按行的索引降序进行排序:\\n',data.sort_index(ascending= False))\n",
    "print('按列的索引升序进行排序:\\n',data.sort_index(axis=1)) #默认升序\n",
    "print('按列的索引降序进行排序：\\n',data.sort_index(axis=1, ascending=False))"
   ]
  },
  {
   "cell_type": "code",
   "execution_count": 31,
   "id": "9795ed70",
   "metadata": {},
   "outputs": [],
   "source": [
    "#  DataFrame按值排序示例\n",
    "import pandas as pd\n",
    "import numpy as np\n",
    "data = [[9,3,1],[1,2,8],[1,0,5]]\n",
    "df=pd.DataFrame(data,index=['S1','S2','S3'],columns=['c','a', 'b'])"
   ]
  },
  {
   "cell_type": "code",
   "execution_count": 32,
   "id": "af9e9ca2",
   "metadata": {},
   "outputs": [
    {
     "name": "stdout",
     "output_type": "stream",
     "text": [
      "按指定列的值大小顺序进行排序：\n",
      "     c  a  b\n",
      "S2  1  2  8\n",
      "S3  1  0  5\n",
      "S1  9  3  1\n",
      "按指定多列的值大小顺序进行排序：\n",
      "     c  a  b\n",
      "S3  1  0  5\n",
      "S2  1  2  8\n",
      "S1  9  3  1\n"
     ]
    }
   ],
   "source": [
    "#对DataFrame的值进行排序时，要使用by指定某一行（列）或者某几行（列）\n",
    "print('按指定列的值大小顺序进行排序：\\n',df.sort_values(by='c')) #默认升序\n",
    "print('按指定多列的值大小顺序进行排序：\\n',df.sort_values(by= ['c','a']))"
   ]
  },
  {
   "cell_type": "code",
   "execution_count": 33,
   "id": "cfef2dfb",
   "metadata": {},
   "outputs": [
    {
     "name": "stdout",
     "output_type": "stream",
     "text": [
      "按指定行值进行排序：\n",
      "     b  a  c\n",
      "S1  1  3  9\n",
      "S2  8  2  1\n",
      "S3  5  0  1\n"
     ]
    }
   ],
   "source": [
    "#在指定行值进行排序的时候，必须设置axis=1\n",
    "print('按指定行值进行排序：\\n',df.sort_values(by='S1',axis=1))"
   ]
  },
  {
   "cell_type": "markdown",
   "id": "f9d3d89f",
   "metadata": {},
   "source": [
    "### 3.2.8 汇总与统计"
   ]
  },
  {
   "cell_type": "code",
   "execution_count": 26,
   "id": "85531bb5",
   "metadata": {},
   "outputs": [],
   "source": [
    "# 协方差和相关系数示例\n",
    "import pandas as pd\n",
    "import numpy as np\n",
    "df = pd.DataFrame({\n",
    "        \"年龄\":[8,9,10,11,12],\n",
    "        \"身高\":[130,135,140,141,150]})"
   ]
  },
  {
   "cell_type": "code",
   "execution_count": 27,
   "id": "66958230",
   "metadata": {},
   "outputs": [
    {
     "name": "stdout",
     "output_type": "stream",
     "text": [
      "\n",
      "年龄和身高的协方差为： 11.5\n"
     ]
    }
   ],
   "source": [
    "print('\\n年龄和身高的协方差为：',df['年龄'].cov(df['身高']))"
   ]
  },
  {
   "cell_type": "code",
   "execution_count": 28,
   "id": "631187e7",
   "metadata": {},
   "outputs": [
    {
     "name": "stdout",
     "output_type": "stream",
     "text": [
      "\n",
      "年龄和身高的相关系数为： 0.9745412767961823\n"
     ]
    }
   ],
   "source": [
    "print('\\n年龄和身高的相关系数为：',df['年龄'].corr(df['身高']))"
   ]
  },
  {
   "cell_type": "markdown",
   "id": "231b155b",
   "metadata": {},
   "source": [
    "### 3.2.9 数据分组与聚合"
   ]
  },
  {
   "cell_type": "markdown",
   "id": "7c0c2719",
   "metadata": {},
   "source": [
    "- 分组"
   ]
  },
  {
   "cell_type": "code",
   "execution_count": 19,
   "id": "2de7f977",
   "metadata": {},
   "outputs": [
    {
     "name": "stdout",
     "output_type": "stream",
     "text": [
      "\n",
      "创建的DataFrame对象：\n",
      "   key1   key2     data1     data2\n",
      "0    a    one  0.064664 -0.756858\n",
      "1    b    one -0.352241  0.346916\n",
      "2    a    two -1.020250 -0.930294\n",
      "3    b  three -0.335731  0.697861\n",
      "4    a    two  0.060898 -0.780754\n",
      "5    b    two  1.407686 -0.454120\n",
      "6    a    one -0.135732 -1.986996\n",
      "7    a  three  3.484010  0.083267\n"
     ]
    }
   ],
   "source": [
    "# 分组运算示例\n",
    "import pandas as pd\n",
    "import numpy as np\n",
    "dict = {'key1' : ['a', 'b', 'a', 'b','a', 'b', 'a', 'a'],\n",
    "        'key2' : ['one', 'one', 'two', 'three','two', 'two', 'one', 'three'],\n",
    "        'data1': np.random.randn(8), 'data2': np.random.randn(8)}\n",
    "df= pd.DataFrame(dict)\n",
    "print('\\n创建的DataFrame对象：\\n',df)"
   ]
  },
  {
   "cell_type": "code",
   "execution_count": 25,
   "id": "ad17d9e5",
   "metadata": {},
   "outputs": [
    {
     "name": "stdout",
     "output_type": "stream",
     "text": [
      "\n",
      "第一分组均值：\n",
      "          data1    data2\n",
      "key1                   \n",
      "a     0.654420  0.38811\n",
      "b    -0.251996  0.13562\n",
      "\n",
      "第二分组均值：\n",
      " key2\n",
      "one     -0.056708\n",
      "three    0.894106\n",
      "two      0.299342\n",
      "Name: data1, dtype: float64\n",
      "\n",
      "分组一元素个数：\n",
      " key1\n",
      "a    5\n",
      "b    3\n",
      "dtype: int64\n",
      "\n",
      "分组二元素个数：\n",
      " key2\n",
      "one      3\n",
      "three    2\n",
      "two      3\n",
      "Name: data1, dtype: int64\n"
     ]
    }
   ],
   "source": [
    "grouped1 = df.groupby('key1') #a一组，b一组。算得他们对应data1和data2的均值\n",
    "print('\\n第一分组均值：\\n',grouped1.mean())  # dataframe根据key1进行分组\n",
    "grouped2 = df['data1'].groupby(df['key2']) # dataframe的 data1 列根据 key1 进行分组\n",
    "print('\\n第二分组均值：\\n',grouped2.mean())\n",
    "print('\\n分组一元素个数：\\n',grouped1.size()) # size\n",
    "print('\\n分组二元素个数：\\n',grouped2.size())\n",
    "# 可以将分组关键字定义为列表或多层列表，也可以选定多个关键字分组。"
   ]
  },
  {
   "cell_type": "code",
   "execution_count": 23,
   "id": "09833cd8",
   "metadata": {},
   "outputs": [
    {
     "name": "stdout",
     "output_type": "stream",
     "text": [
      "  key1   key2     data1     data2\n",
      "0    a    one  0.080946 -1.016465\n",
      "1    b    one -0.428391 -0.017875\n",
      "2    a    two  1.222239  1.566345\n",
      "3    b  three  0.037070 -0.067154\n",
      "4    a    two  0.040451  0.178149\n",
      "5    b    two -0.364666  0.491889\n",
      "6    a    one  0.177322  2.286399\n",
      "7    a  three  1.751143 -1.073878\n"
     ]
    }
   ],
   "source": [
    "# 自定义key分组及多层分组示例\n",
    "import pandas as pd\n",
    "import numpy as np\n",
    "dict = {'key1' : ['a', 'b', 'a', 'b','a', 'b', 'a', 'a'],\n",
    "        'key2' : ['one', 'one', 'two', 'three','two', 'two', 'one', 'three'],\n",
    "        'data1': np.random.randn(8),'data2': np.random.randn(8)}\n",
    "df = pd.DataFrame(dict)\n",
    "print(df)"
   ]
  },
  {
   "cell_type": "code",
   "execution_count": 31,
   "id": "bf4372cf",
   "metadata": {},
   "outputs": [
    {
     "name": "stdout",
     "output_type": "stream",
     "text": [
      "0    1\n",
      "1    1\n",
      "2    1\n",
      "3    2\n",
      "4    1\n",
      "5    1\n",
      "7    1\n",
      "dtype: int64\n",
      "          data1               data2          \n",
      "key1          a         b         a         b\n",
      "key2                                         \n",
      "one    0.129134 -0.428391  0.634967 -0.017875\n",
      "three  1.751143  0.037070 -1.073878 -0.067154\n",
      "two    0.631345 -0.364666  0.872247  0.491889\n"
     ]
    }
   ],
   "source": [
    "self_def_key = [0, 1, 2, 3, 3, 4, 5, 7]\n",
    "print(df.groupby(self_def_key).size()) # 按自定义key分组，列表，分组统计没什么用\n",
    "# print(df.groupby([df['key1'], df['key2']]).size()) # 按自定义key分组，多层列表\n",
    "# grouped2 = df.groupby(['key1', 'key2']) # 按多个列多层分组\n",
    "# print(grouped2.size())\n",
    "# grouped3 = df.groupby(['key2', 'key1']) # 多层分组按key的顺序进行\n",
    "# print(grouped3.mean())\n",
    "# unstack可以将多层索引的结果转换成单层的dataframe\n",
    "print(grouped3.mean().unstack())"
   ]
  },
  {
   "cell_type": "markdown",
   "id": "e75898be",
   "metadata": {},
   "source": [
    "- 聚合"
   ]
  },
  {
   "cell_type": "code",
   "execution_count": 35,
   "id": "ec8e8db9",
   "metadata": {
    "scrolled": true
   },
   "outputs": [
    {
     "name": "stdout",
     "output_type": "stream",
     "text": [
      "  key1   key2     data1     data2\n",
      "0    a    one -0.999069 -0.974936\n",
      "1    b    one  0.019217 -0.071633\n",
      "2    a    two -1.558091 -0.582295\n",
      "3    b  three  0.212817  0.832270\n",
      "4    a    two -0.294869  0.214586\n",
      "5    b    two  0.644737 -0.787713\n",
      "6    a    one -1.029389 -1.176605\n",
      "7    a  three -1.371016 -1.167415\n"
     ]
    }
   ],
   "source": [
    "# 分组后应用聚合函数示例\n",
    "import pandas as pd\n",
    "import numpy as np\n",
    "dict = {'key1' : ['a', 'b', 'a', 'b','a', 'b', 'a', 'a'],\n",
    "        'key2' : ['one', 'one', 'two', 'three','two','two', 'one', 'three'],\n",
    "        'data1': np.random.randn(8),'data2': np.random.randn(8)}\n",
    "df = pd.DataFrame(dict)\n",
    "print(df)"
   ]
  },
  {
   "cell_type": "code",
   "execution_count": 36,
   "id": "8d21063b",
   "metadata": {},
   "outputs": [
    {
     "name": "stdout",
     "output_type": "stream",
     "text": [
      "     key2     data1     data2\n",
      "key1                         \n",
      "a     two -0.294869  0.214586\n",
      "b     two  0.644737  0.832270\n"
     ]
    }
   ],
   "source": [
    "#使用聚合函数\n",
    "# print(df.groupby('key1').sum())\n",
    "print(df.groupby('key1').max())\n",
    "# print(df.groupby('key1').min())\n",
    "# print(df.groupby('key1').mean())\n",
    "# print(df.groupby('key1').size()) \n",
    "# print(df.groupby('key1').count())\n",
    "# print(df.groupby('key1').describe())"
   ]
  },
  {
   "cell_type": "markdown",
   "id": "b57be8cc",
   "metadata": {},
   "source": [
    "### 3.2.10 Pandas 数据读取与存储"
   ]
  },
  {
   "cell_type": "markdown",
   "id": "67e90814",
   "metadata": {},
   "source": [
    "-  CSV文件"
   ]
  },
  {
   "cell_type": "code",
   "execution_count": 1,
   "id": "06f87cff",
   "metadata": {},
   "outputs": [],
   "source": [
    "# 在指定路径下创建CSV文件示例\n",
    "import csv\n",
    "import os\n",
    "os.chdir('E:\\\\pythonCVS') #改变当前路径\n",
    "head=['学号','姓名','性别','年龄','系部']  #写定义文件头\n",
    "lst=[['S1','许文秀','女',20,'计算机系'],\n",
    "      ['S2','刘德峰','男',21,'电信系'],\n",
    "      ['S3','刘世元','男',22,'管理系'],\n",
    "      ['S4','于金凤','女',21,'计算机系']]\n",
    "with open ('test.csv', 'a', newline='') as f :  #追加方式打开或创建\n",
    "    f_csv=csv.writer(f)  \n",
    "    f_csv.writerow(head)  #写入文件头\n",
    "    for i in range(4):  #按行写入文件  \n",
    "       f_csv.writerow(lst[i])"
   ]
  },
  {
   "cell_type": "code",
   "execution_count": 2,
   "id": "256d4b2c",
   "metadata": {},
   "outputs": [
    {
     "name": "stdout",
     "output_type": "stream",
     "text": [
      "   学号   姓名 性别  年龄    系部\n",
      "0  S1  许文秀  女  20  计算机系\n",
      "1  S2  刘德峰  男  21   电信系\n",
      "2  S3  刘世元  男  22   管理系\n",
      "3  S4  于金凤  女  21  计算机系\n"
     ]
    }
   ],
   "source": [
    "# pandas读取csv文件示例\n",
    "import pandas as pd\n",
    "import os\n",
    "os.chdir('E:\\\\pythonCVS') #设置当前路径\n",
    "data = pd.read_csv('test.csv',encoding = 'gb18030')  # 读取文件数据\n",
    "print(data)"
   ]
  },
  {
   "cell_type": "markdown",
   "id": "51b3d0ce",
   "metadata": {},
   "source": [
    "### Excel文件"
   ]
  },
  {
   "cell_type": "code",
   "execution_count": 10,
   "id": "898e0d10",
   "metadata": {},
   "outputs": [],
   "source": [
    "# Pandas读取Excel文件数据示例\n",
    "# import pandas as pd\n",
    "# file='E:\\\\pythonCVS\\test1.xls'\n",
    "# df=pd.read_excel(file)\n",
    "# print('获得Excel文件数据:\\n',df)\n",
    "# 如果是将整个DafaFrame写入excel，则调用to_excel()方法即可实现"
   ]
  },
  {
   "cell_type": "code",
   "execution_count": 1,
   "id": "2340e617",
   "metadata": {},
   "outputs": [
    {
     "name": "stderr",
     "output_type": "stream",
     "text": [
      "C:\\Users\\admin\\AppData\\Local\\Temp/ipykernel_46900/786963143.py:10: FutureWarning: As the xlwt package is no longer maintained, the xlwt engine will be removed in a future version of pandas. This is the only engine in pandas that supports writing in the xls format. Install openpyxl and write to an xlsx file instead. You can set the option io.excel.xls.writer to 'xlwt' to silence this warning. While this option is deprecated and will also raise a warning, it can be globally set and the warning suppressed.\n",
      "  df.to_excel(file)\n"
     ]
    }
   ],
   "source": [
    "# Pandas将DafaFrame对象数据写入Excel文件示例\n",
    "import pandas as pd\n",
    "head=['学号','姓名','性别','年龄','系部']\n",
    "data=[['S1','许文秀','女',20,'计算机系'],\n",
    "      ['S2','刘德峰','男',21,'电信系'],\n",
    "      ['S3','刘世元','男',22,'管理系'],\n",
    "      ['S4','于金凤','女',21,'计算机系']]\n",
    "df=pd.DataFrame(data,columns=head)\n",
    "file='E:\\\\pythonCVS\\\\test1.xls'#写自己的文件地址\n",
    "df.to_excel(file)"
   ]
  },
  {
   "cell_type": "code",
   "execution_count": 32,
   "id": "4e16bc07",
   "metadata": {},
   "outputs": [
    {
     "name": "stdout",
     "output_type": "stream",
     "text": [
      "获得Excel文件数据:\n",
      "    Unnamed: 0  学号   姓名 性别  年龄    系部\n",
      "0           0  S1  许文秀  女  20  计算机系\n",
      "1           1  S2  刘德峰  男  21   电信系\n",
      "2           2  S3  刘世元  男  22   管理系\n",
      "3           3  S4  于金凤  女  21  计算机系\n"
     ]
    }
   ],
   "source": [
    "# Pandas读取Excel文件数据示例\n",
    "import pandas as pd\n",
    "file='E:\\\\pythonCVS\\\\test1.xls'\n",
    "df=pd.read_excel(file)\n",
    "print('获得Excel文件数据:\\n',df)\n",
    "# 如果是将整个DafaFrame写入excel，则调用to_excel()方法即可实现"
   ]
  },
  {
   "cell_type": "markdown",
   "id": "f05c7ca9",
   "metadata": {},
   "source": [
    "### 3.3 Matplotlib 图表绘制基础"
   ]
  },
  {
   "cell_type": "code",
   "execution_count": 33,
   "id": "49fd8ceb",
   "metadata": {},
   "outputs": [
    {
     "data": {
      "image/png": "[encoded data removed]",
      "text/plain": [
       "<Figure size 640x320 with 2 Axes>"
      ]
     },
     "metadata": {
      "needs_background": "light"
     },
     "output_type": "display_data"
    }
   ],
   "source": [
    "# 创建多个子图示例\n",
    "import numpy as np\n",
    "import matplotlib.pyplot as plt\n",
    "x1=np.arange(-2,2,0.01)\n",
    "p1=plt.figure(figsize=(8,4),dpi=80) #第一幅子图，并确定画布大小\n",
    "ax1=p1.add_subplot(1,2,1) #创建一个2行1列的子图，并开始绘制第一幅\n",
    "plt.title('Power Function')\n",
    "plt.plot(x1,x1**2)\n",
    "plt.plot(x1,x1**4)\n",
    "plt.legend(['y=x^2','y=x^4'])\n",
    "ax2=p1.add_subplot(1,2,2)\n",
    "plt.title('e^x/log(x)')\n",
    "x2=np.arange(1,4,0.01)\n",
    "plt.plot(x2,np.exp(x2))\n",
    "plt.plot(x2,np.log(x2))\n",
    "plt.legend(['y=e^x','y=log(x)'])\n",
    "plt.show()  # 显示绘制出的图"
   ]
  },
  {
   "cell_type": "code",
   "execution_count": 34,
   "id": "c55680d6",
   "metadata": {},
   "outputs": [
    {
     "data": {
      "image/png": "[encoded data removed]",
      "text/plain": [
       "<Figure size 432x288 with 1 Axes>"
      ]
     },
     "metadata": {
      "needs_background": "light"
     },
     "output_type": "display_data"
    }
   ],
   "source": [
    "import numpy as np # 导入常用的包\n",
    "import matplotlib.pyplot as plt\n",
    "plt.figure()  #创建画布\n",
    "x=np.arange(1,8) #绘图及修饰\n",
    "y=np.array([15,20,22,23,20,18,16])\n",
    "plt.plot(x,y)\n",
    "plt.show() #图形展示"
   ]
  },
  {
   "cell_type": "markdown",
   "id": "ef2a748d",
   "metadata": {},
   "source": [
    "### 3.3.3 Matplotlib简单绘图"
   ]
  },
  {
   "cell_type": "markdown",
   "id": "88d981bd",
   "metadata": {},
   "source": [
    "- Pyplot库"
   ]
  },
  {
   "cell_type": "markdown",
   "id": "a4e38ecd",
   "metadata": {},
   "source": [
    "- (1)plot()函数"
   ]
  },
  {
   "cell_type": "code",
   "execution_count": 35,
   "id": "930c4ed7",
   "metadata": {},
   "outputs": [
    {
     "data": {
      "image/png": "[encoded data removed]",
      "text/plain": [
       "<Figure size 432x288 with 1 Axes>"
      ]
     },
     "metadata": {
      "needs_background": "light"
     },
     "output_type": "display_data"
    }
   ],
   "source": [
    "# plot()函数应用示例\n",
    "import matplotlib.pyplot as plt\n",
    "import numpy as np\n",
    "x=np.arange(10)\n",
    "plt.plot(x,x*1.5,'g+:',x,x*2.5,'ro-.',x,x*3.5,'x--',x,x*4.5,'bd-')\n",
    "plt.show()"
   ]
  },
  {
   "cell_type": "code",
   "execution_count": 36,
   "id": "c157284b",
   "metadata": {},
   "outputs": [
    {
     "data": {
      "image/png": "[encoded data removed]",
      "text/plain": [
       "<Figure size 432x288 with 2 Axes>"
      ]
     },
     "metadata": {
      "needs_background": "light"
     },
     "output_type": "display_data"
    }
   ],
   "source": [
    "#  函数绘图示例\n",
    "import matplotlib.pyplot as plt\n",
    "import numpy as np\n",
    "x = np.arange(0.01,np.e, 0.01)\n",
    "y1 = np.exp(-x)\n",
    "y2 = np.log(x)\n",
    "fig = plt.figure()\n",
    "ax1 = fig.add_subplot(111)\n",
    "ax1.plot(x, y1,'r',label='exp(-x)')\n",
    "ax1.legend(bbox_to_anchor=(1,0.5))\n",
    "ax1.set_ylabel('Y values for exp(-x)',color='r')\n",
    "ax1.set_xlabel('X values')\n",
    "ax1.set_title('Double Y axis')\n",
    "ax2 = ax1.twinx()\n",
    "ax2.plot(x,y2,'g',label='log(x)')\n",
    "ax2.legend(bbox_to_anchor=(1,0.6))\n",
    "ax2.set_ylabel('Y values for log(x)',color='g')\n",
    "plt.show()"
   ]
  },
  {
   "cell_type": "code",
   "execution_count": 37,
   "id": "4e7d13ed",
   "metadata": {},
   "outputs": [
    {
     "data": {
      "image/png": "[encoded data removed]",
      "text/plain": [
       "<Figure size 432x288 with 1 Axes>"
      ]
     },
     "metadata": {
      "needs_background": "light"
     },
     "output_type": "display_data"
    }
   ],
   "source": [
    "# 画直线示例\n",
    "import numpy as np\n",
    "import matplotlib.pyplot as plt\n",
    "x=[1,2]  #横坐标区域\n",
    "y=[3,6]  #纵坐标区域\n",
    "plt.figure() #创建绘图对象\n",
    "plt.plot(x,y) #当前绘图对象进行绘图\n",
    "plt.show() #结果展示"
   ]
  },
  {
   "cell_type": "markdown",
   "id": "e5596494",
   "metadata": {},
   "source": [
    "- plot()函数的应用："
   ]
  },
  {
   "cell_type": "code",
   "execution_count": 38,
   "id": "f8fb3c58",
   "metadata": {},
   "outputs": [
    {
     "data": {
      "image/png": "[encoded data removed]",
      "text/plain": [
       "<Figure size 576x288 with 1 Axes>"
      ]
     },
     "metadata": {
      "needs_background": "light"
     },
     "output_type": "display_data"
    }
   ],
   "source": [
    "# 画折线图示例\n",
    "import numpy as np\n",
    "import matplotlib.pyplot as plt\n",
    "x=[0,1,2,3,4,5,6]  #横坐标数据\n",
    "y=[0.3,0.4,2,5,3,4.5,4]  #纵坐标数据\n",
    "plt.figure(figsize=(8,4)) #创建绘图对象\n",
    "plt.plot(x,y,'b-',linewidth=1) #当前对象绘图\n",
    "plt.show() #结果展示"
   ]
  },
  {
   "cell_type": "code",
   "execution_count": 22,
   "id": "436659a7",
   "metadata": {},
   "outputs": [
    {
     "data": {
      "image/png": "[encoded data removed]",
      "text/plain": [
       "<Figure size 432x288 with 1 Axes>"
      ]
     },
     "metadata": {
      "needs_background": "light"
     },
     "output_type": "display_data"
    }
   ],
   "source": [
    "# 画出正弦和余弦曲线图\n",
    "import matplotlib.pyplot as plt\n",
    "import numpy as np\n",
    "x = np.linspace(0,2*np.pi,1000)# 0 到 2*np.pi 之间生成1000个等间隔的元素\n",
    "y1=np.sin(x)\n",
    "y2 = np.cos(x)\n",
    "plt.plot(x, y1, ls=\"-\", lw=2, label=\"sin(x) figure\") \n",
    "plt.plot(x, y2, ls=\"-\", lw=2, label=\"cos(x) figure\")\n",
    "plt.legend() #给图加上图例\n",
    "plt.show()"
   ]
  },
  {
   "cell_type": "markdown",
   "id": "6d4158dc",
   "metadata": {},
   "source": [
    "- def linspace(start, stop, num=50, endpoint=True, retstep=False, dtype=None)\n",
    "- start：scalar\n",
    "    - 起始点\n",
    "- stop：scalar\n",
    "    - 终止点\n",
    "- num : int, optional\n",
    "    - Number of samples to generate. Default is 50. Must be non-negative.\n",
    "    - 默认50，生成start和stop之间50个等差间隔的元素\n",
    "- endpoint : bool, optional\n",
    "    - If True, stop is the last sample. Otherwise, it is not included. Default is True.\n",
    "    - 生成等差间隔的元素，但是不包含stop，即间隔为 （stop - start）/num\n",
    "- retstep : bool, optional\n",
    "    - If True, return (samples, step), where step is the spacing between samples.\n",
    "    - 返回一个（array，num）元组，array是结果数组，num是间隔大小\n",
    "- dtype : dtype, optional\n",
    "    - The type of the output array. If dtype is not given, infer the data type from the other input arguments.\n",
    "    - 输出数组的类型。如果没有给出dtype，则从其他输入参数推断数据类型。"
   ]
  },
  {
   "cell_type": "markdown",
   "id": "ade7ca6f",
   "metadata": {},
   "source": [
    "- (2) scatter() 函数"
   ]
  },
  {
   "cell_type": "code",
   "execution_count": 40,
   "id": "f941825f",
   "metadata": {
    "scrolled": false
   },
   "outputs": [
    {
     "data": {
      "image/png": "[encoded data removed]",
      "text/plain": [
       "<Figure size 432x288 with 2 Axes>"
      ]
     },
     "metadata": {
      "needs_background": "light"
     },
     "output_type": "display_data"
    }
   ],
   "source": [
    "# 画散点图示例\n",
    "import matplotlib.pyplot as plt\n",
    "import numpy as np\n",
    "x = np.random.uniform(0,1,200)\n",
    "y = np.random.uniform(0,1,200)\n",
    "size =np.random.uniform(0,1,200)*30\n",
    "color = np.random.uniform(0,1,200)\n",
    "plt.scatter(x,y,size,color)\n",
    "plt.colorbar()\n",
    "plt.show()"
   ]
  },
  {
   "cell_type": "code",
   "execution_count": 17,
   "id": "e84a33ae",
   "metadata": {},
   "outputs": [
    {
     "name": "stdout",
     "output_type": "stream",
     "text": [
      "urllib\n"
     ]
    },
    {
     "ename": "TypeError",
     "evalue": "'module' object is not callable",
     "output_type": "error",
     "traceback": [
      "\u001b[1;31m---------------------------------------------------------------------------\u001b[0m",
      "\u001b[1;31mTypeError\u001b[0m                                 Traceback (most recent call last)",
      "\u001b[1;32m~\\AppData\\Local\\Temp/ipykernel_45224/3326223009.py\u001b[0m in \u001b[0;36m<module>\u001b[1;34m\u001b[0m\n\u001b[0;32m      6\u001b[0m \u001b[0mprint\u001b[0m\u001b[1;33m(\u001b[0m\u001b[1;34m'urllib'\u001b[0m\u001b[1;33m)\u001b[0m\u001b[1;33m\u001b[0m\u001b[1;33m\u001b[0m\u001b[0m\n\u001b[0;32m      7\u001b[0m \u001b[1;33m\u001b[0m\u001b[0m\n\u001b[1;32m----> 8\u001b[1;33m \u001b[0mdata\u001b[0m \u001b[1;33m=\u001b[0m \u001b[0murllib\u001b[0m\u001b[1;33m.\u001b[0m\u001b[0mrequest\u001b[0m\u001b[1;33m(\u001b[0m\u001b[0murl\u001b[0m\u001b[1;33m)\u001b[0m\u001b[1;33m;\u001b[0m\u001b[1;33m\u001b[0m\u001b[1;33m\u001b[0m\u001b[0m\n\u001b[0m\u001b[0;32m      9\u001b[0m \u001b[1;33m\u001b[0m\u001b[0m\n\u001b[0;32m     10\u001b[0m \u001b[0mprint\u001b[0m\u001b[1;33m(\u001b[0m\u001b[1;34m'urllib.request'\u001b[0m\u001b[1;33m)\u001b[0m\u001b[1;33m\u001b[0m\u001b[1;33m\u001b[0m\u001b[0m\n",
      "\u001b[1;31mTypeError\u001b[0m: 'module' object is not callable"
     ]
    }
   ],
   "source": [
    "import urllib,http.client\n",
    "\n",
    "url = 'http://www.mozillazine.org/atom.xml'\n",
    "http.client.HTTPConnection.debuglevel = 1\n",
    "\n",
    "print('urllib')\n",
    "\n",
    "data = urllib.request(url);\n",
    "\n",
    "print('urllib.request')\n",
    "\n",
    "request = urllib.request(url)\n",
    "opener = urllib.build_opener()\n",
    "feeddata = opener.open(request).read()\n",
    "import seaborn as sns\n",
    "df_iris=sns.load_dataset('iris')\n",
    "sns.set(style='ticks')\n",
    "g=sns.pairplot(df_iris,vars=['sepal_length','petal_length'])"
   ]
  },
  {
   "cell_type": "code",
   "execution_count": null,
   "id": "c5a79585",
   "metadata": {},
   "outputs": [],
   "source": [
    "# urllib.request 用于打开和读取URL, \n",
    "# urllib.error 用于处理前面request引起的异常, \n",
    "# urllib.parse 用于解析URL, \n",
    "# urllib.robotparser用于解析robots.txt文件"
   ]
  },
  {
   "cell_type": "code",
   "execution_count": 8,
   "id": "60662cc0",
   "metadata": {},
   "outputs": [
    {
     "name": "stdout",
     "output_type": "stream",
     "text": [
      "200\n",
      "356032\n"
     ]
    }
   ],
   "source": [
    "# 用urllib.request 代替原来的 urllib2\n",
    "import urllib.request\n",
    " \n",
    "url = \"http://www.baidu.com\"\n",
    "#用urllib.request.urlopen()  代替 urllib2.urlopen（） \n",
    "response1 = urllib.request.urlopen(url)\n",
    "#打印请求的状态码\n",
    "print(response1.getcode())\n",
    "#打印请求的网页内容的长度\n",
    "print(len(response1.read()))"
   ]
  },
  {
   "cell_type": "markdown",
   "id": "c7f3dad3",
   "metadata": {},
   "source": [
    "- (3) bar()"
   ]
  },
  {
   "cell_type": "code",
   "execution_count": 2,
   "id": "6c82e45e",
   "metadata": {},
   "outputs": [
    {
     "data": {
      "image/png": "[encoded data removed]",
      "text/plain": [
       "<Figure size 432x288 with 1 Axes>"
      ]
     },
     "metadata": {
      "needs_background": "light"
     },
     "output_type": "display_data"
    }
   ],
   "source": [
    "#柱状图示例\n",
    "import matplotlib.pyplot as plt\n",
    "x=[0,1,2,3,4,5]\n",
    "y=[222,42,455,664,454,334]\n",
    "fig=plt.figure()\n",
    "plt.bar(x,y,0.4,color='g')\n",
    "plt.show() #结果展示"
   ]
  },
  {
   "cell_type": "code",
   "execution_count": 3,
   "id": "43590a4c",
   "metadata": {},
   "outputs": [
    {
     "data": {
      "image/png": "[encoded data removed]",
      "text/plain": [
       "<Figure size 432x288 with 1 Axes>"
      ]
     },
     "metadata": {
      "needs_background": "light"
     },
     "output_type": "display_data"
    }
   ],
   "source": [
    "#利用柱状图将2016~2022年度数据库技术和数据挖掘教材销售数据进行可视化展示.程序代码如下：\n",
    "import matplotlib.pyplot as plt\n",
    "import numpy as np\n",
    "x_data=['2016','2017','2018','2019','2020','2021','2022']\n",
    "y_data1=[58000,60200,63000,71000,84000,90500,107000]\n",
    "y_data2=[52000,54200,51500,58300,56800,59500,62700]\n",
    "bar_width=0.3\n",
    "plt.rcParams['font.family']='STSong' #图形中显示汉字\n",
    "plt.rcParams['font.size']=12  #显示汉字字体\n",
    "plt.bar(x=np.arange(len(x_data)),height=y_data1,label='数据库技术',color='blue',alpha=0.8,width=bar_width)\n",
    "plt.bar(x=np.arange(len(x_data))+bar_width,height=y_data2,label='数据挖掘',color='red',alpha=0.8,width=bar_width)\n",
    "for x,y in enumerate(y_data1):\n",
    "    plt.text(x,y+100,'%s'% y,ha='center',va='bottom')\n",
    "for x,y in enumerate(y_data2):\n",
    "    plt.text(x+bar_width,y+100,'%s'% y,ha='center',va='top')\n",
    "plt.title('数据库技术与数据挖掘销售对比')\n",
    "plt.xlabel('2016~2022年度')\n",
    "plt.ylabel('销量')\n",
    "plt.legend()\n",
    "plt.show()"
   ]
  },
  {
   "cell_type": "code",
   "execution_count": 2,
   "id": "1c04b938",
   "metadata": {},
   "outputs": [
    {
     "name": "stdout",
     "output_type": "stream",
     "text": [
      "0 1\n",
      "1 2\n",
      "2 3\n",
      "3 4\n",
      "4 5\n"
     ]
    }
   ],
   "source": [
    "line = [1,2,3,4,5]\n",
    "for i,j in enumerate(line):print(i,j)"
   ]
  },
  {
   "cell_type": "markdown",
   "id": "f78e27b8",
   "metadata": {},
   "source": [
    "- (4) pie()函数"
   ]
  },
  {
   "cell_type": "code",
   "execution_count": 21,
   "id": "1f0adf55",
   "metadata": {},
   "outputs": [
    {
     "data": {
      "image/png": "[encoded data removed]",
      "text/plain": [
       "<Figure size 432x288 with 1 Axes>"
      ]
     },
     "metadata": {},
     "output_type": "display_data"
    }
   ],
   "source": [
    "# 饼图示例\n",
    "import matplotlib.pyplot as plt\n",
    "fracs = [15, 30.6, 44.4, 10]\n",
    "A=[0,0.1,0,0]\n",
    "labe=['A','B','C','D']\n",
    "plt.pie(x=fracs,autopct='%3.1f%%',explode=A,labels=labe, shadow=True)\n",
    "plt.show()"
   ]
  },
  {
   "cell_type": "markdown",
   "id": "e4a61eb8",
   "metadata": {},
   "source": [
    "- (5) hist()函数"
   ]
  },
  {
   "cell_type": "code",
   "execution_count": 1,
   "id": "801fd8d6",
   "metadata": {},
   "outputs": [
    {
     "data": {
      "image/png": "[encoded data removed]",
      "text/plain": [
       "<Figure size 432x288 with 1 Axes>"
      ]
     },
     "metadata": {
      "needs_background": "light"
     },
     "output_type": "display_data"
    }
   ],
   "source": [
    "# 直方图示例\n",
    "import numpy as np\n",
    "import matplotlib.pyplot as plt\n",
    "data=np.random.normal(0,1,10000)\n",
    "n,bins,patches=plt.hist(data,50)\n",
    "plt.show()"
   ]
  },
  {
   "cell_type": "code",
   "execution_count": 5,
   "id": "308c21af",
   "metadata": {},
   "outputs": [
    {
     "data": {
      "image/png": "[encoded data removed]",
      "text/plain": [
       "<Figure size 432x288 with 1 Axes>"
      ]
     },
     "metadata": {
      "needs_background": "light"
     },
     "output_type": "display_data"
    }
   ],
   "source": [
    "import matplotlib.pyplot as plt\n",
    "import numpy as np\n",
    "fig,ax=plt.subplots()\n",
    "plt.rcParams['font.family']=['SimHei']\n",
    "plt.rcParams['axes.unicode_minus']=False\n",
    "x=np.arange(1,6)\n",
    "Y1=np.random.uniform(1.5,1.0,5)\n",
    "Y2=np.random.uniform(1.5,1.0,5)\n",
    "plt.bar(x,Y1,width=0.35,facecolor='lightskyblue')\n",
    "plt.bar(x+0.35,Y2,width=0.35,facecolor='yellowgreen')\n",
    "plt.show()"
   ]
  },
  {
   "cell_type": "code",
   "execution_count": 7,
   "id": "c5cfcf0d",
   "metadata": {},
   "outputs": [
    {
     "data": {
      "image/png": "[encoded data removed]",
      "text/plain": [
       "<Figure size 432x288 with 1 Axes>"
      ]
     },
     "metadata": {
      "needs_background": "light"
     },
     "output_type": "display_data"
    }
   ],
   "source": [
    "import numpy as np\n",
    "import matplotlib.pyplot as plt\n",
    "\n",
    "\n",
    "data = [[ 66386, 174296,  75131, 577908,  32015],\n",
    "        [ 58230, 381139,  78045,  99308, 160454],\n",
    "        [ 89135,  80552, 152558, 497981, 603535],\n",
    "        [ 78415,  81858, 150656, 193263,  69638],\n",
    "        [139361, 331509, 343164, 781380,  52269]]\n",
    "\n",
    "columns = ('Freeze', 'Wind', 'Flood', 'Quake', 'Hail')\n",
    "rows = ['%d year' % x for x in (100, 50, 20, 10, 5)]\n",
    "\n",
    "values = np.arange(0, 2500, 500)\n",
    "value_increment = 1000\n",
    "\n",
    "# Get some pastel shades for the colors\n",
    "colors = plt.cm.BuPu(np.linspace(0, 0.5, len(rows)))\n",
    "n_rows = len(data)\n",
    "\n",
    "index = np.arange(len(columns)) + 0.3\n",
    "bar_width = 0.4\n",
    "\n",
    "# Initialize the vertical-offset for the stacked bar chart.\n",
    "y_offset = np.zeros(len(columns))\n",
    "\n",
    "# Plot bars and create text labels for the table\n",
    "cell_text = []\n",
    "for row in range(n_rows):\n",
    "    plt.bar(index, data[row], bar_width, bottom=y_offset, color=colors[row])\n",
    "    y_offset = y_offset + data[row]\n",
    "    cell_text.append(['%1.1f' % (x / 1000.0) for x in y_offset])\n",
    "# Reverse colors and text labels to display the last value at the top.\n",
    "colors = colors[::-1]\n",
    "cell_text.reverse()\n",
    "\n",
    "# Add a table at the bottom of the axes\n",
    "the_table = plt.table(cellText=cell_text,\n",
    "                      rowLabels=rows,\n",
    "                      rowColours=colors,\n",
    "                      colLabels=columns,\n",
    "                      loc='bottom')\n",
    "\n",
    "# Adjust layout to make room for the table:\n",
    "plt.subplots_adjust(left=0.2, bottom=0.2)\n",
    "\n",
    "plt.ylabel(\"Loss in ${0}'s\".format(value_increment))\n",
    "plt.yticks(values * value_increment, ['%d' % val for val in values])\n",
    "plt.xticks([])\n",
    "plt.title('Loss by Disaster')\n",
    "\n",
    "plt.show()"
   ]
  },
  {
   "cell_type": "markdown",
   "id": "f1721837",
   "metadata": {},
   "source": [
    "- (6) boxplot()函数"
   ]
  },
  {
   "cell_type": "code",
   "execution_count": 6,
   "id": "9f1167ef",
   "metadata": {},
   "outputs": [
    {
     "data": {
      "image/png": "[encoded data removed]",
      "text/plain": [
       "<Figure size 432x288 with 1 Axes>"
      ]
     },
     "metadata": {
      "needs_background": "light"
     },
     "output_type": "display_data"
    }
   ],
   "source": [
    "# 绘制箱线图示例\n",
    "import pandas as pd\n",
    "import numpy as np\n",
    "import matplotlib.pyplot as plt\n",
    "dt=pd.DataFrame(np.random.rand(4,4))\n",
    "plt.boxplot(x=dt.values,labels=dt.columns,whis=1.5)\n",
    "plt.show()"
   ]
  },
  {
   "cell_type": "markdown",
   "id": "947adf46",
   "metadata": {},
   "source": [
    "- 2.Pylab库"
   ]
  },
  {
   "cell_type": "code",
   "execution_count": 7,
   "id": "88321515",
   "metadata": {},
   "outputs": [
    {
     "data": {
      "image/png": "[encoded data removed]",
      "text/plain": [
       "<Figure size 432x288 with 1 Axes>"
      ]
     },
     "metadata": {
      "needs_background": "light"
     },
     "output_type": "display_data"
    }
   ],
   "source": [
    "# pylab画图示例\n",
    "import pylab as pl\n",
    "x = range(10)  # 横轴的数据\n",
    "y = [i*i for i in x]  # 纵轴的数据\n",
    "pl.rcParams['font.family']='STSong' #图形中显示汉字\n",
    "pl.rcParams['font.size']=12  #显示汉字字体\n",
    "pl.plot(x,y,'ob-',label='y=x^2曲线图')  # 调用pylab的plot函数绘制曲线\n",
    "pl.xlabel('x轴')\n",
    "pl.ylabel('y轴') \n",
    "pl.legend() #图例生效\n",
    "pl.show()  # 显示绘制出的图"
   ]
  },
  {
   "cell_type": "markdown",
   "id": "9d67f002",
   "metadata": {},
   "source": [
    "### 3.3.4 文本注解"
   ]
  },
  {
   "cell_type": "markdown",
   "id": "a064ef73",
   "metadata": {},
   "source": [
    "- 1. text()函数"
   ]
  },
  {
   "cell_type": "code",
   "execution_count": 8,
   "id": "5e899b53",
   "metadata": {},
   "outputs": [
    {
     "data": {
      "image/png": "[encoded data removed]",
      "text/plain": [
       "<Figure size 432x288 with 1 Axes>"
      ]
     },
     "metadata": {
      "needs_background": "light"
     },
     "output_type": "display_data"
    }
   ],
   "source": [
    "# Text()函数应用示例\n",
    "import numpy as np\n",
    "import matplotlib.pyplot as plt\n",
    "x=np.arange(-10,11,1)\n",
    "y=x**2\n",
    "plt.plot(x,y)\n",
    "plt.text(-3,20,'Function: y=x^2',size=15,alpha=0.2)\n",
    "plt.text(-3,40,'Function:y=x^2',size=14,family='fantasy', color='b',\n",
    "         bbox=dict(facecolor='r',alpha=0.2))\n",
    "plt.show()"
   ]
  },
  {
   "cell_type": "markdown",
   "id": "394ff4ab",
   "metadata": {},
   "source": [
    "- 2. annotate()函数"
   ]
  },
  {
   "cell_type": "code",
   "execution_count": 9,
   "id": "289ad01c",
   "metadata": {},
   "outputs": [
    {
     "data": {
      "image/png": "[encoded data removed]",
      "text/plain": [
       "<Figure size 432x288 with 1 Axes>"
      ]
     },
     "metadata": {
      "needs_background": "light"
     },
     "output_type": "display_data"
    }
   ],
   "source": [
    "# annotate()函数应用示例\n",
    "import numpy as np\n",
    "import matplotlib.pyplot as plt\n",
    "x=np.arange(0,10,0.005) #以步长0.005绘制一个曲线\n",
    "y=np.exp(-x/2.0)*np.sin(2*np.pi*x)\n",
    "fig,ax=plt.subplots()\n",
    "ax.plot(x,y)\n",
    "ax.set_xlim(0,10)\n",
    "ax.set_ylim(-1,1)\n",
    "#被注释点的数据轴坐标和所在的像素\n",
    "xdata,ydata=5,0\n",
    "xdis,ydis=ax.transData.transform_point((xdata,ydata))\n",
    "#设置注释文本的样式和箭头的样式\n",
    "bbox1=dict(boxstyle='round',fc='0.8')\n",
    "arrow1=dict(arrowstyle='->')\n",
    "arrow2=dict(arrowstyle='->',connectionstyle='angle,angleA=0,angleB=90,rad=10') #用参数connectionstyle控制箭头弯曲\n",
    "offset=72 #设置偏移量\n",
    "#xycoords默认为'data'数据轴坐标，对坐标点(5,0)添加注释\n",
    "#注释文本参考被注释点设置偏移量，向左2*72points，向上72points\n",
    "ax.annotate('data=(%.1f,%.1f)'%(xdata,ydata),(xdata,ydata),xytext=(-2*offset,offset),textcoords='offset points',bbox=bbox1,arrowprops=arrow1)\n",
    "#xycoords以绘图区左下角为参考，单位为像素\n",
    "#注释文本参考被注释点设置偏移量，向左0.5*72points，向下72points\n",
    "disp=ax.annotate('display=(%.1f,%.1f)'%(xdis,ydis),(xdis,ydis),xytext=(0.5*offset,-offset),xycoords='figure pixels',textcoords='offset points',bbox=bbox1,arrowprops=arrow2)\n",
    "plt.show()"
   ]
  },
  {
   "cell_type": "markdown",
   "id": "aaea29bd",
   "metadata": {},
   "source": [
    "### 3.4 Scikit-learn"
   ]
  },
  {
   "cell_type": "markdown",
   "id": "8c2fb5d1",
   "metadata": {},
   "source": [
    "#### 3.4.1 Scikit-learn的主要功能"
   ]
  },
  {
   "cell_type": "markdown",
   "id": "3e672e06",
   "metadata": {},
   "source": [
    "#### 3.4.2 Scikit-learn 自带小数据集"
   ]
  },
  {
   "cell_type": "markdown",
   "id": "de73e8f5",
   "metadata": {},
   "source": [
    "- 1. Iris"
   ]
  },
  {
   "cell_type": "code",
   "execution_count": null,
   "id": "35e24181",
   "metadata": {},
   "outputs": [],
   "source": [
    "- "
   ]
  },
  {
   "cell_type": "code",
   "execution_count": 10,
   "id": "ced5d4af",
   "metadata": {},
   "outputs": [
    {
     "name": "stdout",
     "output_type": "stream",
     "text": [
      "['DESCR', 'data', 'feature_names', 'filename', 'frame', 'target', 'target_names']\n",
      "********************************************************************************\n",
      ".. _iris_dataset:\n",
      "\n",
      "Iris plants dataset\n",
      "--------------------\n",
      "\n",
      "**Data Set Characteristics:**\n",
      "\n",
      "    :Number of Instances: 150 (50 in each of three classes)\n",
      "    :Number of Attributes: 4 numeric, predictive attributes and the class\n",
      "    :Attribute Information:\n",
      "        - sepal length in cm\n",
      "        - sepal width in cm\n",
      "        - petal length in cm\n",
      "        - petal width in cm\n",
      "        - class:\n",
      "                - Iris-Setosa\n",
      "                - Iris-Versicolour\n",
      "                - Iris-Virginica\n",
      "                \n",
      "    :Summary Statistics:\n",
      "\n",
      "    ============== ==== ==== ======= ===== ====================\n",
      "                    Min  Max   Mean    SD   Class Correlation\n",
      "    ============== ==== ==== ======= ===== ====================\n",
      "    sepal length:   4.3  7.9   5.84   0.83    0.7826\n",
      "    sepal width:    2.0  4.4   3.05   0.43   -0.4194\n",
      "    petal length:   1.0  6.9   3.76   1.76    0.9490  (high!)\n",
      "    petal width:    0.1  2.5   1.20   0.76    0.9565  (high!)\n",
      "    ============== ==== ==== ======= ===== ====================\n",
      "\n",
      "    :Missing Attribute Values: None\n",
      "    :Class Distribution: 33.3% for each of 3 classes.\n",
      "    :Creator: R.A. Fisher\n",
      "    :Donor: Michael Marshall (MARSHALL%PLU@io.arc.nasa.gov)\n",
      "    :Date: July, 1988\n",
      "\n",
      "The famous Iris database, first used by Sir R.A. Fisher. The dataset is taken\n",
      "from Fisher's paper. Note that it's the same as in R, but not as in the UCI\n",
      "Machine Learning Repository, which has two wrong data points.\n",
      "\n",
      "This is perhaps the best known database to be found in the\n",
      "pattern recognition literature.  Fisher's paper is a classic in the field and\n",
      "is referenced frequently to this day.  (See Duda & Hart, for example.)  The\n",
      "data set contains 3 classes of 50 instances each, where each class refers to a\n",
      "type of iris plant.  One class is linearly separable from the other 2; the\n",
      "latter are NOT linearly separable from each other.\n",
      "\n",
      ".. topic:: References\n",
      "\n",
      "   - Fisher, R.A. \"The use of multiple measurements in taxonomic problems\"\n",
      "     Annual Eugenics, 7, Part II, 179-188 (1936); also in \"Contributions to\n",
      "     Mathematical Statistics\" (John Wiley, NY, 1950).\n",
      "   - Duda, R.O., & Hart, P.E. (1973) Pattern Classification and Scene Analysis.\n",
      "     (Q327.D83) John Wiley & Sons.  ISBN 0-471-22361-1.  See page 218.\n",
      "   - Dasarathy, B.V. (1980) \"Nosing Around the Neighborhood: A New System\n",
      "     Structure and Classification Rule for Recognition in Partially Exposed\n",
      "     Environments\".  IEEE Transactions on Pattern Analysis and Machine\n",
      "     Intelligence, Vol. PAMI-2, No. 1, 67-71.\n",
      "   - Gates, G.W. (1972) \"The Reduced Nearest Neighbor Rule\".  IEEE Transactions\n",
      "     on Information Theory, May 1972, 431-433.\n",
      "   - See also: 1988 MLC Proceedings, 54-64.  Cheeseman et al\"s AUTOCLASS II\n",
      "     conceptual clustering system finds 3 classes in the data.\n",
      "   - Many, many more ...\n",
      "********************************************************************************\n",
      "['sepal length (cm)', 'sepal width (cm)', 'petal length (cm)', 'petal width (cm)']\n",
      "********************************************************************************\n",
      "['setosa' 'versicolor' 'virginica']\n",
      "********************************************************************************\n",
      "[0 0 0 0 0 0 0 0 0 0 0 0 0 0 0 0 0 0 0 0 0 0 0 0 0 0 0 0 0 0 0 0 0 0 0 0 0\n",
      " 0 0 0 0 0 0 0 0 0 0 0 0 0 1 1 1 1 1 1 1 1 1 1 1 1 1 1 1 1 1 1 1 1 1 1 1 1\n",
      " 1 1 1 1 1 1 1 1 1 1 1 1 1 1 1 1 1 1 1 1 1 1 1 1 1 1 2 2 2 2 2 2 2 2 2 2 2\n",
      " 2 2 2 2 2 2 2 2 2 2 2 2 2 2 2 2 2 2 2 2 2 2 2 2 2 2 2 2 2 2 2 2 2 2 2 2 2\n",
      " 2 2]\n",
      "********************************************************************************\n",
      "[0 0 2]\n"
     ]
    }
   ],
   "source": [
    "# 查看鸢尾花数据结构示例\n",
    "from sklearn.datasets import load_iris\n",
    "data=load_iris() #加载iris数据集\n",
    "print(dir(data)) #查看data所具有的属性和方法\n",
    "print('*'*80)\n",
    "print(data.DESCR) #查看数据集的描述\n",
    "print('*'*80)\n",
    "print(data.feature_names) #查看数据的特征名\n",
    "print('*'*80)\n",
    "print(data.target_names) #查看数据的分类名\n",
    "print('*'*80) \n",
    "print(data.target) #目标标签值\n",
    "print('*'*80)\n",
    "print(data.target[[1,10,100]]) #查看第2、11、101个样本的目标值"
   ]
  },
  {
   "cell_type": "markdown",
   "id": "f19cf20d",
   "metadata": {},
   "source": [
    "- 2. boston"
   ]
  },
  {
   "cell_type": "markdown",
   "id": "425142fe",
   "metadata": {},
   "source": [
    "- 3. digits"
   ]
  },
  {
   "cell_type": "code",
   "execution_count": 7,
   "id": "a93606c0",
   "metadata": {},
   "outputs": [
    {
     "name": "stdout",
     "output_type": "stream",
     "text": [
      "[0 1 2 3 4 0 1 2 3 4]\n",
      "['DESCR', 'data', 'feature_names', 'frame', 'images', 'target', 'target_names']\n",
      "********************************************************************************\n",
      ".. _digits_dataset:\n",
      "\n",
      "Optical recognition of handwritten digits dataset\n",
      "--------------------------------------------------\n",
      "\n",
      "**Data Set Characteristics:**\n",
      "\n",
      "    :Number of Instances: 1797\n",
      "    :Number of Attributes: 64\n",
      "    :Attribute Information: 8x8 image of integer pixels in the range 0..16.\n",
      "    :Missing Attribute Values: None\n",
      "    :Creator: E. Alpaydin (alpaydin '@' boun.edu.tr)\n",
      "    :Date: July; 1998\n",
      "\n",
      "This is a copy of the test set of the UCI ML hand-written digits datasets\n",
      "https://archive.ics.uci.edu/ml/datasets/Optical+Recognition+of+Handwritten+Digits\n",
      "\n",
      "The data set contains images of hand-written digits: 10 classes where\n",
      "each class refers to a digit.\n",
      "\n",
      "Preprocessing programs made available by NIST were used to extract\n",
      "normalized bitmaps of handwritten digits from a preprinted form. From a\n",
      "total of 43 people, 30 contributed to the training set and different 13\n",
      "to the test set. 32x32 bitmaps are divided into nonoverlapping blocks of\n",
      "4x4 and the number of on pixels are counted in each block. This generates\n",
      "an input matrix of 8x8 where each element is an integer in the range\n",
      "0..16. This reduces dimensionality and gives invariance to small\n",
      "distortions.\n",
      "\n",
      "For info on NIST preprocessing routines, see M. D. Garris, J. L. Blue, G.\n",
      "T. Candela, D. L. Dimmick, J. Geist, P. J. Grother, S. A. Janet, and C.\n",
      "L. Wilson, NIST Form-Based Handprint Recognition System, NISTIR 5469,\n",
      "1994.\n",
      "\n",
      ".. topic:: References\n",
      "\n",
      "  - C. Kaynak (1995) Methods of Combining Multiple Classifiers and Their\n",
      "    Applications to Handwritten Digit Recognition, MSc Thesis, Institute of\n",
      "    Graduate Studies in Science and Engineering, Bogazici University.\n",
      "  - E. Alpaydin, C. Kaynak (1998) Cascading Classifiers, Kybernetika.\n",
      "  - Ken Tang and Ponnuthurai N. Suganthan and Xi Yao and A. Kai Qin.\n",
      "    Linear dimensionalityreduction using relevance weighted LDA. School of\n",
      "    Electrical and Electronic Engineering Nanyang Technological University.\n",
      "    2005.\n",
      "  - Claudio Gentile. A New Approximate Maximal Margin Classification\n",
      "    Algorithm. NIPS. 2000.\n",
      "\n",
      "********************************************************************************\n",
      "[[ 0.  0.  5. ...  0.  0.  0.]\n",
      " [ 0.  0.  0. ... 10.  0.  0.]\n",
      " [ 0.  0.  0. ... 16.  9.  0.]\n",
      " ...\n",
      " [ 0.  0.  0. ...  9.  0.  0.]\n",
      " [ 0.  0.  0. ...  4.  0.  0.]\n",
      " [ 0.  0.  6. ...  6.  0.  0.]]\n",
      "********************************************************************************\n",
      "['pixel_0_0', 'pixel_0_1', 'pixel_0_2', 'pixel_0_3', 'pixel_0_4', 'pixel_0_5', 'pixel_0_6', 'pixel_0_7', 'pixel_1_0', 'pixel_1_1', 'pixel_1_2', 'pixel_1_3', 'pixel_1_4', 'pixel_1_5', 'pixel_1_6', 'pixel_1_7', 'pixel_2_0', 'pixel_2_1', 'pixel_2_2', 'pixel_2_3', 'pixel_2_4', 'pixel_2_5', 'pixel_2_6', 'pixel_2_7', 'pixel_3_0', 'pixel_3_1', 'pixel_3_2', 'pixel_3_3', 'pixel_3_4', 'pixel_3_5', 'pixel_3_6', 'pixel_3_7', 'pixel_4_0', 'pixel_4_1', 'pixel_4_2', 'pixel_4_3', 'pixel_4_4', 'pixel_4_5', 'pixel_4_6', 'pixel_4_7', 'pixel_5_0', 'pixel_5_1', 'pixel_5_2', 'pixel_5_3', 'pixel_5_4', 'pixel_5_5', 'pixel_5_6', 'pixel_5_7', 'pixel_6_0', 'pixel_6_1', 'pixel_6_2', 'pixel_6_3', 'pixel_6_4', 'pixel_6_5', 'pixel_6_6', 'pixel_6_7', 'pixel_7_0', 'pixel_7_1', 'pixel_7_2', 'pixel_7_3', 'pixel_7_4', 'pixel_7_5', 'pixel_7_6', 'pixel_7_7']\n",
      "********************************************************************************\n",
      "[0 1 2 3 4 5 6 7 8 9]\n",
      "********************************************************************************\n",
      "[0 1 2 3 4 0 1 2 3 4 0 1 2 3 4 0 0 4 1 3 1 0 0 2 2 2 0 1 2 3 3 3 3 4 4 1 0\n",
      " 2 2 0 0 1 3 2 1 4 3 1 3 1 4 3 1 4 0 3 1 4 4 2 2 2 4 4 0 0 1 2 3 4 0 1 2 3\n",
      " 4 0 1 2 3 4 0 0 4 1 3 1 0 0 2 2 2 0 1 2 3 3 3 3 4 4 1 0 2 2 0 0 1 3 2 1 3\n",
      " 1 3 1 4 3 1 4 0 3 1 4 4 2 2 2 4 4 0 0 1 2 3 4 0 1 2 3 4 0 1 2 3 4 0 0 4 1\n",
      " 3 1 0 0 2 2 2 0 1 2 3 3 3 3 4 4 1 0 2 2 0 0 1 3 2 1 4 3 1 3 1 4 3 1 4 0 3\n",
      " 1 4 4 2 2 2 4 4 0 3 0 1 2 3 4 0 1 2 3 4 0 1 2 3 4 0 0 4 1 3 1 0 0 2 2 2 0\n",
      " 1 2 3 3 3 3 4 4 1 0 2 2 0 0 1 3 2 1 4 3 1 3 1 4 3 1 4 0 3 1 4 4 2 2 2 4 4\n",
      " 0 0 1 2 3 4 0 1 2 3 4 0 1 2 3 4 0 0 4 1 3 1 0 0 2 2 2 0 1 2 3 3 3 3 4 4 1\n",
      " 0 2 2 0 0 1 3 2 1 4 3 1 3 1 4 3 1 4 0 3 1 4 4 2 2 2 4 4 0 0 1 2 3 4 0 1 2\n",
      " 3 4 0 1 2 3 4 0 0 4 1 3 1 0 0 2 2 2 0 1 2 3 3 3 3 4 4 1 0 2 2 0 0 1 3 2 1\n",
      " 4 3 1 3 1 4 3 1 4 0 3 1 4 4 2 2 2 4 4 0 0 1 2 3 4 0 1 2 3 4 0 1 2 3 4 0 0\n",
      " 4 1 3 1 0 0 2 2 2 0 1 2 3 3 3 3 4 4 1 0 2 2 0 0 1 3 2 1 4 3 1 3 1 4 3 1 4\n",
      " 0 3 1 4 4 2 2 2 4 4 0 1 2 3 4 0 1 2 3 4 0 1 2 3 4 0 0 4 1 3 1 2 2 0 1 2 3\n",
      " 3 3 3 4 4 1 0 2 2 0 0 1 3 2 1 4 3 1 3 1 4 3 1 4 0 3 1 4 4 2 2 2 4 4 0 0 1\n",
      " 2 3 4 0 1 2 3 4 0 1 2 3 4 0 0 4 1 3 1 0 0 2 0 1 2 3 3 3 3 4 4 1 0 2 2 0 0\n",
      " 1 3 2 1 4 3 1 3 1 4 3 1 4 0 3 1 4 4 2 2 2 4 4 0 0 1 2 3 4 0 1 2 3 4 0 1 2\n",
      " 3 4 0 0 4 1 3 1 0 0 2 2 2 0 1 2 3 3 3 3 4 4 1 0 2 2 0 0 1 3 2 1 4 3 1 3 1\n",
      " 4 3 1 4 0 3 1 4 4 2 2 2 4 4 0 0 1 2 3 4 0 1 2 3 4 0 1 2 3 4 0 0 4 1 3 1 0\n",
      " 0 2 2 2 0 1 2 3 3 3 3 4 4 1 0 2 2 0 0 1 3 2 1 4 3 1 3 1 4 3 1 4 0 3 1 4 4\n",
      " 2 2 2 4 4 0 0 1 2 3 4 0 1 2 3 4 0 1 2 3 4 0 0 4 1 3 1 0 0 2 2 2 0 1 2 3 3\n",
      " 3 3 4 4 1 0 2 2 0 0 1 3 2 1 4 3 1 3 1 4 3 1 4 0 3 1 4 4 2 2 2 4 4 0 0 1 2\n",
      " 3 4 0 1 2 3 4 0 1 2 3 4 0 0 4 1 3 1 0 0 2 2 2 0 1 2 3 3 3 3 4 4 1 0 2 0 1\n",
      " 3 2 1 4 3 1 3 1 4 3 1 4 0 3 1 4 4 2 2 4 4 0 0 1 2 3 4 0 1 2 3 4 0 1 2 3 4\n",
      " 0 0 4 1 3 1 0 0 2 2 2 0 1 2 3 3 3 3 4 4 1 0 2 2 0 0 1 3 2 1 4 3 1 3 1 4 3\n",
      " 1 4 0 3 1 4 4 2 2 2 4 4 0]\n",
      "********************************************************************************\n",
      "[2 1 0]\n",
      "********************************************************************************\n",
      "(901, 8, 8)\n",
      "********************************************************************************\n"
     ]
    },
    {
     "data": {
      "image/png": "[encoded data removed]",
      "text/plain": [
       "<Figure size 288x288 with 1 Axes>"
      ]
     },
     "metadata": {
      "needs_background": "light"
     },
     "output_type": "display_data"
    }
   ],
   "source": [
    "# 查看手写数字数据结构示例\n",
    "import matplotlib.pyplot as plt\n",
    "from sklearn.datasets import load_digits\n",
    "data=load_digits(n_class=5,return_X_y=False)\n",
    "print(data.target[0:10]) #查看第1-10个样本的目标值\n",
    "print(dir(data)) \n",
    "print('*'*80)\n",
    "print(data.DESCR) \n",
    "print('*'*80)\n",
    "print(data.data) \n",
    "print('*'*80)\n",
    "print(data.feature_names) \n",
    "print('*'*80)\n",
    "print(data.target_names) \n",
    "print('*'*80) \n",
    "print(data.target) \n",
    "print('*'*80)\n",
    "print(data.target[[2,20,200]]) #查看第3、21、201个样本的目标值\n",
    "print('*'*80)\n",
    "print(data.images.shape) #查看数字图形的形式\n",
    "print('*'*80)\n",
    "plt.matshow(data.images[1]) #查看数字图像\n",
    "plt.show()    "
   ]
  },
  {
   "cell_type": "markdown",
   "id": "6921e8b4",
   "metadata": {},
   "source": [
    "### 3.5股票数据简单分析"
   ]
  },
  {
   "cell_type": "markdown",
   "id": "e24ebc62",
   "metadata": {},
   "source": [
    "#### 3.5.1 抓取股票数据"
   ]
  },
  {
   "cell_type": "code",
   "execution_count": 9,
   "id": "0221f805",
   "metadata": {},
   "outputs": [
    {
     "name": "stdout",
     "output_type": "stream",
     "text": [
      "\n",
      "\n",
      "<!DOCTYPE html PUBLIC \"-//W3C//DTD XHTML 1.0 Transitional//EN\" \"http://www.w3.org/TR/xhtml1/DTD/xhtml1-transitional.dtd\">\n",
      "<html xmlns=\"http://www.w3.org/1999/xhtml\">\n",
      "<head>\n",
      "<meta http-equiv=\"Content-Type\" content=\"text/html; charset=gb2312\" />\n",
      "  <meta name=\"keywords\" content=\"沪深A股行情,沪深A股指数,沪深股市,沪深指数\" />\n",
      "<meta name=\"description\" content=\"证券之星行情中心为您提供最新、最全、最精的沪深A股实时行情和沪深A股指数。帮助您充分掌握沪深A股股市行情内容,追踪个股,为您的投资保驾护航!\" />\n",
      "<title>沪深A股-股票行情-行情中心-证券之星</title>\n",
      "<link rel=\"stylesheet\" type=\"text/css\" href=\"//j.ssajax.cn/css/quote2011/stockmarket/2014082701/common.css\" />\n",
      "\n",
      "<script type=\"text/javascript\" src=\"//j.ssajax.cn/js/quote2011/common/20120411/quotecommon.min.js\"></script>\n",
      "\n",
      "<script src=\"//j.ssajax.cn/js/quote2011/quotecommon/2014082702/sortpagetype.min.js\"  type=\"text/javascript\"></script>\n",
      "    <script src='//j.ssajax.cn/js/quote2011/jquery/20110711/jquery.js' type='text/javascript'></script>\n",
      "<base target=\"_blank\" />\n",
      "    <script type=\"text/javascript\">\n",
      "        $(function () {\n",
      "            $('#ad_1').html('<iframe id=\"ad_1\" src=\"//media.stockstar.com/api/?id=154&type=1\" frameborder=\"0\"  marginwidth=\"0\" marginheight=\"0\" width=\"778\" height=\"60\" scrolling=\"no\"></iframe>')\n",
      "        })\n",
      "    </script>\n",
      "</head>\n",
      "<body>\n",
      "<!-- 头部 begin  -->\n",
      "<div id=\"top\">\r\n",
      "  <div class=\"w\">\r\n",
      "    <div class=\"lf\"><a href=\"//www.stockstar.com\">首页</a><a href=\"//stock.stockstar.com/\">股票</a><a href=\"//quote.stockstar.com/\">行情</a><a href=\"//resource.stockstar.com/\">数据</a><a href=\"//stock.stockstar.com/report/\">研报</a><a href=\"//fund.stockstar.com/\">基金</a><a href=\"//bond.stockstar.com/\">债券</a><a href=\"//if.stockstar.com/\">期指</a><a href=\"//futures.stockstar.com/\">期货</a><a href=\"//option.stockstar.com/\">期权</a><a href=\"//gold.stockstar.com/\">黄金</a><a href=\"//forex.stockstar.com/\">外汇</a><a href=\"//bank.stockstar.com/\">银行</a>\r\n",
      "      </div>\r\n",
      "    <div class=\"login\">\r\n",
      "      <div class=\"icon home\"></div>\r\n",
      "      <div class=\"lf\"><a href=\"//my.stockstar.com/\">我的证券之星</a><span>[<a href=\"https://member.stockstar.com/login/log_in.aspx\">登录</a>]</span><span>[<a href=\"https://member.stockstar.com/login/registe.aspx\">注册</a>]</span>|<a href=\"javascript:void(0);return false;\" target=\"_self\" onclick=\"base.command.setHomepage(this,'//quote.stockstar.com');\">设为首页</a>|<a href=\"javascript:void(0);return false;\" target=\"_self\" onclick=\"base.command.setFavorite('证券之星-行情频道','//quote.stockstar.com');\">收藏本页</a></div>\r\n",
      "    </div>\r\n",
      "  </div>\r\n",
      "</div><div class=\"h_7\"></div>\r\n",
      "<div id=\"head\">\r\n",
      "  <div class=\"logo fl\"><a href=\"//www.stockstar.com\" title=\"证券之星\">证券之星</a></div>\r\n",
      "  <div id=\"ad_1\" class=\"ad fr\">     \r\n",
      "  </div>\r\n",
      "</div>\r\n",
      "<div class=\"h_7\"></div>\n",
      "<!-- 头部 end  -->\n",
      "<div class=\"h_10\"></div>\n",
      "<div class=\"top_nav\">\n",
      "      <div class=\"pageTitle\">\n",
      "        <h2 class=\"hqzx\">行情中心</h2>\n",
      "      </div>\n",
      "<div class=\"search\" id=\"divSearchBox\">\n",
      "            <!-- 股票搜索框-->\n",
      "            <!--<div class=\"ac_results\" style=\"z-index: 100; top: 23px; left: 0px;\"></div>\r\n",
      "<div class=\"searchText\">\r\n",
      "<input class=\"text\" autocomplete=\"off\" type=\"text\"\r\n",
      "     value=\"代码/名称/拼音\" onclick=\"AutoComplete.Clear('divSearchBox');\" onkeyup=\"AutoComplete.Show(event,'divSearchBox',0,'quotesearch');\" onblur=\"AutoComplete.OnBlur('divSearchBox');\" /></div>\r\n",
      "<input type=\"submit\" class=\"newbtn redshbtn\" value=\"查询\" onclick=\"AutoComplete.Submit('divSearchBox');\" />\r\n",
      "<div class=\"infomesage\" style=\"display:none;\"></div> \r\n",
      "<form action=\"http://quote.stockstar.com/stock/exdir.aspx\" method=\"post\">\r\n",
      "<input type=\"hidden\" name=\"code\" />\r\n",
      "<input type=\"hidden\" name=\"mk\" />\r\n",
      "<input type=\"hidden\" name=\"securtytype\" />\r\n",
      "<input type=\"hidden\" name=\"target\" value=\"quotesearch\" />\r\n",
      "</form>-->\r\n",
      "\r\n",
      "<!-- 2013-01-21 new modify add by xb.zhu-->\r\n",
      "<div class=\"searchText\"><input id=\"ajaxinput_q\" class=\"text\" type=\"text\" /></div>\r\n",
      "<input id=\"ajaxinputquery_q\" type=\"submit\" class=\"newbtn redshbtn\" value=\"查询\"/>\r\n",
      "<script src=\"//j.ssajax.cn/js/lib/StockSuggest.min.1.8.js?v=1.0\" type=\"text/javascript\"></script>\r\n",
      "<script type=\"text/javascript\">\r\n",
      "    new StockSuggest(\"ajaxinput_q\", {\r\n",
      "        width: \"193px\",           //下拉层宽度\r\n",
      "        autoSubmit: true,         //是否允许自动提交\r\n",
      "        className: 'searchText', //自定义样式\r\n",
      "        types: [101, 102, 103, 104, 201,105,106, 300, 401, 403, 405, 501, 502, 503, 504,801,802], //展示的证券类型\r\n",
      "        status: [1, 2, 3,4],\r\n",
      "        opacity: 1,                   //透明度\r\n",
      "        shortcutKey: true,                  //行情软件中的快捷键 \r\n",
      "        text: '代码/简称/拼音',       //默认文字\r\n",
      "        header: { show: true, columns: [\"简称\", \"类型\"] }, //显示字段\r\n",
      "        orderBy: 2,                     //指数代码优先\r\n",
      "        evt: 'ajaxinputquery_q'       //触发事件\r\n",
      "    });\r\n",
      "</script>\r\n",
      "\n",
      "        </div>\n",
      "</div>\n",
      "<div class=\"h_5\"></div>\n",
      "<div class=\"w\">\n",
      "  <!-- 左侧子导航 begin -->\n",
      "    \r\n",
      "<div class=\"sideleft\">\r\n",
      "    <div class=\"subMenuBox\">\r\n",
      "        <div class=\"list submenu1\">\r\n",
      "            <h3 class=\"hasChild cur curbg\" onclick=\"h3click(this)\">\r\n",
      "                <em class=\"cur\"></em><a href=\"/\"\r\n",
      "                    target=\"_self\">沪深市场</a></h3>\r\n",
      "            <div class=\"subNav\" style=\"display:block\">\r\n",
      "                <dl class=\"open\">\r\n",
      "                    <dt class=\"hasChild \"><em class=\"cur\" onclick=\"emclick(this)\"></em>\r\n",
      "                        <a href='/stock/ranklist_a.shtml' target=\"_self\">市场分类</a> </dt>\r\n",
      "                    <dd>\r\n",
      "                        <ul>\r\n",
      "                            <li class=\"curbg\"><a href=\"/stock/ranklist_a.shtml\" target=\"_self\">·A股市场</a></li>\r\n",
      "                            <li class=\"\"><a href=\"/stock/sha.shtml\" target=\"_self\">·沪市A股</a></li>\r\n",
      "                            <li class=\"\"><a href=\"/stock/sza.shtml\" target=\"_self\">·深市A股</a></li>\r\n",
      "                            <li class=\"\"><a href=\"/stock/ranklist_b.shtml\" target=\"_self\">·B股市场</a></li>\r\n",
      "                            <li class=\"\"><a href=\"/stock/shb.shtml\" target=\"_self\">·沪市B股</a></li>\r\n",
      "                            <li class=\"\"><a href=\"/stock/szb.shtml\" target=\"_self\">·深市B股</a></li>\r\n",
      "                     \r\n",
      "                            <li class=\"\"><a href=\"/stock/gem.shtml\" target=\"_self\">·创业板</a></li>\r\n",
      "                            <li class=\"\"><a href=\"/stock/star.shtml\" target=\"_self\">·科创板</a></li>\r\n",
      "                            \r\n",
      "                            <li class=\"\"><a href=\"/stock/ipo.shtml\" target=\"_self\">·新股</a></li>\r\n",
      "                            <li class=\"\"><a href=\"/stock/blockperformance_0_hsgshgtsh_0_0_1.html\" target=\"_self\">·沪港通(沪股通)</a></li>\r\n",
      "                            <li class=\"\"><a href=\"/stock/blockperformance_0_sgtsz_0_0_1.html\" target=\"_self\">·深港通(深股通)</a></li>\r\n",
      "                            <li class=\"\"><a href=\"/stock/shwarn.shtml\" target=\"_self\">·沪市风险警示板</a></li>\r\n",
      "                       \r\n",
      "                            <li class=\"\"><a href=\"/stock/third.shtml\" target=\"_self\">·三板</a></li>\r\n",
      "                            \r\n",
      "                        </ul>\r\n",
      "                    </dd>\r\n",
      "                </dl>\r\n",
      "                <dl class=\"\">\r\n",
      "                    <dt class=\"hasChild \"><em class=\"\" onclick=\"emclick(this)\"></em>\r\n",
      "                        <a href=\"/stock/industry.shtml\" target=\"_self\">标准行业</a> </dt>\r\n",
      "                    <dd>\r\n",
      "                        <ul>\r\n",
      "                            <li class=\"\"><a href=\"/stock/industry_A.shtml\" target=\"_self\">·农林牧渔业</a></li>\r\n",
      "                            <li class=\"\"><a href=\"/stock/industry_B.shtml\" target=\"_self\">·采矿业</a></li>\r\n",
      "                            <li class=\"\"><a href=\"/stock/industry_C.shtml\" target=\"_self\">·制造业</a></li>\r\n",
      "                            <li class=\"\"><a href=\"/stock/industry_D.shtml\" target=\"_self\">·水电煤</a></li>\r\n",
      "                            <li class=\"\"><a href=\"/stock/industry_E.shtml\" target=\"_self\">·建筑业</a></li>\r\n",
      "                            <li class=\"\"><a href=\"/stock/industry_F.shtml\" target=\"_self\">·批发和零售业</a></li>\r\n",
      "                            <li class=\"\"><a href=\"/stock/industry_G.shtml\" target=\"_self\">·交通运输仓储</a></li>\r\n",
      "                            <li class=\"\"><a href=\"/stock/industry_H.shtml\" target=\"_self\">·住宿和餐饮业</a></li>\r\n",
      "                            <li class=\"\"><a href=\"/stock/industry_I.shtml\" target=\"_self\">·信息技术业</a></li>\r\n",
      "                            <li class=\"\"><a href=\"/stock/industry_J.shtml\" target=\"_self\">·金融业</a></li>\r\n",
      "                            <li class=\"\"><a href=\"/stock/industry_K.shtml\" target=\"_self\">·房地产业</a></li>\r\n",
      "                            <li class=\"\"><a href=\"/stock/industry_L.shtml\" target=\"_self\">·租赁商务服务业</a></li>\r\n",
      "                            <li class=\"\"><a href=\"/stock/industry_M.shtml\" target=\"_self\">·科学技术服务业</a></li>\r\n",
      "                            <li class=\"\"><a href=\"/stock/industry_N.shtml\" target=\"_self\">·公共设施管理业</a></li>\r\n",
      "                            <li class=\"\"><a href=\"/stock/industry_O.shtml\" target=\"_self\">·居民服务修理业</a></li>\r\n",
      "                            <li class=\"\"><a href=\"/stock/industry_P.shtml\" target=\"_self\">·教育</a></li>\r\n",
      "                            <li class=\"\"><a href=\"/stock/industry_Q.shtml\" target=\"_self\">·卫生和社会工作</a></li>\r\n",
      "                            <li class=\"\"><a href=\"/stock/industry_R.shtml\" target=\"_self\">·文化体育娱乐业</a></li>\r\n",
      "                            <li class=\"\"><a href=\"/stock/industry_S.shtml\" target=\"_self\">·综合</a></li>\r\n",
      "                        </ul>\r\n",
      "                    </dd>\r\n",
      "                </dl>\r\n",
      "                <dl class=\"\">\r\n",
      "                    <dt class=\"\"><a href=\"/stock/blockrank_5.shtml\" target=\"_self\">\r\n",
      "                        概念板块</a> </dt>\r\n",
      "                </dl>\r\n",
      "                <dl class=\"\">\r\n",
      "                    <dt class=\"hasChild \"><em class=\"\" onclick=\"emclick(this)\"></em>\r\n",
      "                        <a href=\"/stock/blockrank_3.shtml\" target=\"_self\">地域板块</a> </dt>\r\n",
      "                    <dd>\r\n",
      "                        <ul>\r\n",
      "                            <li class=\"\"><a href=\"/stock/blockperformance_3_diyu110000.shtml\"\r\n",
      "                                target=\"_self\">·北京</a></li>\r\n",
      "                            <li class=\"\"><a href=\"/stock/blockperformance_3_diyu310000.shtml\"\r\n",
      "                                target=\"_self\">·上海</a></li>\r\n",
      "                            <li class=\"\"><a href=\"/stock/blockperformance_3_diyu120000.shtml\"\r\n",
      "                                target=\"_self\">·天津</a></li>\r\n",
      "                            <li class=\"\"><a href=\"/stock/blockperformance_3_diyu440000.shtml\"\r\n",
      "                                target=\"_self\">·广东</a></li>\r\n",
      "                            <li class=\"\"><a href=\"/stock/blockperformance_3_diyu500000.shtml\"\r\n",
      "                                target=\"_self\">·重庆</a></li>\r\n",
      "                            <li class=\"\"><a href=\"/stock/blockperformance_3_diyu230000.shtml\"\r\n",
      "                                target=\"_self\">·黑龙江</a></li>\r\n",
      "                            <li class=\"\"><a href=\"/stock/blockperformance_3_diyu220000.shtml\"\r\n",
      "                                target=\"_self\">·吉林</a></li>\r\n",
      "                            <li class=\"\"><a href=\"/stock/blockperformance_3_diyu210000.shtml\"\r\n",
      "                                target=\"_self\">·辽宁</a></li>\r\n",
      "                            <li class=\"\"><a href=\"/stock/blockperformance_3_diyu130000.shtml\"\r\n",
      "                                target=\"_self\">·河北</a></li>\r\n",
      "                            <li class=\"\"><a href=\"/stock/blockperformance_3_diyu410000.shtml\"\r\n",
      "                                target=\"_self\">·河南</a></li>\r\n",
      "                            <li class=\"\"><a href=\"/stock/blockperformance_3_diyu370000.shtml\"\r\n",
      "                                target=\"_self\">·山东</a></li>\r\n",
      "                            <li class=\"\"><a href=\"/stock/blockperformance_3_diyu140000.shtml\"\r\n",
      "                                target=\"_self\">·山西</a></li>\r\n",
      "                            <li class=\"\"><a href=\"/stock/blockperformance_3_diyu610000.shtml\"\r\n",
      "                                target=\"_self\">·陕西</a></li>\r\n",
      "                            <li class=\"\"><a href=\"/stock/blockperformance_3_diyu640000.shtml\"\r\n",
      "                                target=\"_self\">·宁夏</a></li>\r\n",
      "                            <li class=\"\"><a href=\"/stock/blockperformance_3_diyu620000.shtml\"\r\n",
      "                                target=\"_self\">·甘肃</a></li>\r\n",
      "                            <li class=\"\"><a href=\"/stock/blockperformance_3_diyu650000.shtml\"\r\n",
      "                                target=\"_self\">·新疆</a></li>\r\n",
      "                            <li class=\"\"><a href=\"/stock/blockperformance_3_diyu150000.shtml\"\r\n",
      "                                target=\"_self\">·内蒙古</a></li>\r\n",
      "                            <li class=\"\"><a href=\"/stock/blockperformance_3_diyu540000.shtml\"\r\n",
      "                                target=\"_self\">·西藏</a></li>\r\n",
      "                            <li class=\"\"><a href=\"/stock/blockperformance_3_diyu510000.shtml\"\r\n",
      "                                target=\"_self\">·四川</a></li>\r\n",
      "                            <li class=\"\"><a href=\"/stock/blockperformance_3_diyu530000.shtml\"\r\n",
      "                                target=\"_self\">·云南</a></li>\r\n",
      "                            <li class=\"\"><a href=\"/stock/blockperformance_3_diyu520000.shtml\"\r\n",
      "                                target=\"_self\">·贵州</a></li>\r\n",
      "                            <li class=\"\"><a href=\"/stock/blockperformance_3_diyu450000.shtml\"\r\n",
      "                                target=\"_self\">·广西</a></li>\r\n",
      "                            <li class=\"\"><a href=\"/stock/blockperformance_3_diyu460000.shtml\"\r\n",
      "                                target=\"_self\">·海南</a></li>\r\n",
      "                            <li class=\"\"><a href=\"/stock/blockperformance_3_diyu420000.shtml\"\r\n",
      "                                target=\"_self\">·湖北</a></li>\r\n",
      "                            <li class=\"\"><a href=\"/stock/blockperformance_3_diyu430000.shtml\"\r\n",
      "                                target=\"_self\">·湖南</a></li>\r\n",
      "                            <li class=\"\"><a href=\"/stock/blockperformance_3_diyu360000.shtml\"\r\n",
      "                                target=\"_self\">·江西</a></li>\r\n",
      "                            <li class=\"\"><a href=\"/stock/blockperformance_3_diyu320000.shtml\"\r\n",
      "                                target=\"_self\">·江苏</a></li>\r\n",
      "                            <li class=\"\"><a href=\"/stock/blockperformance_3_diyu330000.shtml\"\r\n",
      "                                target=\"_self\">·浙江</a></li>\r\n",
      "                            <li class=\"\"><a href=\"/stock/blockperformance_3_diyu340000.shtml\"\r\n",
      "                                target=\"_self\">·安徽</a></li>\r\n",
      "                            <li class=\"\"><a href=\"/stock/blockperformance_3_diyu350000.shtml\"\r\n",
      "                                target=\"_self\">·福建</a></li>\r\n",
      "                            <li class=\"\"><a href=\"/stock/blockperformance_3_diyu630000.shtml\"\r\n",
      "                                target=\"_self\">·青海</a></li>\r\n",
      "                        </ul>\r\n",
      "                    </dd>\r\n",
      "                </dl>\r\n",
      "                \r\n",
      "                \r\n",
      "            </div>\r\n",
      "        </div>\r\n",
      "        \r\n",
      "        <div class=\"list submenu2\">\r\n",
      "            <h3 class=\"hasChild cur\" onclick=\"h3click(this)\">\r\n",
      "                <em id=\"specialem\" class=\"\"></em><a href=\"/global/\" target=\"_self\">全球</a></h3>\r\n",
      "            <div class=\"subNav\" style=\"display:none\">\r\n",
      "                <dl class=\"\">\r\n",
      "                    <dt class=\"\"><a href=\"/global/\" target=\"_self\">全球股市</a>\r\n",
      "                    </dt>\r\n",
      "                </dl>\r\n",
      "                <dl class=\"\">\r\n",
      "                    <dt class=\"\"><a href=\"/global/chinastock.htm\" target=\"_self\">中国概念股</a>\r\n",
      "                    </dt>\r\n",
      "                </dl>\r\n",
      "            </div>\r\n",
      "        </div>\r\n",
      "        \r\n",
      "\r\n",
      "        <div class=\"list submenu3\">\r\n",
      "            <h3 class=\"hasChild cur\" onclick=\"h3click(this)\">\r\n",
      "                <em class=\"\"></em><a href=\"/fund/\" target=\"_self\">基金</a></h3>\r\n",
      "            <div class=\"subNav\" style=\"display:none\">\r\n",
      "                <dl class=\"\">\r\n",
      "                    <dt class=\"hasChild \"><em class=\"\" onclick=\"emclick(this)\"></em>\r\n",
      "                        <a href=\"/fund/open.shtml\" target=\"_self\">开放式基金</a> </dt>\r\n",
      "                    <dd>\r\n",
      "                        <ul>\r\n",
      "                            <li class=\"\"><a href=\"/fund/stock.shtml\" target=\"_self\">·股票型</a></li>\r\n",
      "                            <li class=\"\"><a href=\"/fund/mixed.shtml\" target=\"_self\">·混合型</a></li>\r\n",
      "                            <li class=\"\"><a href=\"/fund/bond.shtml\" target=\"_self\">·债券型</a></li>\r\n",
      "                            <li class=\"\"><a href=\"/fund/etf.shtml\" target=\"_self\">·ETF</a></li>\r\n",
      "                            <li class=\"\"><a href=\"/fund/lof.shtml\" target=\"_self\">·LOF</a></li>\r\n",
      "                            <li class=\"\"><a href=\"/fund/qdii.shtml\" target=\"_self\">·QDII</a></li>\r\n",
      "                            <li class=\"\"><a href=\"/fund/currency.shtml\" target=\"_self\">·货币型</a></li>\r\n",
      "                        </ul>\r\n",
      "                    </dd>\r\n",
      "                </dl>\r\n",
      "                <dl class=\"\">\r\n",
      "                    <dt class=\"hasChild \"><em class=\"\" onclick=\"emclick(this)\"></em>\r\n",
      "                        <a href=\"/fund/closed.shtml\" target=\"_self\">封闭式基金</a> </dt>\r\n",
      "                    <dd>\r\n",
      "                        <ul>\r\n",
      "                            <li class=\"\"><a href=\"/fund/closed.shtml\" target=\"_self\">·传统封基</a></li>\r\n",
      "                            <li class=\"\"><a href=\"/fund/innovation.shtml\" target=\"_self\">·创新封基</a></li>\r\n",
      "                        </ul>\r\n",
      "                    </dd>\r\n",
      "                </dl>\r\n",
      "                \r\n",
      "            </div>\r\n",
      "        </div>\r\n",
      "\r\n",
      "        <!--<div class=\"list submenu4\">\r\n",
      "            <h3 class=\"hasChild cur\">\r\n",
      "                <em class=\"\"></em><a href=\"/futures/ff.htm\" target=\"_self\">金融期货</a></h3>\r\n",
      "            <div class=\"subNav\" style=\"display:none\">\r\n",
      "                <dl class=\"\">\r\n",
      "                    <dt class=\"hasChild \"><em class=\"\"></em><a href=\"/futures/if.htm\" target=\"_self\">股指期货</a></dt>\r\n",
      "                    <dd>\r\n",
      "                        <ul>\r\n",
      "                            <li class=\"\"><a href=\"/futures/ifnational.htm\" target=\"_self\">·国内期指</a></li>\r\n",
      "                            <li class=\"\"><a href=\"/futures/ifglobal.htm\" target=\"_self\">·国际期指</a></li>\r\n",
      "                        </ul>\r\n",
      "                    </dd>\r\n",
      "                </dl>\r\n",
      "                <dl class=\"\">\r\n",
      "                    <dt class=\"\"><a href=\"/futures/bf.htm\" target=\"_self\">债券期货</a></dt>\r\n",
      "                </dl>\r\n",
      "            </div>\r\n",
      "        </div>-->\r\n",
      "        <div class=\"list submenu9\"> <!--20130225新添加调整，放置在最后 -->\r\n",
      "        <h3 class=\"hasChild cur\" onclick=\"h3click(this)\"> \r\n",
      "            \r\n",
      "            <em class=\"\"></em><a href=\"/futures/\" target=\"_self\">期货</a></h3>\r\n",
      "        <div class=\"subNav\" style=\"display:none\">\r\n",
      " \r\n",
      "         <dl class=\"\">\r\n",
      "            <dt class=\"hasChild \"><em class=\"\" onclick=\"emclick(this)\"></em> <a href=\"/futures/futures.shtml\" target=\"_self\">国内期货</a> </dt>\r\n",
      "             \r\n",
      "            <dd>\r\n",
      "              <ul>\r\n",
      "                <li class=\"\"><a href=\"/futures/shfe.html\" target=\"_self\">·上海期货交易所</a> </li>\r\n",
      "                <li class=\"\"><a href=\"/futures/dce.html\" target=\"_self\">·大连商品交易所</a> </li>\r\n",
      "                <li class=\"\"><a href=\"/futures/czce.html\" target=\"_self\">·郑州商品交易所</a> </li>\r\n",
      "              </ul>\r\n",
      "            </dd>\r\n",
      "          </dl>\r\n",
      "           <dl class=\"\">\r\n",
      "            <dt class=\"hasChild \"><em class=\"\" onclick=\"emclick(this)\"></em> <a href=\"/futures/futuresglobal.shtml\" target=\"_self\">国际期货</a> </dt>\r\n",
      "            <dd>\r\n",
      "              <ul>\r\n",
      "                 <li class=\"\"><a href=\"/futures/lme.html\" target=\"_self\">·伦敦金属交易所</a> </li>\r\n",
      "                <li class=\"\"><a href=\"/futures/ipe.html\" target=\"_self\">·伦敦石油交易所</a> </li>\r\n",
      "                <li class=\"\"><a href=\"/futures/cbot.html\" target=\"_self\">·芝加哥期货交易所</a> </li>\r\n",
      "                <!--<li class=\"\"><a href=\"/futures/cme.html\" target=\"_self\">·芝加哥商业交易所</a></li>-->\r\n",
      "                <li class=\"\"><a href=\"/futures/nybot.html\" target=\"_self\">·纽约期货交易所</a></li>\r\n",
      "                <li class=\"\"><a href=\"/futures/nymex.html\" target=\"_self\">·纽约商品交易所</a></li>\r\n",
      "                <li class=\"\"><a href=\"/futures/tocom.html\" target=\"_self\">·东京工业品交易所</a></li>\r\n",
      "              </ul>\r\n",
      "            </dd>\r\n",
      "          </dl>\r\n",
      "        </div>\r\n",
      "      </div>\r\n",
      "        <!-- 现货市场 -->\r\n",
      "\t\t\r\n",
      "\t\t<!-- end 现货市场 -->\r\n",
      "        <div class=\"list submenu6\">\r\n",
      "            <h3 class=\"hasChild cur\" onclick=\"h3click(this)\">\r\n",
      "                <em class=\"\"></em><a href=\"/bond/\" target=\"_self\">债券</a></h3>\r\n",
      "            <div class=\"subNav\" style=\"display:none\">\r\n",
      "                <dl class=\"\">\r\n",
      "                    <dt class=\"\"><a href=\"/bond/national.shtml\" target=\"_self\">国债</a>\r\n",
      "                    </dt>\r\n",
      "                </dl>\r\n",
      "                <dl class=\"\">\r\n",
      "                    <dt class=\"\"><a href=\"/bond/corp.shtml\" target=\"_self\">企债</a>\r\n",
      "                    </dt>\r\n",
      "                </dl>\r\n",
      "                <dl class=\"\">\r\n",
      "                    <dt class=\"\"><a href=\"/bond/convertible.shtml\" target=\"_self\">\r\n",
      "                        可转债</a> </dt>\r\n",
      "                </dl>\r\n",
      "                \r\n",
      "\r\n",
      "                <dl class=\"\">\r\n",
      "                    <dt class=\"\"> \r\n",
      "                        <a href=\"/bond/bankrepurchase.shtml\" target=\"_self\">银行间</a> </dt>\r\n",
      "                    \r\n",
      "                </dl>\r\n",
      "            </div>\r\n",
      "        </div>\r\n",
      "        <div class=\"list submenu7\">\r\n",
      "            <h3 class=\"hasChild cur\" onclick=\"h3click(this)\">\r\n",
      "                <em class=\"\"></em><a href=\"/forex/\" target=\"_self\">外汇</a></h3>\r\n",
      "            <div class=\"subNav\" style=\"display:none\">\r\n",
      "                <dl class=\"\">\r\n",
      "                    <dt class=\"\"><a href=\"/forex/all.shtml\" target=\"_self\">所有汇率</a>\r\n",
      "                    </dt>\r\n",
      "                </dl>\r\n",
      "                <dl class=\"\">\r\n",
      "                    <dt class=\"\"><a href=\"/forex/basic.shtml\" target=\"_self\">基本汇率</a>\r\n",
      "                    </dt>\r\n",
      "                </dl>\r\n",
      "                <dl class=\"\">\r\n",
      "                    <dt class=\"\"><a href=\"/forex/cross.shtml\" target=\"_self\">交叉汇率</a>\r\n",
      "                    </dt>\r\n",
      "                </dl>\r\n",
      "            </div>\r\n",
      "        </div>\r\n",
      "\r\n",
      "        \r\n",
      "           <div class=\"list submenu8\">\r\n",
      "\t\t\t<h3 class=\"cur\" onclick=\"h3click(this)\">\r\n",
      "\t\t\t\t<em class=\"\"></em><a target=\"_self\" href=\"/gold/\">黄金</a>\r\n",
      "\t\t\t</h3>\r\n",
      "\r\n",
      "\t\t\t<div class=\"subNav\" style=\"display:none\">\r\n",
      "                <dl class=\"\">\r\n",
      "                    <dt class=\"\"><a href=\"/gold/globalgold.shtml\" target=\"_self\">国际贵金属</a>\r\n",
      "                    </dt>\r\n",
      "                </dl>\r\n",
      "                \r\n",
      "                <dl class=''>\r\n",
      "\t\t\t\t\t<dt class=\"hasChild \"><em class=\"\" onclick=\"emclick(this)\"></em>\r\n",
      "\t\t\t\t\t\t<a href=\"/gold/SHFE.shtml\" target=\"_self\">国内贵金属</a>\r\n",
      "\t\t\t\t\t</dt>\r\n",
      "\t\t\t\t\t<dd>\r\n",
      "\t\t\t\t\t\t<ul>\r\n",
      "\t\t\t\t\t\t\t<li class=\"\"><a href=\"/gold/SHFE.shtml\" target=\"_self\">·上海贵金属期货</a></li>\r\n",
      "\t\t\t\t\t\t\t<li class=\"\"><a href=\"/gold/SGE.shtml\" target=\"_self\">·上海贵金属现货</a></li>\r\n",
      "\t\t\t\t\t\t</ul>\r\n",
      "\t\t\t\t\t</dd>\r\n",
      "\t\t\t\t</dl>\r\n",
      "                \r\n",
      "                <dl class=''>\r\n",
      "\t\t\t\t\t<dt class=\"hasChild \"><em class=\"\" onclick=\"emclick(this)\"></em>\r\n",
      "\t\t\t\t\t\t<a href=\"/gold/nationalcurrency.shtml\" target=\"_self\">金条金币报价</a>\r\n",
      "\t\t\t\t\t</dt>\r\n",
      "\t\t\t\t\t<dd>\r\n",
      "\t\t\t\t\t\t<ul>\r\n",
      "\t\t\t\t\t\t\t<li class=\"\"><a href=\"/gold/nationalcurrency.shtml\" target=\"_self\">·国内金条金币报价</a></li>\r\n",
      "\t\t\t\t\t\t\t<li class=\"\"><a href=\"/gold/globalcurrency.shtml\" target=\"_self\">·国际金条金币报价</a></li>\r\n",
      "\t\t\t\t\t\t</ul>\r\n",
      "\t\t\t\t\t</dd>\r\n",
      "\t\t\t\t</dl>\r\n",
      "                <dl class=\"\">\r\n",
      "                    <dt class=\"\"><a href=\"/gold/salegold.shtml\" target=\"_self\">零售金商报价</a>\r\n",
      "                    </dt>\r\n",
      "                </dl>\r\n",
      "            </div>\r\n",
      "        </div>\r\n",
      "        \r\n",
      "\r\n",
      "         \r\n",
      "    </div>\r\n",
      "    <div class=\"h_10\">\r\n",
      "    </div>\r\n",
      "    <div class=\"bom_bor skinBox contactBox\">\r\n",
      "        <div class=\"con\">\r\n",
      "            <p class=\"phoneNum\">\r\n",
      "                <strong>数据合作电话：</strong></p>\r\n",
      "            <p>\r\n",
      "                021-50819999-6173\r\n",
      "            </p>\r\n",
      "            <p class=\"email\">\r\n",
      "                <strong>意见反馈：</strong></p>\r\n",
      "            <p>\r\n",
      "                sslink@stockstar.com</p>\r\n",
      "        </div>\r\n",
      "    </div>\r\n",
      "    <div class=\"h_8\">\r\n",
      "    </div>\r\n",
      "    <!--AdForward Begin:-->\r\n",
      "    <div id=\"ad150250\"><a href=\"//info.stockstar.com/hb/wechat/matrix.html\"><img width=\"150\" height=\"250\" src=\"//i.ssimg.cn/ssupload/2019/08/05/fd975a83a6eb46ae90a97a3ae117ef78.png\" alt=\"微信矩阵\"/></a></div>\r\n",
      "    <!--AdForward End-->\r\n",
      "</div>\r\n",
      "<script type=\"text/javascript\">\r\n",
      "    function h3click(evt) {\r\n",
      "        var $this = $(evt);\r\n",
      "        if ($this.is('.curbg') == true) {\r\n",
      "            $this.parent().children('div').hide();\r\n",
      "            $this.removeClass('curbg');\r\n",
      "            $this.children('em').removeClass('cur')\r\n",
      "        }\r\n",
      "        else {\r\n",
      "            $this.addClass('cur');\r\n",
      "            $this.addClass('curbg');\r\n",
      "            $this.children('em').addClass('cur')\r\n",
      "            $this.parent().children('div').show();\r\n",
      "        }\r\n",
      "    }\r\n",
      "    function emclick(evt) {\r\n",
      "        var $this = $(evt);\r\n",
      "        if ($this.is('.cur') == true) {\r\n",
      "            $this.parent().parent().removeClass('open');\r\n",
      "            $this.removeClass('cur');\r\n",
      "        }\r\n",
      "        else {\r\n",
      "            $this.addClass('cur');\r\n",
      "            $this.parent().parent().addClass('open');\r\n",
      "        }\r\n",
      "    }\r\n",
      "</script>\r\n",
      "\r\n",
      "\r\n",
      "\n",
      "  <!-- 左侧子导航 end -->\n",
      "  <!-- 右侧内容 begin -->\n",
      "    <div class=\"sideRight\">\n",
      "    <div class=\"nva_menu\">\n",
      "      <h4><a href=\"//quote.stockstar.com/\">返回行情中心</a></h4>\n",
      "      <h3>当前位置：<a href=\"//www.stockstar.com/\">首页</a>&nbsp;-&nbsp;<a href=\"//quote.stockstar.com/\">行情</a>&nbsp;-&nbsp;<a href=\"//quote.stockstar.com/\">沪深市场</a>&nbsp;-&nbsp;</h3>\n",
      "      <h1>沪深A股</h1>\n",
      "    </div>\n",
      "    <div class=\"clear\"></div>\n",
      "    <div class=\"box box02\">\n",
      "      <div class=\"bg_box\" id=\"table1\">\n",
      "        <div class=\"con\">\n",
      "          <h2><span></span>沪深A股</h2>\n",
      "          <table width=\"100%\" border=\"0\" cellpadding=\"0\" cellspacing=\"0\" class=\"trHover\" id=\"table1\">\n",
      "            <thead class=\"tbody_right\">\n",
      "              <tr>\n",
      "                  <td width=\"6%\" class=\"align_center\">\n",
      "                                        <a href=\"\" sort=\"1\">代码</a>\n",
      "                                    </td>\n",
      "                                    <td width=\"24%\" class=\"align_center\">简称\n",
      "                                    </td>\n",
      "                                    <td width=\"17.5%\" class=\"align_right\">\n",
      "                                        <a href=\"\" sort=\"2\">流通市值(万元)</a>\n",
      "                                    </td>\n",
      "                                    <td width=\"17.5%\" class=\"align_right\">\n",
      "                                        <a href=\"\" sort=\"3\">总市值(万元)</a>\n",
      "                                    </td>\n",
      "                                    <td width=\"17.5%\" class=\"align_right\">\n",
      "                                        <a href=\"\" sort=\"4\">流通股本(万元)</a>\n",
      "                                    </td>\n",
      "                                    <td width=\"17.5%\" class=\"align_right\">\n",
      "                                        <a href=\"\" sort=\"5\">总股本(万元)</a>\n",
      "                                    </td>\n",
      "                \n",
      "              </tr>\n",
      "            </thead>\n",
      "            <tbody class=\"tbody_right\" id=\"datalist\">\n",
      "             <tr><td class=\"align_center \"><a href=\"//stock.quote.stockstar.com/600519.shtml\">600519</a></td><td class=\"align_center\"><a href=\"//stock.quote.stockstar.com/600519.shtml\">贵州茅台</a></td><td class=\"align_right \">224962414.42</td><td class=\"align_right select\">224962414.42</td><td class=\"align_right \">125619.78</td><td class=\"align_right \">125619.78</td></tr><tr><td class=\"align_center \"><a href=\"//stock.quote.stockstar.com/601398.shtml\">601398</a></td><td class=\"align_center\"><a href=\"//stock.quote.stockstar.com/601398.shtml\">工商银行</a></td><td class=\"align_right \">127256964.32</td><td class=\"align_right select\">168223753.35</td><td class=\"align_right \">26961221.25</td><td class=\"align_right \">35640625.71</td></tr><tr><td class=\"align_center \"><a href=\"//stock.quote.stockstar.com/601939.shtml\">601939</a></td><td class=\"align_center\"><a href=\"//stock.quote.stockstar.com/601939.shtml\">建设银行</a></td><td class=\"align_right \">5852131.14</td><td class=\"align_right select\">152506696.27</td><td class=\"align_right \">959365.76</td><td class=\"align_right \">25001097.75</td></tr><tr><td class=\"align_center \"><a href=\"//stock.quote.stockstar.com/600941.shtml\">600941</a></td><td class=\"align_center\"><a href=\"//stock.quote.stockstar.com/600941.shtml\">中国移动</a></td><td class=\"align_right \">2629123.80</td><td class=\"align_right select\">140204232.05</td><td class=\"align_right \">40059.79</td><td class=\"align_right \">2136282.68</td></tr><tr><td class=\"align_center \"><a href=\"//stock.quote.stockstar.com/600036.shtml\">600036</a></td><td class=\"align_center\"><a href=\"//stock.quote.stockstar.com/600036.shtml\">招商银行</a></td><td class=\"align_right \">89508989.88</td><td class=\"align_right select\">109428910.06</td><td class=\"align_right \">2062894.44</td><td class=\"align_right \">2521984.56</td></tr><tr><td class=\"align_center \"><a href=\"//stock.quote.stockstar.com/601288.shtml\">601288</a></td><td class=\"align_center\"><a href=\"//stock.quote.stockstar.com/601288.shtml\">农业银行</a></td><td class=\"align_right \">90982499.62</td><td class=\"align_right select\">106394842.30</td><td class=\"align_right \">29928453.82</td><td class=\"align_right \">34998303.39</td></tr><tr><td class=\"align_center \"><a href=\"//stock.quote.stockstar.com/300750.shtml\">300750</a></td><td class=\"align_center\"><a href=\"//stock.quote.stockstar.com/300750.shtml\">宁德时代</a></td><td class=\"align_right \">91672808.60</td><td class=\"align_right select\">105121389.12</td><td class=\"align_right \">203265.65</td><td class=\"align_right \">233085.12</td></tr><tr><td class=\"align_center \"><a href=\"//stock.quote.stockstar.com/601857.shtml\">601857</a></td><td class=\"align_center\"><a href=\"//stock.quote.stockstar.com/601857.shtml\">中国石油</a></td><td class=\"align_right \">87437922.02</td><td class=\"align_right select\">98831328.02</td><td class=\"align_right \">16192207.78</td><td class=\"align_right \">18302097.78</td></tr><tr><td class=\"align_center \"><a href=\"//stock.quote.stockstar.com/601988.shtml\">601988</a></td><td class=\"align_center\"><a href=\"//stock.quote.stockstar.com/601988.shtml\">中国银行</a></td><td class=\"align_right \">68077261.30</td><td class=\"align_right select\">95087256.57</td><td class=\"align_right \">21076551.48</td><td class=\"align_right \">29438779.12</td></tr><tr><td class=\"align_center \"><a href=\"//stock.quote.stockstar.com/601318.shtml\">601318</a></td><td class=\"align_center\"><a href=\"//stock.quote.stockstar.com/601318.shtml\">中国平安</a></td><td class=\"align_right \">50913523.14</td><td class=\"align_right select\">85917134.63</td><td class=\"align_right \">1083266.45</td><td class=\"align_right \">1828024.14</td></tr><tr><td class=\"align_center \"><a href=\"//stock.quote.stockstar.com/601628.shtml\">601628</a></td><td class=\"align_center\"><a href=\"//stock.quote.stockstar.com/601628.shtml\">中国人寿</a></td><td class=\"align_right \">54516001.54</td><td class=\"align_right select\">73996997.69</td><td class=\"align_right \">2082353.00</td><td class=\"align_right \">2826470.50</td></tr><tr><td class=\"align_center \"><a href=\"//stock.quote.stockstar.com/002594.shtml\">002594</a></td><td class=\"align_center\"><a href=\"//stock.quote.stockstar.com/002594.shtml\">比亚迪</a></td><td class=\"align_right \">27617442.40</td><td class=\"align_right select\">69605425.66</td><td class=\"align_right \">115505.82</td><td class=\"align_right \">291114.29</td></tr><tr><td class=\"align_center \"><a href=\"//stock.quote.stockstar.com/000858.shtml\">000858</a></td><td class=\"align_center\"><a href=\"//stock.quote.stockstar.com/000858.shtml\">五 粮 液</a></td><td class=\"align_right \">64891053.85</td><td class=\"align_right select\">64892722.63</td><td class=\"align_right \">388150.82</td><td class=\"align_right \">388160.80</td></tr><tr><td class=\"align_center \"><a href=\"//stock.quote.stockstar.com/601088.shtml\">601088</a></td><td class=\"align_center\"><a href=\"//stock.quote.stockstar.com/601088.shtml\">中国神华</a></td><td class=\"align_right \">49423640.75</td><td class=\"align_right select\">59545954.31</td><td class=\"align_right \">1649103.80</td><td class=\"align_right \">1986852.00</td></tr><tr><td class=\"align_center \"><a href=\"//stock.quote.stockstar.com/600900.shtml\">600900</a></td><td class=\"align_center\"><a href=\"//stock.quote.stockstar.com/600900.shtml\">长江电力</a></td><td class=\"align_right \">52192566.93</td><td class=\"align_right select\">52192566.93</td><td class=\"align_right \">2274185.92</td><td class=\"align_right \">2274185.92</td></tr><tr><td class=\"align_center \"><a href=\"//stock.quote.stockstar.com/600028.shtml\">600028</a></td><td class=\"align_center\"><a href=\"//stock.quote.stockstar.com/600028.shtml\">中国石化</a></td><td class=\"align_right \">40994283.78</td><td class=\"align_right select\">51939548.94</td><td class=\"align_right \">9555777.10</td><td class=\"align_right \">12107120.96</td></tr><tr><td class=\"align_center \"><a href=\"//stock.quote.stockstar.com/601658.shtml\">601658</a></td><td class=\"align_center\"><a href=\"//stock.quote.stockstar.com/601658.shtml\">邮储银行</a></td><td class=\"align_right \">6178404.86</td><td class=\"align_right select\">50626414.25</td><td class=\"align_right \">1127446.14</td><td class=\"align_right \">9238396.76</td></tr><tr><td class=\"align_center \"><a href=\"//stock.quote.stockstar.com/601166.shtml\">601166</a></td><td class=\"align_center\"><a href=\"//stock.quote.stockstar.com/601166.shtml\">兴业银行</a></td><td class=\"align_right \">45038445.55</td><td class=\"align_right select\">45038445.55</td><td class=\"align_right \">2077419.08</td><td class=\"align_right \">2077419.08</td></tr><tr><td class=\"align_center \"><a href=\"//stock.quote.stockstar.com/300760.shtml\">300760</a></td><td class=\"align_center\"><a href=\"//stock.quote.stockstar.com/300760.shtml\">迈瑞医疗</a></td><td class=\"align_right \">40718599.03</td><td class=\"align_right select\">40718631.78</td><td class=\"align_right \">121244.04</td><td class=\"align_right \">121244.14</td></tr><tr><td class=\"align_center \"><a href=\"//stock.quote.stockstar.com/000333.shtml\">000333</a></td><td class=\"align_center\"><a href=\"//stock.quote.stockstar.com/000333.shtml\">美的集团</a></td><td class=\"align_right \">39370504.53</td><td class=\"align_right select\">40271583.73</td><td class=\"align_right \">683871.89</td><td class=\"align_right \">699523.78</td></tr><tr><td class=\"align_center \"><a href=\"//stock.quote.stockstar.com/002415.shtml\">002415</a></td><td class=\"align_center\"><a href=\"//stock.quote.stockstar.com/002415.shtml\">海康威视</a></td><td class=\"align_right \">38161845.88</td><td class=\"align_right select\">39374213.19</td><td class=\"align_right \">914275.18</td><td class=\"align_right \">943320.87</td></tr><tr><td class=\"align_center \"><a href=\"//stock.quote.stockstar.com/603288.shtml\">603288</a></td><td class=\"align_center\"><a href=\"//stock.quote.stockstar.com/603288.shtml\">海天味业</a></td><td class=\"align_right \">38119601.76</td><td class=\"align_right select\">38119601.76</td><td class=\"align_right \">421257.62</td><td class=\"align_right \">421257.62</td></tr><tr><td class=\"align_center \"><a href=\"//stock.quote.stockstar.com/601328.shtml\">601328</a></td><td class=\"align_center\"><a href=\"//stock.quote.stockstar.com/601328.shtml\">交通银行</a></td><td class=\"align_right \">19900188.06</td><td class=\"align_right select\">37651202.41</td><td class=\"align_right \">3925086.40</td><td class=\"align_right \">7426272.66</td></tr><tr><td class=\"align_center \"><a href=\"//stock.quote.stockstar.com/601012.shtml\">601012</a></td><td class=\"align_center\"><a href=\"//stock.quote.stockstar.com/601012.shtml\">隆基股份</a></td><td class=\"align_right \">37456803.35</td><td class=\"align_right select\">37457632.74</td><td class=\"align_right \">541283.29</td><td class=\"align_right \">541295.27</td></tr><tr><td class=\"align_center \"><a href=\"//stock.quote.stockstar.com/601728.shtml\">601728</a></td><td class=\"align_center\"><a href=\"//stock.quote.stockstar.com/601728.shtml\">中国电信</a></td><td class=\"align_right \">2140447.88</td><td class=\"align_right select\">36328334.06</td><td class=\"align_right \">539155.64</td><td class=\"align_right \">9150713.87</td></tr><tr><td class=\"align_center \"><a href=\"//stock.quote.stockstar.com/601888.shtml\">601888</a></td><td class=\"align_center\"><a href=\"//stock.quote.stockstar.com/601888.shtml\">中国中免</a></td><td class=\"align_right \">35316377.64</td><td class=\"align_right select\">35316377.64</td><td class=\"align_right \">195247.55</td><td class=\"align_right \">195247.55</td></tr><tr><td class=\"align_center \"><a href=\"//stock.quote.stockstar.com/688981.shtml\">688981</a></td><td class=\"align_center\"><a href=\"//stock.quote.stockstar.com/688981.shtml\">中芯国际</a></td><td class=\"align_right \">8174565.90</td><td class=\"align_right select\">34551173.17</td><td class=\"align_right \">187103.82</td><td class=\"align_right \">790825.66</td></tr><tr><td class=\"align_center \"><a href=\"//stock.quote.stockstar.com/600809.shtml\">600809</a></td><td class=\"align_center\"><a href=\"//stock.quote.stockstar.com/600809.shtml\">山西汾酒</a></td><td class=\"align_right \">32110803.88</td><td class=\"align_right select\">32236641.82</td><td class=\"align_right \">121535.16</td><td class=\"align_right \">122011.44</td></tr><tr><td class=\"align_center \"><a href=\"//stock.quote.stockstar.com/603259.shtml\">603259</a></td><td class=\"align_center\"><a href=\"//stock.quote.stockstar.com/603259.shtml\">药明康德</a></td><td class=\"align_right \">27280802.57</td><td class=\"align_right select\">31656789.24</td><td class=\"align_right \">254722.71</td><td class=\"align_right \">295581.60</td></tr><tr><td class=\"align_center \"><a href=\"//stock.quote.stockstar.com/601899.shtml\">601899</a></td><td class=\"align_center\"><a href=\"//stock.quote.stockstar.com/601899.shtml\">紫金矿业</a></td><td class=\"align_right \">24634607.33</td><td class=\"align_right select\">31647833.31</td><td class=\"align_right \">2049468.16</td><td class=\"align_right \">2632931.22</td></tr>\n",
      "            </tbody>\n",
      "              <tr class=\"noSelect no_trHover\">\n",
      "                <td colspan=\"16\" class=\"time notSelect\"><span class=\"fl\" id=\"datatime\">数据时间：2022-04-18</span>\n",
      "                    <div class=\"fenye fr\" id=\"divPageControl1\">                                            \n",
      "                    </div>\n",
      "                </td>\n",
      "              </tr>\n",
      "       \n",
      "          </table>\n",
      "        </div>\n",
      "      </div>\n",
      "      <script type=\"text/javascript\"> \n",
      "        var type='a';\n",
      "        var direction=1;//0:up 1:down\n",
      "        var sort=3;\n",
      "        var webhandler=\"rank\";\n",
      "        var pagestr=\"ranklist_\"+type;\n",
      "        var floder=\"stock\";   \n",
      "        \n",
      "        $(document).ready(function() {   \n",
      "            initial(); \n",
      "            Init();\t \n",
      "                        \n",
      "        }); \n",
      "\t  </script>\n",
      "    </div>\n",
      "    \n",
      "    <div class=\"h_8\"></div>\n",
      "    <!--AdForward Begin:-->\n",
      "    <div id=\"ad8006001\"><div class=\"ssadpublic\" style=\"border:none;padding:0px;margin:0px;overflow:hidden;position:relative;\"><a href=\"//info.stockstar.com/hb/stockstarapp/\"  target=\"_blank\"><img width=\"800\" height=\"60\" src=\"//info.stockstar.com/info/800x60/800-6020200603.jpg\" alt=\"APP下载\"/></a><div style=\"position:absolute;bottom:0px;right:0px\"><img src=\"https://info.stockstar.com/info/29x16/3.png\" border=\"0\"></div></div></div>\n",
      "    <!--AdForward End-->\n",
      "    <div class=\"h_8\"></div>\n",
      "    \n",
      "    \n",
      "    \n",
      "    <div class=\"box4\">\n",
      "      <div class=\"list\">\n",
      "        <div class=\"top\"></div>\n",
      "        <div class=\"con\">\n",
      "          <dl class=\"w_4\">\n",
      "            <dt><a href=\"http://quote.stockstar.com/Financing/\"><span class=\"bg\">融资</span>融券</a></dt>\n",
      "            <dd><a href=\"http://quote.stockstar.com/Financing/FinancingTotal.htm\">两市两融 </a></dd>\n",
      "            <dd><a href=\"http://quote.stockstar.com/Financing/FinancingTotal_0_3_1_0_1.html\">3日总量 </a></dd>\n",
      "            <dd><a href=\"http://quote.stockstar.com/Financing/FinancingTotal_0_5_1_0_1.html\">5日总量 </a></dd>\n",
      "            <dd class=\"last\"><a href=\"http://quote.stockstar.com/Financing/FinancingTotal_0_10_1_0_1.html\">10日总量 </a></dd>\n",
      "            <dd style=\"width:89px;text-align:left\">　<a href=\"http://quote.stockstar.com/Financing/FinancingStrength.htm\">多空强度 </a></dd>\n",
      "            <dd style=\"width:109px;\"><a href=\"http://quote.stockstar.com/Financing/FinancingCCI_0_1_3_1.html\">融资买入力度 </a></dd>\n",
      "            <dd style=\"width:99px;background:none\"><a href=\"http://quote.stockstar.com/Financing/FinancingCCI_0_1_6_1.html\">融券卖出力度 </a></dd>\n",
      "            <dd style=\"width:89px;text-align:left\">　<a href=\"http://quote.stockstar.com/Financing/FinancingBalanceInfo.htm\">余额变动 </a></dd>\n",
      "            <dd style=\"width:109px;\"><a href=\"http://quote.stockstar.com/Financing/FinancingBalance_0_1_1_6_1.html\">融资大幅买入 </a></dd>\n",
      "            <dd style=\"width:99px;background:none;text-align:center\"><a href=\"http://quote.stockstar.com/Financing/FinancingDetails_0_1_8_1.html\">融券大量卖出 </a></dd>\n",
      "          </dl>\n",
      "        </div>\n",
      "        <div class=\"bot\"></div>\n",
      "      </div>\n",
      "      <div class=\"list fr\">\n",
      "        <div class=\"top\"></div>\n",
      "        <div class=\"con\">\n",
      "          <dl class=\"w_3\">\n",
      "            <dt><a href=\"/BillBoard/\"><span class=\"bg\">沪深</span>龙虎榜</a></dt>\n",
      "            <dd style=\"text-align:left;\">　<a href=\"/BillBoard/sh.htm\">沪市龙虎榜</a></dd>\n",
      "            <dd><a href=\"/BillBoard/sz.htm\">深市龙虎榜</a></dd>\n",
      "            <dd class=\"last\"><a href=\"/BillBoard/agentstatistic.htm\">机构席位追踪 </a></dd>\n",
      "            <dd class=\"w_2\">　<a href=\"/BillBoard/stockstatistic.htm\">一月内上榜股票 </a></dd>\n",
      "            <dd class=\"w_2 last\"><a href=\"/BillBoard/stockstatistic_3.htm\" class=\"fr\">三月内上榜股票 </a></dd>\n",
      "            <dd class=\"w_2\">　<a href=\"/BillBoard/traderstatistic.htm\">一月内上榜营业厅 </a></dd>\n",
      "            <dd class=\"w_2 last\"><a href=\"/BillBoard/traderstatistic_3.htm\" class=\"fr\">三月内上榜营业厅 </a></dd>\n",
      "            <!--<dd><a href=\"/cashflow/main/\">主力资金流入 </a></dd>\n",
      "            <dd><a href=\"/cashflow/main/day1_4_0_1.html\">主力资金流出 </a></dd>\n",
      "            <dd class=\"last last_r\"><a href=\"/cashflow/continue/in.shtml\">资金连续流入 </a></dd>-->\n",
      "          </dl>\n",
      "        </div>\n",
      "        <div class=\"bot\"></div>\n",
      "      </div>\n",
      "    </div>\n",
      "\n",
      "    <div class=\"h_8\"></div>\n",
      "    <div class=\"box5\">\n",
      "                <div class=\"list\">\n",
      "                    <div class=\"title\">\n",
      "                        <h4>\n",
      "                            <a href=\"//stock.stockstar.com/list/live.htm \" target=\"_blank\">盘中播报</a></h4>\n",
      "                        <a href=\"//stock.stockstar.com/list/live.htm \" class=\"more\" target=\"_blank\">更多&gt;&gt;</a>\n",
      "                    </div>\n",
      "                    \r\n",
      "<div class=\"con\">\r\n",
      "  <ul><li><span>14:53:00</span><a href=\"//stock.stockstar.com/IG2022041800002205.shtml\">一则消息影响，煤炭板块大幅回落，大有能源、安源煤业等跌停</a></li><li><span>14:36:15</span><a href=\"//stock.stockstar.com/IG2022041800002096.shtml\">策略对话地产：首波反弹后地产行情如何演绎</a></li><li><span>14:35:00</span><a href=\"//stock.stockstar.com/IG2022041800002204.shtml\">物流板块午后拉升走高，飞力达等大涨，畅联股份盘中上演“地天板”</a></li><li><span>14:33:50</span><a href=\"//stock.stockstar.com/IG2022041800002098.shtml\">传媒有望迎来戴维斯双击</a></li><li><span>14:21:12</span><a href=\"//stock.stockstar.com/IG2022041800002103.shtml\">快讯：宁波方正涨停  报于30.41元</a></li><li><span>14:07:12</span><a href=\"//stock.stockstar.com/IG2022041800002109.shtml\">快讯：佳电股份涨停  报于8.43元</a></li><li><span>14:00:21</span><a href=\"//stock.stockstar.com/IG2022041800001849.shtml\">4月18日午后主力巨资出逃四大板块(附股)</a></li><li><span>14:00:18</span><a href=\"//stock.stockstar.com/IG2022041800001859.shtml\">4月18日午后两市净流入前20股(名单)</a></li><li><span>14:00:16</span><a href=\"//stock.stockstar.com/IG2022041800001865.shtml\">4月18日午后两市机构大单抛盘40股(名单)</a></li><li><span>14:00:15</span><a href=\"//stock.stockstar.com/IG2022041800001871.shtml\">4月18日午后两市机构大单抢筹40股(名单)</a></li></ul>\r\n",
      "</div>\r\n",
      "\n",
      "                </div>\n",
      "                <div class=\"list fr\">\n",
      "                    <div class=\"title\">\n",
      "                        <h4>\n",
      "                            <a href=\"//stock.stockstar.com/list/2.shtml\" target=\"_blank\">今日要闻</a></h4>\n",
      "                        <a href=\"//stock.stockstar.com/list/2.shtml\" class=\"more\" target=\"_blank\">更多&gt;&gt;</a>\n",
      "                    </div>\n",
      "                    \r\n",
      "<div class=\"con\">\r\n",
      "  <ul><li><span>14:51:03</span><a href=\"//stock.stockstar.com/IG2022041800002197.shtml\">胜利精密：新增投资者诉讼金额约820万 5月25日开庭审理</a></li><li><span>14:17:00</span><a href=\"//stock.stockstar.com/IG2022041800002022.shtml\">软银拉美基金人事动荡 又有两位管理合伙人离职创业</a></li><li><span>13:29:00</span><a href=\"//stock.stockstar.com/IG2022041800001736.shtml\">德国对俄制裁影响波及餐饮业 当地麦当劳被迫更换食用油</a></li><li><span>13:22:00</span><a href=\"//stock.stockstar.com/IG2022041800001735.shtml\">人民币兑日元逼近20大关：日本央行离干预汇市还有多远？</a></li><li><span>12:37:00</span><a href=\"//stock.stockstar.com/IG2022041800001594.shtml\">回购近200亿！100多只港股参与 金额同比增2.5倍</a></li><li><span>12:25:00</span><a href=\"//stock.stockstar.com/IG2022041800001542.shtml\">旅游旺季将至 美国航空新任CEO：致力提高航班准点率</a></li><li><span>12:07:00</span><a href=\"//stock.stockstar.com/IG2022041800001517.shtml\">抗疫一线|浙江援沪气膜实验室：日均检测峰值达10万管 接样4小时内出结果</a></li><li><span>11:47:03</span><a href=\"//stock.stockstar.com/SS2022041800001389.shtml\">午评：沪指弱势震荡跌0.78%，金融、周期股走弱，农业、半导体等板块拉升</a></li><li><span>11:41:38</span><a href=\"//stock.stockstar.com/SS2022041800001384.shtml\">降准助市场信心修复 中信证券：拐点将至</a></li><li><span>11:22:50</span><a href=\"//stock.stockstar.com/SS2022041800001300.shtml\">创历史！近4成散户中签不要了，打新已变成亏钱的代名词？</a></li></ul>\r\n",
      "</div>\r\n",
      "\n",
      "                </div>\n",
      "            </div>\n",
      "  </div>\n",
      "</div>\n",
      "<!-- 右侧内容 end -->\n",
      "</div>\n",
      "<div class=\"clear\"></div>\n",
      "<!-- 底部 begin  -->\n",
      "    <!-- 底部 begin  -->\r\n",
      "<div id=\"bottom\">\r\n",
      "  <a href=\"javascript:void(0);\" onclick=\"window.scroll(0,0);\" title=\"返回顶部\" class=\"top\" target=\"_self\">TOP↑</a>\r\n",
      "  <div class=\"clear\"></div>\r\n",
      "  <div id=\"foot\">\r\n",
      "    <div><a target=\"_blank\" href=\"//www.stockstar.com/nav/map.html\">网站导航</a> | <a target=\"_blank\" href=\"//info.stockstar.com/aboutus\">公司简介</a> | <a target=\"_blank\" href=\"//info.stockstar.com/aboutus/Partners.htm\">合作伙伴</a> | <a target=\"_blank\" href=\"//www.stockstar.com/intro/disclaimer.asp\">法律声明</a> | <a target=\"_blank\" href=\"//info.stockstar.com/aboutus/us.htm\">诚聘英才</a> | <a target=\"_blank\" href=\"//info.stockstar.com/aboutus/in.htm\">征稿启事</a> | <a target=\"_blank\" href=\"//info.stockstar.com/aboutus/lx.htm\">联系我们</a> | <a target=\"_blank\" href=\"//info.stockstar.com/aboutus/lx.htm#ad\">广告服务</a> | <a target=\"_blank\" href=\"//member.stockstar.com/message/message.html\">用户反馈</a></div>\r\n",
      "    <div>欢迎访问证券之星！请<a target=\"_blank\" href=\"//info.stockstar.com/aboutus/lx.htm\">点此</a>与我们联系 版权所有：Copyright &copy; 1996-<script type=\"text/javascript\">document.write(new Date().getFullYear());</script> </div>\r\n",
      "  </div>\r\n",
      "</div>\r\n",
      "<!-- 底部 end  -->\r\n",
      "\r\n",
      "<!--WebTCode Start-->\r\n",
      "<script type=\"text/javascript\" src=\"//www.stockstar.com/wt/SS_dcs_tag.js\"></script>\r\n",
      "<!--WebTCode End-->\r\n",
      "\r\n",
      "\n",
      "<!-- 底部 end  -->\n",
      "       \r\n",
      "<!-- 当前页页码（从1开始） -->\r\n",
      "<input name=\"ClientPageControl1$hdnPageIndex\" type=\"hidden\" id=\"ClientPageControl1_hdnPageIndex\" value=\"1\" />\r\n",
      "<!-- 每页记录个数 -->\r\n",
      "<input name=\"ClientPageControl1$hdnPageSize\" type=\"hidden\" id=\"ClientPageControl1_hdnPageSize\" value=\"30\" />\r\n",
      "<!-- 记录总数 -->\r\n",
      "<input name=\"ClientPageControl1$hdnTotalCount\" type=\"hidden\" id=\"ClientPageControl1_hdnTotalCount\" value=\"9428\" />\r\n",
      "<!-- 排序字段 -->\r\n",
      "<input name=\"ClientPageControl1$hdnSortField\" type=\"hidden\" id=\"ClientPageControl1_hdnSortField\" value=\"3\" />\r\n",
      "<!-- 排序方向（0表示正序、1表示倒序） -->\r\n",
      "<input name=\"ClientPageControl1$hdnDirection\" type=\"hidden\" id=\"ClientPageControl1_hdnDirection\" value=\"1\" />\n",
      "       \n",
      "\n",
      "\n",
      "</body>\n",
      "</html>\n",
      "\n",
      "\n"
     ]
    }
   ],
   "source": [
    "# 获取股票数据是股票数据分析中必不可少的一部分，而网络爬虫是获取股票数据的一个重要渠道之一，该部分获取的是证券之星网站上\n",
    "# 某网页中的A股数据。程序主要分为三个部分：网页源码的获取、所需内容的提取、所得结果的整理。程序代码如下所示。\n",
    "import urllib.request\n",
    "import re\n",
    "import csv\n",
    "import os\n",
    "url='http://quote.stockstar.com/stock/ranklist_a_3_1_1.html'  #目标网址\n",
    "headers={\"User-Agent\":\"Mozilla/5.0 (Windows NT 10.0; WOW64)\"}  #伪装浏览器请求报头\n",
    "request=urllib.request.Request(url=url,headers=headers)  #请求服务器\n",
    "response=urllib.request.urlopen(request)  #服务器应答\n",
    "content=response.read().decode('gbk')   #以一定的编码方式查看源码\n",
    "print(content)  #打印页面源码\n",
    "pattern=re.compile('<tbody[\\s\\S]*</tbody>')  \n",
    "body=re.findall(pattern,str(content))  #匹配<tbody和</tbody>之间的所有代码\n",
    "pattern=re.compile('>(.*?)<')\n",
    "stock_page=re.findall(pattern,body[0])  #匹配>和<之间的所有信息\n",
    "stock_total=stock_page\n",
    "stock_last=stock_total[:] #stock_total：匹配出的股票数据\n",
    "for data in stock_total:  #stock_last：整理后的股票数据\n",
    "    if data=='':\n",
    "        stock_last.remove('')\n",
    "head=['代码','简称','最新价','涨跌幅','涨跌额','5分钟涨幅']\n",
    "lst=[]\n",
    "for i in range(0,len(stock_last),6):        #网页总共有6列数据\n",
    "    lst.append([stock_last[i],stock_last[i+1],stock_last[i+2], stock_last[i+3],stock_last[i+4],stock_last[i+5]])\n",
    "os.chdir('E:\\pythonCVS\\gupiaoshujufenx')  #改变当前路径\n",
    "with open ('test.csv', 'a', newline='') as f : #追加方式打开或创建\n",
    "    f_csv=csv.writer(f)  \n",
    "    f_csv.writerow(head)  #写入文件头\n",
    "    for i in range(len(lst)):  #按行写入文件  \n",
    "         f_csv.writerow(lst[i]) "
   ]
  },
  {
   "cell_type": "markdown",
   "id": "e6b7a300",
   "metadata": {},
   "source": [
    "#### 3.5.2 股票数据各指标折线图"
   ]
  },
  {
   "cell_type": "code",
   "execution_count": 5,
   "id": "d1a3c3ec",
   "metadata": {},
   "outputs": [
    {
     "data": {
      "image/png": "[encoded data removed]",
      "text/plain": [
       "<Figure size 432x288 with 1 Axes>"
      ]
     },
     "metadata": {
      "needs_background": "light"
     },
     "output_type": "display_data"
    }
   ],
   "source": [
    "import pandas as pd\n",
    "import matplotlib.pyplot as plt\n",
    "import os\n",
    "os.chdir('E:\\pythonCVS\\gupiaoshujufenx') #设置当前路径\n",
    "data = pd.read_csv('test.csv',encoding = 'gb18030')  # 读取文件数据\n",
    "# plt.rcParams['font.family']='STSong' #图形中显示汉字\n",
    "# plt.rcParams['font.size']=12  #显示汉字字体\n",
    "data['最新价'].plot(grid=True)\n",
    "data['涨跌幅'].plot(grid=True)\n",
    "data['涨跌额'].plot(grid=True)\n",
    "plt.legend(['最新价','涨跌幅','涨跌额'])\n",
    "plt.show()"
   ]
  },
  {
   "cell_type": "markdown",
   "id": "e98ee8cc",
   "metadata": {},
   "source": [
    "### 3.5.3 各股票5分钟涨幅柱状图"
   ]
  },
  {
   "cell_type": "code",
   "execution_count": 2,
   "id": "f493a819",
   "metadata": {},
   "outputs": [
    {
     "data": {
      "image/png": "[encoded data removed]",
      "text/plain": [
       "<Figure size 432x288 with 1 Axes>"
      ]
     },
     "metadata": {
      "needs_background": "light"
     },
     "output_type": "display_data"
    }
   ],
   "source": [
    "# 由于纸张篇幅原因，每6股股票为一张图，程序代码如下：\n",
    "import pandas as pd\n",
    "import matplotlib.pyplot as plt\n",
    "import os\n",
    "os.chdir('E:\\pythonCVS\\gupiaoshujufenx') #设置当前路径\n",
    "data = pd.read_csv('test.csv',encoding = 'gb18030')  # 读取文件数据 可以读取CSV（逗号分割）文件、文本类型的文件text、log类型到DataFrame\n",
    "plt.rcParams['font.family']='STSong' #图形中显示汉字\n",
    "plt.rcParams['font.size']=12  #显示汉字字体\n",
    "lst=[]\n",
    "lst1=[]\n",
    "for i in range(0,len(data['简称'])-6,6):\n",
    "    lst.append([data['简称'][i+0],data['简称'][i+1],data['简称'][i+2],data['简称'][i+3],data['简称'][i+4],data['简称'][i+5]])\n",
    "    lst1.append([data['5分钟涨幅'][i+0],data['5分钟涨幅'][i+1],data['5分钟涨幅'][i+2],data['5分钟涨幅'][i+3],data['5分钟涨幅'][i+4],data['5分钟涨幅'][i+5]])\n",
    "for i in range(len(lst)):\n",
    "    x=range(len(lst[i]))\n",
    "    y=lst1[i]\n",
    "    plt.bar(x,y,width=0.3)\n",
    "    plt.xticks(x,lst[i])\n",
    "plt.title('第'+str(i+1)+'张图')\n",
    "plt.legend(['5分钟涨幅'])\n",
    "plt.show()"
   ]
  },
  {
   "cell_type": "markdown",
   "id": "3def4fbd",
   "metadata": {},
   "source": [
    "### 3.5.4 股票各指标之间关系对比"
   ]
  },
  {
   "cell_type": "code",
   "execution_count": 3,
   "id": "4927c0a2",
   "metadata": {},
   "outputs": [
    {
     "data": {
      "image/png": "[encoded data removed]",
      "text/plain": [
       "<Figure size 432x288 with 16 Axes>"
      ]
     },
     "metadata": {
      "needs_background": "light"
     },
     "output_type": "display_data"
    }
   ],
   "source": [
    "# 挑选股票部分具有代表性的指标，使用pandas.scatter_matrix()函数，将各项指标数据两两关联做散点图，对角线是每个指标数据的直方图。程序代码如下：\n",
    "import pandas as pd\n",
    "import matplotlib.pyplot as plt\n",
    "import os\n",
    "os.chdir('E:\\pythonCVS\\gupiaoshujufenx') #设置当前路径\n",
    "data = pd.read_csv('test.csv',encoding = 'gb18030')  # 读取文件数据\n",
    "plt.rcParams['font.family']='STSong' #图形中显示汉字\n",
    "plt.rcParams['font.size']=12  #显示汉字字体\n",
    "small = data[['最新价', '涨跌幅', '涨跌额','5分钟涨幅']]\n",
    "st= pd.plotting.scatter_matrix(small)\n",
    "plt.show()"
   ]
  },
  {
   "cell_type": "code",
   "execution_count": null,
   "id": "2f902e3d",
   "metadata": {},
   "outputs": [],
   "source": []
  }
 ],
 "metadata": {
  "kernelspec": {
   "display_name": "Python 3 (ipykernel)",
   "language": "python",
   "name": "python3"
  },
  "language_info": {
   "codemirror_mode": {
    "name": "ipython",
    "version": 3
   },
   "file_extension": ".py",
   "mimetype": "text/x-python",
   "name": "python",
   "nbconvert_exporter": "python",
   "pygments_lexer": "ipython3",
   "version": "3.9.7"
  }
 },
 "nbformat": 4,
 "nbformat_minor": 5
}
