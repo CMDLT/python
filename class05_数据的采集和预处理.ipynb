{
 "cells": [
  {
   "cell_type": "markdown",
   "id": "1196f8f2",
   "metadata": {},
   "source": [
    "### 5.2 数据清洗"
   ]
  },
  {
   "cell_type": "markdown",
   "id": "69866c80",
   "metadata": {},
   "source": [
    "### 5.2.1 缺失值清洗 \n",
    "#### 1、缺失值处理方法\n",
    "    - 对于记录中缺失值的处理，最常用的方法有删除法、替换法和插补法。\n",
    "    - (1) 删除法是指将缺失值所在的观测记录删除（前提是缺失记录的比例非常低，如5%以内），或者删除缺失值所对应的属性（前提是该属性中包含的缺失值比例非常高，如70%左右）。\n",
    "    - (2) 替换法是指直接利用缺失变量的均值、中位数或众数替换该变量中的缺失值，其好处是缺失值的处理速度快，弊端是易产生有偏估计，导致缺失值替换的准确性下降。例如，假定电商信息表中顾客收入的数据分布是对称的，并且平均收入为 56000 元，则使用该值替换“收入”属性中的缺失值。\n",
    "    - (3) 插补法则是利用有监督的机器学习方法（如回归模型、树模型、网络模型等）对缺失值作预测，其优势在于预测的准确性高，缺点是需要大量的计算，导致缺失值的处理速度大打折扣。例如，利用数据集中其他顾客的属性，可以构造一棵决策树，来预测缺失值。\n",
    "- 注意:在某些情况下，缺失值并不意味着数据有错误。如申请信用卡时，要求申请人提供工作单位，刚毕业的大学生没有工作单位就自然地不填写该属性了。"
   ]
  },
  {
   "cell_type": "markdown",
   "id": "f761e15f",
   "metadata": {},
   "source": [
    "####  2. pandas处理缺失值"
   ]
  },
  {
   "cell_type": "code",
   "execution_count": 1,
   "id": "61c2b357",
   "metadata": {},
   "outputs": [
    {
     "name": "stdout",
     "output_type": "stream",
     "text": [
      "   学号   姓名 性别    年龄 政治面貌    系部   籍贯\n",
      "0  S1  许文秀  女  21.0   团员  计算机系   湖北\n",
      "1  S2  刘德峰  男  20.0  NaN   信息系   贵州\n",
      "2  S3  刘世元  男  22.0  NaN  计算机系  NaN\n",
      "3  S4  于金凤  女   NaN  NaN   电信系  NaN\n",
      "4  S5  周新娥  女  23.0   团员   电信系  NaN\n",
      "5  S6  王晓晴  女  22.0  NaN   NaN  NaN\n",
      "<class 'pandas.core.frame.DataFrame'>\n",
      "RangeIndex: 6 entries, 0 to 5\n",
      "Data columns (total 7 columns):\n",
      " #   Column  Non-Null Count  Dtype  \n",
      "---  ------  --------------  -----  \n",
      " 0   学号      6 non-null      object \n",
      " 1   姓名      6 non-null      object \n",
      " 2   性别      6 non-null      object \n",
      " 3   年龄      5 non-null      float64\n",
      " 4   政治面貌    2 non-null      object \n",
      " 5   系部      5 non-null      object \n",
      " 6   籍贯      2 non-null      object \n",
      "dtypes: float64(1), object(6)\n",
      "memory usage: 464.0+ bytes\n",
      "None\n",
      "      学号     姓名     性别     年龄   政治面貌     系部     籍贯\n",
      "0  False  False  False  False  False  False  False\n",
      "1  False  False  False  False   True  False  False\n",
      "2  False  False  False  False   True  False   True\n",
      "3  False  False  False   True   True  False   True\n",
      "4  False  False  False  False  False  False   True\n",
      "5  False  False  False  False   True   True   True\n",
      "学号      0\n",
      "姓名      0\n",
      "性别      0\n",
      "年龄      1\n",
      "政治面貌    4\n",
      "系部      1\n",
      "籍贯      4\n",
      "dtype: int64\n"
     ]
    }
   ],
   "source": [
    "# (1) 缺失值的检测与统计\n",
    "# 函数isnull()（或notnull()）可以直接判断该列中的哪个数据为 NaN，缺失值为True（或False），非缺失值为False（或True）。方法info()和sum()分别查看非缺失值的信息和统计出各列缺失值的数量。\n",
    "# 例5.1 缺失值检和统计测示例。\n",
    "import numpy as np\n",
    "import pandas as pd\n",
    "df=pd.DataFrame([['S1','许文秀','女',21,'团员','计算机系','湖北'],\n",
    "                 ['S2','刘德峰','男',20,np.NaN,'信息系','贵州'],\n",
    "                 ['S3','刘世元','男',22,np.NaN,'计算机系',np.NaN],\n",
    "                 ['S4','于金凤','女',np.NaN,np.NaN,'电信系',np.NaN],\n",
    "                 ['S5','周新娥','女',23,'团员','电信系',np.NaN],\n",
    "                 ['S6','王晓晴','女',22,np.NaN,np.NaN,np.NaN]],\n",
    "                columns=['学号','姓名','性别','年龄','政治面貌','系部','籍贯']) \n",
    "print(df)\n",
    "print(df.info()) #打印出各列数据的非缺失值信息\n",
    "print(df.isnull()) #打印出缺失值信息，缺失值为True，非缺失值为False\n",
    "print(df.isnull().sum()) #打印出各列中缺失值的数量"
   ]
  },
  {
   "cell_type": "code",
   "execution_count": 2,
   "id": "99c70409",
   "metadata": {},
   "outputs": [
    {
     "name": "stdout",
     "output_type": "stream",
     "text": [
      "   学号   姓名 性别    年龄 政治面貌    系部  籍贯\n",
      "0  S1  许文秀  女  21.0   团员  计算机系  湖北\n",
      "   学号   姓名 性别\n",
      "0  S1  许文秀  女\n",
      "1  S2  刘德峰  男\n",
      "2  S3  刘世元  男\n",
      "3  S4  于金凤  女\n",
      "4  S5  周新娥  女\n",
      "5  S6  王晓晴  女\n",
      "   学号   姓名 性别    年龄 政治面貌    系部   籍贯\n",
      "0  S1  许文秀  女  21.0   团员  计算机系   湖北\n",
      "1  S2  刘德峰  男  20.0  NaN   信息系   贵州\n",
      "2  S3  刘世元  男  22.0  NaN  计算机系  NaN\n",
      "4  S5  周新娥  女  23.0   团员   电信系  NaN\n",
      "   学号   姓名 性别    年龄    系部\n",
      "0  S1  许文秀  女  21.0  计算机系\n",
      "1  S2  刘德峰  男  20.0   信息系\n",
      "2  S3  刘世元  男  22.0  计算机系\n",
      "3  S4  于金凤  女   NaN   电信系\n",
      "4  S5  周新娥  女  23.0   电信系\n",
      "5  S6  王晓晴  女  22.0   NaN\n"
     ]
    }
   ],
   "source": [
    "# (2) 删除缺失值\n",
    "# 根据一定的规则将含有缺失值的行或列直接进行删除。dropna()为Pandas库中DataFrame的一个方法，用于删除缺失值。基本参数如下：\n",
    "# dropna(self, axis=0, how='any', thresh=None, subset=None, inplace=False)\n",
    "# 参数说明：\n",
    "# ① axis: 默认为 axis=0，当某行出现缺失值时，将该行丢弃并返回；axis=1，当某列出现缺失值时，将该列丢弃。\n",
    "# ② how：确定缺失值个数，缺省时 how=’any’，表明只要某行有缺失值就将该行丢弃，how=’all’表明某行全部为缺失值才将其丢弃。\n",
    "# ③ thresh：阈值设定，当行列中非缺省值的数量少于给定的值就将该行丢弃\n",
    "# ④ subset：部分标签中删除某行列，如：subset=[’a’,’d’], 即丢弃子列a、d 中含有缺失值的行。\n",
    "# ⑤ inplace：bool 取值，默认 False, 当 inplace= True，即对原数据操作，无返回值。\n",
    "# 例5.2 删除缺失值示例。\n",
    "import numpy as np\n",
    "import pandas as pd\n",
    "df=pd.DataFrame([['S1','许文秀','女',21,'团员','计算机系','湖北'],\n",
    "                 ['S2','刘德峰','男',20,np.NaN,'信息系','贵州'],\n",
    "                 ['S3','刘世元','男',22,np.NaN,'计算机系',np.NaN],\n",
    "                 ['S4','于金凤','女',np.NaN,np.NaN,'电信系',np.NaN],\n",
    "                 ['S5','周新娥','女',23,'团员','电信系',np.NaN],\n",
    "                 ['S6','王晓晴','女',22,np.NaN,np.NaN,np.NaN]],\n",
    "                columns=['学号','姓名','性别','年龄','政治面貌','系部','籍贯']) \n",
    "print(df.dropna()) #删除含有缺失值的行\n",
    "print(df.dropna(axis=1)) #删除含有缺失值的列\n",
    "print(df.dropna(thresh=5)) #保留至少具有5个非NaN值的行\n",
    "print(df.dropna(thresh=3,axis=1)) #保留至少具有3个非NaN值的列"
   ]
  },
  {
   "cell_type": "code",
   "execution_count": 4,
   "id": "df34c5e4",
   "metadata": {},
   "outputs": [
    {
     "name": "stdout",
     "output_type": "stream",
     "text": [
      "   学号   姓名 性别    年龄 政治面貌    系部  籍贯     总分\n",
      "0  S1  许文秀  女  21.0   团员  计算机系  湖北  387.0\n",
      "1  S2  刘德峰  男  20.0   -1   信息系  贵州  376.0\n",
      "2  S3  刘世元  男  22.0   -1  计算机系  -1  380.0\n",
      "3  S4  于金凤  女  -1.0   -1   电信系  -1   -1.0\n",
      "4  S5  周新娥  女  23.0   团员   电信系  -1  367.0\n",
      "5  S6  王晓晴  女  22.0   -1    -1  -1   -1.0\n",
      "   学号   姓名 性别    年龄 政治面貌    系部  籍贯     总分\n",
      "0  S1  许文秀  女  21.0   团员  计算机系  湖北  387.0\n",
      "1  S2  刘德峰  男  20.0   团员   信息系  贵州  376.0\n",
      "2  S3  刘世元  男  22.0   团员  计算机系  贵州  380.0\n",
      "3  S4  于金凤  女  22.0   团员   电信系  贵州  380.0\n",
      "4  S5  周新娥  女  23.0   团员   电信系  贵州  367.0\n",
      "5  S6  王晓晴  女  22.0   团员   电信系  贵州  367.0\n",
      "0    21.0\n",
      "1    20.0\n",
      "2    22.0\n",
      "3    21.6\n",
      "4    23.0\n",
      "5    22.0\n",
      "Name: 年龄, dtype: float64\n",
      "   学号   姓名 性别    年龄 政治面貌    系部   籍贯     总分\n",
      "0  S1  许文秀  女  21.0   团员  计算机系   湖北  387.0\n",
      "1  S2  刘德峰  男  20.0  NaN   信息系   贵州  376.0\n",
      "2  S3  刘世元  男  22.0  NaN  计算机系  NaN  380.0\n",
      "3  S4  于金凤  女   NaN  NaN   电信系  NaN  387.0\n",
      "4  S5  周新娥  女  23.0   团员   电信系  NaN  367.0\n",
      "5  S6  王晓晴  女  22.0  NaN   NaN  NaN    NaN\n",
      "   学号   姓名 性别    年龄 政治面貌    系部   籍贯     总分\n",
      "0  S1  许文秀  女  21.0   团员  计算机系   湖北  387.0\n",
      "1  S2  刘德峰  男  20.0  NaN   信息系   贵州  376.0\n",
      "2  S3  刘世元  男  22.0  NaN  计算机系  NaN  380.0\n",
      "3  S4  于金凤  女  22.5  NaN   电信系  NaN  373.5\n",
      "4  S5  周新娥  女  23.0   团员   电信系  NaN  367.0\n",
      "5  S6  王晓晴  女  22.0  NaN   NaN  NaN  367.0\n"
     ]
    }
   ],
   "source": [
    "# (3) 填充缺失值\n",
    "# 直接删除缺失值的样本并不是一个很好的方法，因此可以用一个特定的值替换缺失值。缺失值所在的属性为数值型时，通常利用其均值、中位数和众数等描述其集中趋势的统计量来填充；缺失值所在属性为类别型数据时，则选择众数来填充。Pandas 库中提供了缺失值替换的方法 fillna()，常用形式如下：\n",
    "# fillna(value=None,method=None,asxi=None,inplace=False,limit=None)\n",
    "# 其中value 用于填充缺失值的标量值或字典对象；method表示插值方式，默认为’ffill’，向前填充，或是向下填充，而‘bfill’：向后填充，或是向上填充；axis表示待填充的轴，默认axis=0；inplace表示修改调用者对象而不产生副本；limit (对于前向和后向填充)可以连续填充的最大数量。\n",
    "# 常见的填充方法\n",
    "# ① 填充固定值：选取某个固定值/默认值填充缺失值。\n",
    "# ② 填充均值：对每一列的缺失值，填充当列的均值。\n",
    "# ③ 填充中位数：对每一列的缺失值，填充当列的中位数。\n",
    "# ④ 填充众数：对每一列的缺失值，填充当列的众数。如果存在某列缺失值过多，众数为NaN的情况，这时就取每列删除掉NaN值后的众数。\n",
    "# ⑤ 填充上下条的数据：对每一条数据的缺失值，填充其上下条数据的值。\n",
    "# ⑥ 填充插值得到的数据：用插值法拟合出缺失的数据，然后进行填充。常用interpolate()函数默认采用线性插值，即假设函数是直线形式，缺失值用前一个值和后一个值的平均数填充。\n",
    "# ⑦ 填充KNN数据：填充近邻的数据，先利用KNN计算临近的k个数据，然后填充他们的均值。\n",
    "# ⑧ 填充模型预测的值：把缺失值作为新的Label，建立模型得到预测值，然后进行填充。\n",
    "# 例5.3 填充缺失值示例。\n",
    "import numpy as np\n",
    "import pandas as pd\n",
    "df=pd.DataFrame([['S1','许文秀','女',21,'团员','计算机系','湖北',387],\n",
    "       ['S2','刘德峰','男',20,np.NaN,'信息系','贵州',376],\n",
    "       ['S3','刘世元','男',22,np.NaN,'计算机系',np.NaN,380],\n",
    "       ['S4','于金凤','女',np.NaN,np.NaN,'电信系',np.NaN,np.NaN],\n",
    "       ['S5','周新娥','女',23,'团员','电信系',np.NaN,367],\n",
    "       ['S6','王晓晴','女',22,np.NaN,np.NaN,np.NaN,np.NaN]],\n",
    "columns=['学号','姓名','性别','年龄','政治面貌','系部','籍贯','总分']) \n",
    "print(df.fillna(-1)) #填充缺失值为'-1'\n",
    "print(df.fillna(method='ffill')) #向下填充缺失值\n",
    "print(df['年龄'].fillna(df['年龄'].mean())) #年龄列的缺失值用其均值填充\n",
    "print(df.fillna(df.mode())) #利用众数填充缺失值\n",
    "for n in df:                  \n",
    "    df[n]=df[n].interpolate() #数值型属性用线性插值\n",
    "    df[n].dropna(inplace=True)\n",
    "print(df)"
   ]
  },
  {
   "cell_type": "markdown",
   "id": "52ea8d04",
   "metadata": {},
   "source": [
    "### 5.2.2 异常值清洗 "
   ]
  },
  {
   "cell_type": "markdown",
   "id": "4c81585f",
   "metadata": {},
   "source": [
    "#### 1. 异常值的检测"
   ]
  },
  {
   "cell_type": "code",
   "execution_count": 5,
   "id": "2c8bc7cc",
   "metadata": {},
   "outputs": [
    {
     "data": {
      "image/png": "[encoded data removed]",
      "text/plain": [
       "<Figure size 432x288 with 1 Axes>"
      ]
     },
     "metadata": {
      "needs_background": "light"
     },
     "output_type": "display_data"
    }
   ],
   "source": [
    "# (1) 简单统计分析\n",
    "# 最常用的统计量是最大值和最小值，用来判断这个变量的取值是否超出合理的范围。如客户年龄的最大值为199岁，则该变量的取值存在异常。\n",
    "# 例5.4 计算成年人的身高、体重公式为：Y=(X-100)×0.9，其中X为身高(cm)，Y为标准体重(kg)。\n",
    "import matplotlib.pyplot as plt\n",
    "import numpy as np\n",
    "x=np.arange(100,230,5) #假设成年人（18岁以上）正常高度在1米至2.3米\n",
    "y=(x-100)*0.9\n",
    "plt.rcParams['font.family']='STSong' #图形中显示汉字\n",
    "plt.rcParams['font.size']=12\n",
    "plt.title('身高和体重')\n",
    "plt.plot(x,y,'.')\n",
    "plt.plot(140,87,'r.') #异常值\n",
    "plt.plot(156,112,'r.') #异常值\n",
    "plt.plot(187,108,'r.')\n",
    "plt.show()"
   ]
  },
  {
   "cell_type": "code",
   "execution_count": 6,
   "id": "b9dd547b",
   "metadata": {},
   "outputs": [
    {
     "data": {
      "image/png": "[encoded data removed]",
      "text/plain": [
       "<Figure size 2000x800 with 1 Axes>"
      ]
     },
     "metadata": {
      "needs_background": "light"
     },
     "output_type": "display_data"
    }
   ],
   "source": [
    "# (2) 散点图方法\n",
    "# 通过数据分布的散点图可以检测异常数据。\n",
    "# 例5.5 探究房屋面积和房屋价格的关系示例。\n",
    "import matplotlib.pyplot as plt\n",
    "import numpy as np\n",
    "x = [225.98,247.07,253.14,254.85,241.58,301.01,20.67,288.64, 163.56,120.06,207.83,342.75,147.9,53.06,224.72,29.51,21.61,483.21, 245.25,299.25,343.35] #房屋面积数据\n",
    "y = [196.63,203.88,210.75,372.74,202.41,347.61,24.9,239.34, 140.32,304.15,176.84,488.23,128.79,49.64,191.74,33.1,30.74,400.02,205.35,330.64,283.45] #房屋价格数据\n",
    "plt.figure(figsize=(20, 8), dpi=100) #创建画布\n",
    "plt.scatter(x, y) # 绘制散点图\n",
    "plt.show()  # 显示图像"
   ]
  },
  {
   "cell_type": "code",
   "execution_count": 8,
   "id": "61ac6d19",
   "metadata": {},
   "outputs": [
    {
     "name": "stdout",
     "output_type": "stream",
     "text": [
      "检测出异常值：\n",
      "-14,"
     ]
    }
   ],
   "source": [
    "# (3) 3σ原则\n",
    "# 在正态分布中，σ代表标准差,μ代表均值，x=μ即为图像的对称轴。\n",
    "# 3σ原则为：数值分布在（μ-σ,μ+σ)中的概率为0.6827；数值分布在（μ-2σ,μ+2σ)中的概率为0.9544；数值分布在（μ-3σ,μ+3σ)中的概率为0.9974。可以认为，Y 的取值几乎全部集中在（μ-3σ,μ+3σ)]区间内，超出这个范围的可能性仅占不到0.3%，属于极个别的小概率事件，因此将超出（μ-3σ,μ+3σ)范围的值认为是异常值，图如图5.3所示。\n",
    "# 3σ原则要求数据服从正态或近似正态分布，且样本数据大于10。\n",
    "# 例5.6 3σ原则检测异常值示例。\n",
    "import pandas as pd\n",
    "data=[78,72,-14,70,68,72,77,78,42,78,74,54,80,82,65,62] #学生某门课程成绩\n",
    "s=pd.Series(data) \n",
    "dmean=s.mean()\n",
    "dstd=s.std()\n",
    "print('检测出异常值：')\n",
    "yz1=dmean-3*dstd\n",
    "yz2=dmean+3*dstd\n",
    "for i in range(0,len(data)):\n",
    "    if (data[i]<yz1)or(data[i]>yz2):\n",
    "        print(data[i],end=',')"
   ]
  },
  {
   "cell_type": "code",
   "execution_count": 9,
   "id": "06440f45",
   "metadata": {},
   "outputs": [
    {
     "data": {
      "image/png": "[encoded data removed]",
      "text/plain": [
       "<Figure size 432x288 with 1 Axes>"
      ]
     },
     "metadata": {
      "needs_background": "light"
     },
     "output_type": "display_data"
    }
   ],
   "source": [
    "# (4) 箱线图\n",
    "# 箱线图是通过数据集的四分位数形成的图形化描述，是非常简单而且效的可视化异常值的一种方法。\n",
    "# 例5.7箱线图检测异常值示例。\n",
    "import pandas as pd\n",
    "import matplotlib.pyplot as plt\n",
    "data=[78,72,34,70,68,72,77,78,56,78,74,54,80,82,65,62] \n",
    "s=pd.Series(data) \n",
    "plt.boxplot(x=s.values,whis=1.5)\n",
    "plt.show()"
   ]
  },
  {
   "cell_type": "markdown",
   "id": "b1dd5d80",
   "metadata": {},
   "source": [
    "#### 2. 异常值处理"
   ]
  },
  {
   "cell_type": "markdown",
   "id": "a6a06972",
   "metadata": {},
   "source": [
    "- (1) 删除\n",
    "- (2) 视为缺失值\n",
    "- (3) 平均值修正\n",
    "- (4) 盖帽法\n",
    "- (5) 分箱法\n",
    "- (6) 回归插补\n",
    "- (7) 多重插补\n",
    "- (8) 不处理"
   ]
  },
  {
   "cell_type": "markdown",
   "id": "7ee90d7f",
   "metadata": {},
   "source": [
    "### 5.2.3 格式内容清洗 \n",
    "- 一般情况下，数据是由用户/访客产生的，也就有很大的可能性存在格式和内容上不一致的情况，所以在进行模型构建之前需要先进行数据的格式内容清洗操作。格式内容问题主要有以下几类：\n",
    "    - 时间、日期、数值、半角/全角字符等显示格式不一致：直接将数据转换为一类格式即可，该问题一般出现在多个数据源整合的情况下。\n",
    "    - 内容中有不该存在的字符：最典型的就是在头部、中间、尾部的空格等问题，这种情况下，需要以半自动校验加半人工方式来找出问题，并去除不需要的字符。\n",
    "    - 内容与该属性应有的内容不符：比如姓名写成了性别、身份证号写成手机号等问题。"
   ]
  },
  {
   "cell_type": "markdown",
   "id": "36f225ca",
   "metadata": {},
   "source": [
    "### 5.2.4 逻辑错误清洗 \n",
    "- 主要是通过简单的逻辑推理发现数据中的问题数据，防止分析结果走偏，主要包含以下几个步骤：\n",
    "    - 数据去重。\n",
    "    - 去除/替换不合理的值。\n",
    "    - 去除/重构不可靠的属性值（修改矛盾的内容）。"
   ]
  },
  {
   "cell_type": "markdown",
   "id": "2dc860b4",
   "metadata": {},
   "source": [
    "### 5.3.1 数据集成过程中的关键问题"
   ]
  },
  {
   "cell_type": "markdown",
   "id": "b0ef0ce1",
   "metadata": {},
   "source": [
    "- 1. 实体识别\n",
    "- 2. 数据冗余与相关性分析"
   ]
  },
  {
   "cell_type": "code",
   "execution_count": 21,
   "id": "cc0a7dda",
   "metadata": {},
   "outputs": [],
   "source": [
    "# 例5.9求相关系数示例。 \n",
    "import seaborn as sna\n",
    "import pandas as pd\n",
    "from sklearn.datasets import load_iris\n",
    "data=load_iris()\n",
    "# print(data)\n",
    "\n",
    "# df=pd.DataFrame(data,columns=['sepal_length','sepal_width','petal_length','petal_width'])\n",
    "# result=df.corr()\n",
    "# print(result)"
   ]
  },
  {
   "cell_type": "markdown",
   "id": "4207cac0",
   "metadata": {},
   "source": [
    "- (3) 数值数据的协方差"
   ]
  },
  {
   "cell_type": "code",
   "execution_count": 2,
   "id": "5f3a238f",
   "metadata": {},
   "outputs": [
    {
     "ename": "SyntaxError",
     "evalue": "Missing parentheses in call to 'print'. Did you mean print(\"urllib\")? (Temp/ipykernel_47108/1104351851.py, line 7)",
     "output_type": "error",
     "traceback": [
      "\u001b[1;36m  File \u001b[1;32m\"C:\\Users\\admin\\AppData\\Local\\Temp/ipykernel_47108/1104351851.py\"\u001b[1;36m, line \u001b[1;32m7\u001b[0m\n\u001b[1;33m    print \"urllib\"\u001b[0m\n\u001b[1;37m          ^\u001b[0m\n\u001b[1;31mSyntaxError\u001b[0m\u001b[1;31m:\u001b[0m Missing parentheses in call to 'print'. Did you mean print(\"urllib\")?\n"
     ]
    }
   ],
   "source": [
    "# 例5.11 Python求协方差示例\n",
    "import seaborn as sna\n",
    "import numpy as np\n",
    "data=sna.load_dataset('iris')\n",
    "A=data['sepal_length']\n",
    "B=data['petal_length']\n",
    "result=np.cov(A,B)\n",
    "print(result)"
   ]
  },
  {
   "cell_type": "markdown",
   "id": "507336d3",
   "metadata": {},
   "source": [
    "- 3.记录重复"
   ]
  },
  {
   "cell_type": "code",
   "execution_count": 24,
   "id": "017a089d",
   "metadata": {},
   "outputs": [
    {
     "name": "stdout",
     "output_type": "stream",
     "text": [
      "[['S1' '许文秀' '女' '21']\n",
      " ['S4' '于金凤' '女' '22']\n",
      " ['S5' '刘德峰' '男' '20']]\n"
     ]
    }
   ],
   "source": [
    "# 例5.12 去掉多维数组的重复行。\n",
    "import numpy as np\n",
    "A=[['S1','许文秀','女',21],['S4','于金凤','女',22],['S1','许文秀','女',21],   ['S5','刘德峰','男',20]]\n",
    "result=np.unique(A,axis=0)\n",
    "print(result)"
   ]
  },
  {
   "cell_type": "markdown",
   "id": "e45da9db",
   "metadata": {},
   "source": [
    "- 4. 数据值冲突的检测与处理"
   ]
  },
  {
   "cell_type": "markdown",
   "id": "450750a9",
   "metadata": {},
   "source": [
    "### 5.3.2 Python数据集成"
   ]
  },
  {
   "cell_type": "markdown",
   "id": "e61680b1",
   "metadata": {},
   "source": [
    "#### 1. merge()方法 "
   ]
  },
  {
   "cell_type": "code",
   "execution_count": 3,
   "id": "75d96202",
   "metadata": {},
   "outputs": [
    {
     "name": "stdout",
     "output_type": "stream",
     "text": [
      "   学号   姓名  课程\n",
      "0  S1  许文秀  C2\n",
      "1  S1  许文秀  C3\n",
      "2  S1  许文秀  C4\n",
      "3  S2  刘德峰  C1\n",
      "4  S4  于金凤  C2\n"
     ]
    }
   ],
   "source": [
    "# 例5.13 merge()函数默认数据集成\n",
    "import pandas as pd\n",
    "S_info=pd.DataFrame({'学号':['S1','S2','S3','S4','S5'],\n",
    "             '姓名':['许文秀','刘德峰','刘世元','于金凤','周新娥']})\n",
    "course=pd.DataFrame({'学号':['S1','S2','S1','S4','S1'],\n",
    "             '课程':['C2','C1','C3','C2','C4']})\n",
    "df=pd.merge(S_info,course)\n",
    "print(df)"
   ]
  },
  {
   "cell_type": "code",
   "execution_count": 4,
   "id": "836f2e27",
   "metadata": {},
   "outputs": [
    {
     "name": "stdout",
     "output_type": "stream",
     "text": [
      "   学号   姓名  编号  课程\n",
      "0  S1  许文秀  S1  C2\n",
      "1  S1  许文秀  S1  C3\n",
      "2  S1  许文秀  S1  C4\n",
      "3  S2  刘德峰  S2  C1\n",
      "4  S4  刘世元  S4  C2\n"
     ]
    }
   ],
   "source": [
    "# 例5.14左右数据子集关键字不同的merge()函数集成数据。\n",
    "import pandas as pd\n",
    "S_info=pd.DataFrame({'学号':['S1','S2','S4','S5'],\n",
    "       '姓名':['许文秀','刘德峰','刘世元','于金凤']})\n",
    "course=pd.DataFrame({'编号':['S1','S2','S1','S4','S1'],\n",
    "       '课程':['C2','C1','C3','C2','C4']})\n",
    "df=pd.merge(S_info,course,left_on='学号',right_on='编号') # 左侧表的学号和右侧表的编号相连接\n",
    "print(df)"
   ]
  },
  {
   "cell_type": "code",
   "execution_count": 2,
   "id": "bbc2bf70",
   "metadata": {},
   "outputs": [
    {
     "name": "stdout",
     "output_type": "stream",
     "text": [
      "   学号   姓名    高数    英语  数据库技术\n",
      "0  S1  许文秀  67.0  82.0   89.0\n",
      "1  S2  刘德峰  92.0  88.0   34.0\n",
      "2  S3  刘世元  67.0  96.0    NaN\n",
      "3  S4  于金凤  58.0  90.0   74.0\n",
      "4  S5  周新娥  78.0  87.0   90.0\n",
      "5  S6  NaN   NaN   NaN   83.0\n"
     ]
    }
   ],
   "source": [
    "# 例5.15 merge()函数how=’outer’ 集成数据。外连接\n",
    "import pandas as pd\n",
    "grade1=pd.DataFrame({'学号':['S1','S2','S3','S4','S5'],\n",
    "      '姓名':['许文秀','刘德峰','刘世元','于金凤','周新娥'],\n",
    "      '高数':[67,92,67,58,78],\n",
    "      '英语':[82,88,96,90,87]})\n",
    "grade2=pd.DataFrame({'学号':['S1','S2','S4','S5','S6'],\n",
    "      '数据库技术':[89,34,74,90,83]}) # 因为S3没有数据库技术的成绩\n",
    "df=pd.merge(grade1,grade2,how='outer')\n",
    "print(df)"
   ]
  },
  {
   "cell_type": "code",
   "execution_count": 11,
   "id": "689c4c1f",
   "metadata": {},
   "outputs": [
    {
     "name": "stdout",
     "output_type": "stream",
     "text": [
      "   学号   姓名 性别  课程  成绩\n",
      "0  S1  许文秀  女  C1  82\n",
      "1  S1  许文秀  女  C3  87\n",
      "2  S1  许文秀  女  C4  90\n",
      "3  S2  刘德峰  男  C1  78\n",
      "4  S2  刘德峰  男  C3  89\n",
      "5  S3  刘世元  男  C2  98\n",
      "6  S5  周新娥  女  C2  87\n"
     ]
    }
   ],
   "source": [
    "# 例5.15 merge()函数通过多个键数据集成。\n",
    "import pandas as pd\n",
    "info_s=pd.DataFrame({'学号':['S1','S2','S3','S4','S5'],\n",
    "                    '姓名':['许文秀','刘德峰','刘世元','于金凤','周新娥'],\n",
    "                     '性别':['女','男','男','女','女']})\n",
    "course=pd.DataFrame({'学号':['S1','S2','S1','S3','S5','S2', 'S1'],\n",
    "                     '姓名':['许文秀','刘德峰','许文秀','刘世元','周新娥','刘德峰','许文秀'],\n",
    "                     '课程':['C1','C1','C3','C2','C2','C3','C4'],\n",
    "                     '成绩':[82,78,87,98,87,89,90]})\n",
    "df=pd.merge(info_s,course,on=['学号','姓名']) # 学号和姓名相同的进行连接\n",
    "print(df)"
   ]
  },
  {
   "cell_type": "markdown",
   "id": "d62e9a57",
   "metadata": {},
   "source": [
    "#### 2. concat()\n",
    "- Concat()方法是对series或dataframe对象进行连接，可以指定按某个轴进行（行或列）连接,也可以指定连接的方式 (outer,inner 只有这两种)。与SQL不同的是concat不会去重，要达到去重的效果可以使用drop_duplicates方法。常用形式为：\n",
    "    - concat(objs,axis=0,join=’outer’)\n",
    "- 参数说明如下：\n",
    "    - (1) objs：series,dataframe或list。\n",
    "    - (2) axis：需要连接的轴，axis=0是行连接，axis=1是列连接。\n",
    "    - (3) join：连接的方式，inner或outer。"
   ]
  },
  {
   "cell_type": "code",
   "execution_count": 13,
   "id": "864ab6ec",
   "metadata": {},
   "outputs": [
    {
     "name": "stdout",
     "output_type": "stream",
     "text": [
      "   学号   姓名 性别    高数    英语  数据库技术  数据挖掘\n",
      "0  S1  许文秀  女  78.0  89.0   80.0  61.0\n",
      "1  S2  刘德峰  男  77.0  83.0   78.0  66.0\n",
      "2  S3  刘世元  男  90.0  54.0   68.0  78.0\n",
      "3  S4  于金凤  女  76.0  66.0   80.0  82.0\n",
      "4  S5  周新娥  女   NaN   NaN    NaN   NaN\n"
     ]
    }
   ],
   "source": [
    "# 例5.16 Concat()方法连接示例。\n",
    "import pandas as pd\n",
    "data1=[['S1','许文秀','女'],['S2','刘德峰','男'],\n",
    "                    ['S3','刘世元','男'],['S4','于金凤','女'],\n",
    "                    ['S5','周新娥','女']]\n",
    "df1=pd.DataFrame(data1,columns=['学号','姓名','性别'])\n",
    "data2=[[78,89,80,61],[77,83,78,66],[90,54,68,78],[76,66,80,82]]\n",
    "df2=pd.DataFrame(data2,columns=['高数','英语','数据库技术','数据挖掘'])\n",
    "df=pd.concat([df1,df2],axis=1,join='outer')\n",
    "print(df)"
   ]
  },
  {
   "cell_type": "markdown",
   "id": "d4e5d364",
   "metadata": {},
   "source": [
    "## 5.4 数据标准化"
   ]
  },
  {
   "cell_type": "markdown",
   "id": "e4e73f21",
   "metadata": {},
   "source": [
    "### 5.4.1 z-score方法\n",
    "- z-score方法是通过把一组数据的均值变为0(平移坐标轴)，方差变为1来实现数据的缩放。也称为去中心化+方差缩放，是最常用到的操作。"
   ]
  },
  {
   "cell_type": "markdown",
   "id": "96f24262",
   "metadata": {},
   "source": [
    "- 1. 自定义方式"
   ]
  },
  {
   "cell_type": "code",
   "execution_count": 14,
   "id": "7ef5150f",
   "metadata": {},
   "outputs": [
    {
     "name": "stdout",
     "output_type": "stream",
     "text": [
      "[array([ 0.        , -1.22474487,  1.33630621]), array([ 1.22474487,  0.        , -0.26726124]), array([-1.22474487,  1.22474487, -1.06904497])]\n"
     ]
    }
   ],
   "source": [
    "# 例5.17 自定义数据标准化示例\n",
    "def my_scale(data):\n",
    "    mean= sum(data)/len(data)  #先求均值\n",
    "    variance=( sum([(i-mean)**2 for i in data]))/len(data)  #再求方差（mean是均值）\n",
    "    normal = [(i - mean)/(variance)**0.5 for i in data]  #按照公式标准化\n",
    "    return normal\n",
    "import numpy as np\n",
    "X = np.array([[1.,-1.,2.],[2.,0.,0.],[0.,1.,-1.]])\n",
    "scale=my_scale(X)\n",
    "print(scale) # 输出的矩阵每列相加为0"
   ]
  },
  {
   "cell_type": "markdown",
   "id": "32db4d57",
   "metadata": {},
   "source": [
    "#### 2. StandardScaler()\n",
    "- StandarScaler()方法能够允许我们进行fit()，从而保存我们的模型，然后进行transform转换。"
   ]
  },
  {
   "cell_type": "code",
   "execution_count": 4,
   "id": "18bdf55a",
   "metadata": {},
   "outputs": [
    {
     "name": "stdout",
     "output_type": "stream",
     "text": [
      "[[ 0.         -1.22474487  1.33630621]\n",
      " [ 1.22474487  0.         -0.26726124]\n",
      " [-1.22474487  1.22474487 -1.06904497]]\n"
     ]
    }
   ],
   "source": [
    "# 例5.18 StandarScaler()方法数据标准化示例\n",
    "import numpy as np\n",
    "from sklearn import preprocessing\n",
    "X = np.array([[1.,-1.,2.],[ 2.,0.,0.],[0.,1.,-1.]])\n",
    "scaler = preprocessing.StandardScaler().fit(X)\n",
    "print(scaler.transform(X))"
   ]
  },
  {
   "cell_type": "markdown",
   "id": "c77e720c",
   "metadata": {},
   "source": [
    "### 5.4.2 极差标准化方法\n",
    "- 极差标准化也称为区间放缩法或0-1标准化，是对原始数据所做的一种线性变换，将原始数据的数值映射到[0,1]区间。"
   ]
  },
  {
   "cell_type": "markdown",
   "id": "066e6803",
   "metadata": {},
   "source": [
    "#### 1. 自定义方法"
   ]
  },
  {
   "cell_type": "code",
   "execution_count": 5,
   "id": "f8ac13e4",
   "metadata": {},
   "outputs": [
    {
     "name": "stdout",
     "output_type": "stream",
     "text": [
      "[[0.66666667 0.         1.        ]\n",
      " [1.         0.33333333 0.33333333]\n",
      " [0.33333333 0.66666667 0.        ]]\n"
     ]
    }
   ],
   "source": [
    "# 例5.19 极差标准化自定义方法示例\n",
    "def my_scale(data):\n",
    "    data = (data-data.min())/(data.max()-data.min())\n",
    "    return data\n",
    "import numpy as np\n",
    "X = np.array([[1.,-1.,2.],[2.,0.,0.],[0.,1.,-1.]])\n",
    "scale=my_scale(X)\n",
    "print(scale)"
   ]
  },
  {
   "cell_type": "markdown",
   "id": "c63acda4",
   "metadata": {},
   "source": [
    "#### 2. MaxMinScaler()\n",
    "- MaxMinScaler()方法能够允许我们进行fit()，从而保存我们的模型，然后进行transform转换。"
   ]
  },
  {
   "cell_type": "code",
   "execution_count": 6,
   "id": "091a1d19",
   "metadata": {},
   "outputs": [
    {
     "name": "stdout",
     "output_type": "stream",
     "text": [
      "[[0.5        0.         1.        ]\n",
      " [1.         0.5        0.33333333]\n",
      " [0.         1.         0.        ]]\n"
     ]
    }
   ],
   "source": [
    "# 例5.20 MaxMinScaler()数据标准化示例\n",
    "import numpy as np\n",
    "from sklearn import preprocessing\n",
    "X=np.array([[1.,-1.,2.],[2.,0.,0.],[0.,1.,-1.]])\n",
    "sacler = preprocessing.MinMaxScaler()\n",
    "sacler.fit(X)\n",
    "print(sacler.transform(X))"
   ]
  },
  {
   "cell_type": "markdown",
   "id": "1ac09f91",
   "metadata": {},
   "source": [
    "### 5.4.3 最大绝对值标准化方法"
   ]
  },
  {
   "cell_type": "markdown",
   "id": "24cc5b70",
   "metadata": {},
   "source": [
    "- 最大绝对值标准化方法是xij除以其最大的绝对值，也就是将原始数据的数值映射到 [-1,1]区间内。\n",
    "- 这种情况适合在均值在0附近的值，或者稀疏矩阵。MaxAbsScaler()方法能够允许我们进行fit()，从而保存我们的模型，然后进行transform转换。"
   ]
  },
  {
   "cell_type": "code",
   "execution_count": 8,
   "id": "091a6a84",
   "metadata": {},
   "outputs": [
    {
     "name": "stdout",
     "output_type": "stream",
     "text": [
      "[[-0.4        -1.          0.33333333]\n",
      " [-0.5         0.          0.        ]\n",
      " [ 0.          0.5         1.        ]\n",
      " [ 1.          1.          0.5       ]]\n"
     ]
    }
   ],
   "source": [
    "# 例5.21 MaxAbsScaler()数据标准化示例\n",
    "import numpy as np\n",
    "from sklearn import preprocessing\n",
    "X=np.array([[-4.,-2.,2.],[-5.,0.,0.],[0.,1.,6.],[10,2,3]])\n",
    "sacler = preprocessing.MaxAbsScaler()\n",
    "sacler.fit(X)\n",
    "print(sacler.transform(X))"
   ]
  },
  {
   "cell_type": "markdown",
   "id": "9f51d153",
   "metadata": {},
   "source": [
    "## 5.5 数据归约\n",
    "- 现实中数据集可能会很大，在海量数据集上进行数据挖掘会需要很长的时间，因此要对数据进行归约。数据归约（Data Reduction）用于在尽可能保持数据完整性的基础上得到数据的归约表示。也就是说，在归约后的数据集上挖掘将更有效，而且仍会产生相同或相似的分析结果。数据归约包括维归约、数量归约和数据压缩。"
   ]
  },
  {
   "cell_type": "markdown",
   "id": "17c3e3f4",
   "metadata": {},
   "source": [
    "### 5.5.1 维归约\n",
    "-   维归约（Dimensionality Reduction）的思路是减少所考虑的随机变量或属性的个数，用的方法有属性子集选择、小波变换和主成分分析。属性子集选择是一种维归约方法，其中不相关、弱相关或冗余的属性或维被检测或删除。而后两种方法是原始数据变换或投影到较小的空间。"
   ]
  },
  {
   "cell_type": "markdown",
   "id": "5e932ed5",
   "metadata": {},
   "source": [
    "#### 2. 小波变换"
   ]
  },
  {
   "cell_type": "code",
   "execution_count": 5,
   "id": "d3620b93",
   "metadata": {},
   "outputs": [
    {
     "ename": "ValueError",
     "evalue": "The truth value of an array with more than one element is ambiguous. Use a.any() or a.all()",
     "output_type": "error",
     "traceback": [
      "\u001b[1;31m---------------------------------------------------------------------------\u001b[0m",
      "\u001b[1;31mValueError\u001b[0m                                Traceback (most recent call last)",
      "\u001b[1;32m~\\AppData\\Local\\Temp/ipykernel_18784/3928414112.py\u001b[0m in \u001b[0;36m<module>\u001b[1;34m\u001b[0m\n\u001b[0;32m     21\u001b[0m \u001b[0mplt\u001b[0m\u001b[1;33m.\u001b[0m\u001b[0maxis\u001b[0m\u001b[1;33m(\u001b[0m\u001b[1;34m'off'\u001b[0m\u001b[1;33m)\u001b[0m \u001b[1;31m#不显示坐标轴\u001b[0m\u001b[1;33m\u001b[0m\u001b[1;33m\u001b[0m\u001b[0m\n\u001b[0;32m     22\u001b[0m \u001b[0mplt\u001b[0m\u001b[1;33m.\u001b[0m\u001b[0mtitle\u001b[0m\u001b[1;33m(\u001b[0m\u001b[1;34m'低频分量图像'\u001b[0m\u001b[1;33m)\u001b[0m\u001b[1;33m\u001b[0m\u001b[1;33m\u001b[0m\u001b[0m\n\u001b[1;32m---> 23\u001b[1;33m \u001b[0mAA1\u001b[0m\u001b[1;33m=\u001b[0m\u001b[0mnp\u001b[0m\u001b[1;33m.\u001b[0m\u001b[0muint8\u001b[0m\u001b[1;33m(\u001b[0m\u001b[0mnp\u001b[0m\u001b[1;33m.\u001b[0m\u001b[0muint8\u001b[0m\u001b[1;33m(\u001b[0m\u001b[0mcoeffs2\u001b[0m\u001b[1;33m/\u001b[0m\u001b[0mnp\u001b[0m\u001b[1;33m.\u001b[0m\u001b[0mmax\u001b[0m\u001b[1;33m(\u001b[0m\u001b[0mcoeffs2\u001b[0m\u001b[1;33m)\u001b[0m\u001b[1;33m*\u001b[0m\u001b[1;36m25\u001b[0m\u001b[1;33m)\u001b[0m\u001b[1;33m)\u001b[0m\u001b[1;33m\u001b[0m\u001b[1;33m\u001b[0m\u001b[0m\n\u001b[0m\u001b[0;32m     24\u001b[0m \u001b[0mplt\u001b[0m\u001b[1;33m.\u001b[0m\u001b[0mimshow\u001b[0m\u001b[1;33m(\u001b[0m\u001b[0mAA1\u001b[0m\u001b[1;33m,\u001b[0m\u001b[1;34m'gray'\u001b[0m\u001b[1;33m)\u001b[0m\u001b[1;33m\u001b[0m\u001b[1;33m\u001b[0m\u001b[0m\n\u001b[0;32m     25\u001b[0m \u001b[1;31m# plt.imshow(AA1,cmap=plt.cm.gray)\u001b[0m\u001b[1;33m\u001b[0m\u001b[1;33m\u001b[0m\u001b[0m\n",
      "\u001b[1;32m<__array_function__ internals>\u001b[0m in \u001b[0;36mamax\u001b[1;34m(*args, **kwargs)\u001b[0m\n",
      "\u001b[1;32mD:\\Anaconda3\\lib\\site-packages\\numpy\\core\\fromnumeric.py\u001b[0m in \u001b[0;36mamax\u001b[1;34m(a, axis, out, keepdims, initial, where)\u001b[0m\n\u001b[0;32m   2731\u001b[0m     \u001b[1;36m5\u001b[0m\u001b[1;33m\u001b[0m\u001b[1;33m\u001b[0m\u001b[0m\n\u001b[0;32m   2732\u001b[0m     \"\"\"\n\u001b[1;32m-> 2733\u001b[1;33m     return _wrapreduction(a, np.maximum, 'max', axis, None, out,\n\u001b[0m\u001b[0;32m   2734\u001b[0m                           keepdims=keepdims, initial=initial, where=where)\n\u001b[0;32m   2735\u001b[0m \u001b[1;33m\u001b[0m\u001b[0m\n",
      "\u001b[1;32mD:\\Anaconda3\\lib\\site-packages\\numpy\\core\\fromnumeric.py\u001b[0m in \u001b[0;36m_wrapreduction\u001b[1;34m(obj, ufunc, method, axis, dtype, out, **kwargs)\u001b[0m\n\u001b[0;32m     85\u001b[0m                 \u001b[1;32mreturn\u001b[0m \u001b[0mreduction\u001b[0m\u001b[1;33m(\u001b[0m\u001b[0maxis\u001b[0m\u001b[1;33m=\u001b[0m\u001b[0maxis\u001b[0m\u001b[1;33m,\u001b[0m \u001b[0mout\u001b[0m\u001b[1;33m=\u001b[0m\u001b[0mout\u001b[0m\u001b[1;33m,\u001b[0m \u001b[1;33m**\u001b[0m\u001b[0mpasskwargs\u001b[0m\u001b[1;33m)\u001b[0m\u001b[1;33m\u001b[0m\u001b[1;33m\u001b[0m\u001b[0m\n\u001b[0;32m     86\u001b[0m \u001b[1;33m\u001b[0m\u001b[0m\n\u001b[1;32m---> 87\u001b[1;33m     \u001b[1;32mreturn\u001b[0m \u001b[0mufunc\u001b[0m\u001b[1;33m.\u001b[0m\u001b[0mreduce\u001b[0m\u001b[1;33m(\u001b[0m\u001b[0mobj\u001b[0m\u001b[1;33m,\u001b[0m \u001b[0maxis\u001b[0m\u001b[1;33m,\u001b[0m \u001b[0mdtype\u001b[0m\u001b[1;33m,\u001b[0m \u001b[0mout\u001b[0m\u001b[1;33m,\u001b[0m \u001b[1;33m**\u001b[0m\u001b[0mpasskwargs\u001b[0m\u001b[1;33m)\u001b[0m\u001b[1;33m\u001b[0m\u001b[1;33m\u001b[0m\u001b[0m\n\u001b[0m\u001b[0;32m     88\u001b[0m \u001b[1;33m\u001b[0m\u001b[0m\n\u001b[0;32m     89\u001b[0m \u001b[1;33m\u001b[0m\u001b[0m\n",
      "\u001b[1;31mValueError\u001b[0m: The truth value of an array with more than one element is ambiguous. Use a.any() or a.all()"
     ]
    },
    {
     "data": {
      "image/png": "[encoded data removed]",
      "text/plain": [
       "<Figure size 960x480 with 1 Axes>"
      ]
     },
     "metadata": {
      "needs_background": "light"
     },
     "output_type": "display_data"
    }
   ],
   "source": [
    "# 例5.22 小波变换示例\n",
    "import pywt\n",
    "import cv2 as cv\n",
    "import numpy as np\n",
    "import matplotlib.pyplot as plt\n",
    "plt.rcParams['font.family']='STSong' #图形中显示汉字\n",
    "plt.rcParams['font.size']=12\n",
    "\n",
    "# img=cv.imread('E:/Pyhton数据挖掘/matlab/heben.jpg',0) #读取图像\n",
    "original = pywt.data.camera()\n",
    "\n",
    "#对img进行haar小波变换，分量分别是低频、水平高频、垂直高频、对角线高频\n",
    "# cA,(cH,cV,cD)=pywt.dwt2(img,'haar')\n",
    "#\n",
    "# cA,(cH,cV,cD)=pywt.dwt2(img,'haar')\n",
    "coeffs2 = pywt.dwt2(original, 'haar')\n",
    "\n",
    "#小波变换之后，低频分量对应的图像\n",
    "p1=plt.figure(figsize=(12,6),dpi=80) #第一幅子图，并确定画布大小\n",
    "ax1=p1.add_subplot(2,2,1) #创建一个2行2列的子图，并开始绘制第一幅\n",
    "plt.axis('off') #不显示坐标轴\n",
    "plt.title('低频分量图像')\n",
    "AA1=np.uint8(np.uint8(coeffs2/np.max(coeffs2)*25))\n",
    "plt.imshow(AA1,'gray')\n",
    "# plt.imshow(AA1,cmap=plt.cm.gray)\n",
    "\n",
    "ax1=p1.add_subplot(2,2,2)\n",
    "plt.axis('off')\n",
    "plt.title('水平高频分量图像')\n",
    "AA2=np.uint8(np.uint8(cA/np.max(cH)*255))\n",
    "plt.imshow(AA2,'gray')\n",
    "ax3=p1.add_subplot(2,2,3)\n",
    "plt.title('垂直高频分量图像')\n",
    "plt.axis('off')\n",
    "AA3=np.uint8(np.uint8(cV/np.max(cH)*255))\n",
    "# plt.imshow(AA3,'gray')\n",
    "plt.imshow(AA3,plt.cm.gray)\n",
    "ax4=p1.add_subplot(2,2,4)\n",
    "plt.title('对角线高频分量图像')\n",
    "plt.axis('off')\n",
    "AA4=np.uint8(np.uint8(cD/np.max(cH)*255))\n",
    "plt.imshow(AA4,'gray')\n",
    "plt.show()"
   ]
  },
  {
   "cell_type": "code",
   "execution_count": 17,
   "id": "1e5ab082",
   "metadata": {},
   "outputs": [
    {
     "ename": "ValueError",
     "evalue": "Input array has fewer dimensions than the specified axes",
     "output_type": "error",
     "traceback": [
      "\u001b[1;31m---------------------------------------------------------------------------\u001b[0m",
      "\u001b[1;31mValueError\u001b[0m                                Traceback (most recent call last)",
      "\u001b[1;32m~\\AppData\\Local\\Temp/ipykernel_18784/3494151426.py\u001b[0m in \u001b[0;36m<module>\u001b[1;34m\u001b[0m\n\u001b[0;32m      8\u001b[0m \u001b[0mimg\u001b[0m\u001b[1;33m=\u001b[0m\u001b[0mcv\u001b[0m\u001b[1;33m.\u001b[0m\u001b[0mimread\u001b[0m\u001b[1;33m(\u001b[0m\u001b[1;34m'E:/Pyhton数据挖掘/matlab/5_22.jpg'\u001b[0m\u001b[1;33m,\u001b[0m\u001b[1;36m0\u001b[0m\u001b[1;33m)\u001b[0m \u001b[1;31m#读取图像\u001b[0m\u001b[1;33m\u001b[0m\u001b[1;33m\u001b[0m\u001b[0m\n\u001b[0;32m      9\u001b[0m \u001b[1;31m#对img进行haar小波变换，分量分别是低频、水平高频、垂直高频、对角线高频\u001b[0m\u001b[1;33m\u001b[0m\u001b[1;33m\u001b[0m\u001b[0m\n\u001b[1;32m---> 10\u001b[1;33m \u001b[0mcA\u001b[0m\u001b[1;33m,\u001b[0m\u001b[1;33m(\u001b[0m\u001b[0mcH\u001b[0m\u001b[1;33m,\u001b[0m\u001b[0mcV\u001b[0m\u001b[1;33m,\u001b[0m\u001b[0mcD\u001b[0m\u001b[1;33m)\u001b[0m\u001b[1;33m=\u001b[0m\u001b[0mpywt\u001b[0m\u001b[1;33m.\u001b[0m\u001b[0mdwt2\u001b[0m\u001b[1;33m(\u001b[0m\u001b[0mimg\u001b[0m\u001b[1;33m,\u001b[0m\u001b[1;34m'haar'\u001b[0m\u001b[1;33m)\u001b[0m\u001b[1;33m\u001b[0m\u001b[1;33m\u001b[0m\u001b[0m\n\u001b[0m\u001b[0;32m     11\u001b[0m \u001b[1;31m#小波变换之后，低频分量对应的图像\u001b[0m\u001b[1;33m\u001b[0m\u001b[1;33m\u001b[0m\u001b[0m\n\u001b[0;32m     12\u001b[0m \u001b[0mp1\u001b[0m\u001b[1;33m=\u001b[0m\u001b[0mplt\u001b[0m\u001b[1;33m.\u001b[0m\u001b[0mfigure\u001b[0m\u001b[1;33m(\u001b[0m\u001b[0mfigsize\u001b[0m\u001b[1;33m=\u001b[0m\u001b[1;33m(\u001b[0m\u001b[1;36m12\u001b[0m\u001b[1;33m,\u001b[0m\u001b[1;36m6\u001b[0m\u001b[1;33m)\u001b[0m\u001b[1;33m,\u001b[0m\u001b[0mdpi\u001b[0m\u001b[1;33m=\u001b[0m\u001b[1;36m80\u001b[0m\u001b[1;33m)\u001b[0m \u001b[1;31m#第一幅子图，并确定画布大小\u001b[0m\u001b[1;33m\u001b[0m\u001b[1;33m\u001b[0m\u001b[0m\n",
      "\u001b[1;32mD:\\Anaconda3\\lib\\site-packages\\pywt\\_multidim.py\u001b[0m in \u001b[0;36mdwt2\u001b[1;34m(data, wavelet, mode, axes)\u001b[0m\n\u001b[0;32m     68\u001b[0m         \u001b[1;32mraise\u001b[0m \u001b[0mValueError\u001b[0m\u001b[1;33m(\u001b[0m\u001b[1;34m\"Expected 2 axes\"\u001b[0m\u001b[1;33m)\u001b[0m\u001b[1;33m\u001b[0m\u001b[1;33m\u001b[0m\u001b[0m\n\u001b[0;32m     69\u001b[0m     \u001b[1;32mif\u001b[0m \u001b[0mdata\u001b[0m\u001b[1;33m.\u001b[0m\u001b[0mndim\u001b[0m \u001b[1;33m<\u001b[0m \u001b[0mlen\u001b[0m\u001b[1;33m(\u001b[0m\u001b[0mnp\u001b[0m\u001b[1;33m.\u001b[0m\u001b[0munique\u001b[0m\u001b[1;33m(\u001b[0m\u001b[0maxes\u001b[0m\u001b[1;33m)\u001b[0m\u001b[1;33m)\u001b[0m\u001b[1;33m:\u001b[0m\u001b[1;33m\u001b[0m\u001b[1;33m\u001b[0m\u001b[0m\n\u001b[1;32m---> 70\u001b[1;33m         raise ValueError(\"Input array has fewer dimensions than the specified \"\n\u001b[0m\u001b[0;32m     71\u001b[0m                          \"axes\")\n\u001b[0;32m     72\u001b[0m \u001b[1;33m\u001b[0m\u001b[0m\n",
      "\u001b[1;31mValueError\u001b[0m: Input array has fewer dimensions than the specified axes"
     ]
    }
   ],
   "source": [
    "# 例5.22 小波变换示例\n",
    "import pywt\n",
    "import cv2 as cv\n",
    "import numpy as np\n",
    "import matplotlib.pyplot as plt\n",
    "plt.rcParams['font.family']='STSong' #图形中显示汉字\n",
    "plt.rcParams['font.size']=12\n",
    "img=cv.imread('E:/Pyhton数据挖掘/matlab/5_22.jpg',0) #读取图像\n",
    "#对img进行haar小波变换，分量分别是低频、水平高频、垂直高频、对角线高频\n",
    "cA,(cH,cV,cD)=pywt.dwt2(img,'haar')\n",
    "#小波变换之后，低频分量对应的图像\n",
    "p1=plt.figure(figsize=(12,6),dpi=80) #第一幅子图，并确定画布大小\n",
    "ax1=p1.add_subplot(2,2,1) #创建一个2行2列的子图，并开始绘制第一幅\n",
    "plt.axis('off') #不显示坐标轴\n",
    "plt.title('低频分量图像')\n",
    "AA1=np.uint8(np.uint8(cA/np.max(cA)*255))\n",
    "plt.imshow(AA1,'gray')\n",
    "ax1=p1.add_subplot(2,2,2)\n",
    "plt.axis('off')\n",
    "plt.title('水平高频分量图像')\n",
    "AA2=np.uint8(np.uint8(cA/np.max(cH)*255))\n",
    "plt.imshow(AA2,'gray')\n",
    "ax3=p1.add_subplot(2,2,3)\n",
    "plt.title('垂直高频分量图像')\n",
    "plt.axis('off')\n",
    "AA3=np.uint8(np.uint8(cV/np.max(cH)*255))\n",
    "plt.imshow(AA3,'gray')\n",
    "ax4=p1.add_subplot(2,2,4)\n",
    "plt.title('对角线高频分量图像')\n",
    "plt.axis('off')\n",
    "AA4=np.uint8(np.uint8(cD/np.max(cH)*255))\n",
    "plt.imshow(AA4,'gray')\n",
    "plt.show()"
   ]
  },
  {
   "cell_type": "code",
   "execution_count": 7,
   "id": "a69ab733",
   "metadata": {},
   "outputs": [
    {
     "data": {
      "image/png": "[encoded data removed]",
      "text/plain": [
       "<Figure size 864x216 with 4 Axes>"
      ]
     },
     "metadata": {},
     "output_type": "display_data"
    }
   ],
   "source": [
    "import numpy as np\n",
    "import matplotlib.pyplot as plt\n",
    "\n",
    "import pywt\n",
    "import pywt.data\n",
    "\n",
    "\n",
    "# Load image\n",
    "original = pywt.data.camera()\n",
    "\n",
    "# Wavelet transform of image, and plot approximation and details\n",
    "titles = ['Approximation', ' Horizontal detail',\n",
    "          'Vertical detail', 'Diagonal detail']\n",
    "coeffs2 = pywt.dwt2(original, 'bior1.3')\n",
    "LL, (LH, HL, HH) = coeffs2\n",
    "fig = plt.figure(figsize=(12, 3))\n",
    "for i, a in enumerate([LL, LH, HL, HH]):\n",
    "    ax = fig.add_subplot(1, 4, i + 1)\n",
    "    ax.imshow(a, interpolation=\"nearest\", cmap=plt.cm.gray)\n",
    "    ax.set_title(titles[i], fontsize=10)\n",
    "    ax.set_xticks([])\n",
    "    ax.set_yticks([])\n",
    "\n",
    "fig.tight_layout()\n",
    "plt.show()"
   ]
  },
  {
   "cell_type": "code",
   "execution_count": 28,
   "id": "69650174",
   "metadata": {},
   "outputs": [
    {
     "name": "stdout",
     "output_type": "stream",
     "text": [
      "[7.07106781 1.41421356 2.12132034 7.07106781]\n",
      "[-2.82842712  0.         -4.94974747 -1.41421356]\n",
      "[ 3.  7.  1.  1. -2.  5.  4.  6.]\n"
     ]
    }
   ],
   "source": [
    "import pywt\n",
    "x = [3, 7, 1, 1, -2, 5, 4, 6]\n",
    "cA, cD = pywt.dwt(x,'haar')\n",
    "\n",
    "y = pywt.idwt(cA, cD, 'haar')\n",
    "\n",
    "print(cA)\n",
    "print(cD)\n",
    "print(y)"
   ]
  },
  {
   "cell_type": "markdown",
   "id": "1ea76407",
   "metadata": {},
   "source": [
    "### 小波对象\n",
    "#### 小波族和内置小波名称"
   ]
  },
  {
   "cell_type": "markdown",
   "id": "0840eb1e",
   "metadata": {},
   "source": [
    "- Wavelet对象实际上是一堆 DWT 特定数据的方便载体，例如正交镜像过滤器和与它们相关的一些一般属性。\n",
    "- 首先让我们看一下创建Wavelet对象的方法。最简单和最方便的方法是使用名为 Wavelets 的内置函数。\n",
    "- 这些小波被组织成称为小波族的组。最常用的家庭是："
   ]
  },
  {
   "cell_type": "code",
   "execution_count": 13,
   "id": "4f69106d",
   "metadata": {},
   "outputs": [
    {
     "data": {
      "text/plain": [
       "['haar',\n",
       " 'db',\n",
       " 'sym',\n",
       " 'coif',\n",
       " 'bior',\n",
       " 'rbio',\n",
       " 'dmey',\n",
       " 'gaus',\n",
       " 'mexh',\n",
       " 'morl',\n",
       " 'cgau',\n",
       " 'shan',\n",
       " 'fbsp',\n",
       " 'cmor']"
      ]
     },
     "execution_count": 13,
     "metadata": {},
     "output_type": "execute_result"
    }
   ],
   "source": [
    "import pywt\n",
    "pywt.families()"
   ]
  },
  {
   "cell_type": "markdown",
   "id": "3a91eed5",
   "metadata": {},
   "source": [
    "- 将wavelist()族名称作为参数传递的函数用于获取每个族中的小波名称列表。"
   ]
  },
  {
   "cell_type": "code",
   "execution_count": 14,
   "id": "e9768fcc",
   "metadata": {},
   "outputs": [
    {
     "name": "stdout",
     "output_type": "stream",
     "text": [
      "haar family: haar\n",
      "db family: db1, db2, db3, db4, db5, db6, db7, db8, db9, db10, db11, db12, db13, db14, db15, db16, db17, db18, db19, db20, db21, db22, db23, db24, db25, db26, db27, db28, db29, db30, db31, db32, db33, db34, db35, db36, db37, db38\n",
      "sym family: sym2, sym3, sym4, sym5, sym6, sym7, sym8, sym9, sym10, sym11, sym12, sym13, sym14, sym15, sym16, sym17, sym18, sym19, sym20\n",
      "coif family: coif1, coif2, coif3, coif4, coif5, coif6, coif7, coif8, coif9, coif10, coif11, coif12, coif13, coif14, coif15, coif16, coif17\n",
      "bior family: bior1.1, bior1.3, bior1.5, bior2.2, bior2.4, bior2.6, bior2.8, bior3.1, bior3.3, bior3.5, bior3.7, bior3.9, bior4.4, bior5.5, bior6.8\n",
      "rbio family: rbio1.1, rbio1.3, rbio1.5, rbio2.2, rbio2.4, rbio2.6, rbio2.8, rbio3.1, rbio3.3, rbio3.5, rbio3.7, rbio3.9, rbio4.4, rbio5.5, rbio6.8\n",
      "dmey family: dmey\n",
      "gaus family: gaus1, gaus2, gaus3, gaus4, gaus5, gaus6, gaus7, gaus8\n",
      "mexh family: mexh\n",
      "morl family: morl\n",
      "cgau family: cgau1, cgau2, cgau3, cgau4, cgau5, cgau6, cgau7, cgau8\n",
      "shan family: shan\n",
      "fbsp family: fbsp\n",
      "cmor family: cmor\n"
     ]
    }
   ],
   "source": [
    "for family in pywt.families():\n",
    "     print(\"%s family: \" % family + ', '.join(pywt.wavelist(family)))"
   ]
  },
  {
   "cell_type": "code",
   "execution_count": 29,
   "id": "8419b325",
   "metadata": {},
   "outputs": [],
   "source": [
    "# 要获得内置小波名称的完整列表，只需使用wavelist() 不带参数的。"
   ]
  },
  {
   "cell_type": "markdown",
   "id": "68065ffe",
   "metadata": {},
   "source": [
    "#### 创建小波对象"
   ]
  },
  {
   "cell_type": "code",
   "execution_count": 31,
   "id": "aba02205",
   "metadata": {},
   "outputs": [],
   "source": [
    "# 现在，当我们知道所有名称时，让我们最终创建一个Wavelet对象：\n",
    "w = pywt.Wavelet('db3')"
   ]
  },
  {
   "cell_type": "markdown",
   "id": "bff120a4",
   "metadata": {},
   "source": [
    "#### 小波属性"
   ]
  },
  {
   "cell_type": "markdown",
   "id": "cb053bf7",
   "metadata": {},
   "source": [
    "- Wavelet对象带有一些有趣的信息\n",
    "- 首先，让我们尝试打印一个Wavelet对象。这显示了有关其名称、家族名称和正交性和对称性等一些属性的简要信息"
   ]
  },
  {
   "cell_type": "code",
   "execution_count": 32,
   "id": "bff1df00",
   "metadata": {},
   "outputs": [
    {
     "name": "stdout",
     "output_type": "stream",
     "text": [
      "Wavelet db3\n",
      "  Family name:    Daubechies\n",
      "  Short name:     db\n",
      "  Filters length: 6\n",
      "  Orthogonal:     True\n",
      "  Biorthogonal:   True\n",
      "  Symmetry:       asymmetric\n",
      "  DWT:            True\n",
      "  CWT:            False\n"
     ]
    }
   ],
   "source": [
    "print(w)"
   ]
  },
  {
   "cell_type": "markdown",
   "id": "099bf8ce",
   "metadata": {},
   "source": [
    "- 但最重要的信息是用于离散小波变换的小波滤波器系数。这些系数可以通过dec_lo、和属性获得Wavelet.dec_hi， 它们分别对应于低通和高通分解滤波器以及低通和高通重构滤波器：rec_lorec_hi"
   ]
  },
  {
   "cell_type": "code",
   "execution_count": null,
   "id": "0b564a65",
   "metadata": {},
   "outputs": [],
   "source": []
  },
  {
   "cell_type": "code",
   "execution_count": 33,
   "id": "4963034d",
   "metadata": {},
   "outputs": [
    {
     "name": "stdout",
     "output_type": "stream",
     "text": [
      "[0.95713353 0.03398198]\n",
      "[[  7.96504337   4.12166867]\n",
      " [ -0.43650137   2.07052079]\n",
      " [-13.63653266   1.86686164]\n",
      " [-22.28361821  -2.32219188]\n",
      " [  3.47849303  -3.95193502]\n",
      " [ 24.91311585  -1.78492421]]\n"
     ]
    }
   ],
   "source": [
    "# 例5.24 PCA()函数应用实例\n",
    "import numpy as np\n",
    "from sklearn.decomposition import PCA\n",
    "X=np.array([[-1,2,66,-1],[-2,6,58,-1],[-3,8,45,-2],[1,9,36,1],[2,10,62,1],[3,5,83,2]])\n",
    "pca=PCA(n_components=2) #降到2维\n",
    "pca.fit(X) #训练\n",
    "newX=pca.fit_transform(X) #降维后的数据\n",
    "print(pca.explained_variance_ratio_) #输出贡献率\n",
    "print(newX) #输出降维后的数据"
   ]
  },
  {
   "cell_type": "code",
   "execution_count": 34,
   "id": "3ed8745b",
   "metadata": {
    "scrolled": true
   },
   "outputs": [
    {
     "name": "stdout",
     "output_type": "stream",
     "text": [
      "['好' '很' '质量很好']\n",
      "['差']\n",
      "['一般']\n"
     ]
    },
    {
     "name": "stderr",
     "output_type": "stream",
     "text": [
      "<>:19: SyntaxWarning: \"is\" with a literal. Did you mean \"==\"?\n",
      "<>:19: SyntaxWarning: \"is\" with a literal. Did you mean \"==\"?\n",
      "C:\\Users\\admin\\AppData\\Local\\Temp/ipykernel_2876/3636846806.py:19: SyntaxWarning: \"is\" with a literal. Did you mean \"==\"?\n",
      "  if word is '':\n"
     ]
    }
   ],
   "source": [
    "import numpy as np\n",
    "dictB = ['质量', '质量很好', '差',  '一般'] # 词典（网上有很多）\n",
    "maxDictB = max([len(word) for word in dictB])\n",
    "sen1='质量很好很好很好很好很好质量很好质量很好'\n",
    "sen2='差差差差差差差差差差差差'\n",
    "sen3='一般一般一般一般一般一般'\n",
    "def cutB(sentence): #基于字典的逆向最大匹配中文分词\n",
    "    result = []\n",
    "    sentenceLen = len(sentence)\n",
    "    while sentenceLen > 0:\n",
    "        word = ''\n",
    "        for i in range(maxDictB, 0, -1):\n",
    "            piece = sentence[sentenceLen-i:sentenceLen]\n",
    "            if piece in dictB:\n",
    "                word = piece\n",
    "                result.append(word)\n",
    "                sentenceLen -= i\n",
    "                break\n",
    "        if word is '':\n",
    "            sentenceLen -= 1\n",
    "            result.append(sentence[sentenceLen])\n",
    "    print(np.unique(result[::-1])) #去掉重复词\n",
    "cutB(sen1)\n",
    "cutB(sen2)\n",
    "cutB(sen3)"
   ]
  },
  {
   "cell_type": "markdown",
   "id": "8156a65d",
   "metadata": {},
   "source": [
    "## 5.6 数据变换与数据离散化"
   ]
  },
  {
   "cell_type": "markdown",
   "id": "7b200950",
   "metadata": {},
   "source": [
    "### 5.6.1 数据变换"
   ]
  },
  {
   "cell_type": "markdown",
   "id": "1a91002d",
   "metadata": {},
   "source": [
    "#### 1. 特征二值化\n",
    "    特征二值化的核心在于设定一个阈值，将特征与该阈值比较后，转焕为0或1（只考虑某个特征出现与否，不考虑出现次数、程度），它的目的是将连续数值细粒度的度量转化为粗粒度的度量。\n",
    "    sklearn.preprocessing.Binarizer()是一种属于预处理模块的方法。它在离散连续特征值中起关键作用。常用形式为：\n",
    "    Binarizer(threshold=0.0) \n",
    "    其中参数Threshol是给定的阈值（float），可选项，小于等于threshold的值映射为0，否则映射为1。缺省情况下，阈值为0.0。"
   ]
  },
  {
   "cell_type": "code",
   "execution_count": 8,
   "id": "7bb3d6e7",
   "metadata": {},
   "outputs": [
    {
     "name": "stdout",
     "output_type": "stream",
     "text": [
      "[[0 0 1]\n",
      " [0 0 1]\n",
      " [0 0 0]\n",
      " [1 0 1]]\n"
     ]
    }
   ],
   "source": [
    "# 例5.26 特征二值化示例\n",
    "from sklearn.preprocessing import Binarizer\n",
    "data=[[1,2,4],[1,2,6],[3,2,2],[4,3,8]]\n",
    "binar=Binarizer(threshold=3) #将数值型数据转化为布尔型的二值数据\n",
    "print(binar.fit_transform(data)) #对数据先进行拟合，然后标准化"
   ]
  },
  {
   "cell_type": "markdown",
   "id": "77049f0b",
   "metadata": {},
   "source": [
    "#### 2. 特征归一化\n",
    "    特征归一化也叫做数据无量纲化，主要包括：总和标准化、标准差标准化、极差标准化（§5.4.2）、极大值标准化（§5.4.3）。基于参数的模型或基于距离的模型，都需要进行特征归一化。"
   ]
  },
  {
   "cell_type": "markdown",
   "id": "38216283",
   "metadata": {},
   "source": [
    "#### 3. 连续特征变换\n",
    "    连续特征变换的常用方法有三种：基于多项式的数据变换、基于指数函数的数据变换、基于对数函数的数据变换。连续特征变换能够增加数据的非线性特征捕获特征之间的关系，有效提高模型的复杂度。"
   ]
  },
  {
   "cell_type": "code",
   "execution_count": 9,
   "id": "73bbfe57",
   "metadata": {},
   "outputs": [
    {
     "name": "stdout",
     "output_type": "stream",
     "text": [
      "[[0 1 2]\n",
      " [3 4 5]\n",
      " [6 7 8]]\n",
      "[[ 1.  0.  1.  2.  0.  0.  0.  1.  2.  4.]\n",
      " [ 1.  3.  4.  5.  9. 12. 15. 16. 20. 25.]\n",
      " [ 1.  6.  7.  8. 36. 42. 48. 49. 56. 64.]]\n",
      "[[  1.   0.   1.   2.   0.   0.   0.   1.   2.   4.   0.   0.   0.   0.\n",
      "    0.   0.   1.   2.   4.   8.]\n",
      " [  1.   3.   4.   5.   9.  12.  15.  16.  20.  25.  27.  36.  45.  48.\n",
      "   60.  75.  64.  80. 100. 125.]\n",
      " [  1.   6.   7.   8.  36.  42.  48.  49.  56.  64. 216. 252. 288. 294.\n",
      "  336. 384. 343. 392. 448. 512.]]\n"
     ]
    }
   ],
   "source": [
    "# 例5.27 多项式变换示例\n",
    "import numpy as np\n",
    "from sklearn.preprocessing import PolynomialFeatures\n",
    "from sklearn.preprocessing import FunctionTransformer\n",
    "X=np.arange(9).reshape(3,3)  #生成多项式\n",
    "print(X)   \n",
    "ploy=PolynomialFeatures(degree=2)  \n",
    "print(ploy.fit_transform(X))\n",
    "ploy=PolynomialFeatures(degree=3)  \n",
    "print(ploy.fit_transform(X))"
   ]
  },
  {
   "cell_type": "code",
   "execution_count": 11,
   "id": "f20f807c",
   "metadata": {},
   "outputs": [
    {
     "name": "stdout",
     "output_type": "stream",
     "text": [
      "原数据：\n",
      " [5.1 3.5 1.4 0.2]\n",
      "指数变换后的数据：\n",
      " [164.0219073   33.11545196   4.05519997   1.22140276]\n"
     ]
    }
   ],
   "source": [
    "# 例5.28 指数变换示例\n",
    "import numpy as np\n",
    "from sklearn.preprocessing import FunctionTransformer\n",
    "from sklearn.datasets import load_iris\n",
    "iris=load_iris()\n",
    "print('原数据：\\n',iris.data[0])\n",
    "df= FunctionTransformer(np.exp)\n",
    "df1=df.fit_transform(iris.data[0])\n",
    "print('指数变换后的数据：\\n',df1)"
   ]
  },
  {
   "cell_type": "code",
   "execution_count": 12,
   "id": "3a2edc30",
   "metadata": {},
   "outputs": [
    {
     "name": "stdout",
     "output_type": "stream",
     "text": [
      "原数据：\n",
      " [[5.1 3.5 1.4 0.2]\n",
      " [4.9 3.  1.4 0.2]\n",
      " [4.7 3.2 1.3 0.2]\n",
      " [4.6 3.1 1.5 0.2]\n",
      " [5.  3.6 1.4 0.2]\n",
      " [5.4 3.9 1.7 0.4]\n",
      " [4.6 3.4 1.4 0.3]\n",
      " [5.  3.4 1.5 0.2]\n",
      " [4.4 2.9 1.4 0.2]\n",
      " [4.9 3.1 1.5 0.1]\n",
      " [5.4 3.7 1.5 0.2]\n",
      " [4.8 3.4 1.6 0.2]\n",
      " [4.8 3.  1.4 0.1]\n",
      " [4.3 3.  1.1 0.1]\n",
      " [5.8 4.  1.2 0.2]\n",
      " [5.7 4.4 1.5 0.4]\n",
      " [5.4 3.9 1.3 0.4]\n",
      " [5.1 3.5 1.4 0.3]\n",
      " [5.7 3.8 1.7 0.3]\n",
      " [5.1 3.8 1.5 0.3]\n",
      " [5.4 3.4 1.7 0.2]\n",
      " [5.1 3.7 1.5 0.4]\n",
      " [4.6 3.6 1.  0.2]\n",
      " [5.1 3.3 1.7 0.5]\n",
      " [4.8 3.4 1.9 0.2]\n",
      " [5.  3.  1.6 0.2]\n",
      " [5.  3.4 1.6 0.4]\n",
      " [5.2 3.5 1.5 0.2]\n",
      " [5.2 3.4 1.4 0.2]\n",
      " [4.7 3.2 1.6 0.2]\n",
      " [4.8 3.1 1.6 0.2]\n",
      " [5.4 3.4 1.5 0.4]\n",
      " [5.2 4.1 1.5 0.1]\n",
      " [5.5 4.2 1.4 0.2]\n",
      " [4.9 3.1 1.5 0.2]\n",
      " [5.  3.2 1.2 0.2]\n",
      " [5.5 3.5 1.3 0.2]\n",
      " [4.9 3.6 1.4 0.1]\n",
      " [4.4 3.  1.3 0.2]\n",
      " [5.1 3.4 1.5 0.2]\n",
      " [5.  3.5 1.3 0.3]\n",
      " [4.5 2.3 1.3 0.3]\n",
      " [4.4 3.2 1.3 0.2]\n",
      " [5.  3.5 1.6 0.6]\n",
      " [5.1 3.8 1.9 0.4]\n",
      " [4.8 3.  1.4 0.3]\n",
      " [5.1 3.8 1.6 0.2]\n",
      " [4.6 3.2 1.4 0.2]\n",
      " [5.3 3.7 1.5 0.2]\n",
      " [5.  3.3 1.4 0.2]\n",
      " [7.  3.2 4.7 1.4]\n",
      " [6.4 3.2 4.5 1.5]\n",
      " [6.9 3.1 4.9 1.5]\n",
      " [5.5 2.3 4.  1.3]\n",
      " [6.5 2.8 4.6 1.5]\n",
      " [5.7 2.8 4.5 1.3]\n",
      " [6.3 3.3 4.7 1.6]\n",
      " [4.9 2.4 3.3 1. ]\n",
      " [6.6 2.9 4.6 1.3]\n",
      " [5.2 2.7 3.9 1.4]\n",
      " [5.  2.  3.5 1. ]\n",
      " [5.9 3.  4.2 1.5]\n",
      " [6.  2.2 4.  1. ]\n",
      " [6.1 2.9 4.7 1.4]\n",
      " [5.6 2.9 3.6 1.3]\n",
      " [6.7 3.1 4.4 1.4]\n",
      " [5.6 3.  4.5 1.5]\n",
      " [5.8 2.7 4.1 1. ]\n",
      " [6.2 2.2 4.5 1.5]\n",
      " [5.6 2.5 3.9 1.1]\n",
      " [5.9 3.2 4.8 1.8]\n",
      " [6.1 2.8 4.  1.3]\n",
      " [6.3 2.5 4.9 1.5]\n",
      " [6.1 2.8 4.7 1.2]\n",
      " [6.4 2.9 4.3 1.3]\n",
      " [6.6 3.  4.4 1.4]\n",
      " [6.8 2.8 4.8 1.4]\n",
      " [6.7 3.  5.  1.7]\n",
      " [6.  2.9 4.5 1.5]\n",
      " [5.7 2.6 3.5 1. ]\n",
      " [5.5 2.4 3.8 1.1]\n",
      " [5.5 2.4 3.7 1. ]\n",
      " [5.8 2.7 3.9 1.2]\n",
      " [6.  2.7 5.1 1.6]\n",
      " [5.4 3.  4.5 1.5]\n",
      " [6.  3.4 4.5 1.6]\n",
      " [6.7 3.1 4.7 1.5]\n",
      " [6.3 2.3 4.4 1.3]\n",
      " [5.6 3.  4.1 1.3]\n",
      " [5.5 2.5 4.  1.3]\n",
      " [5.5 2.6 4.4 1.2]\n",
      " [6.1 3.  4.6 1.4]\n",
      " [5.8 2.6 4.  1.2]\n",
      " [5.  2.3 3.3 1. ]\n",
      " [5.6 2.7 4.2 1.3]\n",
      " [5.7 3.  4.2 1.2]\n",
      " [5.7 2.9 4.2 1.3]\n",
      " [6.2 2.9 4.3 1.3]\n",
      " [5.1 2.5 3.  1.1]\n",
      " [5.7 2.8 4.1 1.3]\n",
      " [6.3 3.3 6.  2.5]\n",
      " [5.8 2.7 5.1 1.9]\n",
      " [7.1 3.  5.9 2.1]\n",
      " [6.3 2.9 5.6 1.8]\n",
      " [6.5 3.  5.8 2.2]\n",
      " [7.6 3.  6.6 2.1]\n",
      " [4.9 2.5 4.5 1.7]\n",
      " [7.3 2.9 6.3 1.8]\n",
      " [6.7 2.5 5.8 1.8]\n",
      " [7.2 3.6 6.1 2.5]\n",
      " [6.5 3.2 5.1 2. ]\n",
      " [6.4 2.7 5.3 1.9]\n",
      " [6.8 3.  5.5 2.1]\n",
      " [5.7 2.5 5.  2. ]\n",
      " [5.8 2.8 5.1 2.4]\n",
      " [6.4 3.2 5.3 2.3]\n",
      " [6.5 3.  5.5 1.8]\n",
      " [7.7 3.8 6.7 2.2]\n",
      " [7.7 2.6 6.9 2.3]\n",
      " [6.  2.2 5.  1.5]\n",
      " [6.9 3.2 5.7 2.3]\n",
      " [5.6 2.8 4.9 2. ]\n",
      " [7.7 2.8 6.7 2. ]\n",
      " [6.3 2.7 4.9 1.8]\n",
      " [6.7 3.3 5.7 2.1]\n",
      " [7.2 3.2 6.  1.8]\n",
      " [6.2 2.8 4.8 1.8]\n",
      " [6.1 3.  4.9 1.8]\n",
      " [6.4 2.8 5.6 2.1]\n",
      " [7.2 3.  5.8 1.6]\n",
      " [7.4 2.8 6.1 1.9]\n",
      " [7.9 3.8 6.4 2. ]\n",
      " [6.4 2.8 5.6 2.2]\n",
      " [6.3 2.8 5.1 1.5]\n",
      " [6.1 2.6 5.6 1.4]\n",
      " [7.7 3.  6.1 2.3]\n",
      " [6.3 3.4 5.6 2.4]\n",
      " [6.4 3.1 5.5 1.8]\n",
      " [6.  3.  4.8 1.8]\n",
      " [6.9 3.1 5.4 2.1]\n",
      " [6.7 3.1 5.6 2.4]\n",
      " [6.9 3.1 5.1 2.3]\n",
      " [5.8 2.7 5.1 1.9]\n",
      " [6.8 3.2 5.9 2.3]\n",
      " [6.7 3.3 5.7 2.5]\n",
      " [6.7 3.  5.2 2.3]\n",
      " [6.3 2.5 5.  1.9]\n",
      " [6.5 3.  5.2 2. ]\n",
      " [6.2 3.4 5.4 2.3]\n",
      " [5.9 3.  5.1 1.8]]\n",
      "对数变换后的数据：\n",
      " [[1.80828877 1.5040774  0.87546874 0.18232156]\n",
      " [1.77495235 1.38629436 0.87546874 0.18232156]\n",
      " [1.74046617 1.43508453 0.83290912 0.18232156]\n",
      " [1.7227666  1.41098697 0.91629073 0.18232156]\n",
      " [1.79175947 1.5260563  0.87546874 0.18232156]\n",
      " [1.85629799 1.58923521 0.99325177 0.33647224]\n",
      " [1.7227666  1.48160454 0.87546874 0.26236426]\n",
      " [1.79175947 1.48160454 0.91629073 0.18232156]\n",
      " [1.68639895 1.36097655 0.87546874 0.18232156]\n",
      " [1.77495235 1.41098697 0.91629073 0.09531018]\n",
      " [1.85629799 1.54756251 0.91629073 0.18232156]\n",
      " [1.75785792 1.48160454 0.95551145 0.18232156]\n",
      " [1.75785792 1.38629436 0.87546874 0.09531018]\n",
      " [1.66770682 1.38629436 0.74193734 0.09531018]\n",
      " [1.91692261 1.60943791 0.78845736 0.18232156]\n",
      " [1.90210753 1.68639895 0.91629073 0.33647224]\n",
      " [1.85629799 1.58923521 0.83290912 0.33647224]\n",
      " [1.80828877 1.5040774  0.87546874 0.26236426]\n",
      " [1.90210753 1.56861592 0.99325177 0.26236426]\n",
      " [1.80828877 1.56861592 0.91629073 0.26236426]\n",
      " [1.85629799 1.48160454 0.99325177 0.18232156]\n",
      " [1.80828877 1.54756251 0.91629073 0.33647224]\n",
      " [1.7227666  1.5260563  0.69314718 0.18232156]\n",
      " [1.80828877 1.45861502 0.99325177 0.40546511]\n",
      " [1.75785792 1.48160454 1.06471074 0.18232156]\n",
      " [1.79175947 1.38629436 0.95551145 0.18232156]\n",
      " [1.79175947 1.48160454 0.95551145 0.33647224]\n",
      " [1.82454929 1.5040774  0.91629073 0.18232156]\n",
      " [1.82454929 1.48160454 0.87546874 0.18232156]\n",
      " [1.74046617 1.43508453 0.95551145 0.18232156]\n",
      " [1.75785792 1.41098697 0.95551145 0.18232156]\n",
      " [1.85629799 1.48160454 0.91629073 0.33647224]\n",
      " [1.82454929 1.62924054 0.91629073 0.09531018]\n",
      " [1.87180218 1.64865863 0.87546874 0.18232156]\n",
      " [1.77495235 1.41098697 0.91629073 0.18232156]\n",
      " [1.79175947 1.43508453 0.78845736 0.18232156]\n",
      " [1.87180218 1.5040774  0.83290912 0.18232156]\n",
      " [1.77495235 1.5260563  0.87546874 0.09531018]\n",
      " [1.68639895 1.38629436 0.83290912 0.18232156]\n",
      " [1.80828877 1.48160454 0.91629073 0.18232156]\n",
      " [1.79175947 1.5040774  0.83290912 0.26236426]\n",
      " [1.70474809 1.19392247 0.83290912 0.26236426]\n",
      " [1.68639895 1.43508453 0.83290912 0.18232156]\n",
      " [1.79175947 1.5040774  0.95551145 0.47000363]\n",
      " [1.80828877 1.56861592 1.06471074 0.33647224]\n",
      " [1.75785792 1.38629436 0.87546874 0.26236426]\n",
      " [1.80828877 1.56861592 0.95551145 0.18232156]\n",
      " [1.7227666  1.43508453 0.87546874 0.18232156]\n",
      " [1.84054963 1.54756251 0.91629073 0.18232156]\n",
      " [1.79175947 1.45861502 0.87546874 0.18232156]\n",
      " [2.07944154 1.43508453 1.74046617 0.87546874]\n",
      " [2.00148    1.43508453 1.70474809 0.91629073]\n",
      " [2.06686276 1.41098697 1.77495235 0.91629073]\n",
      " [1.87180218 1.19392247 1.60943791 0.83290912]\n",
      " [2.01490302 1.33500107 1.7227666  0.91629073]\n",
      " [1.90210753 1.33500107 1.70474809 0.83290912]\n",
      " [1.98787435 1.45861502 1.74046617 0.95551145]\n",
      " [1.77495235 1.22377543 1.45861502 0.69314718]\n",
      " [2.02814825 1.36097655 1.7227666  0.83290912]\n",
      " [1.82454929 1.30833282 1.58923521 0.87546874]\n",
      " [1.79175947 1.09861229 1.5040774  0.69314718]\n",
      " [1.93152141 1.38629436 1.64865863 0.91629073]\n",
      " [1.94591015 1.16315081 1.60943791 0.69314718]\n",
      " [1.96009478 1.36097655 1.74046617 0.87546874]\n",
      " [1.88706965 1.36097655 1.5260563  0.83290912]\n",
      " [2.04122033 1.41098697 1.68639895 0.87546874]\n",
      " [1.88706965 1.38629436 1.70474809 0.91629073]\n",
      " [1.91692261 1.30833282 1.62924054 0.69314718]\n",
      " [1.97408103 1.16315081 1.70474809 0.91629073]\n",
      " [1.88706965 1.25276297 1.58923521 0.74193734]\n",
      " [1.93152141 1.43508453 1.75785792 1.02961942]\n",
      " [1.96009478 1.33500107 1.60943791 0.83290912]\n",
      " [1.98787435 1.25276297 1.77495235 0.91629073]\n",
      " [1.96009478 1.33500107 1.74046617 0.78845736]\n",
      " [2.00148    1.36097655 1.66770682 0.83290912]\n",
      " [2.02814825 1.38629436 1.68639895 0.87546874]\n",
      " [2.05412373 1.33500107 1.75785792 0.87546874]\n",
      " [2.04122033 1.38629436 1.79175947 0.99325177]\n",
      " [1.94591015 1.36097655 1.70474809 0.91629073]\n",
      " [1.90210753 1.28093385 1.5040774  0.69314718]\n",
      " [1.87180218 1.22377543 1.56861592 0.74193734]\n",
      " [1.87180218 1.22377543 1.54756251 0.69314718]\n",
      " [1.91692261 1.30833282 1.58923521 0.78845736]\n",
      " [1.94591015 1.30833282 1.80828877 0.95551145]\n",
      " [1.85629799 1.38629436 1.70474809 0.91629073]\n",
      " [1.94591015 1.48160454 1.70474809 0.95551145]\n",
      " [2.04122033 1.41098697 1.74046617 0.91629073]\n",
      " [1.98787435 1.19392247 1.68639895 0.83290912]\n",
      " [1.88706965 1.38629436 1.62924054 0.83290912]\n",
      " [1.87180218 1.25276297 1.60943791 0.83290912]\n",
      " [1.87180218 1.28093385 1.68639895 0.78845736]\n",
      " [1.96009478 1.38629436 1.7227666  0.87546874]\n",
      " [1.91692261 1.28093385 1.60943791 0.78845736]\n",
      " [1.79175947 1.19392247 1.45861502 0.69314718]\n",
      " [1.88706965 1.30833282 1.64865863 0.83290912]\n",
      " [1.90210753 1.38629436 1.64865863 0.78845736]\n",
      " [1.90210753 1.36097655 1.64865863 0.83290912]\n",
      " [1.97408103 1.36097655 1.66770682 0.83290912]\n",
      " [1.80828877 1.25276297 1.38629436 0.74193734]\n",
      " [1.90210753 1.33500107 1.62924054 0.83290912]\n",
      " [1.98787435 1.45861502 1.94591015 1.25276297]\n",
      " [1.91692261 1.30833282 1.80828877 1.06471074]\n",
      " [2.09186406 1.38629436 1.93152141 1.13140211]\n",
      " [1.98787435 1.36097655 1.88706965 1.02961942]\n",
      " [2.01490302 1.38629436 1.91692261 1.16315081]\n",
      " [2.1517622  1.38629436 2.02814825 1.13140211]\n",
      " [1.77495235 1.25276297 1.70474809 0.99325177]\n",
      " [2.11625551 1.36097655 1.98787435 1.02961942]\n",
      " [2.04122033 1.25276297 1.91692261 1.02961942]\n",
      " [2.10413415 1.5260563  1.96009478 1.25276297]\n",
      " [2.01490302 1.43508453 1.80828877 1.09861229]\n",
      " [2.00148    1.30833282 1.84054963 1.06471074]\n",
      " [2.05412373 1.38629436 1.87180218 1.13140211]\n",
      " [1.90210753 1.25276297 1.79175947 1.09861229]\n",
      " [1.91692261 1.33500107 1.80828877 1.22377543]\n",
      " [2.00148    1.43508453 1.84054963 1.19392247]\n",
      " [2.01490302 1.38629436 1.87180218 1.02961942]\n",
      " [2.16332303 1.56861592 2.04122033 1.16315081]\n",
      " [2.16332303 1.28093385 2.06686276 1.19392247]\n",
      " [1.94591015 1.16315081 1.79175947 0.91629073]\n",
      " [2.06686276 1.43508453 1.90210753 1.19392247]\n",
      " [1.88706965 1.33500107 1.77495235 1.09861229]\n",
      " [2.16332303 1.33500107 2.04122033 1.09861229]\n",
      " [1.98787435 1.30833282 1.77495235 1.02961942]\n",
      " [2.04122033 1.45861502 1.90210753 1.13140211]\n",
      " [2.10413415 1.43508453 1.94591015 1.02961942]\n",
      " [1.97408103 1.33500107 1.75785792 1.02961942]\n",
      " [1.96009478 1.38629436 1.77495235 1.02961942]\n",
      " [2.00148    1.33500107 1.88706965 1.13140211]\n",
      " [2.10413415 1.38629436 1.91692261 0.95551145]\n",
      " [2.12823171 1.33500107 1.96009478 1.06471074]\n",
      " [2.18605128 1.56861592 2.00148    1.09861229]\n",
      " [2.00148    1.33500107 1.88706965 1.16315081]\n",
      " [1.98787435 1.33500107 1.80828877 0.91629073]\n",
      " [1.96009478 1.28093385 1.88706965 0.87546874]\n",
      " [2.16332303 1.38629436 1.96009478 1.19392247]\n",
      " [1.98787435 1.48160454 1.88706965 1.22377543]\n",
      " [2.00148    1.41098697 1.87180218 1.02961942]\n",
      " [1.94591015 1.38629436 1.75785792 1.02961942]\n",
      " [2.06686276 1.41098697 1.85629799 1.13140211]\n",
      " [2.04122033 1.41098697 1.88706965 1.22377543]\n",
      " [2.06686276 1.41098697 1.80828877 1.19392247]\n",
      " [1.91692261 1.30833282 1.80828877 1.06471074]\n",
      " [2.05412373 1.43508453 1.93152141 1.19392247]\n",
      " [2.04122033 1.45861502 1.90210753 1.25276297]\n",
      " [2.04122033 1.38629436 1.82454929 1.19392247]\n",
      " [1.98787435 1.25276297 1.79175947 1.06471074]\n",
      " [2.01490302 1.38629436 1.82454929 1.09861229]\n",
      " [1.97408103 1.48160454 1.85629799 1.19392247]\n",
      " [1.93152141 1.38629436 1.80828877 1.02961942]]\n"
     ]
    }
   ],
   "source": [
    "# 例5.29 对数变换示例\n",
    "from numpy import log1p\n",
    "from sklearn.preprocessing import FunctionTransformer\n",
    "from sklearn.datasets import load_iris\n",
    "iris=load_iris()\n",
    "print('原数据：\\n',iris.data)\n",
    "df= FunctionTransformer(log1p).fit_transform(iris.data)\n",
    "print('对数变换后的数据：\\n',df)"
   ]
  },
  {
   "cell_type": "markdown",
   "id": "a292e7c2",
   "metadata": {},
   "source": [
    "#### 4. 独热编码\n",
    "    独热编码（One-Hot-coding）又称为one-hot编码，其方法是使用N位来对N个状态进行编码，一位代表一种状态。且只有该状态所在位为1，其他位都为0。"
   ]
  },
  {
   "cell_type": "code",
   "execution_count": 13,
   "id": "3fbc0d05",
   "metadata": {},
   "outputs": [
    {
     "name": "stdout",
     "output_type": "stream",
     "text": [
      "[[0. 1. 0. 0. 1. 0. 0. 1. 0.]]\n"
     ]
    }
   ],
   "source": [
    "# 例5.30 独热编码示例\n",
    "from sklearn.preprocessing import OneHotEncoder\n",
    "data=[[1,0,3],[1,1,0],[0,2,1],[1,0,2]]\n",
    "oneHotEn=OneHotEncoder(sparse=False)  #如果不加参数sparse=False,输出是稀疏的存储格式\n",
    "oneHotEn.fit(data)\n",
    "ans=oneHotEn.transform([[1,2,2]])\n",
    "print(ans)"
   ]
  },
  {
   "cell_type": "markdown",
   "id": "9f2ccbea",
   "metadata": {},
   "source": [
    "### 5.6.2 数据离散化"
   ]
  },
  {
   "cell_type": "markdown",
   "id": "86fc1bcf",
   "metadata": {},
   "source": [
    "#### 1.等宽法\n",
    "    等宽法是将属性值分为具有相同宽度的区间，区间个数由数据本身的特点决定或由用户指定。。比如属性值在[0,60]之间，最小值为0，最大值为60，我们要将其分为3等分，则区间被划分为[0,20] 、[21,40] 、[41，60]，每个属性值对应属于它的那个区间。"
   ]
  },
  {
   "cell_type": "markdown",
   "id": "b7a5c265",
   "metadata": {},
   "source": [
    "Pandas的cut()函数能够实现等宽法离散化操作，常用形式为：\n",
    "- pd.cut(X, bins, right=True, labels=None,include_lowest=False)\n",
    "- 参数说明：\n",
    "(1) X：一维数组，原始数据集。\n",
    "(2) bins ：整数，如果填入整数n，则表示将X中的数值分成等宽的n份。\n",
    "(3) right ：布尔值，默认为True表示包含最右侧的数值。\n",
    "(4) labels 接收 list、array，表示离散化后各个类别的名称，默认为空。\n",
    "    (5) include_lowest：布尔值，表示区间的左边是开还是闭，默认为false，也就是不包含区间左边。"
   ]
  },
  {
   "cell_type": "code",
   "execution_count": 15,
   "id": "f73e5930",
   "metadata": {},
   "outputs": [
    {
     "data": {
      "image/png": "[encoded data removed]",
      "text/plain": [
       "<Figure size 864x288 with 1 Axes>"
      ]
     },
     "metadata": {
      "needs_background": "light"
     },
     "output_type": "display_data"
    }
   ],
   "source": [
    "# 例5.31 利用等宽法进行数据离散化示例\n",
    "# 随机产生200个人的年龄数据，然后通过等宽离散化，并进行可视化。\n",
    "import numpy as np\n",
    "import pandas as pd\n",
    "import matplotlib.pyplot as plt\n",
    "def cluster_plot(d, k):\n",
    "    plt.rcParams['font.sans-serif'] = ['SimHei']\n",
    "    plt.rcParams['axes.unicode_minus'] = False\n",
    "    plt.figure(figsize=(12,4))\n",
    "    for j in range(0, k):\n",
    "        plt.plot(data[d == j], [j for i in d[d == j]], 'o')\n",
    "    plt.ylim(-0.5, k - 0.5)\n",
    "    return plt\n",
    "data = np.random.randint(1, 100, 200)\n",
    "k = 5  #分为5个等宽区间\n",
    "d1 = pd.cut(data, k, labels=range(k))  #等宽离散\n",
    "cluster_plot(d1, k).show()"
   ]
  },
  {
   "cell_type": "markdown",
   "id": "06a92697",
   "metadata": {},
   "source": [
    "#### 2.等频法\n",
    "    等频法是将相同数量的记录放在每个区间，保证每个区间的数量基本一致。即将属性值分为具有相同宽度的区间，区间的个数k根据实际情况来决定。比如有60个样本，我们要将其分为k=3部分，则每部分的长度为20个样本。优点是数据变为均匀分布，但是会更改原有的数据结构"
   ]
  },
  {
   "cell_type": "code",
   "execution_count": 18,
   "id": "173b66a5",
   "metadata": {},
   "outputs": [
    {
     "data": {
      "image/png": "[encoded data removed]",
      "text/plain": [
       "<Figure size 864x288 with 1 Axes>"
      ]
     },
     "metadata": {
      "needs_background": "light"
     },
     "output_type": "display_data"
    }
   ],
   "source": [
    "# 例5.32 利用等频法进行数据离散化示例\n",
    "def cluster_plot(d, k):\n",
    "    import matplotlib.pyplot as plt\n",
    "    plt.figure(figsize=(12, 4))\n",
    "    for j in range(0, k):\n",
    "        plt.plot(data[d == j], [j for i in d[d == j]], 'o')\n",
    "    plt.ylim(-0.5, k - 0.5)\n",
    "    return plt\n",
    "import numpy as np\n",
    "import pandas as pd\n",
    "import matplotlib.pyplot as plt\n",
    "data = np.random.randint(1, 100, 200)\n",
    "data = pd.Series(data)\n",
    "k = 6\n",
    "w = [1.0 * i / k for i in range(k + 1)]\n",
    "w = data.describe(percentiles=w)[4:4 + k + 1]\n",
    "w[0] = w[0] * (1 - 1e-10)\n",
    "d4 = pd.cut(data, w, labels=range(k)) # 等频率离散化\n",
    "cluster_plot(d4, k).show()"
   ]
  },
  {
   "cell_type": "code",
   "execution_count": null,
   "id": "15b862a4",
   "metadata": {},
   "outputs": [],
   "source": []
  }
 ],
 "metadata": {
  "kernelspec": {
   "display_name": "Python 3 (ipykernel)",
   "language": "python",
   "name": "python3"
  },
  "language_info": {
   "codemirror_mode": {
    "name": "ipython",
    "version": 3
   },
   "file_extension": ".py",
   "mimetype": "text/x-python",
   "name": "python",
   "nbconvert_exporter": "python",
   "pygments_lexer": "ipython3",
   "version": "3.9.7"
  }
 },
 "nbformat": 4,
 "nbformat_minor": 5
}
