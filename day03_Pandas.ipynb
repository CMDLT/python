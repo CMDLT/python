{
 "cells": [
  {
   "cell_type": "markdown",
   "id": "46613af7",
   "metadata": {},
   "source": [
    "### 4.1.3 DataFrame\n",
    "- 结构：既有行索引，又有列索引的二维数组"
   ]
  },
  {
   "cell_type": "code",
   "execution_count": 2,
   "id": "7c65b920",
   "metadata": {
    "scrolled": true
   },
   "outputs": [],
   "source": [
    "import numpy as np\n",
    "# 创建一个符合正态分布的10个股票5天的涨跌幅数据\n",
    "stock_change = np.random.normal(0,1,(10,5))"
   ]
  },
  {
   "cell_type": "code",
   "execution_count": 3,
   "id": "3d55ed5d",
   "metadata": {},
   "outputs": [
    {
     "data": {
      "text/plain": [
       "array([[ 0.55995243,  0.94440943,  0.0814967 ,  0.65263494, -0.59975896],\n",
       "       [ 0.74048192, -0.27181268, -0.88161104, -0.19002656,  0.01409395],\n",
       "       [-0.84057293, -0.05007498,  1.10662198, -1.06306579, -0.79855213],\n",
       "       [-1.44500685, -0.20398769, -0.06168157,  0.21146065,  0.51153884],\n",
       "       [ 1.34836632,  1.77197793, -2.02490799,  0.57531194, -0.37674935],\n",
       "       [-0.79670227, -0.0215071 ,  2.06635353,  0.88062991, -0.05759825],\n",
       "       [ 0.07819541,  0.76049936, -0.65170343, -1.17939283,  0.80694499],\n",
       "       [ 1.6597005 ,  1.06401396, -1.03841892,  0.31136643, -0.10831701],\n",
       "       [-0.262272  , -0.36428804,  0.02359461, -0.71267407,  1.9314129 ],\n",
       "       [-0.7225207 ,  0.26847676,  0.86482189,  0.08476562, -0.15739226]])"
      ]
     },
     "execution_count": 3,
     "metadata": {},
     "output_type": "execute_result"
    }
   ],
   "source": [
    "stock_change"
   ]
  },
  {
   "cell_type": "code",
   "execution_count": 4,
   "id": "01737e79",
   "metadata": {},
   "outputs": [],
   "source": [
    "import pandas as pd"
   ]
  },
  {
   "cell_type": "code",
   "execution_count": 5,
   "id": "f9a758a4",
   "metadata": {},
   "outputs": [
    {
     "data": {
      "text/html": [
       "<div>\n",
       "<style scoped>\n",
       "    .dataframe tbody tr th:only-of-type {\n",
       "        vertical-align: middle;\n",
       "    }\n",
       "\n",
       "    .dataframe tbody tr th {\n",
       "        vertical-align: top;\n",
       "    }\n",
       "\n",
       "    .dataframe thead th {\n",
       "        text-align: right;\n",
       "    }\n",
       "</style>\n",
       "<table border=\"1\" class=\"dataframe\">\n",
       "  <thead>\n",
       "    <tr style=\"text-align: right;\">\n",
       "      <th></th>\n",
       "      <th>0</th>\n",
       "      <th>1</th>\n",
       "      <th>2</th>\n",
       "      <th>3</th>\n",
       "      <th>4</th>\n",
       "    </tr>\n",
       "  </thead>\n",
       "  <tbody>\n",
       "    <tr>\n",
       "      <th>0</th>\n",
       "      <td>0.559952</td>\n",
       "      <td>0.944409</td>\n",
       "      <td>0.081497</td>\n",
       "      <td>0.652635</td>\n",
       "      <td>-0.599759</td>\n",
       "    </tr>\n",
       "    <tr>\n",
       "      <th>1</th>\n",
       "      <td>0.740482</td>\n",
       "      <td>-0.271813</td>\n",
       "      <td>-0.881611</td>\n",
       "      <td>-0.190027</td>\n",
       "      <td>0.014094</td>\n",
       "    </tr>\n",
       "    <tr>\n",
       "      <th>2</th>\n",
       "      <td>-0.840573</td>\n",
       "      <td>-0.050075</td>\n",
       "      <td>1.106622</td>\n",
       "      <td>-1.063066</td>\n",
       "      <td>-0.798552</td>\n",
       "    </tr>\n",
       "    <tr>\n",
       "      <th>3</th>\n",
       "      <td>-1.445007</td>\n",
       "      <td>-0.203988</td>\n",
       "      <td>-0.061682</td>\n",
       "      <td>0.211461</td>\n",
       "      <td>0.511539</td>\n",
       "    </tr>\n",
       "    <tr>\n",
       "      <th>4</th>\n",
       "      <td>1.348366</td>\n",
       "      <td>1.771978</td>\n",
       "      <td>-2.024908</td>\n",
       "      <td>0.575312</td>\n",
       "      <td>-0.376749</td>\n",
       "    </tr>\n",
       "    <tr>\n",
       "      <th>5</th>\n",
       "      <td>-0.796702</td>\n",
       "      <td>-0.021507</td>\n",
       "      <td>2.066354</td>\n",
       "      <td>0.880630</td>\n",
       "      <td>-0.057598</td>\n",
       "    </tr>\n",
       "    <tr>\n",
       "      <th>6</th>\n",
       "      <td>0.078195</td>\n",
       "      <td>0.760499</td>\n",
       "      <td>-0.651703</td>\n",
       "      <td>-1.179393</td>\n",
       "      <td>0.806945</td>\n",
       "    </tr>\n",
       "    <tr>\n",
       "      <th>7</th>\n",
       "      <td>1.659701</td>\n",
       "      <td>1.064014</td>\n",
       "      <td>-1.038419</td>\n",
       "      <td>0.311366</td>\n",
       "      <td>-0.108317</td>\n",
       "    </tr>\n",
       "    <tr>\n",
       "      <th>8</th>\n",
       "      <td>-0.262272</td>\n",
       "      <td>-0.364288</td>\n",
       "      <td>0.023595</td>\n",
       "      <td>-0.712674</td>\n",
       "      <td>1.931413</td>\n",
       "    </tr>\n",
       "    <tr>\n",
       "      <th>9</th>\n",
       "      <td>-0.722521</td>\n",
       "      <td>0.268477</td>\n",
       "      <td>0.864822</td>\n",
       "      <td>0.084766</td>\n",
       "      <td>-0.157392</td>\n",
       "    </tr>\n",
       "  </tbody>\n",
       "</table>\n",
       "</div>"
      ],
      "text/plain": [
       "          0         1         2         3         4\n",
       "0  0.559952  0.944409  0.081497  0.652635 -0.599759\n",
       "1  0.740482 -0.271813 -0.881611 -0.190027  0.014094\n",
       "2 -0.840573 -0.050075  1.106622 -1.063066 -0.798552\n",
       "3 -1.445007 -0.203988 -0.061682  0.211461  0.511539\n",
       "4  1.348366  1.771978 -2.024908  0.575312 -0.376749\n",
       "5 -0.796702 -0.021507  2.066354  0.880630 -0.057598\n",
       "6  0.078195  0.760499 -0.651703 -1.179393  0.806945\n",
       "7  1.659701  1.064014 -1.038419  0.311366 -0.108317\n",
       "8 -0.262272 -0.364288  0.023595 -0.712674  1.931413\n",
       "9 -0.722521  0.268477  0.864822  0.084766 -0.157392"
      ]
     },
     "execution_count": 5,
     "metadata": {},
     "output_type": "execute_result"
    }
   ],
   "source": [
    "pd.DataFrame(stock_change)"
   ]
  },
  {
   "cell_type": "code",
   "execution_count": 9,
   "id": "3435dab2",
   "metadata": {},
   "outputs": [],
   "source": [
    "# 行索引为股票支数，列索引为日期"
   ]
  },
  {
   "cell_type": "code",
   "execution_count": 10,
   "id": "51dc73dd",
   "metadata": {},
   "outputs": [],
   "source": [
    "# 添加行索引\n",
    "stock=['股票{}'.format(i) for i in range(10)]"
   ]
  },
  {
   "cell_type": "code",
   "execution_count": 20,
   "id": "d0bcc111",
   "metadata": {},
   "outputs": [
    {
     "data": {
      "text/html": [
       "<div>\n",
       "<style scoped>\n",
       "    .dataframe tbody tr th:only-of-type {\n",
       "        vertical-align: middle;\n",
       "    }\n",
       "\n",
       "    .dataframe tbody tr th {\n",
       "        vertical-align: top;\n",
       "    }\n",
       "\n",
       "    .dataframe thead th {\n",
       "        text-align: right;\n",
       "    }\n",
       "</style>\n",
       "<table border=\"1\" class=\"dataframe\">\n",
       "  <thead>\n",
       "    <tr style=\"text-align: right;\">\n",
       "      <th></th>\n",
       "      <th>0</th>\n",
       "      <th>1</th>\n",
       "      <th>2</th>\n",
       "      <th>3</th>\n",
       "      <th>4</th>\n",
       "    </tr>\n",
       "  </thead>\n",
       "  <tbody>\n",
       "    <tr>\n",
       "      <th>股票0</th>\n",
       "      <td>0.559952</td>\n",
       "      <td>0.944409</td>\n",
       "      <td>0.081497</td>\n",
       "      <td>0.652635</td>\n",
       "      <td>-0.599759</td>\n",
       "    </tr>\n",
       "    <tr>\n",
       "      <th>股票1</th>\n",
       "      <td>0.740482</td>\n",
       "      <td>-0.271813</td>\n",
       "      <td>-0.881611</td>\n",
       "      <td>-0.190027</td>\n",
       "      <td>0.014094</td>\n",
       "    </tr>\n",
       "    <tr>\n",
       "      <th>股票2</th>\n",
       "      <td>-0.840573</td>\n",
       "      <td>-0.050075</td>\n",
       "      <td>1.106622</td>\n",
       "      <td>-1.063066</td>\n",
       "      <td>-0.798552</td>\n",
       "    </tr>\n",
       "    <tr>\n",
       "      <th>股票3</th>\n",
       "      <td>-1.445007</td>\n",
       "      <td>-0.203988</td>\n",
       "      <td>-0.061682</td>\n",
       "      <td>0.211461</td>\n",
       "      <td>0.511539</td>\n",
       "    </tr>\n",
       "    <tr>\n",
       "      <th>股票4</th>\n",
       "      <td>1.348366</td>\n",
       "      <td>1.771978</td>\n",
       "      <td>-2.024908</td>\n",
       "      <td>0.575312</td>\n",
       "      <td>-0.376749</td>\n",
       "    </tr>\n",
       "    <tr>\n",
       "      <th>股票5</th>\n",
       "      <td>-0.796702</td>\n",
       "      <td>-0.021507</td>\n",
       "      <td>2.066354</td>\n",
       "      <td>0.880630</td>\n",
       "      <td>-0.057598</td>\n",
       "    </tr>\n",
       "    <tr>\n",
       "      <th>股票6</th>\n",
       "      <td>0.078195</td>\n",
       "      <td>0.760499</td>\n",
       "      <td>-0.651703</td>\n",
       "      <td>-1.179393</td>\n",
       "      <td>0.806945</td>\n",
       "    </tr>\n",
       "    <tr>\n",
       "      <th>股票7</th>\n",
       "      <td>1.659701</td>\n",
       "      <td>1.064014</td>\n",
       "      <td>-1.038419</td>\n",
       "      <td>0.311366</td>\n",
       "      <td>-0.108317</td>\n",
       "    </tr>\n",
       "    <tr>\n",
       "      <th>股票8</th>\n",
       "      <td>-0.262272</td>\n",
       "      <td>-0.364288</td>\n",
       "      <td>0.023595</td>\n",
       "      <td>-0.712674</td>\n",
       "      <td>1.931413</td>\n",
       "    </tr>\n",
       "    <tr>\n",
       "      <th>股票9</th>\n",
       "      <td>-0.722521</td>\n",
       "      <td>0.268477</td>\n",
       "      <td>0.864822</td>\n",
       "      <td>0.084766</td>\n",
       "      <td>-0.157392</td>\n",
       "    </tr>\n",
       "  </tbody>\n",
       "</table>\n",
       "</div>"
      ],
      "text/plain": [
       "            0         1         2         3         4\n",
       "股票0  0.559952  0.944409  0.081497  0.652635 -0.599759\n",
       "股票1  0.740482 -0.271813 -0.881611 -0.190027  0.014094\n",
       "股票2 -0.840573 -0.050075  1.106622 -1.063066 -0.798552\n",
       "股票3 -1.445007 -0.203988 -0.061682  0.211461  0.511539\n",
       "股票4  1.348366  1.771978 -2.024908  0.575312 -0.376749\n",
       "股票5 -0.796702 -0.021507  2.066354  0.880630 -0.057598\n",
       "股票6  0.078195  0.760499 -0.651703 -1.179393  0.806945\n",
       "股票7  1.659701  1.064014 -1.038419  0.311366 -0.108317\n",
       "股票8 -0.262272 -0.364288  0.023595 -0.712674  1.931413\n",
       "股票9 -0.722521  0.268477  0.864822  0.084766 -0.157392"
      ]
     },
     "execution_count": 20,
     "metadata": {},
     "output_type": "execute_result"
    }
   ],
   "source": [
    "pd.DataFrame(stock_change,index=stock)"
   ]
  },
  {
   "cell_type": "code",
   "execution_count": 17,
   "id": "f898a494",
   "metadata": {},
   "outputs": [],
   "source": [
    "# 添加列索引\n",
    "date=pd.date_range(start=\"20200101\",periods=5,freq=\"B\")  #periods周期，freq频率"
   ]
  },
  {
   "cell_type": "code",
   "execution_count": 18,
   "id": "aa3526ba",
   "metadata": {},
   "outputs": [
    {
     "data": {
      "text/plain": [
       "DatetimeIndex(['2020-01-01', '2020-01-02', '2020-01-03', '2020-01-06',\n",
       "               '2020-01-07'],\n",
       "              dtype='datetime64[ns]', freq='B')"
      ]
     },
     "execution_count": 18,
     "metadata": {},
     "output_type": "execute_result"
    }
   ],
   "source": [
    "date"
   ]
  },
  {
   "cell_type": "code",
   "execution_count": 25,
   "id": "1ce8e0b6",
   "metadata": {},
   "outputs": [],
   "source": [
    "data=pd.DataFrame(stock_change,index=stock,columns=date)"
   ]
  },
  {
   "cell_type": "markdown",
   "id": "46053649",
   "metadata": {},
   "source": [
    "### DataFrame的属性\n",
    "- 属性：\n",
    "    - shape\n",
    "    - index：行索引\n",
    "    - columns：列索引\n",
    "    - values：不要行索引和列索引，只有数据的数组（ndarray）\n",
    "    - T：转置\\\n",
    "- 方法：\n",
    "    - head()：取前几行\n",
    "    - tail()：取后几行"
   ]
  },
  {
   "cell_type": "code",
   "execution_count": 26,
   "id": "5c85d49c",
   "metadata": {},
   "outputs": [
    {
     "data": {
      "text/html": [
       "<div>\n",
       "<style scoped>\n",
       "    .dataframe tbody tr th:only-of-type {\n",
       "        vertical-align: middle;\n",
       "    }\n",
       "\n",
       "    .dataframe tbody tr th {\n",
       "        vertical-align: top;\n",
       "    }\n",
       "\n",
       "    .dataframe thead th {\n",
       "        text-align: right;\n",
       "    }\n",
       "</style>\n",
       "<table border=\"1\" class=\"dataframe\">\n",
       "  <thead>\n",
       "    <tr style=\"text-align: right;\">\n",
       "      <th></th>\n",
       "      <th>2020-01-01</th>\n",
       "      <th>2020-01-02</th>\n",
       "      <th>2020-01-03</th>\n",
       "      <th>2020-01-06</th>\n",
       "      <th>2020-01-07</th>\n",
       "    </tr>\n",
       "  </thead>\n",
       "  <tbody>\n",
       "    <tr>\n",
       "      <th>股票0</th>\n",
       "      <td>0.559952</td>\n",
       "      <td>0.944409</td>\n",
       "      <td>0.081497</td>\n",
       "      <td>0.652635</td>\n",
       "      <td>-0.599759</td>\n",
       "    </tr>\n",
       "    <tr>\n",
       "      <th>股票1</th>\n",
       "      <td>0.740482</td>\n",
       "      <td>-0.271813</td>\n",
       "      <td>-0.881611</td>\n",
       "      <td>-0.190027</td>\n",
       "      <td>0.014094</td>\n",
       "    </tr>\n",
       "    <tr>\n",
       "      <th>股票2</th>\n",
       "      <td>-0.840573</td>\n",
       "      <td>-0.050075</td>\n",
       "      <td>1.106622</td>\n",
       "      <td>-1.063066</td>\n",
       "      <td>-0.798552</td>\n",
       "    </tr>\n",
       "    <tr>\n",
       "      <th>股票3</th>\n",
       "      <td>-1.445007</td>\n",
       "      <td>-0.203988</td>\n",
       "      <td>-0.061682</td>\n",
       "      <td>0.211461</td>\n",
       "      <td>0.511539</td>\n",
       "    </tr>\n",
       "    <tr>\n",
       "      <th>股票4</th>\n",
       "      <td>1.348366</td>\n",
       "      <td>1.771978</td>\n",
       "      <td>-2.024908</td>\n",
       "      <td>0.575312</td>\n",
       "      <td>-0.376749</td>\n",
       "    </tr>\n",
       "    <tr>\n",
       "      <th>股票5</th>\n",
       "      <td>-0.796702</td>\n",
       "      <td>-0.021507</td>\n",
       "      <td>2.066354</td>\n",
       "      <td>0.880630</td>\n",
       "      <td>-0.057598</td>\n",
       "    </tr>\n",
       "    <tr>\n",
       "      <th>股票6</th>\n",
       "      <td>0.078195</td>\n",
       "      <td>0.760499</td>\n",
       "      <td>-0.651703</td>\n",
       "      <td>-1.179393</td>\n",
       "      <td>0.806945</td>\n",
       "    </tr>\n",
       "    <tr>\n",
       "      <th>股票7</th>\n",
       "      <td>1.659701</td>\n",
       "      <td>1.064014</td>\n",
       "      <td>-1.038419</td>\n",
       "      <td>0.311366</td>\n",
       "      <td>-0.108317</td>\n",
       "    </tr>\n",
       "    <tr>\n",
       "      <th>股票8</th>\n",
       "      <td>-0.262272</td>\n",
       "      <td>-0.364288</td>\n",
       "      <td>0.023595</td>\n",
       "      <td>-0.712674</td>\n",
       "      <td>1.931413</td>\n",
       "    </tr>\n",
       "    <tr>\n",
       "      <th>股票9</th>\n",
       "      <td>-0.722521</td>\n",
       "      <td>0.268477</td>\n",
       "      <td>0.864822</td>\n",
       "      <td>0.084766</td>\n",
       "      <td>-0.157392</td>\n",
       "    </tr>\n",
       "  </tbody>\n",
       "</table>\n",
       "</div>"
      ],
      "text/plain": [
       "     2020-01-01  2020-01-02  2020-01-03  2020-01-06  2020-01-07\n",
       "股票0    0.559952    0.944409    0.081497    0.652635   -0.599759\n",
       "股票1    0.740482   -0.271813   -0.881611   -0.190027    0.014094\n",
       "股票2   -0.840573   -0.050075    1.106622   -1.063066   -0.798552\n",
       "股票3   -1.445007   -0.203988   -0.061682    0.211461    0.511539\n",
       "股票4    1.348366    1.771978   -2.024908    0.575312   -0.376749\n",
       "股票5   -0.796702   -0.021507    2.066354    0.880630   -0.057598\n",
       "股票6    0.078195    0.760499   -0.651703   -1.179393    0.806945\n",
       "股票7    1.659701    1.064014   -1.038419    0.311366   -0.108317\n",
       "股票8   -0.262272   -0.364288    0.023595   -0.712674    1.931413\n",
       "股票9   -0.722521    0.268477    0.864822    0.084766   -0.157392"
      ]
     },
     "execution_count": 26,
     "metadata": {},
     "output_type": "execute_result"
    }
   ],
   "source": [
    "data # shape (10,5)"
   ]
  },
  {
   "cell_type": "code",
   "execution_count": 28,
   "id": "c84cdce6",
   "metadata": {},
   "outputs": [
    {
     "data": {
      "text/plain": [
       "(10, 5)"
      ]
     },
     "execution_count": 28,
     "metadata": {},
     "output_type": "execute_result"
    }
   ],
   "source": [
    "data.shape"
   ]
  },
  {
   "cell_type": "code",
   "execution_count": 29,
   "id": "c9673876",
   "metadata": {},
   "outputs": [
    {
     "data": {
      "text/plain": [
       "Index(['股票0', '股票1', '股票2', '股票3', '股票4', '股票5', '股票6', '股票7', '股票8', '股票9'], dtype='object')"
      ]
     },
     "execution_count": 29,
     "metadata": {},
     "output_type": "execute_result"
    }
   ],
   "source": [
    "data.index"
   ]
  },
  {
   "cell_type": "code",
   "execution_count": 30,
   "id": "81d4d48f",
   "metadata": {},
   "outputs": [
    {
     "data": {
      "text/plain": [
       "DatetimeIndex(['2020-01-01', '2020-01-02', '2020-01-03', '2020-01-06',\n",
       "               '2020-01-07'],\n",
       "              dtype='datetime64[ns]', freq='B')"
      ]
     },
     "execution_count": 30,
     "metadata": {},
     "output_type": "execute_result"
    }
   ],
   "source": [
    "data.columns"
   ]
  },
  {
   "cell_type": "code",
   "execution_count": 31,
   "id": "07de6866",
   "metadata": {},
   "outputs": [
    {
     "data": {
      "text/plain": [
       "array([[ 0.55995243,  0.94440943,  0.0814967 ,  0.65263494, -0.59975896],\n",
       "       [ 0.74048192, -0.27181268, -0.88161104, -0.19002656,  0.01409395],\n",
       "       [-0.84057293, -0.05007498,  1.10662198, -1.06306579, -0.79855213],\n",
       "       [-1.44500685, -0.20398769, -0.06168157,  0.21146065,  0.51153884],\n",
       "       [ 1.34836632,  1.77197793, -2.02490799,  0.57531194, -0.37674935],\n",
       "       [-0.79670227, -0.0215071 ,  2.06635353,  0.88062991, -0.05759825],\n",
       "       [ 0.07819541,  0.76049936, -0.65170343, -1.17939283,  0.80694499],\n",
       "       [ 1.6597005 ,  1.06401396, -1.03841892,  0.31136643, -0.10831701],\n",
       "       [-0.262272  , -0.36428804,  0.02359461, -0.71267407,  1.9314129 ],\n",
       "       [-0.7225207 ,  0.26847676,  0.86482189,  0.08476562, -0.15739226]])"
      ]
     },
     "execution_count": 31,
     "metadata": {},
     "output_type": "execute_result"
    }
   ],
   "source": [
    "data.values"
   ]
  },
  {
   "cell_type": "code",
   "execution_count": 32,
   "id": "68323b25",
   "metadata": {},
   "outputs": [
    {
     "data": {
      "text/html": [
       "<div>\n",
       "<style scoped>\n",
       "    .dataframe tbody tr th:only-of-type {\n",
       "        vertical-align: middle;\n",
       "    }\n",
       "\n",
       "    .dataframe tbody tr th {\n",
       "        vertical-align: top;\n",
       "    }\n",
       "\n",
       "    .dataframe thead th {\n",
       "        text-align: right;\n",
       "    }\n",
       "</style>\n",
       "<table border=\"1\" class=\"dataframe\">\n",
       "  <thead>\n",
       "    <tr style=\"text-align: right;\">\n",
       "      <th></th>\n",
       "      <th>股票0</th>\n",
       "      <th>股票1</th>\n",
       "      <th>股票2</th>\n",
       "      <th>股票3</th>\n",
       "      <th>股票4</th>\n",
       "      <th>股票5</th>\n",
       "      <th>股票6</th>\n",
       "      <th>股票7</th>\n",
       "      <th>股票8</th>\n",
       "      <th>股票9</th>\n",
       "    </tr>\n",
       "  </thead>\n",
       "  <tbody>\n",
       "    <tr>\n",
       "      <th>2020-01-01</th>\n",
       "      <td>0.559952</td>\n",
       "      <td>0.740482</td>\n",
       "      <td>-0.840573</td>\n",
       "      <td>-1.445007</td>\n",
       "      <td>1.348366</td>\n",
       "      <td>-0.796702</td>\n",
       "      <td>0.078195</td>\n",
       "      <td>1.659701</td>\n",
       "      <td>-0.262272</td>\n",
       "      <td>-0.722521</td>\n",
       "    </tr>\n",
       "    <tr>\n",
       "      <th>2020-01-02</th>\n",
       "      <td>0.944409</td>\n",
       "      <td>-0.271813</td>\n",
       "      <td>-0.050075</td>\n",
       "      <td>-0.203988</td>\n",
       "      <td>1.771978</td>\n",
       "      <td>-0.021507</td>\n",
       "      <td>0.760499</td>\n",
       "      <td>1.064014</td>\n",
       "      <td>-0.364288</td>\n",
       "      <td>0.268477</td>\n",
       "    </tr>\n",
       "    <tr>\n",
       "      <th>2020-01-03</th>\n",
       "      <td>0.081497</td>\n",
       "      <td>-0.881611</td>\n",
       "      <td>1.106622</td>\n",
       "      <td>-0.061682</td>\n",
       "      <td>-2.024908</td>\n",
       "      <td>2.066354</td>\n",
       "      <td>-0.651703</td>\n",
       "      <td>-1.038419</td>\n",
       "      <td>0.023595</td>\n",
       "      <td>0.864822</td>\n",
       "    </tr>\n",
       "    <tr>\n",
       "      <th>2020-01-06</th>\n",
       "      <td>0.652635</td>\n",
       "      <td>-0.190027</td>\n",
       "      <td>-1.063066</td>\n",
       "      <td>0.211461</td>\n",
       "      <td>0.575312</td>\n",
       "      <td>0.880630</td>\n",
       "      <td>-1.179393</td>\n",
       "      <td>0.311366</td>\n",
       "      <td>-0.712674</td>\n",
       "      <td>0.084766</td>\n",
       "    </tr>\n",
       "    <tr>\n",
       "      <th>2020-01-07</th>\n",
       "      <td>-0.599759</td>\n",
       "      <td>0.014094</td>\n",
       "      <td>-0.798552</td>\n",
       "      <td>0.511539</td>\n",
       "      <td>-0.376749</td>\n",
       "      <td>-0.057598</td>\n",
       "      <td>0.806945</td>\n",
       "      <td>-0.108317</td>\n",
       "      <td>1.931413</td>\n",
       "      <td>-0.157392</td>\n",
       "    </tr>\n",
       "  </tbody>\n",
       "</table>\n",
       "</div>"
      ],
      "text/plain": [
       "                 股票0       股票1       股票2       股票3       股票4       股票5  \\\n",
       "2020-01-01  0.559952  0.740482 -0.840573 -1.445007  1.348366 -0.796702   \n",
       "2020-01-02  0.944409 -0.271813 -0.050075 -0.203988  1.771978 -0.021507   \n",
       "2020-01-03  0.081497 -0.881611  1.106622 -0.061682 -2.024908  2.066354   \n",
       "2020-01-06  0.652635 -0.190027 -1.063066  0.211461  0.575312  0.880630   \n",
       "2020-01-07 -0.599759  0.014094 -0.798552  0.511539 -0.376749 -0.057598   \n",
       "\n",
       "                 股票6       股票7       股票8       股票9  \n",
       "2020-01-01  0.078195  1.659701 -0.262272 -0.722521  \n",
       "2020-01-02  0.760499  1.064014 -0.364288  0.268477  \n",
       "2020-01-03 -0.651703 -1.038419  0.023595  0.864822  \n",
       "2020-01-06 -1.179393  0.311366 -0.712674  0.084766  \n",
       "2020-01-07  0.806945 -0.108317  1.931413 -0.157392  "
      ]
     },
     "execution_count": 32,
     "metadata": {},
     "output_type": "execute_result"
    }
   ],
   "source": [
    "data.T"
   ]
  },
  {
   "cell_type": "code",
   "execution_count": 34,
   "id": "a68a31ac",
   "metadata": {},
   "outputs": [
    {
     "data": {
      "text/html": [
       "<div>\n",
       "<style scoped>\n",
       "    .dataframe tbody tr th:only-of-type {\n",
       "        vertical-align: middle;\n",
       "    }\n",
       "\n",
       "    .dataframe tbody tr th {\n",
       "        vertical-align: top;\n",
       "    }\n",
       "\n",
       "    .dataframe thead th {\n",
       "        text-align: right;\n",
       "    }\n",
       "</style>\n",
       "<table border=\"1\" class=\"dataframe\">\n",
       "  <thead>\n",
       "    <tr style=\"text-align: right;\">\n",
       "      <th></th>\n",
       "      <th>2020-01-01</th>\n",
       "      <th>2020-01-02</th>\n",
       "      <th>2020-01-03</th>\n",
       "      <th>2020-01-06</th>\n",
       "      <th>2020-01-07</th>\n",
       "    </tr>\n",
       "  </thead>\n",
       "  <tbody>\n",
       "    <tr>\n",
       "      <th>股票0</th>\n",
       "      <td>0.559952</td>\n",
       "      <td>0.944409</td>\n",
       "      <td>0.081497</td>\n",
       "      <td>0.652635</td>\n",
       "      <td>-0.599759</td>\n",
       "    </tr>\n",
       "    <tr>\n",
       "      <th>股票1</th>\n",
       "      <td>0.740482</td>\n",
       "      <td>-0.271813</td>\n",
       "      <td>-0.881611</td>\n",
       "      <td>-0.190027</td>\n",
       "      <td>0.014094</td>\n",
       "    </tr>\n",
       "    <tr>\n",
       "      <th>股票2</th>\n",
       "      <td>-0.840573</td>\n",
       "      <td>-0.050075</td>\n",
       "      <td>1.106622</td>\n",
       "      <td>-1.063066</td>\n",
       "      <td>-0.798552</td>\n",
       "    </tr>\n",
       "  </tbody>\n",
       "</table>\n",
       "</div>"
      ],
      "text/plain": [
       "     2020-01-01  2020-01-02  2020-01-03  2020-01-06  2020-01-07\n",
       "股票0    0.559952    0.944409    0.081497    0.652635   -0.599759\n",
       "股票1    0.740482   -0.271813   -0.881611   -0.190027    0.014094\n",
       "股票2   -0.840573   -0.050075    1.106622   -1.063066   -0.798552"
      ]
     },
     "execution_count": 34,
     "metadata": {},
     "output_type": "execute_result"
    }
   ],
   "source": [
    "data.head(3)"
   ]
  },
  {
   "cell_type": "code",
   "execution_count": 35,
   "id": "75fa70fc",
   "metadata": {},
   "outputs": [
    {
     "data": {
      "text/html": [
       "<div>\n",
       "<style scoped>\n",
       "    .dataframe tbody tr th:only-of-type {\n",
       "        vertical-align: middle;\n",
       "    }\n",
       "\n",
       "    .dataframe tbody tr th {\n",
       "        vertical-align: top;\n",
       "    }\n",
       "\n",
       "    .dataframe thead th {\n",
       "        text-align: right;\n",
       "    }\n",
       "</style>\n",
       "<table border=\"1\" class=\"dataframe\">\n",
       "  <thead>\n",
       "    <tr style=\"text-align: right;\">\n",
       "      <th></th>\n",
       "      <th>2020-01-01</th>\n",
       "      <th>2020-01-02</th>\n",
       "      <th>2020-01-03</th>\n",
       "      <th>2020-01-06</th>\n",
       "      <th>2020-01-07</th>\n",
       "    </tr>\n",
       "  </thead>\n",
       "  <tbody>\n",
       "    <tr>\n",
       "      <th>股票7</th>\n",
       "      <td>1.659701</td>\n",
       "      <td>1.064014</td>\n",
       "      <td>-1.038419</td>\n",
       "      <td>0.311366</td>\n",
       "      <td>-0.108317</td>\n",
       "    </tr>\n",
       "    <tr>\n",
       "      <th>股票8</th>\n",
       "      <td>-0.262272</td>\n",
       "      <td>-0.364288</td>\n",
       "      <td>0.023595</td>\n",
       "      <td>-0.712674</td>\n",
       "      <td>1.931413</td>\n",
       "    </tr>\n",
       "    <tr>\n",
       "      <th>股票9</th>\n",
       "      <td>-0.722521</td>\n",
       "      <td>0.268477</td>\n",
       "      <td>0.864822</td>\n",
       "      <td>0.084766</td>\n",
       "      <td>-0.157392</td>\n",
       "    </tr>\n",
       "  </tbody>\n",
       "</table>\n",
       "</div>"
      ],
      "text/plain": [
       "     2020-01-01  2020-01-02  2020-01-03  2020-01-06  2020-01-07\n",
       "股票7    1.659701    1.064014   -1.038419    0.311366   -0.108317\n",
       "股票8   -0.262272   -0.364288    0.023595   -0.712674    1.931413\n",
       "股票9   -0.722521    0.268477    0.864822    0.084766   -0.157392"
      ]
     },
     "execution_count": 35,
     "metadata": {},
     "output_type": "execute_result"
    }
   ],
   "source": [
    "data.tail(3)"
   ]
  },
  {
   "cell_type": "markdown",
   "id": "3d8ae3bb",
   "metadata": {},
   "source": [
    "### DataFrame索引的设置"
   ]
  },
  {
   "cell_type": "code",
   "execution_count": 37,
   "id": "3efc1501",
   "metadata": {},
   "outputs": [
    {
     "data": {
      "text/html": [
       "<div>\n",
       "<style scoped>\n",
       "    .dataframe tbody tr th:only-of-type {\n",
       "        vertical-align: middle;\n",
       "    }\n",
       "\n",
       "    .dataframe tbody tr th {\n",
       "        vertical-align: top;\n",
       "    }\n",
       "\n",
       "    .dataframe thead th {\n",
       "        text-align: right;\n",
       "    }\n",
       "</style>\n",
       "<table border=\"1\" class=\"dataframe\">\n",
       "  <thead>\n",
       "    <tr style=\"text-align: right;\">\n",
       "      <th></th>\n",
       "      <th>2020-01-01</th>\n",
       "      <th>2020-01-02</th>\n",
       "      <th>2020-01-03</th>\n",
       "      <th>2020-01-06</th>\n",
       "      <th>2020-01-07</th>\n",
       "    </tr>\n",
       "  </thead>\n",
       "  <tbody>\n",
       "    <tr>\n",
       "      <th>股票0</th>\n",
       "      <td>0.559952</td>\n",
       "      <td>0.944409</td>\n",
       "      <td>0.081497</td>\n",
       "      <td>0.652635</td>\n",
       "      <td>-0.599759</td>\n",
       "    </tr>\n",
       "    <tr>\n",
       "      <th>股票1</th>\n",
       "      <td>0.740482</td>\n",
       "      <td>-0.271813</td>\n",
       "      <td>-0.881611</td>\n",
       "      <td>-0.190027</td>\n",
       "      <td>0.014094</td>\n",
       "    </tr>\n",
       "    <tr>\n",
       "      <th>股票2</th>\n",
       "      <td>-0.840573</td>\n",
       "      <td>-0.050075</td>\n",
       "      <td>1.106622</td>\n",
       "      <td>-1.063066</td>\n",
       "      <td>-0.798552</td>\n",
       "    </tr>\n",
       "    <tr>\n",
       "      <th>股票3</th>\n",
       "      <td>-1.445007</td>\n",
       "      <td>-0.203988</td>\n",
       "      <td>-0.061682</td>\n",
       "      <td>0.211461</td>\n",
       "      <td>0.511539</td>\n",
       "    </tr>\n",
       "    <tr>\n",
       "      <th>股票4</th>\n",
       "      <td>1.348366</td>\n",
       "      <td>1.771978</td>\n",
       "      <td>-2.024908</td>\n",
       "      <td>0.575312</td>\n",
       "      <td>-0.376749</td>\n",
       "    </tr>\n",
       "  </tbody>\n",
       "</table>\n",
       "</div>"
      ],
      "text/plain": [
       "     2020-01-01  2020-01-02  2020-01-03  2020-01-06  2020-01-07\n",
       "股票0    0.559952    0.944409    0.081497    0.652635   -0.599759\n",
       "股票1    0.740482   -0.271813   -0.881611   -0.190027    0.014094\n",
       "股票2   -0.840573   -0.050075    1.106622   -1.063066   -0.798552\n",
       "股票3   -1.445007   -0.203988   -0.061682    0.211461    0.511539\n",
       "股票4    1.348366    1.771978   -2.024908    0.575312   -0.376749"
      ]
     },
     "execution_count": 37,
     "metadata": {},
     "output_type": "execute_result"
    }
   ],
   "source": [
    "# 修改行索引值\n",
    "data.head()"
   ]
  },
  {
   "cell_type": "code",
   "execution_count": 39,
   "id": "fd0ea923",
   "metadata": {},
   "outputs": [
    {
     "data": {
      "text/plain": [
       "Index(['股票0', '股票1', '股票2', '股票3', '股票4', '股票5', '股票6', '股票7', '股票8', '股票9'], dtype='object')"
      ]
     },
     "execution_count": 39,
     "metadata": {},
     "output_type": "execute_result"
    }
   ],
   "source": [
    "# 把股票2改为股票88\n",
    "data.index  #股票2在索引2的位置"
   ]
  },
  {
   "cell_type": "code",
   "execution_count": 43,
   "id": "b42db150",
   "metadata": {},
   "outputs": [],
   "source": [
    "# data.index[2]='股票88' #不能单独修改索引"
   ]
  },
  {
   "cell_type": "code",
   "execution_count": 1,
   "id": "7683990c",
   "metadata": {},
   "outputs": [
    {
     "ename": "NameError",
     "evalue": "name 'stock' is not defined",
     "output_type": "error",
     "traceback": [
      "\u001b[1;31m---------------------------------------------------------------------------\u001b[0m",
      "\u001b[1;31mNameError\u001b[0m                                 Traceback (most recent call last)",
      "\u001b[1;32m~\\AppData\\Local\\Temp/ipykernel_21188/3738167064.py\u001b[0m in \u001b[0;36m<module>\u001b[1;34m\u001b[0m\n\u001b[0;32m      1\u001b[0m \u001b[1;31m# 把股票0、1.....统一改成股票_0、1.....\u001b[0m\u001b[1;33m\u001b[0m\u001b[1;33m\u001b[0m\u001b[0m\n\u001b[0;32m      2\u001b[0m \u001b[1;31m# stock_=['股票_{}'.format(i) i in range(10)]\u001b[0m\u001b[1;33m\u001b[0m\u001b[1;33m\u001b[0m\u001b[0m\n\u001b[1;32m----> 3\u001b[1;33m \u001b[0mstock\u001b[0m\u001b[1;33m.\u001b[0m\u001b[0mrename\u001b[0m\u001b[1;33m(\u001b[0m\u001b[0mindex\u001b[0m\u001b[1;33m=\u001b[0m\u001b[1;33m{\u001b[0m\u001b[1;34m'股票88'\u001b[0m\u001b[1;33m,\u001b[0m\u001b[1;34m'股票02'\u001b[0m\u001b[1;33m}\u001b[0m\u001b[1;33m,\u001b[0m\u001b[0minplace\u001b[0m\u001b[1;33m=\u001b[0m\u001b[1;32mTrue\u001b[0m\u001b[1;33m)\u001b[0m\u001b[1;33m\u001b[0m\u001b[1;33m\u001b[0m\u001b[0m\n\u001b[0m",
      "\u001b[1;31mNameError\u001b[0m: name 'stock' is not defined"
     ]
    }
   ],
   "source": [
    "# 把股票0、1.....统一改成股票_0、1.....\n",
    "# stock_=['股票_{}'.format(i) i in range(10)]\n",
    "stock.rename(index={'股票88','股票02'},inplace=True)"
   ]
  },
  {
   "cell_type": "code",
   "execution_count": null,
   "id": "ba9e3071",
   "metadata": {},
   "outputs": [],
   "source": []
  }
 ],
 "metadata": {
  "kernelspec": {
   "display_name": "Python 3 (ipykernel)",
   "language": "python",
   "name": "python3"
  },
  "language_info": {
   "codemirror_mode": {
    "name": "ipython",
    "version": 3
   },
   "file_extension": ".py",
   "mimetype": "text/x-python",
   "name": "python",
   "nbconvert_exporter": "python",
   "pygments_lexer": "ipython3",
   "version": "3.9.7"
  }
 },
 "nbformat": 4,
 "nbformat_minor": 5
}
