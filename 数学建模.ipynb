{
 "cells": [
  {
   "cell_type": "code",
   "execution_count": 1,
   "id": "78ed9305",
   "metadata": {},
   "outputs": [],
   "source": [
    "import numpy as np\n",
    "import cmath\n",
    "import random\n",
    "import matplotlib.pyplot as plt"
   ]
  },
  {
   "cell_type": "code",
   "execution_count": 2,
   "id": "8f10ab28",
   "metadata": {},
   "outputs": [],
   "source": [
    "def calc_distance(drone_1,drone_2):\n",
    "    #计算任意两架无人机的距离\n",
    "    return np.sqrt((drone_1[0] - drone_2[0]) ** 2 + (drone_1[1] - drone_2[1]) ** 2)\n",
    "\n",
    "def calc_angle(drone_recipient, drone_sender_1, drone_sender_2):\n",
    "    #使用余弦定理计算夹角\n",
    "    a = calc_distance(drone_sender_1, drone_sender_2)\n",
    "    b = calc_distance(drone_recipient, drone_sender_1)\n",
    "    c = calc_distance(drone_recipient, drone_sender_2)\n",
    "    return np.arccos((b**2 + c**2 - a**2) / (2 * b * c)) * 180 / np.pi\n",
    "\n",
    "def cost(angle1, angle2):\n",
    "    return np.sum(((np.array(angle1) - np.array(angle2)) * 100) ** 2)\n",
    "\n",
    "def cost_one(angle1, angle2):\n",
    "    return np.abs(angle1 - angle2) * 100\n",
    "\n",
    "def plot_location(location):\n",
    "    x = []\n",
    "    y = []\n",
    "    for i in location:\n",
    "        x.append(i[0])\n",
    "        y.append(i[1])\n",
    "    plt.scatter(x, y)\n",
    "    plt.show()"
   ]
  },
  {
   "cell_type": "code",
   "execution_count": 3,
   "id": "2afc3987",
   "metadata": {},
   "outputs": [],
   "source": [
    "# 表1数据\n",
    "drone_location_polar = [\n",
    "    [0, 0],\n",
    "    [100, 0],\n",
    "    [98, 40.10],\n",
    "    [112, 80.21],\n",
    "    [105, 119.75],\n",
    "    [98, 159.86],\n",
    "    [112, 199.96],\n",
    "    [105, 240.07],\n",
    "    [98, 280.17],\n",
    "    [112, 320.28]\n",
    "]\n",
    "# 无人机位置无偏差坐标\n",
    "drone_ideal_location_polar = [\n",
    "    [0, 0],\n",
    "    [100, 0],\n",
    "    [100, 40],\n",
    "    [100, 80],\n",
    "    [100, 120],\n",
    "    [100, 160],\n",
    "    [100, 200],\n",
    "    [100, 240],\n",
    "    [100, 280],\n",
    "    [100, 320]\n",
    "]\n",
    "drone_location_cartesian = []\n",
    "drone_ideal_location_cartesian = []"
   ]
  },
  {
   "cell_type": "code",
   "execution_count": 4,
   "id": "4709cf1d",
   "metadata": {},
   "outputs": [
    {
     "data": {
      "image/png": "[encoded data removed]",
      "text/plain": [
       "<Figure size 432x288 with 1 Axes>"
      ]
     },
     "metadata": {
      "needs_background": "light"
     },
     "output_type": "display_data"
    },
    {
     "data": {
      "image/png": "[encoded data removed]",
      "text/plain": [
       "<Figure size 432x288 with 1 Axes>"
      ]
     },
     "metadata": {
      "needs_background": "light"
     },
     "output_type": "display_data"
    }
   ],
   "source": [
    "def polar_tb_cartesian(location):\n",
    "    # 极坐标转换为直角坐标\n",
    "    f = np.pi / 180\n",
    "    return [location[0] * np.cos(location[1] * f), location[0] * np.sin(location[1] * f)]\n",
    "\n",
    "def cartesian_to_polar(location):\n",
    "    # 直角坐标转换为极坐标\n",
    "    cn = list(cmath.polar(complex(location[0], location[1])))\n",
    "    cn[1] = cn[1] * 180 / np.pi\n",
    "    if cn[1] < 0:\n",
    "        cn[1] += 360\n",
    "    return cn\n",
    "\n",
    "drone_location_cartesian = [] # 无人机直角坐标系\n",
    "drone_ideal_location_cartesian = []\n",
    "for location in drone_location_polar:\n",
    "    drone_location_cartesian.append(polar_tb_cartesian(location))\n",
    "    \n",
    "for location in drone_ideal_location_polar:\n",
    "    drone_ideal_location_cartesian.append(polar_tb_cartesian(location))\n",
    "    \n",
    "plot_location(drone_ideal_location_cartesian)\n",
    "plot_location(drone_location_cartesian)"
   ]
  },
  {
   "cell_type": "code",
   "execution_count": 5,
   "id": "db54dcfd",
   "metadata": {},
   "outputs": [],
   "source": [
    "# 根据两个夹角值的位置\n",
    "def get_location_from_angle(drone_id, angel, drone_sender_1, drone_sender_2, drone_sender_3):\n",
    "    adjustment_range = 16\n",
    "    precision = 0.5\n",
    "    location_cost = []\n",
    "    min_cost = 1000000\n",
    "    min_cost_idx = -1\n",
    "    for i in np.arange(adjustment_range * -1, adjustment_range + precision, precision):\n",
    "        for i2 in np.arange(adjustment_range * -1, adjustment_range + precision, precision):\n",
    "            location = list(drone_ideal_location_cartesian[drone_id])\n",
    "            location[0] += i\n",
    "            location[1] += i2\n",
    "            cost_result = cost(\n",
    "                [calc_angle(location, drone_sender_1, drone_sender_2), calc_angle(location, drone_sender_1, drone_sender_3)],\n",
    "                angle\n",
    "            )\n",
    "            if min_cost > cost_result:\n",
    "                min_cost = cost_result\n",
    "                min_cost_idx = len(location_cost)\n",
    "            location_cost.append([[np.round(location[0],2), np.round(location[1], 2)], np.round(cost_result, 2)])\n",
    "    return location_cost[min_cost_idx]"
   ]
  },
  {
   "cell_type": "code",
   "execution_count": 6,
   "id": "9af2486e",
   "metadata": {},
   "outputs": [
    {
     "name": "stdout",
     "output_type": "stream",
     "text": [
      "推测的位置，直角坐标：[-52.0, 91.6]\n",
      "推测的位置，直角坐标：[-52.10273288589687, 91.16087552135994]\n",
      "推测的位置，直角坐标：[105.33071726709166, 119.58295300593873]\n",
      "推测的位置，直角坐标：[105.00000000000001, 119.75]\n"
     ]
    }
   ],
   "source": [
    "'''\n",
    "假设编号为0,1,2的无人机发送信号，它们的位置无偏差。7号无人机的坐标有偏差，使用表1数据，根据夹角推测7号的位置\n",
    "7号无人机（FY07）当前横坐标：[105， 240.07]，直角坐标表\n",
    "'''\n",
    "drone_id = 4\n",
    "angle = [calc_angle(drone_location_cartesian[drone_id],\n",
    "                   drone_ideal_location_cartesian[0],\n",
    "                   drone_ideal_location_cartesian[1]),\n",
    "        calc_angle(drone_location_cartesian[drone_id],\n",
    "                  drone_ideal_location_cartesian[0],\n",
    "                  drone_ideal_location_cartesian[2])]\n",
    "\n",
    "location = get_location_from_angle(drone_id,\n",
    "                                   angle,\n",
    "                                   drone_ideal_location_cartesian[0],\n",
    "                                   drone_ideal_location_cartesian[1],\n",
    "                                   drone_ideal_location_cartesian[2]\n",
    "                                  )\n",
    "\n",
    "print(f\"推测的位置，直角坐标：{location[0]}\")\n",
    "print(f\"推测的位置，直角坐标：{drone_location_cartesian[drone_id]}\")\n",
    "print(f\"推测的位置，直角坐标：{cartesian_to_polar(location[0])}\")\n",
    "print(f\"推测的位置，直角坐标：{cartesian_to_polar(drone_location_cartesian[drone_id])}\")\n"
   ]
  },
  {
   "cell_type": "code",
   "execution_count": 7,
   "id": "d2998026",
   "metadata": {},
   "outputs": [],
   "source": [
    "def adjust_location(drone_testing_location, drone_sender_id):\n",
    "    distance = 0\n",
    "    for i in range(1,len(drone_testing_location)):\n",
    "        distance += calc_distance(drone_testing_location[i], drone_ideal_location_cartesian[i])\n",
    "    print(f\"调整前个无人机与理想位置的距离之和：{distance}\")\n",
    "    for sender_drone in range(1, len(drone_testing_location)):\n",
    "        if sender_drone == drone_sender_id:\n",
    "            continue\n",
    "        distance = 0 # 52.0826\n",
    "        for i in range(1, len(drone_testing_location)):\n",
    "            if i not in [sender_drone, drone_sender_id]:\n",
    "                drone_id = i\n",
    "                angle = [calc_angle(drone_testing_location[drone_id],\n",
    "                                   drone_testing_location[0],\n",
    "                                   drone_testing_location[drone_sender_id]),\n",
    "                        calc_angle(drone_testing_location[drone_id],\n",
    "                                  drone_testing_location[0],\n",
    "                                  drone_testing_location[sender_drone])]\n",
    "                \n",
    "                location = get_location_from_angle(drone_id,\n",
    "                                                  angle,\n",
    "                                                  drone_ideal_location_cartesian[0],\n",
    "                                                  drone_ideal_location_cartesian[drone_sender_id],\n",
    "                                                  drone_ideal_location_cartesian[sender_drone])\n",
    "                drone_testing_location[i][0] += drone_ideal_location_cartesian[i][0] - location[0][0]\n",
    "                drone_testing_location[i][1] += drone_ideal_location_cartesian[i][1] + location[0][1]\n",
    "            distance += calc_distance(drone_testing_location[i], drone_ideal_location_cartesian[i])\n",
    "        print(f\"使用0，{drone_sender_id}, {sender_drone}调整无人机与理想位置的距离之和.{distance}\")\n",
    "        \n",
    "        "
   ]
  },
  {
   "cell_type": "code",
   "execution_count": 8,
   "id": "5a6dcbb8",
   "metadata": {
    "scrolled": false
   },
   "outputs": [
    {
     "name": "stdout",
     "output_type": "stream",
     "text": [
      "第1次调整:\n",
      "调整前个无人机与理想位置的距离之和：52.08262949326125\n",
      "使用0，1, 2调整无人机与理想位置的距离之和.1020.1959152432795\n",
      "使用0，1, 3调整无人机与理想位置的距离之和.1945.6945575356083\n",
      "使用0，1, 4调整无人机与理想位置的距离之和.2898.5406684314466\n",
      "使用0，1, 5调整无人机与理想位置的距离之和.3973.681227546418\n",
      "使用0，1, 6调整无人机与理想位置的距离之和.5079.026007592924\n",
      "使用0，1, 7调整无人机与理想位置的距离之和.6062.6182045801825\n",
      "使用0，1, 8调整无人机与理想位置的距离之和.7053.706636820122\n",
      "使用0，1, 9调整无人机与理想位置的距离之和.8102.484217756002\n",
      "第2次调整:\n",
      "调整前个无人机与理想位置的距离之和：8102.484217756002\n",
      "使用0，1, 2调整无人机与理想位置的距离之和.9087.702576688966\n",
      "使用0，1, 3调整无人机与理想位置的距离之和.10015.90442159576\n",
      "使用0，1, 4调整无人机与理想位置的距离之和.10968.595907470339\n",
      "使用0，1, 5调整无人机与理想位置的距离之和.12044.06193109619\n",
      "使用0，1, 6调整无人机与理想位置的距离之和.13150.237100253822\n",
      "使用0，1, 7调整无人机与理想位置的距离之和.14134.372888954033\n",
      "使用0，1, 8调整无人机与理想位置的距离之和.15125.868480391126\n",
      "使用0，1, 9调整无人机与理想位置的距离之和.16174.705360159005\n",
      "第3次调整:\n",
      "调整前个无人机与理想位置的距离之和：16174.705360159005\n",
      "使用0，1, 2调整无人机与理想位置的距离之和.17159.894347292888\n",
      "使用0，1, 3调整无人机与理想位置的距离之和.18087.967832116843\n",
      "使用0，1, 4调整无人机与理想位置的距离之和.19040.55188696497\n",
      "使用0，1, 5调整无人机与理想位置的距离之和.20115.995726467696\n",
      "使用0，1, 6调整无人机与理想位置的距离之和.21222.300366296746\n",
      "使用0，1, 7调整无人机与理想位置的距离之和.22206.54234786077\n",
      "使用0，1, 8调整无人机与理想位置的距离之和.23198.138979264884\n",
      "使用0，1, 9调整无人机与理想位置的距离之和.24246.991612180493\n",
      "调整后无人机极坐标\n"
     ]
    },
    {
     "data": {
      "text/plain": [
       "[[0.0, 0.0],\n",
       " [100.0, 0.0],\n",
       " [3109.8253109890966, 94.81332876494908],\n",
       " [4593.486497453009, 93.9553529806579],\n",
       " [3996.3854804858097, 91.26322241946399],\n",
       " [1856.2010340437241, 103.33088400486072],\n",
       " [1221.1832291424475, 248.81776661461532],\n",
       " [3708.303629542285, 268.6342033681923],\n",
       " [3909.639240899918, 265.3258055709848],\n",
       " [2448.079874380286, 264.1443608451096]]"
      ]
     },
     "execution_count": 8,
     "metadata": {},
     "output_type": "execute_result"
    }
   ],
   "source": [
    "drone_testing_location = []\n",
    "for i in range(len(drone_location_cartesian)):\n",
    "    drone_testing_location.append(list(drone_location_cartesian[i]))\n",
    "    \n",
    "for i in range(3):\n",
    "    print(f\"第{i + 1}次调整:\")\n",
    "    adjust_location(drone_testing_location, 1) # FY00,FY01发送信号\n",
    "    \n",
    "drone_testing_location_polar = []\n",
    "for location in drone_testing_location:\n",
    "    drone_testing_location_polar.append(cartesian_to_polar(location))\n",
    "    \n",
    "print(\"调整后无人机极坐标\")\n",
    "drone_testing_location_polar"
   ]
  },
  {
   "cell_type": "code",
   "execution_count": 9,
   "id": "f002e6a8",
   "metadata": {},
   "outputs": [],
   "source": [
    "def calc_all_distance(drone_testing_location):\n",
    "    distance = 0\n",
    "    for i in range(1, len(drone_testing_location)):\n",
    "        distance += calc_distance(drone_testing_location[i], drone_ideal_location_cartesian[i])\n",
    "    return distance\n",
    "\n",
    "def q3_adjust_location(drone_testing_location, drone_sender_1, drone_sender_2, drone_sender_3, drone_recipient):\n",
    "    print(f\"校准前：{calc_all_distance(drone_testing_location)}\")\n",
    "    adjustment_range = 8\n",
    "    precision = 1\n",
    "    for drone_id in drone_recipient:\n",
    "        location_cost = []\n",
    "        min_cost = 1000000\n",
    "        min_cost_idx = -1\n",
    "        for i in np.arange(adjustment_range * -1, adjustment_range + precision, precision):\n",
    "            for i2 in np.arange(adjustment_range * -1, adjustment_range + precision, precision):\n",
    "                location = list(drone_testing_location[drone_id])\n",
    "                location[0] += i\n",
    "                location[1] += i2\n",
    "                angle = [calc_angle(location, drone_testing_location[drone_sender_1], drone_testing_location[drone_sender_2]),\n",
    "                        calc_angle(location, drone_testing_location[drone_sender_1], drone_testing_location[drone_sender_3])]\n",
    "                angle_cost = cost(angle,\n",
    "                                 [calc_angle(drone_ideal_location_cartesian[drone_id], drone_testing_location[drone_sender_1], drone_testing_location[drone_sender_2]),\n",
    "                                 calc_angle(drone_ideal_location_cartesian[drone_id], drone_testing_location[drone_sender_1], drone_testing_location[drone_sender_3])])\n",
    "                if angle_cost < min_cost:\n",
    "                    min_cost = angle_cost\n",
    "                    min_cost_idx = len(location_cost)\n",
    "                location_cost.append([location, angle])\n",
    "        drone_testing_location[drone_id] = location_cost[min_cost_idx][0]\n",
    "    print(f\"校准后：{calc_all_distance(drone_testing_location)}\")\n",
    "    \n",
    "def q3_adjust_first_column(drone_testing_location):\n",
    "    adjustment_range = 8\n",
    "    prcision  = 0.1\n",
    "    for drone_id in [2, 3, 4]:\n",
    "        location_cost = []\n",
    "        min_cost = 1000000\n",
    "        min_cost_idx = -1\n",
    "        for i in np.arange(adjustment_range * -1, adjustment_range + prcision, prcision):\n",
    "            location = list(drone_testing_location[drone_id])\n",
    "            location[0] += i\n",
    "            angle = calc_angle(location, drone_testing_location[0], drone_testing_location[1])\n",
    "            if angle < min_cost:\n",
    "                min_cost = angle\n",
    "                min_cost_idx = len(location_cost)\n",
    "            location_cost.append([location, angle])\n",
    "        drone_testing_location[drone_id] = location_cost[min_cost_idx][0]    \n",
    "                               "
   ]
  },
  {
   "cell_type": "code",
   "execution_count": 10,
   "id": "60d4562b",
   "metadata": {},
   "outputs": [
    {
     "data": {
      "image/png": "[encoded data removed]",
      "text/plain": [
       "<Figure size 432x288 with 1 Axes>"
      ]
     },
     "metadata": {
      "needs_background": "light"
     },
     "output_type": "display_data"
    }
   ],
   "source": [
    "'''问题二'''\n",
    "# 无人机如锥形编队位置无偏差直角\n",
    "x = np.sqrt(50**2 - 25**2)\n",
    "drone_ideal_location_cartesian = [\n",
    "    # 第1列\n",
    "    [0, 0],\n",
    "    [0, 50],\n",
    "    [0, 100],\n",
    "    [0, 150],\n",
    "    [0, 200],\n",
    "    # 第2列\n",
    "    [x, 25],\n",
    "    [x, 75],\n",
    "    [x, 125],\n",
    "    [x, 175],\n",
    "    # 第3列\n",
    "    [2 * x, 50],\n",
    "    [2 * x, 100],\n",
    "    [2 * x, 150],\n",
    "    # 第4列\n",
    "    [3 * x, 75],\n",
    "    [3 * x, 125],\n",
    "    # 第5列\n",
    "    [4 * x, 100]\n",
    "]\n",
    "plot_location(drone_ideal_location_cartesian)"
   ]
  },
  {
   "cell_type": "code",
   "execution_count": 11,
   "id": "907ccfb9",
   "metadata": {},
   "outputs": [
    {
     "data": {
      "image/png": "[encoded data removed]",
      "text/plain": [
       "<Figure size 432x288 with 1 Axes>"
      ]
     },
     "metadata": {
      "needs_background": "light"
     },
     "output_type": "display_data"
    }
   ],
   "source": [
    "# 除了FY14和FY15，给其它无人机位置添加随机偏移\n",
    "drone_location_cartesian = []\n",
    "for i in range(len(drone_ideal_location_cartesian)):\n",
    "    location = drone_ideal_location_cartesian[i]\n",
    "    drone_location_cartesian.append(list(location))\n",
    "    if i in [0, 1]:\n",
    "        continue\n",
    "    if random.random() >= 0.5:\n",
    "        drone_location_cartesian[i][0] = location[0] + random.random() * 8\n",
    "    else:\n",
    "        drone_location_cartesian[i][0] = location[0] - random.random() * 8\n",
    "    if random.random() >= 0.5:\n",
    "        drone_location_cartesian[i][1] = location[1] + random.random() * 8\n",
    "    else:\n",
    "        drone_location_cartesian[i][1] = location[1] + random.random() * 8\n",
    "        \n",
    "plot_location(drone_location_cartesian)        \n"
   ]
  },
  {
   "cell_type": "code",
   "execution_count": 12,
   "id": "44e505d3",
   "metadata": {},
   "outputs": [
    {
     "data": {
      "text/plain": [
       "71.32692210791501"
      ]
     },
     "execution_count": 12,
     "metadata": {},
     "output_type": "execute_result"
    }
   ],
   "source": [
    "drone_testing_location = []\n",
    "for i in range(len(drone_location_cartesian)):\n",
    "    drone_testing_location.append(list(drone_location_cartesian[i]))\n",
    "distance = 0\n",
    "for i in range(1, len(drone_testing_location)):\n",
    "    distance += calc_distance(drone_testing_location[i], drone_ideal_location_cartesian[i])\n",
    "distance"
   ]
  },
  {
   "cell_type": "code",
   "execution_count": 13,
   "id": "ddcbaafc",
   "metadata": {
    "scrolled": false
   },
   "outputs": [
    {
     "name": "stdout",
     "output_type": "stream",
     "text": [
      "根据FY14和FY15，先校准第一列的x轴坐标，让第一列对齐\n"
     ]
    },
    {
     "data": {
      "image/png": "[encoded data removed]",
      "text/plain": [
       "<Figure size 432x288 with 1 Axes>"
      ]
     },
     "metadata": {
      "needs_background": "light"
     },
     "output_type": "display_data"
    },
    {
     "name": "stdout",
     "output_type": "stream",
     "text": [
      "根据第一列的FY13、FY14和FY15，校准第二列\n",
      "校准前：68.92732316764753\n",
      "校准后：50.09049519929566\n"
     ]
    },
    {
     "data": {
      "image/png": "[encoded data removed]",
      "text/plain": [
       "<Figure size 432x288 with 1 Axes>"
      ]
     },
     "metadata": {
      "needs_background": "light"
     },
     "output_type": "display_data"
    },
    {
     "name": "stdout",
     "output_type": "stream",
     "text": [
      "根据第二列FY08、FY09和FY10，校准第一列\n",
      "校准前：50.09049519929566\n",
      "校准后：41.26949770393162\n"
     ]
    },
    {
     "data": {
      "image/png": "[encoded data removed]",
      "text/plain": [
       "<Figure size 432x288 with 1 Axes>"
      ]
     },
     "metadata": {
      "needs_background": "light"
     },
     "output_type": "display_data"
    },
    {
     "name": "stdout",
     "output_type": "stream",
     "text": [
      "再一次让第一列与FY15对齐\n"
     ]
    },
    {
     "data": {
      "image/png": "[encoded data removed]",
      "text/plain": [
       "<Figure size 432x288 with 1 Axes>"
      ]
     },
     "metadata": {
      "needs_background": "light"
     },
     "output_type": "display_data"
    },
    {
     "name": "stdout",
     "output_type": "stream",
     "text": [
      "据FY13、FY14和FY15，校准其余无人机\n",
      "校准前：40.09143453281253\n",
      "校准后：7.6367528548549295\n"
     ]
    },
    {
     "data": {
      "image/png": "[encoded data removed]",
      "text/plain": [
       "<Figure size 432x288 with 1 Axes>"
      ]
     },
     "metadata": {
      "needs_background": "light"
     },
     "output_type": "display_data"
    }
   ],
   "source": [
    "# 根据FY14FY15，先校准第1列的x轴坐标，让第1列对齐\n",
    "print(\"根据FY14和FY15，先校准第一列的x轴坐标，让第一列对齐\")\n",
    "q3_adjust_first_column(drone_testing_location)\n",
    "plot_location(drone_testing_location)\n",
    "\n",
    "# 根据第1列的FY13、FY14和FY15，校准第二列\n",
    "print(\"根据第一列的FY13、FY14和FY15，校准第二列\")\n",
    "q3_adjust_location(drone_testing_location, 0, 1, 2, range(5, 9))\n",
    "plot_location(drone_testing_location)\n",
    "\n",
    "# 根据第二列FY08、FY09和FY10，校准第一列\n",
    "print(\"根据第二列FY08、FY09和FY10，校准第一列\")\n",
    "q3_adjust_location(drone_testing_location, 5, 6, 7, [1, 2, 3, 4])\n",
    "plot_location(drone_testing_location)\n",
    "\n",
    "# 再次让第1列与FY15对齐\n",
    "print(\"再一次让第一列与FY15对齐\")\n",
    "q3_adjust_first_column(drone_testing_location)\n",
    "plot_location(drone_testing_location)\n",
    "\n",
    "# 根据FY13、FY14和FY15，校准其余无人机\n",
    "print(\"据FY13、FY14和FY15，校准其余无人机\")\n",
    "q3_adjust_location(drone_testing_location, 0, 1, 2, range(5, 15))\n",
    "plot_location(drone_testing_location)"
   ]
  },
  {
   "cell_type": "code",
   "execution_count": null,
   "id": "d3a063db",
   "metadata": {},
   "outputs": [],
   "source": []
  },
  {
   "cell_type": "code",
   "execution_count": null,
   "id": "215b94cb",
   "metadata": {},
   "outputs": [],
   "source": []
  }
 ],
 "metadata": {
  "kernelspec": {
   "display_name": "Python 3 (ipykernel)",
   "language": "python",
   "name": "python3"
  },
  "language_info": {
   "codemirror_mode": {
    "name": "ipython",
    "version": 3
   },
   "file_extension": ".py",
   "mimetype": "text/x-python",
   "name": "python",
   "nbconvert_exporter": "python",
   "pygments_lexer": "ipython3",
   "version": "3.9.7"
  }
 },
 "nbformat": 4,
 "nbformat_minor": 5
}
