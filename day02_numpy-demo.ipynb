{
 "cells": [
  {
   "cell_type": "markdown",
   "id": "e5d81d9c",
   "metadata": {},
   "source": [
    "# Numpy介绍\n",
    "- 用于处理任意维度的数组（ndarray）"
   ]
  },
  {
   "cell_type": "code",
   "execution_count": 50,
   "id": "68cdd514",
   "metadata": {},
   "outputs": [],
   "source": [
    "import numpy as np #不在一个cell中要先运行导入库的操作"
   ]
  },
  {
   "cell_type": "code",
   "execution_count": 51,
   "id": "df0c0c11",
   "metadata": {},
   "outputs": [],
   "source": [
    "score=np.array([[83,24,35,43],\n",
    "[32,33,44,31],\n",
    "[42,36,68,62],\n",
    "[34,82,75,36]])"
   ]
  },
  {
   "cell_type": "code",
   "execution_count": 52,
   "id": "0ddabdc4",
   "metadata": {},
   "outputs": [
    {
     "name": "stdout",
     "output_type": "stream",
     "text": [
      "[[83 24 35 43]\n",
      " [32 33 44 31]\n",
      " [42 36 68 62]\n",
      " [34 82 75 36]]\n"
     ]
    }
   ],
   "source": [
    "print(score)"
   ]
  },
  {
   "cell_type": "code",
   "execution_count": 53,
   "id": "3d126257",
   "metadata": {},
   "outputs": [
    {
     "data": {
      "text/plain": [
       "numpy.ndarray"
      ]
     },
     "execution_count": 53,
     "metadata": {},
     "output_type": "execute_result"
    }
   ],
   "source": [
    "type(score)"
   ]
  },
  {
   "cell_type": "markdown",
   "id": "85a2939e",
   "metadata": {},
   "source": [
    "### 3.1.3 ndarray与Python原生list运算效率对比"
   ]
  },
  {
   "cell_type": "code",
   "execution_count": 54,
   "id": "690d9b69",
   "metadata": {},
   "outputs": [],
   "source": [
    "import random\n",
    "import time"
   ]
  },
  {
   "cell_type": "code",
   "execution_count": 55,
   "id": "df11067d",
   "metadata": {},
   "outputs": [],
   "source": [
    "# 生成一个大数组\n",
    "python_list=[]\n",
    "\n",
    "for i in range(100000000):\n",
    "    python_list.append(random.random())     #在列表末尾添加100000000个随机对象"
   ]
  },
  {
   "cell_type": "code",
   "execution_count": 56,
   "id": "a520c3ab",
   "metadata": {},
   "outputs": [],
   "source": [
    "ndarray_list = np.array(python_list)     #用python_list列表创建一个数组"
   ]
  },
  {
   "cell_type": "code",
   "execution_count": 57,
   "id": "50ebbf7d",
   "metadata": {},
   "outputs": [
    {
     "name": "stdout",
     "output_type": "stream",
     "text": [
      "[0.91033614 0.66056774 0.68003708 ... 0.4714532  0.07777815 0.74842801]\n"
     ]
    }
   ],
   "source": [
    "print(ndarray_list)"
   ]
  },
  {
   "cell_type": "code",
   "execution_count": 58,
   "id": "3a4b1a53",
   "metadata": {},
   "outputs": [
    {
     "data": {
      "text/plain": [
       "100000000"
      ]
     },
     "execution_count": 58,
     "metadata": {},
     "output_type": "execute_result"
    }
   ],
   "source": [
    "len(ndarray_list)"
   ]
  },
  {
   "cell_type": "code",
   "execution_count": 59,
   "id": "4fbfc1d3",
   "metadata": {},
   "outputs": [],
   "source": [
    "# 原生pythonlist求和\n",
    "t1 = time.time() #返回当前的时间戳\n",
    "a = sum(python_list) #列表求和\n",
    "t2 = time.time()\n",
    "d1 = t2-t1\n",
    "\n",
    "# ndarray求和\n",
    "t3 = time.time()\n",
    "b = np.sum(ndarray_list) #数组求和\n",
    "t4 = time.time()\n",
    "d2 = t4-t3"
   ]
  },
  {
   "cell_type": "code",
   "execution_count": 60,
   "id": "7748570c",
   "metadata": {},
   "outputs": [
    {
     "data": {
      "text/plain": [
       "0.39252471923828125"
      ]
     },
     "execution_count": 60,
     "metadata": {},
     "output_type": "execute_result"
    }
   ],
   "source": [
    "d1 #得到计算a的时间"
   ]
  },
  {
   "cell_type": "code",
   "execution_count": 61,
   "id": "f8a301fa",
   "metadata": {},
   "outputs": [
    {
     "data": {
      "text/plain": [
       "0.1154327392578125"
      ]
     },
     "execution_count": 61,
     "metadata": {},
     "output_type": "execute_result"
    }
   ],
   "source": [
    "d2 #得到计算b的时间"
   ]
  },
  {
   "cell_type": "markdown",
   "id": "44367776",
   "metadata": {},
   "source": [
    "- 由上可得，numpy数组明显更有效率"
   ]
  },
  {
   "cell_type": "markdown",
   "id": "a15090ce",
   "metadata": {},
   "source": [
    "### 3.1.4 numpy的优势\n",
    "- 1）存储风格\n",
    "    - ndarray - 相同类型 - 通用性不强\n",
    "    - list - 不同类型 - 通用性强\n",
    "- 2）并行化运算\n",
    "    - ndarray支持向量化运算\n",
    "- 3）底层语言\n",
    "    - 使用C语言编写"
   ]
  },
  {
   "cell_type": "markdown",
   "id": "f50ebed5",
   "metadata": {},
   "source": [
    "### 3.2.1 ndarray的属性"
   ]
  },
  {
   "cell_type": "code",
   "execution_count": 8,
   "id": "2f6fa3ad",
   "metadata": {},
   "outputs": [],
   "source": [
    "import numpy as np\n",
    "score=np.array([[83,24,35,43],  # 创建数组\n",
    "[32,33,44,31],\n",
    "[42,36,68,62],\n",
    "[34,82,75,36]])"
   ]
  },
  {
   "cell_type": "code",
   "execution_count": 9,
   "id": "4166d68d",
   "metadata": {},
   "outputs": [
    {
     "name": "stdout",
     "output_type": "stream",
     "text": [
      "[[83 24 35 43]\n",
      " [32 33 44 31]\n",
      " [42 36 68 62]\n",
      " [34 82 75 36]]\n"
     ]
    }
   ],
   "source": [
    "print(score)"
   ]
  },
  {
   "cell_type": "code",
   "execution_count": 7,
   "id": "65297163",
   "metadata": {},
   "outputs": [
    {
     "data": {
      "text/plain": [
       "array([[83, 24, 35, 43],\n",
       "       [32, 33, 44, 31],\n",
       "       [42, 36, 68, 62],\n",
       "       [34, 82, 75, 36]])"
      ]
     },
     "execution_count": 7,
     "metadata": {},
     "output_type": "execute_result"
    }
   ],
   "source": [
    "score"
   ]
  },
  {
   "cell_type": "code",
   "execution_count": 4,
   "id": "c2c366c2",
   "metadata": {},
   "outputs": [
    {
     "data": {
      "text/plain": [
       "(4, 4)"
      ]
     },
     "execution_count": 4,
     "metadata": {},
     "output_type": "execute_result"
    }
   ],
   "source": [
    "score.shape # 形状，（4,4）"
   ]
  },
  {
   "cell_type": "code",
   "execution_count": 5,
   "id": "7c4f8291",
   "metadata": {},
   "outputs": [
    {
     "data": {
      "text/plain": [
       "2"
      ]
     },
     "execution_count": 5,
     "metadata": {},
     "output_type": "execute_result"
    }
   ],
   "source": [
    "score.ndim #维度"
   ]
  },
  {
   "cell_type": "code",
   "execution_count": 66,
   "id": "6ad14dd7",
   "metadata": {},
   "outputs": [
    {
     "data": {
      "text/plain": [
       "16"
      ]
     },
     "execution_count": 66,
     "metadata": {},
     "output_type": "execute_result"
    }
   ],
   "source": [
    "score.size #元素个数"
   ]
  },
  {
   "cell_type": "code",
   "execution_count": 67,
   "id": "0cdf97d4",
   "metadata": {},
   "outputs": [
    {
     "data": {
      "text/plain": [
       "dtype('int32')"
      ]
     },
     "execution_count": 67,
     "metadata": {},
     "output_type": "execute_result"
    }
   ],
   "source": [
    "score.dtype # 类型"
   ]
  },
  {
   "cell_type": "code",
   "execution_count": 68,
   "id": "cb6321df",
   "metadata": {},
   "outputs": [
    {
     "data": {
      "text/plain": [
       "4"
      ]
     },
     "execution_count": 68,
     "metadata": {},
     "output_type": "execute_result"
    }
   ],
   "source": [
    "score.itemsize # 字节"
   ]
  },
  {
   "cell_type": "markdown",
   "id": "6020d9e3",
   "metadata": {},
   "source": [
    "### ndarray的形状"
   ]
  },
  {
   "cell_type": "code",
   "execution_count": 12,
   "id": "3c343ac3",
   "metadata": {},
   "outputs": [],
   "source": [
    "a=np.array([[1,2,3],[4,5,6]])\n",
    "b=np.array([1,2,3,4])\n",
    "c=np.array([[[1,2,3],[4,5,6]],[[1,2,3],[4,5,6]]])"
   ]
  },
  {
   "cell_type": "code",
   "execution_count": 13,
   "id": "b9b74ae9",
   "metadata": {},
   "outputs": [
    {
     "data": {
      "text/plain": [
       "array([[1, 2, 3],\n",
       "       [4, 5, 6]])"
      ]
     },
     "execution_count": 13,
     "metadata": {},
     "output_type": "execute_result"
    }
   ],
   "source": [
    "a #元组 (2,3)"
   ]
  },
  {
   "cell_type": "code",
   "execution_count": 15,
   "id": "4fc6e452",
   "metadata": {},
   "outputs": [
    {
     "data": {
      "text/plain": [
       "array([1, 2, 3, 4])"
      ]
     },
     "execution_count": 15,
     "metadata": {},
     "output_type": "execute_result"
    }
   ],
   "source": [
    "b #元组 （4，）\n",
    "# print(b)"
   ]
  },
  {
   "cell_type": "code",
   "execution_count": 73,
   "id": "396716c9",
   "metadata": {},
   "outputs": [
    {
     "data": {
      "text/plain": [
       "array([[[1, 2, 3],\n",
       "        [4, 5, 6]],\n",
       "\n",
       "       [[1, 2, 3],\n",
       "        [4, 5, 6]]])"
      ]
     },
     "execution_count": 73,
     "metadata": {},
     "output_type": "execute_result"
    }
   ],
   "source": [
    "c #（2，2，3）"
   ]
  },
  {
   "cell_type": "code",
   "execution_count": 74,
   "id": "4bae205c",
   "metadata": {},
   "outputs": [
    {
     "data": {
      "text/plain": [
       "(2, 3)"
      ]
     },
     "execution_count": 74,
     "metadata": {},
     "output_type": "execute_result"
    }
   ],
   "source": [
    "a.shape"
   ]
  },
  {
   "cell_type": "code",
   "execution_count": 75,
   "id": "bee6c2fa",
   "metadata": {},
   "outputs": [
    {
     "data": {
      "text/plain": [
       "(4,)"
      ]
     },
     "execution_count": 75,
     "metadata": {},
     "output_type": "execute_result"
    }
   ],
   "source": [
    "b.shape"
   ]
  },
  {
   "cell_type": "code",
   "execution_count": 76,
   "id": "42bc3446",
   "metadata": {},
   "outputs": [
    {
     "data": {
      "text/plain": [
       "(2, 2, 3)"
      ]
     },
     "execution_count": 76,
     "metadata": {},
     "output_type": "execute_result"
    }
   ],
   "source": [
    "c.shape"
   ]
  },
  {
   "cell_type": "markdown",
   "id": "fdbac0d7",
   "metadata": {},
   "source": [
    "### 3.2.3 ndarry的类型"
   ]
  },
  {
   "cell_type": "code",
   "execution_count": 77,
   "id": "a2a53414",
   "metadata": {},
   "outputs": [
    {
     "data": {
      "text/plain": [
       "dtype('float64')"
      ]
     },
     "execution_count": 77,
     "metadata": {},
     "output_type": "execute_result"
    }
   ],
   "source": [
    "data=np.array([1.1,2.2,3.3])\n",
    "data.dtype"
   ]
  },
  {
   "cell_type": "markdown",
   "id": "9321b954",
   "metadata": {},
   "source": [
    "### 3.3.1 生成数组的方法"
   ]
  },
  {
   "cell_type": "code",
   "execution_count": 80,
   "id": "88f5712c",
   "metadata": {},
   "outputs": [
    {
     "data": {
      "text/plain": [
       "array([[0., 0., 0., 0.],\n",
       "       [0., 0., 0., 0.],\n",
       "       [0., 0., 0., 0.]], dtype=float32)"
      ]
     },
     "execution_count": 80,
     "metadata": {},
     "output_type": "execute_result"
    }
   ],
   "source": [
    "# 生成0和1的数组\n",
    "np.zeros(shape=(3,4),dtype='float32')"
   ]
  },
  {
   "cell_type": "code",
   "execution_count": 81,
   "id": "5142dd95",
   "metadata": {},
   "outputs": [
    {
     "data": {
      "text/plain": [
       "array([[1, 1, 1],\n",
       "       [1, 1, 1]])"
      ]
     },
     "execution_count": 81,
     "metadata": {},
     "output_type": "execute_result"
    }
   ],
   "source": [
    "np.ones(shape=[2,3],dtype=np.int32)"
   ]
  },
  {
   "cell_type": "markdown",
   "id": "49adb519",
   "metadata": {},
   "source": [
    "- 从现有数组中生成"
   ]
  },
  {
   "cell_type": "code",
   "execution_count": 83,
   "id": "96ebf1df",
   "metadata": {},
   "outputs": [
    {
     "data": {
      "text/plain": [
       "array([[83, 24, 35, 43],\n",
       "       [32, 33, 44, 31],\n",
       "       [42, 36, 68, 62],\n",
       "       [34, 82, 75, 36]])"
      ]
     },
     "execution_count": 83,
     "metadata": {},
     "output_type": "execute_result"
    }
   ],
   "source": [
    "score"
   ]
  },
  {
   "cell_type": "code",
   "execution_count": 86,
   "id": "b0c6f413",
   "metadata": {},
   "outputs": [],
   "source": [
    "# np.array()\n",
    "data1=np.array(score)"
   ]
  },
  {
   "cell_type": "code",
   "execution_count": 87,
   "id": "d7b0ed78",
   "metadata": {
    "scrolled": true
   },
   "outputs": [
    {
     "data": {
      "text/plain": [
       "array([[83, 24, 35, 43],\n",
       "       [32, 33, 44, 31],\n",
       "       [42, 36, 68, 62],\n",
       "       [34, 82, 75, 36]])"
      ]
     },
     "execution_count": 87,
     "metadata": {},
     "output_type": "execute_result"
    }
   ],
   "source": [
    "data1"
   ]
  },
  {
   "cell_type": "code",
   "execution_count": 16,
   "id": "3a1fa98c",
   "metadata": {},
   "outputs": [],
   "source": [
    "# np.asarray()\n",
    "data2=np.asarray(score)"
   ]
  },
  {
   "cell_type": "code",
   "execution_count": 17,
   "id": "8576c8ca",
   "metadata": {},
   "outputs": [
    {
     "data": {
      "text/plain": [
       "array([[83, 24, 35, 43],\n",
       "       [32, 33, 44, 31],\n",
       "       [42, 36, 68, 62],\n",
       "       [34, 82, 75, 36]])"
      ]
     },
     "execution_count": 17,
     "metadata": {},
     "output_type": "execute_result"
    }
   ],
   "source": [
    "data2"
   ]
  },
  {
   "cell_type": "code",
   "execution_count": 90,
   "id": "a7ff13f9",
   "metadata": {},
   "outputs": [],
   "source": [
    "# np.copy()\n",
    "data3=np.copy(score)"
   ]
  },
  {
   "cell_type": "code",
   "execution_count": 91,
   "id": "bccafac7",
   "metadata": {},
   "outputs": [
    {
     "data": {
      "text/plain": [
       "array([[83, 24, 35, 43],\n",
       "       [32, 33, 44, 31],\n",
       "       [42, 36, 68, 62],\n",
       "       [34, 82, 75, 36]])"
      ]
     },
     "execution_count": 91,
     "metadata": {},
     "output_type": "execute_result"
    }
   ],
   "source": [
    "data3"
   ]
  },
  {
   "cell_type": "code",
   "execution_count": 92,
   "id": "8663fb93",
   "metadata": {},
   "outputs": [],
   "source": [
    "score[3,1]=1000 #将score中第4行2列的数改为1000（行列都从0开始）"
   ]
  },
  {
   "cell_type": "code",
   "execution_count": 93,
   "id": "cd2a46f1",
   "metadata": {},
   "outputs": [
    {
     "data": {
      "text/plain": [
       "array([[  83,   24,   35,   43],\n",
       "       [  32,   33,   44,   31],\n",
       "       [  42,   36,   68,   62],\n",
       "       [  34, 1000,   75,   36]])"
      ]
     },
     "execution_count": 93,
     "metadata": {},
     "output_type": "execute_result"
    }
   ],
   "source": [
    "score"
   ]
  },
  {
   "cell_type": "code",
   "execution_count": 94,
   "id": "d47e3f84",
   "metadata": {},
   "outputs": [
    {
     "data": {
      "text/plain": [
       "array([[83, 24, 35, 43],\n",
       "       [32, 33, 44, 31],\n",
       "       [42, 36, 68, 62],\n",
       "       [34, 82, 75, 36]])"
      ]
     },
     "execution_count": 94,
     "metadata": {},
     "output_type": "execute_result"
    }
   ],
   "source": [
    "data1"
   ]
  },
  {
   "cell_type": "code",
   "execution_count": 95,
   "id": "71f5257f",
   "metadata": {},
   "outputs": [
    {
     "data": {
      "text/plain": [
       "array([[  83,   24,   35,   43],\n",
       "       [  32,   33,   44,   31],\n",
       "       [  42,   36,   68,   62],\n",
       "       [  34, 1000,   75,   36]])"
      ]
     },
     "execution_count": 95,
     "metadata": {},
     "output_type": "execute_result"
    }
   ],
   "source": [
    "data2"
   ]
  },
  {
   "cell_type": "code",
   "execution_count": 96,
   "id": "d8b6ea3e",
   "metadata": {},
   "outputs": [
    {
     "data": {
      "text/plain": [
       "array([[83, 24, 35, 43],\n",
       "       [32, 33, 44, 31],\n",
       "       [42, 36, 68, 62],\n",
       "       [34, 82, 75, 36]])"
      ]
     },
     "execution_count": 96,
     "metadata": {},
     "output_type": "execute_result"
    }
   ],
   "source": [
    "data3"
   ]
  },
  {
   "cell_type": "markdown",
   "id": "af7a6302",
   "metadata": {},
   "source": [
    "- 可知，np.array() np.copy() 深拷贝\n",
    "- np.asarray() 浅拷贝"
   ]
  },
  {
   "cell_type": "markdown",
   "id": "d789a5ac",
   "metadata": {},
   "source": [
    "### 3. 生成固定范围的数组"
   ]
  },
  {
   "cell_type": "code",
   "execution_count": 18,
   "id": "b5be0ee2",
   "metadata": {},
   "outputs": [
    {
     "data": {
      "text/plain": [
       "array([ 0. ,  2.5,  5. ,  7.5, 10. ])"
      ]
     },
     "execution_count": 18,
     "metadata": {},
     "output_type": "execute_result"
    }
   ],
   "source": [
    "np.linspace(0,10,5) #等距离的生成[0，10]的5个数据"
   ]
  },
  {
   "cell_type": "code",
   "execution_count": 19,
   "id": "31a0f577",
   "metadata": {},
   "outputs": [
    {
     "data": {
      "text/plain": [
       "array([ 0,  5, 10])"
      ]
     },
     "execution_count": 19,
     "metadata": {},
     "output_type": "execute_result"
    }
   ],
   "source": [
    "np.arange(0,11,5) #[0,11)，间隔5个步长"
   ]
  },
  {
   "cell_type": "markdown",
   "id": "7cf621f3",
   "metadata": {},
   "source": [
    "### 4.生成随机数组"
   ]
  },
  {
   "cell_type": "markdown",
   "id": "3b79a3c7",
   "metadata": {},
   "source": [
    "- np.random模块\n",
    "    - np.random.rand(d0,d1,....,dn) # 返回 [ 0.0 , 1.0 ) 内的一组均匀分布的数\n",
    "    - np.random.uniform(low=0.0,high=1.0,size=None) # [low,high)中随机采样，low和high是float类型，size：输出样本数目，为int或元组类型"
   ]
  },
  {
   "cell_type": "code",
   "execution_count": 20,
   "id": "f922e57a",
   "metadata": {},
   "outputs": [],
   "source": [
    "import numpy as np\n",
    "data1 = np.random.uniform(low=-1,high=1,size=10000000)"
   ]
  },
  {
   "cell_type": "code",
   "execution_count": 11,
   "id": "8ecbd429",
   "metadata": {},
   "outputs": [
    {
     "data": {
      "text/plain": [
       "array([[0.55920692, 0.58591728, 0.67301651, 0.93261518],\n",
       "       [0.57216354, 0.6747726 , 0.06700135, 0.9678296 ]])"
      ]
     },
     "execution_count": 11,
     "metadata": {},
     "output_type": "execute_result"
    }
   ],
   "source": [
    "import numpy as np\n",
    "a = np.random.rand(2,4) # 生成2行4列的范围为（0,1）的随即数组\n",
    "a"
   ]
  },
  {
   "cell_type": "code",
   "execution_count": 14,
   "id": "1c78e32e",
   "metadata": {},
   "outputs": [
    {
     "name": "stdout",
     "output_type": "stream",
     "text": [
      "[[[0.15872853 0.86910692 0.79907212]\n",
      "  [0.49286612 0.08765057 0.50374607]]\n",
      "\n",
      " [[0.57090236 0.93010704 0.84168485]\n",
      "  [0.74383495 0.89354502 0.86492009]]]\n"
     ]
    }
   ],
   "source": [
    "print(np.random.rand(2,2,3)) # 三维，外层嵌套两个二维数组，每个二维数组分别有两个一维数组，一维数组中含有3根元素"
   ]
  },
  {
   "cell_type": "code",
   "execution_count": 16,
   "id": "b425bd83",
   "metadata": {},
   "outputs": [
    {
     "name": "stdout",
     "output_type": "stream",
     "text": [
      "[[[0.80128838 0.79327176 0.37277599 0.4431002 ]\n",
      "  [0.16280568 0.87099742 0.44873982 0.21551711]\n",
      "  [0.65732137 0.22076889 0.70379193 0.36250915]]\n",
      "\n",
      " [[0.9524454  0.19679657 0.44552047 0.2581511 ]\n",
      "  [0.06578521 0.83525028 0.56243563 0.50077874]\n",
      "  [0.31048919 0.89056652 0.75470966 0.13520474]]]\n"
     ]
    }
   ],
   "source": [
    "print(np.random.rand(2,3,4)) # 外层嵌套2个二维数组，分别含有3个一维函数，一维函数中都是4个元素"
   ]
  },
  {
   "cell_type": "code",
   "execution_count": 21,
   "id": "fd434e2e",
   "metadata": {},
   "outputs": [
    {
     "data": {
      "image/png": "[encoded data removed]",
      "text/plain": [
       "<Figure size 432x288 with 1 Axes>"
      ]
     },
     "metadata": {
      "needs_background": "light"
     },
     "output_type": "display_data"
    }
   ],
   "source": [
    "import matplotlib.pyplot as plt\n",
    "data1 = np.random.uniform(low=-1,high=1,size=10000000)\n",
    "# # 1、创建画布\n",
    "# plt.figure(figsize=(10,5),dpi=100)\n",
    "\n",
    "# # 2、绘制直方图\n",
    "# distance = 10000\n",
    "# group_num = int((max(data1)-min(data1)) / distance)\n",
    "# # plt.hist=(data1,group_num,distance) # 分1000组\n",
    "# plt.hist(data1,bins=group_num)\n",
    "# # 3、显示图像\n",
    "# plt.show()\n",
    "\n",
    "# 获取当前轴信息\n",
    "ax = plt.gca()\n",
    "\n",
    "# 直方图的数据\n",
    "ax.hist(data1, bins=1000, color='#efa13d')\n",
    "\n",
    "# 设置标题\n",
    "ax.set_title(r'均匀分布的直方图')\n",
    "#添加网格\n",
    "ax.grid(linestyle='--',alpha=0.5)\n",
    "\n",
    "plt.show()"
   ]
  },
  {
   "cell_type": "markdown",
   "id": "c9b06cd6",
   "metadata": {},
   "source": [
    "####  挪动坐标轴"
   ]
  },
  {
   "cell_type": "code",
   "execution_count": 27,
   "id": "9b20eed1",
   "metadata": {},
   "outputs": [
    {
     "data": {
      "image/png": "[encoded data removed]",
      "text/plain": [
       "<Figure size 400x400 with 1 Axes>"
      ]
     },
     "metadata": {
      "needs_background": "light"
     },
     "output_type": "display_data"
    }
   ],
   "source": [
    "# （1）获取当前坐标轴位置并移动\n",
    "# 既然要动，那么就要在获取当前坐标轴位置的基础上进行挪动。\n",
    "import matplotlib.pyplot as plt\n",
    "\n",
    "# 这里建立的画布大小是5*5的，并不是坐标轴范围，使用“十字按钮”拖动你就懂了！\n",
    "plt.figure(figsize = (5,5),dpi = 80)\n",
    "plt.plot()  # 画个只有坐标系的图（因为没有传参数，所以显示空白）\n",
    "\n",
    "ax = plt.gca()\n",
    "\n",
    "# 获取你想要挪动的坐标轴，这里只有顶部、底部、左、右四个方向参数\n",
    "ax.xaxis.set_ticks_position('bottom')  #  要挪动底部的X轴，所以先目光锁定底部！\n",
    "\n",
    "# 在这里，position位置参数有三种，这里用到了“按Y轴刻度位置挪动”\n",
    "# 'data'表示按数值挪动，其后数字代表挪动到Y轴的刻度值\n",
    "ax.spines['bottom'].set_position(('data',0))\n",
    "\n",
    "plt.show()"
   ]
  },
  {
   "cell_type": "code",
   "execution_count": 52,
   "id": "975a7d33",
   "metadata": {},
   "outputs": [
    {
     "data": {
      "image/png": "[encoded data removed]",
      "text/plain": [
       "<Figure size 360x360 with 1 Axes>"
      ]
     },
     "metadata": {
      "needs_background": "light"
     },
     "output_type": "display_data"
    }
   ],
   "source": [
    "# 将处于右边和上面的“支柱”也挪到（0,0）位置\n",
    "import matplotlib.pyplot as plt\n",
    "\n",
    "# 这里建立的画布大小是5*5的，并不是坐标轴范围，使用“十字按钮”拖动你就懂了！\n",
    "plt.figure(figsize = (5,5))\n",
    "plt.plot()  # 画个只有坐标系的图（因为没有传参数，所以显示空白）\n",
    "\n",
    "ax = plt.gca()\n",
    "\n",
    "# 获取你想要挪动的坐标轴，这里只有顶部、底部、左、右四个方向参数\n",
    "ax.xaxis.set_ticks_position('bottom')  #  要挪动底部的X轴，所以先目光锁定底部！\n",
    "\n",
    "# 在这里，position位置参数有三种，这里用到了“按Y轴刻度位置挪动”\n",
    "# 'data'表示按数值挪动，其后数字代表挪动到Y轴的刻度值\n",
    "ax.spines['bottom'].set_position(('data',0))\n",
    "\n",
    "# 同理，要挪动Y轴的代码如下\n",
    "ax.yaxis.set_ticks_position('left')\n",
    "ax.spines['left'].set_position(('data',0))\n",
    "# 补充：set_position( )中除了‘data’以外还有‘outward’和‘axes’，自己去尝试效果\n",
    "\n",
    "plt.show()"
   ]
  },
  {
   "cell_type": "code",
   "execution_count": 53,
   "id": "09178c80",
   "metadata": {},
   "outputs": [],
   "source": [
    "# 怎么让顶部和右边的“支柱”消失"
   ]
  },
  {
   "cell_type": "code",
   "execution_count": 55,
   "id": "a4a2f5fd",
   "metadata": {},
   "outputs": [
    {
     "data": {
      "image/png": "[encoded data removed]",
      "text/plain": [
       "<Figure size 360x360 with 1 Axes>"
      ]
     },
     "metadata": {
      "needs_background": "light"
     },
     "output_type": "display_data"
    }
   ],
   "source": [
    "# 方法一：按照前面讲的，将处于右边和上面的“支柱”也挪到（0,0）位置\n",
    "import matplotlib.pyplot as plt\n",
    "\n",
    "plt.figure(figsize = (5,5))\n",
    "plt.plot()\n",
    "\n",
    "ax = plt.gca()\n",
    "\n",
    "ax.xaxis.set_ticks_position('bottom')\n",
    "ax.spines['bottom'].set_position(('data',0))\n",
    "\n",
    "ax.yaxis.set_ticks_position('left')\n",
    "ax.spines['left'].set_position(('data',0))\n",
    "\n",
    "ax.xaxis.set_ticks_position('top')\n",
    "ax.spines['top'].set_position(('data',0))\n",
    "\n",
    "ax.yaxis.set_ticks_position('right')\n",
    "ax.spines['right'].set_position(('data',0))\n",
    "\n",
    "plt.show()"
   ]
  },
  {
   "cell_type": "code",
   "execution_count": 54,
   "id": "1ce799b4",
   "metadata": {},
   "outputs": [
    {
     "data": {
      "image/png": "[encoded data removed]",
      "text/plain": [
       "<Figure size 360x360 with 1 Axes>"
      ]
     },
     "metadata": {
      "needs_background": "light"
     },
     "output_type": "display_data"
    }
   ],
   "source": [
    "# 方法二、强行给这两个“支柱”涂上隐形涂料（获取其颜色并设置为none）\n",
    "import matplotlib.pyplot as plt\n",
    "\n",
    "plt.figure(figsize = (5,5))\n",
    "plt.plot()\n",
    "\n",
    "ax = plt.gca()\n",
    "\n",
    "ax.xaxis.set_ticks_position('bottom')\n",
    "ax.spines['bottom'].set_position(('data',0))\n",
    "\n",
    "ax.yaxis.set_ticks_position('left')\n",
    "ax.spines['left'].set_position(('data',0))\n",
    "\n",
    "ax.spines['top'].set_color('none')  # 设置顶部支柱的颜色为空\n",
    "\n",
    "ax.spines['right'].set_color('none')  # 设置右边支柱的颜色为空\n",
    "\n",
    "plt.show()"
   ]
  },
  {
   "cell_type": "code",
   "execution_count": 56,
   "id": "7d6d4452",
   "metadata": {},
   "outputs": [
    {
     "data": {
      "image/png": "[encoded data removed]",
      "text/plain": [
       "<Figure size 432x288 with 1 Axes>"
      ]
     },
     "metadata": {
      "needs_background": "light"
     },
     "output_type": "display_data"
    }
   ],
   "source": [
    "import matplotlib.pyplot as plt\n",
    "import numpy as np\n",
    "\n",
    "n = np.linspace(-5, 4, 30)\n",
    "m1 = 3 * n + 2\n",
    "m2 = n ** 2\n",
    "\n",
    "plt.plot(n, m1, 'r-.', n, m2, 'b')\n",
    "\n",
    "plt.xlim((-2, 4))\n",
    "plt.ylim((-5, 15))\n",
    "\n",
    "x_ticks = np.linspace(-5, 4, 10)\n",
    "plt.xticks(x_ticks)\n",
    "\n",
    "plt.yticks([-2.5, 7.5], ['hate','love'])\n",
    "\n",
    "plt.xlabel('XXX')\n",
    "plt.ylabel('YYY')\n",
    "\n",
    "ax = plt.gca()\n",
    "\n",
    "ax.xaxis.set_ticks_position('bottom')\n",
    "ax.spines['bottom'].set_position(('data',0))\n",
    "\n",
    "ax.yaxis.set_ticks_position('left')\n",
    "ax.spines['left'].set_position(('data',0))\n",
    "\n",
    "ax.spines['top'].set_color('none')\n",
    "ax.spines['right'].set_color('none')\n",
    "\n",
    "plt.show()"
   ]
  },
  {
   "cell_type": "code",
   "execution_count": 58,
   "id": "bc4f12de",
   "metadata": {},
   "outputs": [
    {
     "data": {
      "image/png": "[encoded data removed]",
      "text/plain": [
       "<Figure size 432x288 with 1 Axes>"
      ]
     },
     "metadata": {
      "needs_background": "light"
     },
     "output_type": "display_data"
    }
   ],
   "source": [
    "import matplotlib.pyplot as plt\n",
    "import numpy as np\n",
    "\n",
    "# 产生区间在-5至4间的30个均匀数值（当做x坐标值，并当做下面两个方程共同的输入）\n",
    "n = np.linspace(-5, 4, 30)\n",
    "\n",
    "m1 = 3 * n + 2  # 二元一次方程，即直线\n",
    "m2 = n ** 2  # 二元二次方程，即抛物线\n",
    "\n",
    "plt.plot(n, m1, 'r-.', n, m2, 'b')\n",
    "\n",
    "plt.show()"
   ]
  },
  {
   "cell_type": "code",
   "execution_count": 59,
   "id": "6ffb1bd0",
   "metadata": {},
   "outputs": [],
   "source": [
    "# 改善上图坐标轴"
   ]
  },
  {
   "cell_type": "code",
   "execution_count": 60,
   "id": "0d76833a",
   "metadata": {},
   "outputs": [
    {
     "data": {
      "image/png": "[encoded data removed]",
      "text/plain": [
       "<Figure size 432x288 with 1 Axes>"
      ]
     },
     "metadata": {
      "needs_background": "light"
     },
     "output_type": "display_data"
    }
   ],
   "source": [
    "import matplotlib.pyplot as plt\n",
    "import numpy as np\n",
    "\n",
    "n = np.linspace(-5, 4, 30)\n",
    "\n",
    "m1 = 3 * n + 2\n",
    "m2 = n ** 2\n",
    "\n",
    "plt.plot(n, m1, 'r-.', n, m2, 'b')\n",
    "\n",
    "plt.xlim((-2, 4))  #将X轴范围设定在(-2, 4)\n",
    "plt.ylim((-5, 15))  #将Y轴范围设定在(-5, 15)\n",
    "\n",
    "plt.show()"
   ]
  },
  {
   "cell_type": "code",
   "execution_count": 64,
   "id": "f3cc05e2",
   "metadata": {},
   "outputs": [
    {
     "data": {
      "image/png": "[encoded data removed]",
      "text/plain": [
       "<Figure size 432x288 with 1 Axes>"
      ]
     },
     "metadata": {
      "needs_background": "light"
     },
     "output_type": "display_data"
    }
   ],
   "source": [
    "import matplotlib.pyplot as plt\n",
    "import numpy as np\n",
    "\n",
    "n = np.linspace(-5, 4, 30)\n",
    "\n",
    "m1 = 3 * n + 2\n",
    "m2 = n ** 2\n",
    "\n",
    "plt.plot(n, m1, 'r-.', n, m2, 'b')\n",
    "\n",
    "plt.xlim((-2, 4))\n",
    "plt.ylim((-5, 15))\n",
    "\n",
    "x_ticks = np.linspace(-5, 4, 10)  # 产生区间在-5至4间的10个均匀数值\n",
    "plt.xticks(x_ticks)  # 将linspace产生的新的十个值传给xticks( )函数，用以改变坐标刻度\n",
    "\n",
    "plt.show()\n",
    "\n",
    "# 在pycharm中创建此图片可以进行拖动看到全部的y值"
   ]
  },
  {
   "cell_type": "code",
   "execution_count": null,
   "id": "e304d62c",
   "metadata": {},
   "outputs": [],
   "source": [
    "# 坐标轴标注替换"
   ]
  },
  {
   "cell_type": "code",
   "execution_count": 65,
   "id": "dc30e0c9",
   "metadata": {},
   "outputs": [
    {
     "data": {
      "image/png": "[encoded data removed]",
      "text/plain": [
       "<Figure size 432x288 with 1 Axes>"
      ]
     },
     "metadata": {
      "needs_background": "light"
     },
     "output_type": "display_data"
    }
   ],
   "source": [
    "import matplotlib.pyplot as plt\n",
    "import numpy as np\n",
    "\n",
    "n = np.linspace(-5, 4, 30)\n",
    "m1 = 3 * n + 2\n",
    "m2 = n ** 2\n",
    "\n",
    "plt.plot(n, m1, 'r-.', n, m2, 'b')\n",
    "\n",
    "plt.xlim((-2, 4))\n",
    "plt.ylim((-5, 15))\n",
    "\n",
    "x_ticks = np.linspace(-5, 4, 10)\n",
    "plt.xticks(x_ticks)\n",
    "\n",
    "# 将对应标度位置的数字替换为想要替换的字符串，其余为替换的不再显示\n",
    "plt.yticks([-2.5, 7.5], ['hate','love'])\n",
    "\n",
    "plt.xlabel('XXX')\n",
    "plt.ylabel('YYY')\n",
    "\n",
    "plt.show()"
   ]
  },
  {
   "cell_type": "code",
   "execution_count": 25,
   "id": "955f256d",
   "metadata": {},
   "outputs": [
    {
     "data": {
      "image/png": "[encoded data removed]",
      "text/plain": [
       "<Figure size 432x288 with 1 Axes>"
      ]
     },
     "metadata": {
      "needs_background": "light"
     },
     "output_type": "display_data"
    }
   ],
   "source": [
    "import numpy as np\n",
    "import matplotlib.pyplot as plt\n",
    "\n",
    "# 生成一些随机数据（正态分布）\n",
    "mu = 100\n",
    "sigma = 15\n",
    "x = np.random.normal(mu, sigma, 10000)\n",
    "# 获取当前轴信息\n",
    "ax = plt.gca()\n",
    "\n",
    "# 直方图的数据\n",
    "ax.hist(x, bins=35, color='#CCCCCC')\n",
    "# 设置轴信息\n",
    "ax.set_xlabel(\"Values\")\n",
    "ax.set_ylabel(\"Frequency\")\n",
    "# 设置标题\n",
    "ax.set_title(r'$\\mathrm{Histgram:}\\ \\mu=%d,\\ \\sigma=%d$' % (mu, sigma))\n",
    "\n",
    "plt.show()"
   ]
  },
  {
   "cell_type": "code",
   "execution_count": 66,
   "id": "0df4d48a",
   "metadata": {},
   "outputs": [],
   "source": [
    "# 标题的格式\n",
    "# import matplotlib.pyplot as plt\n",
    "# f1=plt.figure()\n",
    "# plt.title(\"figure1\")\n",
    "\n",
    "# f2=plt.figure()\n",
    "# plt.title(\"figure2\")\n",
    "\n",
    "# f3=plt.figure(5)\n",
    "# plt.title(\"figure5\")\n",
    "\n",
    "# f6=plt.figure(6,(4,4),100)\n",
    "# plt.title(\"figure6\")\n",
    "\n",
    "# f7=plt.figure(7,None,None,'#FFD700','#FF0000')\n",
    "# plt.title(\"figure7\")\n",
    "# plt.show()"
   ]
  },
  {
   "cell_type": "markdown",
   "id": "9a541dc0",
   "metadata": {},
   "source": [
    "### 补充：正态分布\n",
    "- μ：均值 σ：标准差 正态分布记作N(μ，σ)\n",
    "- μ决定了其位置，σ决定了分布的幅度（离散程度）\n",
    "- np.random.normal(loc=0.0,scale=1.0,size=None)#loc是均值，scale是标准差，size是形状"
   ]
  },
  {
   "cell_type": "code",
   "execution_count": 67,
   "id": "85a3bf2c",
   "metadata": {},
   "outputs": [
    {
     "name": "stdout",
     "output_type": "stream",
     "text": [
      "[-0.57745838 -0.03716742 -0.58468104 ... -0.2282627   0.62727765\n",
      " -0.68693771]\n"
     ]
    }
   ],
   "source": [
    "data2=np.random.normal(1.75,0.1,100000000)\n",
    "print(data1)"
   ]
  },
  {
   "cell_type": "code",
   "execution_count": 68,
   "id": "5f3f06ab",
   "metadata": {},
   "outputs": [
    {
     "data": {
      "image/png": "[encoded data removed]",
      "text/plain": [
       "<Figure size 432x288 with 1 Axes>"
      ]
     },
     "metadata": {
      "needs_background": "light"
     },
     "output_type": "display_data"
    }
   ],
   "source": [
    "ax = plt.gca()\n",
    "\n",
    "# 直方图的数据\n",
    "ax.hist(data2, bins=1000, color='#efa13d')\n",
    "\n",
    "# 设置标题\n",
    "ax.set_title(r'均匀分布的直方图')\n",
    "#添加网格\n",
    "ax.grid(linestyle='--',alpha=0.5)\n",
    "\n",
    "plt.show()"
   ]
  },
  {
   "cell_type": "markdown",
   "id": "7c1d00d2",
   "metadata": {},
   "source": [
    "### 案例：随机生成8只股票2周的交易日涨幅数据\n",
    "- 8只股票，两周（10天）的涨跌幅数据，如何获取？\n",
    "    - 两周的交易日数量为：2*5=10\n",
    "    - 随机生成涨跌幅在某个正态分布内，比如均值0，方差1"
   ]
  },
  {
   "cell_type": "code",
   "execution_count": 127,
   "id": "97e246cb",
   "metadata": {},
   "outputs": [
    {
     "data": {
      "text/plain": [
       "array([[-0.71585535,  0.05681922, -0.11055791, -1.05795462,  0.82913498,\n",
       "         0.46348539,  1.02042921,  1.39162465,  1.98787846,  0.950986  ],\n",
       "       [ 1.08794424, -1.00058382, -0.38315033, -1.69097722,  0.13774941,\n",
       "        -0.77063872, -0.51773443, -0.3178986 , -0.12872974, -0.78334109],\n",
       "       [ 0.29740357, -0.4121954 ,  0.61138119, -1.2853544 , -0.94244141,\n",
       "         0.14893892,  0.34552018,  0.21656491,  0.54103987, -2.21592439],\n",
       "       [ 1.5545681 , -0.01692532,  1.21636502,  0.05307232, -0.27172224,\n",
       "        -0.50430432, -0.83863476, -1.91892812, -0.54019755, -0.09455766],\n",
       "       [ 0.45739944,  0.45389475,  0.88601828,  0.13703123,  0.03985607,\n",
       "         0.89788973,  0.93187072, -0.36950664,  1.26534045, -0.82548036],\n",
       "       [ 0.44820477, -0.90004807,  1.20811441, -0.00623916, -0.58991708,\n",
       "        -1.51420159, -0.38701892, -0.20347944,  1.01035065, -0.40023244],\n",
       "       [ 0.89885471,  0.25239616, -0.43394262,  0.45426795,  0.43104888,\n",
       "        -0.96058743, -0.57323587,  0.59524942,  0.11377507, -0.6556576 ],\n",
       "       [-0.95003604, -0.07880016,  0.50930988, -2.14216653,  0.05777574,\n",
       "         1.51232968,  1.27213209, -0.75009373, -1.23567436, -0.22358091]])"
      ]
     },
     "execution_count": 127,
     "metadata": {},
     "output_type": "execute_result"
    }
   ],
   "source": [
    "# 股票涨跌幅数据的创建\n",
    "# 创建符合正态分布的8只股票10天的涨跌幅数据\n",
    "stock_change = np.random.normal(0,1,(8,10)) # 周六周日不交易，所以两周交易日是10天\n",
    "stock_change"
   ]
  },
  {
   "cell_type": "code",
   "execution_count": 128,
   "id": "77e03f81",
   "metadata": {},
   "outputs": [
    {
     "data": {
      "text/plain": [
       "array([-0.71585535,  0.05681922, -0.11055791])"
      ]
     },
     "execution_count": 128,
     "metadata": {},
     "output_type": "execute_result"
    }
   ],
   "source": [
    "# 获取第一个涨跌幅的前3个交易日的涨跌幅数据\n",
    "stock_change[0, :3] # 第1行的前3列"
   ]
  },
  {
   "cell_type": "code",
   "execution_count": 129,
   "id": "6c2a39dc",
   "metadata": {},
   "outputs": [],
   "source": [
    "# 三维的数组如何索引"
   ]
  },
  {
   "cell_type": "code",
   "execution_count": 130,
   "id": "93bfdd56",
   "metadata": {},
   "outputs": [],
   "source": [
    "a1 = np.array([ [[1,2,3],[4,5,6]], [[12,3,34],[5,6,7]] ])"
   ]
  },
  {
   "cell_type": "code",
   "execution_count": 131,
   "id": "7242f8a2",
   "metadata": {},
   "outputs": [
    {
     "data": {
      "text/plain": [
       "array([[[ 1,  2,  3],\n",
       "        [ 4,  5,  6]],\n",
       "\n",
       "       [[12,  3, 34],\n",
       "        [ 5,  6,  7]]])"
      ]
     },
     "execution_count": 131,
     "metadata": {},
     "output_type": "execute_result"
    }
   ],
   "source": [
    "a1 # 三维，最外层嵌套2个二维数组，这个二维数组有含有2个一维数组，一个一维数组中有3个元素  所以（2,2,3）是它的形状"
   ]
  },
  {
   "cell_type": "code",
   "execution_count": 84,
   "id": "991b6e38",
   "metadata": {},
   "outputs": [
    {
     "data": {
      "text/plain": [
       "(2, 2, 3)"
      ]
     },
     "execution_count": 84,
     "metadata": {},
     "output_type": "execute_result"
    }
   ],
   "source": [
    "a1.shape "
   ]
  },
  {
   "cell_type": "code",
   "execution_count": 85,
   "id": "15fb2a38",
   "metadata": {},
   "outputs": [
    {
     "data": {
      "text/plain": [
       "array([[[    1,     2,     3],\n",
       "        [    4,     5,     6]],\n",
       "\n",
       "       [[   12,     3, 10000],\n",
       "        [    5,     6,     7]]])"
      ]
     },
     "execution_count": 85,
     "metadata": {},
     "output_type": "execute_result"
    }
   ],
   "source": [
    "a1[1, 0, 2] = 10000\n",
    "a1"
   ]
  },
  {
   "cell_type": "markdown",
   "id": "754a05cb",
   "metadata": {},
   "source": [
    "### 3.3.3 形状修改\n",
    "- 三种方法 \n",
    "    - ndarray.reshape() ：返回新的ndarray，原始数据没有改变\n",
    "    - ndarray.resize() ：没有返回值，但对原始的ndarray进行了修改\n",
    "    - ndarray.T ：转置 行变成列，列变成行\n",
    "- 需求：让刚才的股票行、日期列反过来，编程日起航、股票列"
   ]
  },
  {
   "cell_type": "code",
   "execution_count": 142,
   "id": "5866eaf7",
   "metadata": {},
   "outputs": [
    {
     "data": {
      "text/plain": [
       "array([[-0.71585535,  0.05681922, -0.11055791, -1.05795462,  0.82913498,\n",
       "         0.46348539,  1.02042921,  1.39162465,  1.98787846,  0.950986  ],\n",
       "       [ 1.08794424, -1.00058382, -0.38315033, -1.69097722,  0.13774941,\n",
       "        -0.77063872, -0.51773443, -0.3178986 , -0.12872974, -0.78334109],\n",
       "       [ 0.29740357, -0.4121954 ,  0.61138119, -1.2853544 , -0.94244141,\n",
       "         0.14893892,  0.34552018,  0.21656491,  0.54103987, -2.21592439],\n",
       "       [ 1.5545681 , -0.01692532,  1.21636502,  0.05307232, -0.27172224,\n",
       "        -0.50430432, -0.83863476, -1.91892812, -0.54019755, -0.09455766],\n",
       "       [ 0.45739944,  0.45389475,  0.88601828,  0.13703123,  0.03985607,\n",
       "         0.89788973,  0.93187072, -0.36950664,  1.26534045, -0.82548036],\n",
       "       [ 0.44820477, -0.90004807,  1.20811441, -0.00623916, -0.58991708,\n",
       "        -1.51420159, -0.38701892, -0.20347944,  1.01035065, -0.40023244],\n",
       "       [ 0.89885471,  0.25239616, -0.43394262,  0.45426795,  0.43104888,\n",
       "        -0.96058743, -0.57323587,  0.59524942,  0.11377507, -0.6556576 ],\n",
       "       [-0.95003604, -0.07880016,  0.50930988, -2.14216653,  0.05777574,\n",
       "         1.51232968,  1.27213209, -0.75009373, -1.23567436, -0.22358091]])"
      ]
     },
     "execution_count": 142,
     "metadata": {},
     "output_type": "execute_result"
    }
   ],
   "source": [
    "stock_change"
   ]
  },
  {
   "cell_type": "code",
   "execution_count": 143,
   "id": "8073a4cb",
   "metadata": {},
   "outputs": [
    {
     "data": {
      "text/plain": [
       "array([[-0.71585535,  0.05681922, -0.11055791, -1.05795462,  0.82913498,\n",
       "         0.46348539,  1.02042921,  1.39162465],\n",
       "       [ 1.98787846,  0.950986  ,  1.08794424, -1.00058382, -0.38315033,\n",
       "        -1.69097722,  0.13774941, -0.77063872],\n",
       "       [-0.51773443, -0.3178986 , -0.12872974, -0.78334109,  0.29740357,\n",
       "        -0.4121954 ,  0.61138119, -1.2853544 ],\n",
       "       [-0.94244141,  0.14893892,  0.34552018,  0.21656491,  0.54103987,\n",
       "        -2.21592439,  1.5545681 , -0.01692532],\n",
       "       [ 1.21636502,  0.05307232, -0.27172224, -0.50430432, -0.83863476,\n",
       "        -1.91892812, -0.54019755, -0.09455766],\n",
       "       [ 0.45739944,  0.45389475,  0.88601828,  0.13703123,  0.03985607,\n",
       "         0.89788973,  0.93187072, -0.36950664],\n",
       "       [ 1.26534045, -0.82548036,  0.44820477, -0.90004807,  1.20811441,\n",
       "        -0.00623916, -0.58991708, -1.51420159],\n",
       "       [-0.38701892, -0.20347944,  1.01035065, -0.40023244,  0.89885471,\n",
       "         0.25239616, -0.43394262,  0.45426795],\n",
       "       [ 0.43104888, -0.96058743, -0.57323587,  0.59524942,  0.11377507,\n",
       "        -0.6556576 , -0.95003604, -0.07880016],\n",
       "       [ 0.50930988, -2.14216653,  0.05777574,  1.51232968,  1.27213209,\n",
       "        -0.75009373, -1.23567436, -0.22358091]])"
      ]
     },
     "execution_count": 143,
     "metadata": {},
     "output_type": "execute_result"
    }
   ],
   "source": [
    "stock_change.reshape((10,8)) # 返回新的ndarray，原始数据没有改变"
   ]
  },
  {
   "cell_type": "code",
   "execution_count": 144,
   "id": "01d312e4",
   "metadata": {},
   "outputs": [
    {
     "data": {
      "text/plain": [
       "(8, 10)"
      ]
     },
     "execution_count": 144,
     "metadata": {},
     "output_type": "execute_result"
    }
   ],
   "source": [
    "stock_change.shape"
   ]
  },
  {
   "cell_type": "code",
   "execution_count": 145,
   "id": "45e751f9",
   "metadata": {},
   "outputs": [],
   "source": [
    "stock_change.resize((10,8)) # 没有返回值，但对原始的ndarray进行了修改"
   ]
  },
  {
   "cell_type": "code",
   "execution_count": 146,
   "id": "71a7fd4e",
   "metadata": {},
   "outputs": [
    {
     "data": {
      "text/plain": [
       "(10, 8)"
      ]
     },
     "execution_count": 146,
     "metadata": {},
     "output_type": "execute_result"
    }
   ],
   "source": [
    "stock_change.shape"
   ]
  },
  {
   "cell_type": "code",
   "execution_count": 147,
   "id": "412d08e6",
   "metadata": {},
   "outputs": [
    {
     "data": {
      "text/plain": [
       "array([[-0.71585535,  0.05681922, -0.11055791, -1.05795462,  0.82913498,\n",
       "         0.46348539,  1.02042921,  1.39162465],\n",
       "       [ 1.98787846,  0.950986  ,  1.08794424, -1.00058382, -0.38315033,\n",
       "        -1.69097722,  0.13774941, -0.77063872],\n",
       "       [-0.51773443, -0.3178986 , -0.12872974, -0.78334109,  0.29740357,\n",
       "        -0.4121954 ,  0.61138119, -1.2853544 ],\n",
       "       [-0.94244141,  0.14893892,  0.34552018,  0.21656491,  0.54103987,\n",
       "        -2.21592439,  1.5545681 , -0.01692532],\n",
       "       [ 1.21636502,  0.05307232, -0.27172224, -0.50430432, -0.83863476,\n",
       "        -1.91892812, -0.54019755, -0.09455766],\n",
       "       [ 0.45739944,  0.45389475,  0.88601828,  0.13703123,  0.03985607,\n",
       "         0.89788973,  0.93187072, -0.36950664],\n",
       "       [ 1.26534045, -0.82548036,  0.44820477, -0.90004807,  1.20811441,\n",
       "        -0.00623916, -0.58991708, -1.51420159],\n",
       "       [-0.38701892, -0.20347944,  1.01035065, -0.40023244,  0.89885471,\n",
       "         0.25239616, -0.43394262,  0.45426795],\n",
       "       [ 0.43104888, -0.96058743, -0.57323587,  0.59524942,  0.11377507,\n",
       "        -0.6556576 , -0.95003604, -0.07880016],\n",
       "       [ 0.50930988, -2.14216653,  0.05777574,  1.51232968,  1.27213209,\n",
       "        -0.75009373, -1.23567436, -0.22358091]])"
      ]
     },
     "execution_count": 147,
     "metadata": {},
     "output_type": "execute_result"
    }
   ],
   "source": [
    "stock_change"
   ]
  },
  {
   "cell_type": "code",
   "execution_count": 148,
   "id": "e6346b2c",
   "metadata": {},
   "outputs": [],
   "source": [
    "stock_change.resize((8,10))"
   ]
  },
  {
   "cell_type": "code",
   "execution_count": 149,
   "id": "cede5c8c",
   "metadata": {},
   "outputs": [
    {
     "data": {
      "text/plain": [
       "array([[-0.71585535,  1.08794424,  0.29740357,  1.5545681 ,  0.45739944,\n",
       "         0.44820477,  0.89885471, -0.95003604],\n",
       "       [ 0.05681922, -1.00058382, -0.4121954 , -0.01692532,  0.45389475,\n",
       "        -0.90004807,  0.25239616, -0.07880016],\n",
       "       [-0.11055791, -0.38315033,  0.61138119,  1.21636502,  0.88601828,\n",
       "         1.20811441, -0.43394262,  0.50930988],\n",
       "       [-1.05795462, -1.69097722, -1.2853544 ,  0.05307232,  0.13703123,\n",
       "        -0.00623916,  0.45426795, -2.14216653],\n",
       "       [ 0.82913498,  0.13774941, -0.94244141, -0.27172224,  0.03985607,\n",
       "        -0.58991708,  0.43104888,  0.05777574],\n",
       "       [ 0.46348539, -0.77063872,  0.14893892, -0.50430432,  0.89788973,\n",
       "        -1.51420159, -0.96058743,  1.51232968],\n",
       "       [ 1.02042921, -0.51773443,  0.34552018, -0.83863476,  0.93187072,\n",
       "        -0.38701892, -0.57323587,  1.27213209],\n",
       "       [ 1.39162465, -0.3178986 ,  0.21656491, -1.91892812, -0.36950664,\n",
       "        -0.20347944,  0.59524942, -0.75009373],\n",
       "       [ 1.98787846, -0.12872974,  0.54103987, -0.54019755,  1.26534045,\n",
       "         1.01035065,  0.11377507, -1.23567436],\n",
       "       [ 0.950986  , -0.78334109, -2.21592439, -0.09455766, -0.82548036,\n",
       "        -0.40023244, -0.6556576 , -0.22358091]])"
      ]
     },
     "execution_count": 149,
     "metadata": {},
     "output_type": "execute_result"
    }
   ],
   "source": [
    "stock_change.T # 转置 行变成列，列变成行"
   ]
  },
  {
   "cell_type": "code",
   "execution_count": 151,
   "id": "b7df7a16",
   "metadata": {},
   "outputs": [
    {
     "data": {
      "text/plain": [
       "(10, 8)"
      ]
     },
     "execution_count": 151,
     "metadata": {},
     "output_type": "execute_result"
    }
   ],
   "source": [
    "stock_change.T.shape"
   ]
  },
  {
   "cell_type": "markdown",
   "id": "bb57c53e",
   "metadata": {},
   "source": [
    "### 3.3.4 类型修改\n",
    "- ndarray.astype(type) ：可以将 type 改成你想修改的任意类型\n",
    "- 若需要将 ndarray 序列化到本地，要先将它转化为 bytes 类型\n",
    "    - ndarray.tobytes() ：可以实现序列化到本地"
   ]
  },
  {
   "cell_type": "code",
   "execution_count": 153,
   "id": "ae07e2e6",
   "metadata": {},
   "outputs": [
    {
     "data": {
      "text/plain": [
       "array([[ 0,  0,  0, -1,  0,  0,  1,  1,  1,  0],\n",
       "       [ 1, -1,  0, -1,  0,  0,  0,  0,  0,  0],\n",
       "       [ 0,  0,  0, -1,  0,  0,  0,  0,  0, -2],\n",
       "       [ 1,  0,  1,  0,  0,  0,  0, -1,  0,  0],\n",
       "       [ 0,  0,  0,  0,  0,  0,  0,  0,  1,  0],\n",
       "       [ 0,  0,  1,  0,  0, -1,  0,  0,  1,  0],\n",
       "       [ 0,  0,  0,  0,  0,  0,  0,  0,  0,  0],\n",
       "       [ 0,  0,  0, -2,  0,  1,  1,  0, -1,  0]])"
      ]
     },
     "execution_count": 153,
     "metadata": {},
     "output_type": "execute_result"
    }
   ],
   "source": [
    "stock_change.astype(\"int32\") # 将浮点型转化为整形"
   ]
  },
  {
   "cell_type": "code",
   "execution_count": 156,
   "id": "7cc329f7",
   "metadata": {},
   "outputs": [
    {
     "data": {
      "text/plain": [
       "array([[-0.71585535,  0.05681922, -0.11055791, -1.05795462,  0.82913498,\n",
       "         0.46348539,  1.02042921,  1.39162465,  1.98787846,  0.950986  ],\n",
       "       [ 1.08794424, -1.00058382, -0.38315033, -1.69097722,  0.13774941,\n",
       "        -0.77063872, -0.51773443, -0.3178986 , -0.12872974, -0.78334109],\n",
       "       [ 0.29740357, -0.4121954 ,  0.61138119, -1.2853544 , -0.94244141,\n",
       "         0.14893892,  0.34552018,  0.21656491,  0.54103987, -2.21592439],\n",
       "       [ 1.5545681 , -0.01692532,  1.21636502,  0.05307232, -0.27172224,\n",
       "        -0.50430432, -0.83863476, -1.91892812, -0.54019755, -0.09455766],\n",
       "       [ 0.45739944,  0.45389475,  0.88601828,  0.13703123,  0.03985607,\n",
       "         0.89788973,  0.93187072, -0.36950664,  1.26534045, -0.82548036],\n",
       "       [ 0.44820477, -0.90004807,  1.20811441, -0.00623916, -0.58991708,\n",
       "        -1.51420159, -0.38701892, -0.20347944,  1.01035065, -0.40023244],\n",
       "       [ 0.89885471,  0.25239616, -0.43394262,  0.45426795,  0.43104888,\n",
       "        -0.96058743, -0.57323587,  0.59524942,  0.11377507, -0.6556576 ],\n",
       "       [-0.95003604, -0.07880016,  0.50930988, -2.14216653,  0.05777574,\n",
       "         1.51232968,  1.27213209, -0.75009373, -1.23567436, -0.22358091]])"
      ]
     },
     "execution_count": 156,
     "metadata": {},
     "output_type": "execute_result"
    }
   ],
   "source": [
    "stock_change"
   ]
  },
  {
   "cell_type": "code",
   "execution_count": 158,
   "id": "0b0f374a",
   "metadata": {},
   "outputs": [
    {
     "data": {
      "text/plain": [
       "b'\\xed;3zI\\xe8\\xe6\\xbf\\xe89\\xd4\\xbdh\\x17\\xad?NE\\x82\\x03\\x86M\\xbc\\xbf\\x8b}2\\xd2a\\xed\\xf0\\xbf\\x12\\x1b\\x1e\\x13F\\x88\\xea?]\\xb7\\x8c\\xa4\\xbe\\xa9\\xdd?\\xf7<\\x82\\x95\\xadS\\xf0?\\xa4\\x83]6\\x18D\\xf6?Z\\x9f\\x91\\xa5Y\\xce\\xff?\\x9a\\xff{2zn\\xee?I={98h\\xf1?\\x9c\\xa3\\x85-d\\x02\\xf0\\xbf\\xcbC\\xf9\\xfa\\x88\\x85\\xd8\\xbf\\'j\\xeb!>\\x0e\\xfb\\xbfVD\\x9a\\xcc\\xc5\\xa1\\xc1?\\xe5M[\\x88\\x12\\xa9\\xe8\\xbf\\xa9\\x92U\\xcdG\\x91\\xe0\\xbf*(\\x80bsX\\xd4\\xbf\\xb8\\xfc\\x93I7z\\xc0\\xbfN]\\xa3T!\\x11\\xe9\\xbf\\xe0\\xa7\\x0b\\xf7\\xa8\\x08\\xd3?\\xbe\\xf9\\xda\\xccha\\xda\\xbf\\tg\\x8bIo\\x90\\xe3?\\xd2\\xf7\\xd6\\xc6\\xcf\\x90\\xf4\\xbf@\\xf4Y\\xe4z(\\xee\\xbf/\\xe9\\xac3n\\x10\\xc3?\\'\\xf9\\x0b\\xa7\\x00\\x1d\\xd6?\\xba\\xd6\\x1a!f\\xb8\\xcb?R\\xdd\\xa1\\xd72P\\xe1?\\xebh\\xa7\\x906\\xba\\x01\\xc0\\xba[\\x91\\xcd\\x82\\xdf\\xf8?\\xd4\\xf9b\\xd8\\xdeT\\x91\\xbf\\x08\\xa5\\xe3);v\\xf3?\\xa2\\xce\\x8awK,\\xab?C\\xc1\\xe3\\xb1\\xe5c\\xd1\\xbfw\\xf7R\\xd2B#\\xe0\\xbf\\x80\"\\xf9\\x8f\\x18\\xd6\\xea\\xbf\\xf5\\xa27\\xf9\\xed\\xb3\\xfe\\xbf\\xd0,\\xbc_LI\\xe1\\xbf\\xe4\\x18_P\\xee4\\xb8\\xbfJg\\xa0N\\x08F\\xdd?[\\x07\\xec\\x91\\x9c\\x0c\\xdd?`L\\x82\\xffBZ\\xec?,`wB=\\x8a\\xc1?>\\x8a\\xf6\\xc2\\x03h\\xa4?t\\x85\\xb6>\\x83\\xbb\\xec?\\xa3\\xfb\\xbe\\x8c\\xe2\\xd1\\xed?\\x17$\\x7f,\\xff\\xa5\\xd7\\xbf\\x80\\x06 \\xa0\\xd5>\\xf4?\\xe3\\xe1\\xb6\\xc9Uj\\xea\\xbfrv\\x18\\x14c\\xaf\\xdc?u\\x97C\\x9b1\\xcd\\xec\\xbf@\\x92\\x8b\\xc7oT\\xf3?:\\xe1ix;\\x8ey\\xbf\\xe9\\xee\\xaf\\xca\\x99\\xe0\\xe2\\xbf\\x92g\\x92q+:\\xf8\\xbf)D0\\x05\\xeb\\xc4\\xd8\\xbf\\x03\\xd3u8\\x9d\\x0b\\xca\\xbfHO\\xb0pe*\\xf0?\\xb0\\xc1\\x88\\x89h\\x9d\\xd9\\xbf\\xe6{\\x8a\\xf5j\\xc3\\xec?\\xa3qf=B\\'\\xd0?r\\xe8\\xeeF\\xb7\\xc5\\xdb\\xbf\\x1d=x\\xe0\\xb9\\x12\\xdd?\\x0c\\x86\\x0e\\tN\\x96\\xdb?K\\x97}\\xd7!\\xbd\\xee\\xbf=(\\x9f\\xbe\\xf2W\\xe2\\xbf\\xe1\\xb4\\xe2\\x80H\\x0c\\xe3?\\x0f\\xd9&\\xd9\\\\ \\xbd?Fn]\\xa5%\\xfb\\xe4\\xbf?*\\xdb\\xf9\\xb1f\\xee\\xbf\\x1bx\\xeaB?,\\xb4\\xbf\\xbb\\xe6\\x14:DL\\xe0?K\\x1e\"4(#\\x01\\xc0}\\xb9\\x9a\\xf9\\xc7\\x94\\xad?\\xedx5\\x9b\\x802\\xf8?\\xaf\\xb7\\xac.\\xa7Z\\xf4?\\x18\\xbbU\\x93\\xc4\\x00\\xe8\\xbf3\\x0eFzR\\xc5\\xf3\\xbf\\xa3\\x8cS\\xa6L\\x9e\\xcc\\xbf'"
      ]
     },
     "execution_count": 158,
     "metadata": {},
     "output_type": "execute_result"
    }
   ],
   "source": [
    "# 将 stock_change 序列化到本地\\\n",
    "stock_change.tobytes()"
   ]
  },
  {
   "cell_type": "markdown",
   "id": "9c69e5d6",
   "metadata": {},
   "source": [
    "### 3.3.5 数组的去重"
   ]
  },
  {
   "cell_type": "markdown",
   "id": "033d54a2",
   "metadata": {},
   "source": [
    "- np.unique()"
   ]
  },
  {
   "cell_type": "code",
   "execution_count": 19,
   "id": "02750b81",
   "metadata": {},
   "outputs": [
    {
     "data": {
      "text/plain": [
       "array([1, 2, 3, 4, 5, 6])"
      ]
     },
     "execution_count": 19,
     "metadata": {},
     "output_type": "execute_result"
    }
   ],
   "source": [
    "temp = np.array([[1,2,3,4],[3,4,5,6]])\n",
    "np.unique(temp)"
   ]
  },
  {
   "cell_type": "markdown",
   "id": "9cf9987b",
   "metadata": {},
   "source": [
    "- set() 集合形式"
   ]
  },
  {
   "cell_type": "code",
   "execution_count": 21,
   "id": "aa95f2b3",
   "metadata": {},
   "outputs": [
    {
     "data": {
      "text/plain": [
       "{1, 2, 3, 4, 5, 6}"
      ]
     },
     "execution_count": 21,
     "metadata": {},
     "output_type": "execute_result"
    }
   ],
   "source": [
    "set(temp.flatten())"
   ]
  },
  {
   "cell_type": "markdown",
   "id": "8632ba07",
   "metadata": {},
   "source": [
    "### 3.4.1 逻辑运算"
   ]
  },
  {
   "cell_type": "code",
   "execution_count": 36,
   "id": "9f7298a5",
   "metadata": {},
   "outputs": [
    {
     "data": {
      "text/plain": [
       "array([[-0.5938256 ,  1.43051181, -0.40023458,  0.47866748,  0.26846068,\n",
       "         0.13691667, -1.27520739,  1.06197603,  0.8839682 , -0.53350628],\n",
       "       [ 1.2488324 , -0.16891425, -0.61399287,  0.48157793, -0.2032262 ,\n",
       "        -1.14943115, -0.63363721, -0.32353794,  0.57164832,  0.61651828],\n",
       "       [ 0.37894179,  1.25811082,  0.31438966,  0.42033328, -0.82484993,\n",
       "         1.4603669 ,  0.68024748, -0.49881604, -0.50350354,  0.37036567],\n",
       "       [ 0.68107357,  0.09868602, -1.47179715,  0.58642887,  2.58056384,\n",
       "         0.72475719, -0.84083218, -0.35185612,  1.3596943 , -1.11152318],\n",
       "       [-0.22886001,  1.86595411, -0.05308309,  0.75870752, -0.08373832,\n",
       "        -1.67337383, -0.50582134, -0.53933557,  0.84274424, -0.71980787],\n",
       "       [-0.07751203,  0.8228213 ,  0.92908168,  0.62243721, -1.34418438,\n",
       "         0.1461411 ,  0.86713151, -0.53364341,  1.01429565, -0.52058504],\n",
       "       [ 0.27327918,  1.19030895,  0.23660202,  0.32620558,  0.45510477,\n",
       "         0.6431845 , -0.82669385,  0.04368447, -0.94494072, -0.63883941],\n",
       "       [-0.65345967, -0.33948994,  0.88405937, -1.26007252,  1.33013194,\n",
       "        -2.12036814,  0.68620721,  0.3866385 , -0.55136101, -1.06238516]])"
      ]
     },
     "execution_count": 36,
     "metadata": {},
     "output_type": "execute_result"
    }
   ],
   "source": [
    "# 重新生成8只股票10个交易日的涨跌幅数据\n",
    "stock_change = np.random.normal(0,1,(8,10))\n",
    "stock_change"
   ]
  },
  {
   "cell_type": "code",
   "execution_count": 31,
   "id": "ce36d4a2",
   "metadata": {},
   "outputs": [
    {
     "data": {
      "text/plain": [
       "array([[ True,  True,  True, False, False, False, False, False,  True,\n",
       "        False],\n",
       "       [ True, False, False, False, False,  True,  True,  True, False,\n",
       "         True],\n",
       "       [ True, False, False, False,  True,  True, False, False, False,\n",
       "         True],\n",
       "       [False, False,  True, False, False, False, False, False,  True,\n",
       "        False],\n",
       "       [ True, False, False, False, False,  True,  True,  True, False,\n",
       "        False],\n",
       "       [ True, False, False, False, False, False, False,  True, False,\n",
       "        False],\n",
       "       [False, False, False, False, False, False, False,  True, False,\n",
       "        False],\n",
       "       [ True, False, False, False, False, False, False, False, False,\n",
       "         True]])"
      ]
     },
     "execution_count": 31,
     "metadata": {},
     "output_type": "execute_result"
    }
   ],
   "source": [
    "# 逻辑判断，如果涨跌幅大于0.5就标记为True fou\n",
    "stock_change > 0.5"
   ]
  },
  {
   "cell_type": "code",
   "execution_count": 32,
   "id": "7474f851",
   "metadata": {},
   "outputs": [
    {
     "data": {
      "text/plain": [
       "array([1.12038147, 0.60584471, 1.01580543, 0.55342229, 1.10526601,\n",
       "       0.83232083, 1.00707162, 0.67836523, 0.94090004, 0.70357411,\n",
       "       1.01955024, 2.10231283, 0.55675799, 1.14068706, 1.43048694,\n",
       "       0.70802462, 2.41979877, 1.48744533, 1.16235315, 1.45498682,\n",
       "       0.53235551, 1.93770463, 0.70968221, 1.24157482])"
      ]
     },
     "execution_count": 32,
     "metadata": {},
     "output_type": "execute_result"
    }
   ],
   "source": [
    "# 对涨跌幅大于0.5的股票不进行统一的操作\n",
    "stock_change [stock_change > 0.5]"
   ]
  },
  {
   "cell_type": "code",
   "execution_count": 34,
   "id": "49d61d37",
   "metadata": {},
   "outputs": [
    {
     "data": {
      "text/plain": [
       "array([[ 1.1       ,  1.1       ,  1.1       ,  0.17748861,  0.02542212,\n",
       "         0.43270624, -0.22588397, -0.4098953 ,  1.1       , -0.62261666],\n",
       "       [ 1.1       , -2.44447046, -0.03922685, -0.59541181, -0.96302633,\n",
       "         1.1       ,  1.1       ,  1.1       ,  0.04050798,  1.1       ],\n",
       "       [ 1.1       , -0.35630249,  0.32104813, -0.22808544,  1.1       ,\n",
       "         1.1       ,  0.41375304,  0.16450555, -1.6581412 ,  1.1       ],\n",
       "       [-1.16052186,  0.31825813,  1.1       , -1.20844243, -0.78173767,\n",
       "        -0.2559773 , -1.05566955, -0.98317284,  1.1       , -0.78197022],\n",
       "       [ 1.1       , -1.3481052 ,  0.11260134, -1.34285333, -0.63294383,\n",
       "         1.1       ,  1.1       ,  1.1       , -0.6572787 , -0.7365078 ],\n",
       "       [ 1.1       , -0.4632331 , -3.05390803, -1.62589828, -0.52174256,\n",
       "        -2.46455253,  0.08116355,  1.1       , -0.35319107, -0.48790682],\n",
       "       [-1.79731845, -1.47493454, -0.89074016, -1.77191251,  0.1009012 ,\n",
       "        -0.44640711, -0.5492155 ,  1.1       ,  0.3893975 , -0.06152646],\n",
       "       [ 1.1       , -0.00850034, -1.10939955,  0.10899266, -0.54562945,\n",
       "        -0.11236219,  0.01871902,  0.19364512,  0.00571926,  1.1       ]])"
      ]
     },
     "execution_count": 34,
     "metadata": {},
     "output_type": "execute_result"
    }
   ],
   "source": [
    "# BOOL赋值，将满足条件的设置为指定的值 — 布尔索引\n",
    "stock_change[stock_change > 0.5] = 1.1 # 所有大于0.5的数都改为1.1\n",
    "stock_change"
   ]
  },
  {
   "cell_type": "markdown",
   "id": "75ef8423",
   "metadata": {},
   "source": [
    "### 3.4,2 通用判断函数"
   ]
  },
  {
   "cell_type": "markdown",
   "id": "5b679976",
   "metadata": {},
   "source": [
    "- np.all ： 只要有一个False就返回False，只有全是True才返回True"
   ]
  },
  {
   "cell_type": "code",
   "execution_count": 39,
   "id": "0456c8d0",
   "metadata": {},
   "outputs": [
    {
     "data": {
      "text/plain": [
       "False"
      ]
     },
     "execution_count": 39,
     "metadata": {},
     "output_type": "execute_result"
    }
   ],
   "source": [
    "# 判断stock_change[0:2, 0:5] 是否全是上涨的\n",
    "np.all(stock_change[0:2, 0:5] > 0)"
   ]
  },
  {
   "cell_type": "markdown",
   "id": "1f4de3d5",
   "metadata": {},
   "source": [
    "- np.any()：只要有一个True就返回True，只有全是False才返回False"
   ]
  },
  {
   "cell_type": "code",
   "execution_count": 45,
   "id": "e3566b56",
   "metadata": {},
   "outputs": [
    {
     "data": {
      "text/plain": [
       "True"
      ]
     },
     "execution_count": 45,
     "metadata": {},
     "output_type": "execute_result"
    }
   ],
   "source": [
    "# 判断前5只股票这段期间是否有上涨的\n",
    "np.any(stock_change[:5, :] > 0)"
   ]
  },
  {
   "cell_type": "markdown",
   "id": "04faa1fe",
   "metadata": {},
   "source": [
    "### 3.4.3 np.where （三元运算符）\n",
    "- np.where(布尔值，True的位置的值，False的位置的值)"
   ]
  },
  {
   "cell_type": "code",
   "execution_count": 46,
   "id": "9f7b5c50",
   "metadata": {},
   "outputs": [],
   "source": [
    "# 判断前四个股票的四天的涨跌幅，大于0的置位1，否则为0\n",
    "temp = stock_change[:4 ,:4]"
   ]
  },
  {
   "cell_type": "code",
   "execution_count": 47,
   "id": "f96df16a",
   "metadata": {},
   "outputs": [
    {
     "data": {
      "text/plain": [
       "array([[-0.5938256 ,  1.43051181, -0.40023458,  0.47866748],\n",
       "       [ 1.2488324 , -0.16891425, -0.61399287,  0.48157793],\n",
       "       [ 0.37894179,  1.25811082,  0.31438966,  0.42033328],\n",
       "       [ 0.68107357,  0.09868602, -1.47179715,  0.58642887]])"
      ]
     },
     "execution_count": 47,
     "metadata": {},
     "output_type": "execute_result"
    }
   ],
   "source": [
    "temp"
   ]
  },
  {
   "cell_type": "code",
   "execution_count": 48,
   "id": "f4a6e282",
   "metadata": {},
   "outputs": [
    {
     "data": {
      "text/plain": [
       "array([[0, 1, 0, 1],\n",
       "       [1, 0, 0, 1],\n",
       "       [1, 1, 1, 1],\n",
       "       [1, 1, 0, 1]])"
      ]
     },
     "execution_count": 48,
     "metadata": {},
     "output_type": "execute_result"
    }
   ],
   "source": [
    "np.where(temp > 0, 1, 0)"
   ]
  },
  {
   "cell_type": "code",
   "execution_count": 49,
   "id": "4bdca8f0",
   "metadata": {},
   "outputs": [
    {
     "data": {
      "text/plain": [
       "array([[False,  True, False,  True],\n",
       "       [ True, False, False,  True],\n",
       "       [ True,  True,  True,  True],\n",
       "       [ True,  True, False,  True]])"
      ]
     },
     "execution_count": 49,
     "metadata": {},
     "output_type": "execute_result"
    }
   ],
   "source": [
    "temp > 0"
   ]
  },
  {
   "cell_type": "code",
   "execution_count": 50,
   "id": "e8a723d4",
   "metadata": {},
   "outputs": [
    {
     "data": {
      "text/plain": [
       "array([[0, 1, 0, 1],\n",
       "       [1, 0, 0, 1],\n",
       "       [1, 1, 1, 1],\n",
       "       [1, 1, 0, 1]])"
      ]
     },
     "execution_count": 50,
     "metadata": {},
     "output_type": "execute_result"
    }
   ],
   "source": [
    "np.where([[False,  True, False,  True],\n",
    "       [ True, False, False,  True],\n",
    "       [ True,  True,  True,  True],\n",
    "       [ True,  True, False,  True]], 1, 0)"
   ]
  },
  {
   "cell_type": "markdown",
   "id": "1936f33f",
   "metadata": {},
   "source": [
    "- 逻辑复合运算结合np.logic_and 和 np.logic_or 使用"
   ]
  },
  {
   "cell_type": "code",
   "execution_count": 53,
   "id": "334067b8",
   "metadata": {},
   "outputs": [
    {
     "data": {
      "text/plain": [
       "array([[1, 1, 0, 0],\n",
       "       [1, 0, 1, 0],\n",
       "       [0, 1, 0, 0],\n",
       "       [1, 0, 1, 1]])"
      ]
     },
     "execution_count": 53,
     "metadata": {},
     "output_type": "execute_result"
    }
   ],
   "source": [
    "# 判断前四个股票前四天的涨跌幅 大于0.5并且小于1的，换为1，否则为0\n",
    "np.where(np.logical_and(temp > 0.5, temp < 1), 1, 0)\n",
    "# 判断前四个股票当前四天的涨跌幅 大于0.5或者小于-0.5的，换为1，否则为0\n",
    "np.where(np.logical_or(temp > 0.5, temp < -0.5), 1, 0)"
   ]
  },
  {
   "cell_type": "markdown",
   "id": "8fbccb15",
   "metadata": {},
   "source": [
    "### 3.4.4 统计运算\n",
    "- 统计指标函数\n",
    "    - min, max, mean, median, var, std\n",
    "    - np.函数名\n",
    "    - ndarray.方法名\n",
    "- 返回最大值、最小值所在位置"
   ]
  },
  {
   "cell_type": "markdown",
   "id": "3326480e",
   "metadata": {},
   "source": [
    "- 股票涨跌幅统计运算\n",
    "- 进行统计的时候，axis 轴的取值并不一定，Numpy中不同的API轴的值都不一样，在这里，axis 0代表列，axis 1代表行去进行统计"
   ]
  },
  {
   "cell_type": "code",
   "execution_count": 55,
   "id": "9a882343",
   "metadata": {},
   "outputs": [
    {
     "name": "stdout",
     "output_type": "stream",
     "text": [
      "前四只股票前四天的最大涨幅[1.43051181 1.2488324  1.25811082 0.68107357]\n"
     ]
    }
   ],
   "source": [
    "# 接下来对于这4只股票的4天数据，进行一些统计运算\n",
    "# 指定行 去统计\n",
    "print(\"前四只股票前四天的最大涨幅{}\".format(np.max(temp,axis=1)))"
   ]
  },
  {
   "cell_type": "code",
   "execution_count": 57,
   "id": "8541991d",
   "metadata": {},
   "outputs": [
    {
     "name": "stdout",
     "output_type": "stream",
     "text": [
      "前四只股票前四天的最大跌幅[-0.5938256  -0.61399287  0.31438966 -1.47179715]\n",
      "前四只股票前四天的流动程度[0.8029543  0.70224254 0.38588561 0.8632638 ]\n",
      "前四只股票前四天的平均涨跌幅[ 0.22877978  0.2368758   0.59294389 -0.02640217]\n"
     ]
    }
   ],
   "source": [
    "# 使用min, std, mean\n",
    "print(\"前四只股票前四天的最大跌幅{}\".format(np.min(temp,axis=1)))\n",
    "print(\"前四只股票前四天的流动程度{}\".format(np.std(temp,axis=1)))\n",
    "print(\"前四只股票前四天的平均涨跌幅{}\".format(np.mean(temp,axis=1)))"
   ]
  },
  {
   "cell_type": "code",
   "execution_count": 65,
   "id": "3e87eef8",
   "metadata": {},
   "outputs": [
    {
     "data": {
      "text/plain": [
       "array([[-0.5938256 ,  1.43051181, -0.40023458,  0.47866748],\n",
       "       [ 1.2488324 , -0.16891425, -0.61399287,  0.48157793],\n",
       "       [ 0.37894179,  1.25811082,  0.31438966,  0.42033328],\n",
       "       [ 0.68107357,  0.09868602, -1.47179715,  0.58642887]])"
      ]
     },
     "execution_count": 65,
     "metadata": {},
     "output_type": "execute_result"
    }
   ],
   "source": [
    "# 前四只股票前四天的最大涨幅\n",
    "temp"
   ]
  },
  {
   "cell_type": "code",
   "execution_count": 67,
   "id": "50e59a72",
   "metadata": {},
   "outputs": [
    {
     "data": {
      "text/plain": [
       "array([1.2488324 , 1.43051181, 0.31438966, 0.58642887])"
      ]
     },
     "execution_count": 67,
     "metadata": {},
     "output_type": "execute_result"
    }
   ],
   "source": [
    "temp.max(axis=0) # 这是按列，我们需要按行求"
   ]
  },
  {
   "cell_type": "code",
   "execution_count": 68,
   "id": "f7c35c59",
   "metadata": {},
   "outputs": [
    {
     "name": "stdout",
     "output_type": "stream",
     "text": [
      "前四只股票前四天内涨幅最大[1.43051181 1.2488324  1.25811082 0.68107357]\n"
     ]
    }
   ],
   "source": [
    "print(\"前四只股票前四天内涨幅最大{}\".format(np.max(temp,axis=-1)))"
   ]
  },
  {
   "cell_type": "markdown",
   "id": "0a9a2a07",
   "metadata": {},
   "source": [
    "- 统计出哪一支股票在某个交易日的涨幅最大或者最小\n",
    "    - np.argmax(temp,axis=)\n",
    "    - np.argmax(temp,axis=)"
   ]
  },
  {
   "cell_type": "code",
   "execution_count": 70,
   "id": "50ce197b",
   "metadata": {},
   "outputs": [
    {
     "data": {
      "text/plain": [
       "array([1, 0, 1, 0], dtype=int64)"
      ]
     },
     "execution_count": 70,
     "metadata": {},
     "output_type": "execute_result"
    }
   ],
   "source": [
    "np.argmax(temp,axis=1) # 会输出每行最大值的索引"
   ]
  },
  {
   "cell_type": "markdown",
   "id": "0fd29976",
   "metadata": {},
   "source": [
    "### 3.5.2 数组与输的运算"
   ]
  },
  {
   "cell_type": "code",
   "execution_count": 74,
   "id": "f0f00326",
   "metadata": {},
   "outputs": [
    {
     "name": "stdout",
     "output_type": "stream",
     "text": [
      "[[2 3 4 3 2 5]\n",
      " [6 7 2 3 4 2]]\n",
      "[[0.5 1.  1.5 1.  0.5 2. ]\n",
      " [2.5 3.  0.5 1.  1.5 0.5]]\n",
      "-------对比python列表的运算，看出区别------------\n"
     ]
    },
    {
     "data": {
      "text/plain": [
       "[1, 2, 3, 4, 5, 1, 2, 3, 4, 5, 1, 2, 3, 4, 5]"
      ]
     },
     "execution_count": 74,
     "metadata": {},
     "output_type": "execute_result"
    }
   ],
   "source": [
    "arr = np.array([[1, 2, 3, 2, 1, 4], [5, 6, 1, 2, 3, 1]])\n",
    "print(arr + 1)\n",
    "print(arr / 2)\n",
    "print('-------对比python列表的运算，看出区别------------')\n",
    "a = [1, 2, 3, 4, 5]\n",
    "a * 3"
   ]
  },
  {
   "cell_type": "markdown",
   "id": "a4a46145",
   "metadata": {},
   "source": [
    "### 3.5.3 数组与数组的运算"
   ]
  },
  {
   "cell_type": "code",
   "execution_count": 84,
   "id": "f1f6ff3c",
   "metadata": {},
   "outputs": [
    {
     "name": "stdout",
     "output_type": "stream",
     "text": [
      "[[1 2 3 2 1 4]\n",
      " [5 6 1 2 3 1]]\n",
      "[[1 2 3 4]\n",
      " [3 4 5 6]]\n"
     ]
    }
   ],
   "source": [
    "arr1 = np.array([[1, 2, 3, 2, 1, 4], [5, 6, 1, 2, 3, 1]])\n",
    "arr2 = np.array([[1, 2, 3, 4], [3, 4, 5, 6]])\n",
    "print(arr1)\n",
    "print(arr2)\n",
    "# arr1不能与arr2进行运算，不同形状的数组进行运算需要满足广播机制"
   ]
  },
  {
   "cell_type": "markdown",
   "id": "85f194fc",
   "metadata": {},
   "source": [
    "### 3.5.4 广播机制\n",
    "- 执行 broadcast 的前提在于，两个 ndarray 执行的是 element-wise 的运算，Broadcast机制的功能是为了方便不同形状的ndarray （numpy库的\n",
    "核心数据结构）进行数学运算\n",
    "- 当操作两个数组时，numpy会逐个比较它们的shape（构成的元组tuple），只有在下述情况下，两个数组才能够进行数组与数组的运算\n",
    "    - 维度相等\n",
    "    - shape（其中相对应的一个地方为1）"
   ]
  },
  {
   "cell_type": "markdown",
   "id": "378712e5",
   "metadata": {},
   "source": [
    "例如:\n",
    "- Image(3d array): 256 * 256 * 3    - 三维数组\n",
    "- Scale(1d array): ----------------3   - 一维数组\n",
    "- Result(3d array):256 * 256 * 3  对应的维度元素个数相等可以运算\n",
    "------------------------------------------------------------------------------\n",
    "- A    (4d array): 9 * 1 * 7 * 1\n",
    "- B    (3d array): -----8 * 1 * 5\n",
    "- Result(4d array): 9 * 8 * 7 * 5   对应的元素其中一个是1可以运算\n",
    "----------------------------------------------------------------------\n",
    "- 每一个维度的最终形状都是取得最大的"
   ]
  },
  {
   "cell_type": "code",
   "execution_count": 90,
   "id": "a309804a",
   "metadata": {},
   "outputs": [],
   "source": [
    "arr1 = np.array([[1, 2, 3, 2, 1, 4], [5, 6, 1, 2, 3, 1]])\n",
    "arr2 = np.array([[1], [3]])"
   ]
  },
  {
   "cell_type": "code",
   "execution_count": 91,
   "id": "c658a877",
   "metadata": {},
   "outputs": [
    {
     "data": {
      "text/plain": [
       "array([[1, 2, 3, 2, 1, 4],\n",
       "       [5, 6, 1, 2, 3, 1]])"
      ]
     },
     "execution_count": 91,
     "metadata": {},
     "output_type": "execute_result"
    }
   ],
   "source": [
    "arr1 # (2,6)"
   ]
  },
  {
   "cell_type": "code",
   "execution_count": 92,
   "id": "f9e752db",
   "metadata": {},
   "outputs": [
    {
     "data": {
      "text/plain": [
       "array([[1],\n",
       "       [3]])"
      ]
     },
     "execution_count": 92,
     "metadata": {},
     "output_type": "execute_result"
    }
   ],
   "source": [
    "arr2 # (2,1)"
   ]
  },
  {
   "cell_type": "code",
   "execution_count": 93,
   "id": "c966e01f",
   "metadata": {},
   "outputs": [
    {
     "data": {
      "text/plain": [
       "array([[2, 3, 4, 3, 2, 5],\n",
       "       [8, 9, 4, 5, 6, 4]])"
      ]
     },
     "execution_count": 93,
     "metadata": {},
     "output_type": "execute_result"
    }
   ],
   "source": [
    "arr1 + arr2  # (2,6)"
   ]
  },
  {
   "cell_type": "code",
   "execution_count": 95,
   "id": "baed4b09",
   "metadata": {},
   "outputs": [
    {
     "data": {
      "text/plain": [
       "array([[ 1,  2,  3,  2,  1,  4],\n",
       "       [15, 18,  3,  6,  9,  3]])"
      ]
     },
     "execution_count": 95,
     "metadata": {},
     "output_type": "execute_result"
    }
   ],
   "source": [
    "arr1 * arr2 # (2,6)"
   ]
  },
  {
   "cell_type": "code",
   "execution_count": 96,
   "id": "f2941882",
   "metadata": {},
   "outputs": [
    {
     "data": {
      "text/plain": [
       "array([[1.        , 2.        , 3.        , 2.        , 1.        ,\n",
       "        4.        ],\n",
       "       [1.66666667, 2.        , 0.33333333, 0.66666667, 1.        ,\n",
       "        0.33333333]])"
      ]
     },
     "execution_count": 96,
     "metadata": {},
     "output_type": "execute_result"
    }
   ],
   "source": [
    "arr1 / arr2 # (2,6)"
   ]
  },
  {
   "cell_type": "markdown",
   "id": "21a248b8",
   "metadata": {},
   "source": [
    "### 3.5.5 矩阵运算（重点）\n",
    "- 矩阵，英文matrix，和array的区别，矩阵必须是二维的，但是array可以是多维的\n",
    "    - np.mat()\n",
    "        - 将数组装换成矩阵类型\n",
    "- 矩阵在计算机中以二维数组的形式存储的，但二维数组不一定是矩阵\n",
    "- 如何用numpy中的数据结构存储矩阵：\n",
    "    - 1）ndarray 二维数组\n",
    "    - 2）matrix 数据结构"
   ]
  },
  {
   "cell_type": "code",
   "execution_count": 107,
   "id": "c78b06ee",
   "metadata": {},
   "outputs": [
    {
     "data": {
      "text/plain": [
       "array([[80, 86],\n",
       "       [82, 80],\n",
       "       [85, 78],\n",
       "       [90, 90],\n",
       "       [86, 82],\n",
       "       [78, 89],\n",
       "       [92, 94]])"
      ]
     },
     "execution_count": 107,
     "metadata": {},
     "output_type": "execute_result"
    }
   ],
   "source": [
    "# ndarray存储矩阵\n",
    "data = np.array([[80, 86],\n",
    "             [82, 80],\n",
    "             [85, 78],\n",
    "             [90, 90],\n",
    "             [86, 82],\n",
    "             [78, 89],\n",
    "             [92, 94]])\n",
    "data"
   ]
  },
  {
   "cell_type": "code",
   "execution_count": 109,
   "id": "e843e727",
   "metadata": {},
   "outputs": [
    {
     "data": {
      "text/plain": [
       "matrix([[80, 86],\n",
       "        [82, 80],\n",
       "        [85, 78],\n",
       "        [90, 90],\n",
       "        [86, 82],\n",
       "        [78, 89],\n",
       "        [92, 94]])"
      ]
     },
     "execution_count": 109,
     "metadata": {},
     "output_type": "execute_result"
    }
   ],
   "source": [
    "# matrix存储矩阵\n",
    "data_mat = np.mat([[80, 86],\n",
    "             [82, 80],\n",
    "             [85, 78],\n",
    "             [90, 90],\n",
    "             [86, 82],\n",
    "             [78, 89],\n",
    "             [92, 94]])\n",
    "data_mat"
   ]
  },
  {
   "cell_type": "code",
   "execution_count": 110,
   "id": "8256db86",
   "metadata": {},
   "outputs": [
    {
     "data": {
      "text/plain": [
       "matrix([[80, 86],\n",
       "        [82, 80],\n",
       "        [85, 78],\n",
       "        [90, 90],\n",
       "        [86, 82],\n",
       "        [78, 89],\n",
       "        [92, 94]])"
      ]
     },
     "execution_count": 110,
     "metadata": {},
     "output_type": "execute_result"
    }
   ],
   "source": [
    "a = np.array([[80, 86],\n",
    "             [82, 80],\n",
    "             [85, 78],\n",
    "             [90, 90],\n",
    "             [86, 82],\n",
    "             [78, 89],\n",
    "             [92, 94]])\n",
    "b = np.array([[0,3],[0,7]])\n",
    "\n",
    "np.mat(a)"
   ]
  },
  {
   "cell_type": "markdown",
   "id": "90d4308f",
   "metadata": {},
   "source": [
    "#### 2、矩阵乘法运算\n",
    "- 两个关键\n",
    "    - 形状改变 (m, n) * (n, l) = (m, l) 第一个矩阵的列数与第二个矩阵的行数相同\n",
    "    - 运算规则 "
   ]
  },
  {
   "cell_type": "code",
   "execution_count": 111,
   "id": "3fbbcfca",
   "metadata": {},
   "outputs": [
    {
     "data": {
      "text/plain": [
       "numpy.matrix"
      ]
     },
     "execution_count": 111,
     "metadata": {},
     "output_type": "execute_result"
    }
   ],
   "source": [
    "type(data_mat)"
   ]
  },
  {
   "cell_type": "code",
   "execution_count": 113,
   "id": "5324dce1",
   "metadata": {},
   "outputs": [
    {
     "data": {
      "text/plain": [
       "array([[80, 86],\n",
       "       [82, 80],\n",
       "       [85, 78],\n",
       "       [90, 90],\n",
       "       [86, 82],\n",
       "       [78, 89],\n",
       "       [92, 94]])"
      ]
     },
     "execution_count": 113,
     "metadata": {},
     "output_type": "execute_result"
    }
   ],
   "source": [
    "data # (8, 2) * (2, 1) = (8, 1)"
   ]
  },
  {
   "cell_type": "code",
   "execution_count": 123,
   "id": "400afcb2",
   "metadata": {},
   "outputs": [
    {
     "data": {
      "text/plain": [
       "array([[0.3],\n",
       "       [0.7]])"
      ]
     },
     "execution_count": 123,
     "metadata": {},
     "output_type": "execute_result"
    }
   ],
   "source": [
    "weights = np.array([[0.3],[0.7]])\n",
    "weights"
   ]
  },
  {
   "cell_type": "code",
   "execution_count": 117,
   "id": "317c4332",
   "metadata": {},
   "outputs": [
    {
     "data": {
      "text/plain": [
       "matrix([[0, 3],\n",
       "        [0, 7]])"
      ]
     },
     "execution_count": 117,
     "metadata": {},
     "output_type": "execute_result"
    }
   ],
   "source": [
    "weights_mat = np.mat([[0,3],[0,7]])\n",
    "weights_mat"
   ]
  },
  {
   "cell_type": "markdown",
   "id": "4659f33b",
   "metadata": {},
   "source": [
    "- 用ndarray方式存储的话\n",
    "- 矩阵乘法api：\n",
    "    - np.matmul\n",
    "    - np.dot"
   ]
  },
  {
   "cell_type": "code",
   "execution_count": 118,
   "id": "a5663f03",
   "metadata": {},
   "outputs": [
    {
     "data": {
      "text/plain": [
       "array([[80, 86],\n",
       "       [82, 80],\n",
       "       [85, 78],\n",
       "       [90, 90],\n",
       "       [86, 82],\n",
       "       [78, 89],\n",
       "       [92, 94]])"
      ]
     },
     "execution_count": 118,
     "metadata": {},
     "output_type": "execute_result"
    }
   ],
   "source": [
    "# 矩阵运算\n",
    "data"
   ]
  },
  {
   "cell_type": "code",
   "execution_count": 124,
   "id": "beb902d4",
   "metadata": {},
   "outputs": [
    {
     "data": {
      "text/plain": [
       "array([[0.3],\n",
       "       [0.7]])"
      ]
     },
     "execution_count": 124,
     "metadata": {},
     "output_type": "execute_result"
    }
   ],
   "source": [
    "weights"
   ]
  },
  {
   "cell_type": "code",
   "execution_count": 125,
   "id": "89f642b8",
   "metadata": {},
   "outputs": [
    {
     "data": {
      "text/plain": [
       "array([[84.2],\n",
       "       [80.6],\n",
       "       [80.1],\n",
       "       [90. ],\n",
       "       [83.2],\n",
       "       [85.7],\n",
       "       [93.4]])"
      ]
     },
     "execution_count": 125,
     "metadata": {},
     "output_type": "execute_result"
    }
   ],
   "source": [
    "np.matmul(data,weights)"
   ]
  },
  {
   "cell_type": "code",
   "execution_count": 121,
   "id": "35b45508",
   "metadata": {},
   "outputs": [
    {
     "data": {
      "text/plain": [
       "matrix([[  0, 842],\n",
       "        [  0, 806],\n",
       "        [  0, 801],\n",
       "        [  0, 900],\n",
       "        [  0, 832],\n",
       "        [  0, 857],\n",
       "        [  0, 934]])"
      ]
     },
     "execution_count": 121,
     "metadata": {},
     "output_type": "execute_result"
    }
   ],
   "source": [
    "# matrix 的矩阵的乘法\n",
    "data_mat * weights_mat"
   ]
  },
  {
   "cell_type": "code",
   "execution_count": 126,
   "id": "be0a117c",
   "metadata": {},
   "outputs": [
    {
     "data": {
      "text/plain": [
       "array([[84.2],\n",
       "       [80.6],\n",
       "       [80.1],\n",
       "       [90. ],\n",
       "       [83.2],\n",
       "       [85.7],\n",
       "       [93.4]])"
      ]
     },
     "execution_count": 126,
     "metadata": {},
     "output_type": "execute_result"
    }
   ],
   "source": [
    "# 用ndarry形式存储的矩阵运算，也可以用运算符\n",
    "data @ weights"
   ]
  },
  {
   "cell_type": "markdown",
   "id": "5c2fbee7",
   "metadata": {},
   "source": [
    "### 3.6 合并与分割"
   ]
  }
 ],
 "metadata": {
  "kernelspec": {
   "display_name": "Python 3 (ipykernel)",
   "language": "python",
   "name": "python3"
  },
  "language_info": {
   "codemirror_mode": {
    "name": "ipython",
    "version": 3
   },
   "file_extension": ".py",
   "mimetype": "text/x-python",
   "name": "python",
   "nbconvert_exporter": "python",
   "pygments_lexer": "ipython3",
   "version": "3.9.7"
  }
 },
 "nbformat": 4,
 "nbformat_minor": 5
}
